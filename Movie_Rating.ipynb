{
  "nbformat": 4,
  "nbformat_minor": 0,
  "metadata": {
    "colab": {
      "provenance": [],
      "mount_file_id": "1VtH76kITjldi1Ti6D_SxIwmX9Ps8cQFC",
      "authorship_tag": "ABX9TyPs83gnD+fH4d9JW+bKna9y",
      "include_colab_link": true
    },
    "kernelspec": {
      "name": "python3",
      "display_name": "Python 3"
    },
    "language_info": {
      "name": "python"
    }
  },
  "cells": [
    {
      "cell_type": "markdown",
      "metadata": {
        "id": "view-in-github",
        "colab_type": "text"
      },
      "source": [
        "<a href=\"https://colab.research.google.com/github/harshitraj21/AspireNex/blob/main/Movie_Rating.ipynb\" target=\"_parent\"><img src=\"https://colab.research.google.com/assets/colab-badge.svg\" alt=\"Open In Colab\"/></a>"
      ]
    },
    {
      "cell_type": "markdown",
      "source": [
        "# MOVIE RATING PREDICTION\n",
        "\n",
        "\n",
        "\n",
        "---\n",
        "\n",
        "\n",
        "\n",
        "![th (1).jpeg](data:image/jpeg;base64,/9j/4AAQSkZJRgABAQEAYABgAAD/2wBDAAoHBwkHBgoJCAkLCwoMDxkQDw4ODx4WFxIZJCAmJSMgIyIoLTkwKCo2KyIjMkQyNjs9QEBAJjBGS0U+Sjk/QD3/2wBDAQsLCw8NDx0QEB09KSMpPT09PT09PT09PT09PT09PT09PT09PT09PT09PT09PT09PT09PT09PT09PT09PT09PT3/wAARCAC0AT8DASIAAhEBAxEB/8QAHwAAAQUBAQEBAQEAAAAAAAAAAAECAwQFBgcICQoL/8QAtRAAAgEDAwIEAwUFBAQAAAF9AQIDAAQRBRIhMUEGE1FhByJxFDKBkaEII0KxwRVS0fAkM2JyggkKFhcYGRolJicoKSo0NTY3ODk6Q0RFRkdISUpTVFVWV1hZWmNkZWZnaGlqc3R1dnd4eXqDhIWGh4iJipKTlJWWl5iZmqKjpKWmp6ipqrKztLW2t7i5usLDxMXGx8jJytLT1NXW19jZ2uHi4+Tl5ufo6erx8vP09fb3+Pn6/8QAHwEAAwEBAQEBAQEBAQAAAAAAAAECAwQFBgcICQoL/8QAtREAAgECBAQDBAcFBAQAAQJ3AAECAxEEBSExBhJBUQdhcRMiMoEIFEKRobHBCSMzUvAVYnLRChYkNOEl8RcYGRomJygpKjU2Nzg5OkNERUZHSElKU1RVVldYWVpjZGVmZ2hpanN0dXZ3eHl6goOEhYaHiImKkpOUlZaXmJmaoqOkpaanqKmqsrO0tba3uLm6wsPExcbHyMnK0tPU1dbX2Nna4uPk5ebn6Onq8vP09fb3+Pn6/9oADAMBAAIRAxEAPwDzGnLTaeorUyHYp6rmmrViNaZIsa1egXioI0q7CmKZLJUWrCCkRM1OiZoEORcmrUMXzc1Ei1YjGWFAEzx4QetIikGpghbrThHzQIfEDV1VJUVXjXpV2IZGKTAYENWLPTbu9Dm1hZ9mNxyAMntzTvKFad3Jf2Pg6SPSklF7JJhmxholJ5cA+w/XNZznyK7NKcOeVieXwmyogju/nP3t6cfhilg0GOyuY/tCvckDdkEBNw7Y6/nWB4SgutFR3lmkKzYYh3J+b+99cE1paH4fh0Wad7a9M5lX5nf73XcWc9OOcVxPFOS0O36tGL1NfV7IX0BuEUrcIuf98Dt9az9M0oTzN9sUkbQUUPjPr0qX+17d7mOAyykOwwHA/eY54A5HrVvUUCqF85klxkbByD7U1iHy6EvDrmuxj6JBsc2pdJByEZtwPt6is14njYq4KsOoI5q5pF086KTDcQN0KTKQx9/eptZXddK28MxXBUfw4rahV51qY1qSjqjGlGRg1my258zGa2DFk1HNEARxXSjmZkm396hlgPPetN4+OlVzCZHCggZOMnt707gZ9tpzXc4UhzGGClUOGkY9EX3ODz2AJ7Vs6ndJp1nJZoUkLMBclfuyOoAES/8ATNAAD3PTqWxLFcwWljbS2swE93A0kTDrBATywB6yP8oyen0XBw7lDIw+XCqNqKOij0/+v3JJ6msl+8d+h1v9xGy3ZmTb5pXlkYs7sWZj3J5JqKJ2gfOMg9a0DB7VC8A61schSupGnYHGABgCqjoa1DCDxUMluB2oGZUkfFVXTitKdTk4qq6UDM90qB1q+6VVkXFAFJ1xUDA1dccVWdcUFFc0g609hSYqSkAFOWm04DmgCRBVmMVBGKtRCqIZZhSrsaVBCvStO1h3DJFAgijJ7VOIyOtWo4wBwKnEIPUUgKIBqaL7wqV7faenFSRQ807klqGPcBVlYBxUcHy8VeiAYVIyFYMdKmSPbip1jrW0uxWW3eVo42O8KC4zgDrgVM58quxxjzOyGaNak3UUs0beWT8jMOCaz9T1G9TUbZY97F5D5qnoF5yT6Y4xXUFTIhjkcMp6AdRWdJZiS4kjuHZihwAPf1rz8Q3Npo9CglTVjmPEHib+wLbzRbQzOylgrkj+XrW+4t5LSz1C3Aa0u41OxvQrnp9Kpah4E0/WUddRluiJBtBhl27PoMEH8c1uQQxbPskih7eH93GvoFGAc+uO9ZRh7uu5rKSuuUxbbQreLWk1VrmXbFkrG/Kr6n+grohELgo8TIVddwl65B54rOurN4raWGTJQodrKO+OKfYzwafp0Ftk+XbRLGAByQBjNOFo+6xSblqXpraEwSFcySRqWGCeT2H4muR8Kalf6jp1zJrKyRSoBxND5TFz1CrgfKK6TTLxL/TrmaHEu13RQp+8VH3c/XiuO8KS6/r0TXmpQLBGxZUVx5Z444XGcZyMn0qpN2UooUVe6kdZbyWUhMbE7hwzDop9DUN3beVcMmcgd6Sz8M+TdzXRvJvMlfeUONmMcqO/41qmzW5hLD/XYGOePpW+HnNP3zCvThb3DBeP2qEQjzlOO9aEsJVirDBBwQah2fOPx/lXY3occV7yMOGJWg0c7RuGkxgHHON5qR4cDJpbMZg0n/sExf8AoZqzKvy1nS+E6cb/ABWZci1WaPmtF46gaKtTlKJjpjx1dMdROlAGVcQdSKz5UxxW3OvymsqdMMaaGZ8i1VkWr8i1VkWmBQYVXkFXJFxVaUcUDRVamY5qRu9MHWpLQuKcq0gqRVzTQmSRrV2FDmoIkzitCCLpTJJoUzitiBMKKpQQ8ite3jytJiHxpVlFojiqdY8VIEbICtSRQZwB3ob0xUVxqNtZTW8dxJsEhyTg9KYJXZY1lodCNg10xWG7VsS4+VHB+6fQEEHP1qzDyFYEMpGQQcgiovFkQ1rwncJFh5IQLmEqc5K9cH3Ut+lcP4L11oNYtLKedhZXL+WQeQjNwrD05xn60ky5Q7HpEfPFbOmm5FqQkLPFuyuPXvWe9nJA2GGR2I6Go74339nMNPupIJk+YMuDxg5GDxUzV42FS0mjdJui2DYuR68f41y8Ft4ui1hm8oNZuzEh413D0wQf55rD1XVPE9lp8dxHq0oLHBzGvXH09qpz+I/E8elm5TVnJ8tWz5ad8e1cjpJ9T0FzJbb6HpsBv3wJLV1YdyQP61YeOdirfZyHJ+bBHNeV6Fr/AIo1JJzJq0pKMAP3aen0o1XXvFNle+SurygbA2PLTv8AhRyRUbtjjSqTqciWp32s2msX93A0MBEEbfNF5oAI7H3Oae9hqD2UlsLfb5ow7hxkAelc9pn/AAkl7ZW0zarNmVFYkIvf8K58a74pOprbf2vNtNwIv9WnTdj0qZU4J3b3KpU6s24xXwnp9jby2NnBawWflwwjAAYEn1rCsW8Tx6ncpNpUK2YkYwyBvmZd3AI3enesrXJPEelaXNcpqs4ZSqqdinknHpWboGq+J9TjnaTVpTskCjEaDqM+lU6cb8tyEp8jqW0PRopb0YLWcnuDj/GpTPJbgv8AZpBGBk45xXl2i634n1K9uY5NWl2RIXwI14wcelXx4luNKsojr1zd3f2zcUCRqQFBwQRkdTVKKte4SpVE7WOwlk+0vI4RlZjkZ6ClgsnfHmEH6ZFchD4y0EY/0G4/8Bk/+Kq/D420Fcf6FdfhbL/8VVuou5CwlTpFnU23hyyRIB5cv7iBbdP3h4QHI+pz3p8vh+FwQoI44JY8GueTx9oCf8ud7/34X/4qnf8ACxPD/wDz5Xv/AH4X/wCKoVRLZlSwtaTu4styeHLkdXiz+P8AhVc+HrljgPF+v+FVZfiB4dbrY3n/AIDL/wDFVWHj/wAOK/8Ax43n/gKn/wAVVe18zN4Oa+yy1f6JcWNr58jxsm4Lhc5Gf/1VjyDNbs2t6frOjt9ht5oz5gwXjCnjr0J9ayHjPTFaxd0ctSPLKxnSrway7hDurdlh+Ws+a2JqkQY0i1WkWtSa3K9qoSpiqEZ8q1TmFaMy4FZ8tA0U3puKewptJlIB1qWPrUI61YhGaaBl63XJFblpCmwHbnNY9qvStOBiABk4pMk0IowGIHatCBSOlUrccVpwL0qWMtR4PapCvoKdElWFizSAp+UxNSNp8d3EYriMPGezVpQ2oxmphBii4rHKPpWpeHi1xpjNd2Y+aS2blgO+PX8OfY15fdhY7mVrYMkJcmIk8qM8Z9xX0CiYrD8Q+CrDX1eZcWt6R/rkXIc/7a9/r1+tBal3EttUk8TeDBJBKY7qaAOjI2Ck6e/+8CPoazPCfxBgvJEstaUxTygxJPGmVdm+UBlHQ5PUcfSqGixXXgxnsNWRo4pZfMhmj+aMHHOD6cZ9R6VyHiq1Fh4guPs7AQ3GLiFlPGG54x6Nn8qC+tz1TxKv/FPR5QgpLhuOnWsN49/hMgYH+jA8+xBrbs7xfFXhaB2JEk8IYAHpKBjB9twrnNO1CG98L3EaSfv4YGWSJuGTn07jtmsHFps741oyjFdea5a8Df6y8HbCHH/fVO8VADWjgD/UJ/Wm+Bv9be/7sf8ANqd4r/5DR/64J/Wuef8ACPRo/wC/S9P0R6B4aUf2Lp3A/wBRH/IV54mB4qj/AOwgP/RteieGf+QLp3/XCP8AkK4DS3SbxpaOvzI98WGR1BLEU6u0TLB6TrP1/U7Xx2o/4Refgf62P/0KsTwOANHnbaCRcsRn/cWtb4gyMnhxVU8PcIre4wT/ADArL8I4t/C086rlt8zkZ6lRx+gFN/xfkZRX+xPzkZngp18vWJnUZEG44Hru6Vk+LfLM+louCy2QLj0JdjWr4Sk8rw5rL4zwo/MY/rWN4vkDa7HGFKmG0gjbPrsz/Wp/5dnYlfEv+un/AATNhRcjgVaVR6VWh7VZWuZ7nqLYXA9KTA9KdSdaAI5FX0FQLGpmUY71YkqOBd1yo96FuDSsdnpUAGnRbRwcn9ammjC4J61a0uA/ZLdAP4abPEe9etDZHxWIfNVk/NmXMc5qnIBzV2ZdpNUZDVmBUmUc1lXaBelaspzWfdDINMDFuG61Qlq/crgmqElUCKj9abUjjmo6TKQAVZhHNVxVqAZNMGaNuOK0rZCx6VQtlyBW1aoFx0yelJkl22i6ZrVt4hxVO3XpWtax5xUsZYhg71ZSLGOKlt4OOlTtHjoKgqwirhRRUby7JrdP774I9uK2Db2lycIrI3+weBRcfK2Zq1Mgrn9R8Z6BpuoC1W9e5xw8kEe5EPpnPP4ZxWlp+t6ZqS5s9QtpT/d37WH/AAE4NMmzRcuLWG7haC4iSaFx8yOMg15x4s+GlyiPd6M8l1CgLG2dsyRjqdh/iHt1+telq2SasRHDAjqDTEnZnj/w5v2jW805mO5W86P+TD2wQD+NY/jCB9M8TzvH8q3AFwmOBz94fmD+deh+IdEs5ZNSu4t0F5buZBJFwW+vrz361534n1O71K0tEu7UB4XYJcg/6wYGVI6Z6GpUkzqlTlH3uh6F4bgso7U6nZuUt7uFZDExz5WMkgHqQOevPFUfFLK+rq6MGRrdCrKcgjB5BrK+HOqNJYT2LHD2z+Yg9Ub/AOuD+dYWpzyeHdfubTk2qtuRDnAjb5hj6ZrKrS5o2idWExXs6/PV7WPdPDP/ACBdN/64R/yFedeHv+Ro03/r5H9a9D8MyxHTLOKOVZDHEinb346/SvP/AAzEZvFWngEArMX59gTWFRO8UdmDkmq0v66nYfEQgaBApIyblcD1+Vqy9E/0XwHPMw3AxzuAPQ5FXPiP/wAg6x/67N/6DVK1fyvhs7OGGbeQAf7zkD+dP/l4/QiK/wBkgu8jO0Fmj8DahgffuAmSOowoOPxFYfi92fxbfBgAUKR8f7KKK39IVz4KgjBKiW/289CC3+Nct4hlaXxTqju24/apBn2DYH6AVL+BHXTX7+T83+hFFXRaZoTXULtJLHl0/dbTkBvU/wAvzrnITyK29P1mXTo40t44/lYu5bnf/hWMeXm9476im4e5uQXto9lcPBI8bOnXy23AH0+tQds9q1dNtLPVdWePULmWy+0HdEVUY3McgEn1yMetdZ4g8L6XBotu0lxJaRWEWzzFUMXBPQjuS2fzNUqbkm0c88XGlKMJbs86kp2nhDeIHZhk8YXNaWneHrvV5AYh5NuTxLKOSPZe5/St22s9K0G4NvaRyX2pgYZI8PIv+8fuxj8vxrNaO5WIxcILlWrOm0mCFViUlsqo4K47VDfxQLnDN9Av/wBeqlqt9JKkl3KkCA5EFuc/99OeT+GBVe4S6jH7idZEH/LOcE4+jDn8810fWWj5x0VJsoXYXcduT+FZ0qHmrs012Dh9NZj6xTqR+uDUCTiadreWGS3mA3COQg7l9QRwfcdqpY1X1RDwjtdMzJF61TnHBrXuIMEjHNZN38q4713Rakro5GmtGYl0OTWbIOtbEsO7JNUprUc4qxGXJUVTzoVbmocc0mUgWrcHWqgqxCeaYGzZY+Wux8NSxpLLFLHFJG4QsJEDDAYA9enBri7IsMEqcVsG8urWzmmsZ5ILhE3K6HBGOSPyFLqJHaw2tlMELWvlObd5CYHIG5GIZQDkdqnhhgRUZHfDLuG5Rn9K8/sviHqUTIbqCzu9u4Bmj8tvm+9yuOvuK1LTx9YlY0uLK4gCgjcriQc/kabgwO6hngVQWlCgnALAgfnU+Ulz5To/+4wP8q5d/EWlyWstmb6JZ45T8snyc9DycVNqs8Nzp9pLA0buq4fyyCeg64+lQ4lFfxF4jstF1uCK6aXdFD5hSKMsec7fYZxXAeIvHuqa6rW6k2diePs8bcv/AL7dW+nT2rX8XkT+IGt7f7rSrGo3cdAP5msi4k0yWaVJLFkUMQj28nbJxlWyP5Ui1sZGl2V9q939m06BppBjceixj1ZugFeqeE/A9hpMkVzqG3UNQBBTcv7qJv8AYXuf9o/gBXE6dfXOnxmPStZ+zxA5WC4TCnqT2K5/Kp9W8ReI7/TDDGiwRHImltAfnBHQsCcDr0PNDuM77xP8RNL0XfbwJFfaiMgojYSI/wC2w7/7I/Eiud074uNEv/E10+J0HWS3cof++WyP1FeaQ20slxHDuij3Nt8yRtqL7sewr07wd4T03T/LvXmg1O9HKyIQ0cJ6/KvqP7x5+lLYTSZ0xtrrWNOvrtLG5gS8i3RwylRKeCRlQTjPp1+lcxolgzafc219aMA8jbopoiMjaMcEe3X2rQ1/4mWWjK0OnlL++/2WzDGf9ph94+w/E15s+s6xr+srK011d6jMcJ5ZO76ADhVGfYDmo5NbnR7d8jg1vb8DY8OWNxa38l1pcfmyrEd0LN99SRkAdz096q+NL2y1T7NdwPsvIibe4t2++oHIP4cj8q9A8GeEZNLX7Vq11vu5E2rDFjbEDzgn+JuntWF8TLfRzqUKvdxm9WMI6Qpl05PLnp7bTzSTlFa6jqKnUqXp6LzJ/A+pSXvhuFY52juLfNvvQ4ZP7p/Ij8qzfBniKK08XWkOsMtvJFK8byHhd20rz6c9+nNYWjar/wAIkt3LFPb3b3KARRoWIVx0dsgYABIx3PtWBue6uS88hZ5Xy8jnOSTyTVOCluRTqzpXUXo9Ge7fEiX/AEXTowMh3dwwPHAA/rVa6kEfwzi3Z+e3jQY9Sw/wryjSppodR+y/a3kt4hJtAcmPp94DoM4H6V6t4gaKD4f2yDCKyQKoHTpn+hrmnHlnJ+R6NGSlRpRS+1/X5kWkID4f8OpISoe93YzyV3E5rgJ3WS/uXQ5RpnZT6gsTXoNkRBaeGBMuWjhkmKewTI/lXnEZyT9aiWx2UPjb9fzZdiIGMmtbTLB9Qu4oNrCMn942DgDvz69vxqlpd89hPvUBlbh1Pcf410Nx4litYybQeZIVzucYWP6+pH5VlFRvds6q9Z047Gv4htlsp9N1SBYvOhcKInOA4H3TjrgdPyqlceJJxbOurXn2hbhgywLECSRyAi4z/nmuNn1281O4c2rmWQnD3UvKr7KO/wDKrmmW8VmzS5aW4f780hyzf4D2pVJv08jx+dyST6HTRT6hqf8Ax8SvYWp/5YQv++cf7cg+79F/OtzTVtrK2W3tYY4Yh/Cgxz6n1Pua5iG8x3rQgvDkAVjzkNHSbQ/K1BLCdrE9AMk9gPesoa5Dbsm4TOhYK7xIWSP3Y/4Zolt7vWdLmiurgwXizFoTESsaFW+TjuCMZJyefaq0ZNrEiXVrcXMlvDKHljAZhtIyOmRkcj3FQ32nx3cQRyyMh3RyJ96NvUf55q3pF+ur2haaMJe2zGOeMjlH6Ej0B/8ArVakg9qlxsVzHNxlpna0vAEu0G4FeFlX+8vt6jtWHqETx3HlyDa2M4zmuxvtPS8hCsWR0O6ORPvRt6j/ADzWVJANQJsb4LDep84kReJVH8S+3qOorow9f2bs9jGvR9ouZbnIzYqnJ3rQvraa1lMc8bI3UZ7j1rPl4r1YtNXR5zVtzPu1yufSs/8Aiq9duNuO5qjnmmNCDrVm1wZVzVYVLGTmhAzet2wRWhbssjMhxhhtP41hQzuQBmtG03Fht60EnPFTFIyHqpKnPtTs7kIzjIxU2rx+TqtwuCAW3c+4zVYNWxRe1V/Mvnl7Sqkv/fSg/wAyazvOkhJaF3RuxRiDVu8bdbWT/wDTDYfqrMP5YqnEvm3ESdmcZzUNjSOktmzrVl5jZEWZHL/MTtUsc+p4rI3E8nqetaNvIRcX8w3YjtWXK+rFV5/M1lk1kaClqVJniO6J3RvVWxTCabmgC0L6VvkkWOfdx+9QE57c9f1pA1oA4eKeCXkEwvx9CDz696ZYKH1C3DAFfMBOfQcn+VV5JSzNI55Ylix96AH/ANlQyqPs91CWP8DExkfnx39a6bwzrNt4Ztts+jypIw/eXkJ3mT657ewOKxvD2lHXNYjtcv5IRpJWTqFA4x7lsCs6Oaa3bMbvGw67TjmiwHYeIfiRcSxG30JZIFYfPdMPn9wo/h+vXjjFc14e8Pah4ju9sAaOAN+9upASq+v+83t+ZFRfbHlIWWGKdsY5TDfmMU+C/WAEW895a7lIIik3KQeuRxwaQGbFHHLBPJJOFkTGxCM7+eee2KSGF55FjiRnduAqjJNTGxVv+PeaOTA6btp/I0x1uLAmQB43UEg9KAOh8DC//tiV9OSRj5flOVQsuCwOCeg6Z/CvVL7+0Li1REgiugJkXyp1VlVOdzYPpxj61S1C1u9B8A2kWmBjcJaR2sKQjJ+0Owy/A56k5PpVmK31OTxbYWyC4GnWtoWuJWj+WSU8DnHXHJx+NLkvcv21lGy2v8y00F015En9lxtEsLoLjaBsUjGxcEcEVz9x4W0wX1zFJo+pWUUKBjdiUiEdOF3Z3E59609O1W8sptY1bWbb7KBKYNPgddjyqMkEjJyM4+b61yWpeIJY1AmeW4uJG3x2oldhuPUgEkqvWuevOMNErs6cO5vVOyI9Rj07TDJNG84thwgmILsfQAAdayzaXGptvu1a3teqW4OGb0LH+laNpYPJcfbNScTXR5RR9yEeij+tXni715rq2fn/AFsdslKfxMyfIEShUUKo6ADAFOWQr1q68PbFUJZofOEMciNKSRjqAR1BPr7UJ3IasWVuxGpZycD0GanleS6tHiSeSBnXAKnofc+n0rnTeG1lngvGw27crhfvKT6D2q/b6nby/wCrnjOexOD+tU6bWqIvc1rHWbqeyEUUai/t3USxk7UwOv5j0710EWqIiwmTKCY7VDcYbGQD78GuLuPMW8hu7TH2gEI6k4Dp3yfatZSk7RtcAOI23In8Kn19z7/lSegjfkimGt29/p5RJSNl0HzskTt053D/AD79DFKsiAOQW7kDANcrBee9aMF505pKVxNG08IPSsTxFGqaem1C128ypaENgrKejZ7ADOfUcVpQXmcZqvq5Uz6TdH/Vw3m1z2XehVSfxx+dUlcSM7VtNin05jeSwxyogBuWXAU55wM9D6V5tfyGORgjArk4YDrXf+Po5UtrHbnyd77h/tYGM/hn9a85vXy+PSvSwcWoXbODENOexRmYseahHWpHPNRjrXUzFAKlj61CvJAFWBGyDJ6UIGWoeorY08/Pj1rEhbpWzbfKo9abEbj+E7HWrB7h5ZLe7RtpkX5gwAyMr+fT0rnb/wAFarZM/kCK7RSQTE21v++W/pmui0zU5bIsE2ujjDK3Q1qjUIbnJKmNyQx5yM4xQpMDyy5WaCFY7iKaLY7ACQbQCcHAB78ZpNPG6/j9Fy3T2r1G6SK4i2SokiZ6OMjH41y+vabp2nNvs7eON3JG5Mj5QPTp6Umy0zKjYDS76Q8mWWOIEnHTLHj8qzyeastIF0yCPgCSZ5GbGTxhf8aVrSBsmG/gbrgSq0Zxn8RUllTNITVhtOuwNywmRfWJg4/QmqrhkOHVkPowwaALFk+25aTOPLikbPp8uB+pFGnahLpl4lzCEZl4ZJBlHU9VYdwaZA6pDdFmAZowi+pywJ/DAqBQrOqyMVQkBiBkgd8UAeo6dc2LRrqNjbR27XCBiRGEZuc8+vNcZr2laXYGRor6Xz2yRAQHOT6njaOvXJpz+LCs6Rw24W0QbcE/PgcD2H0rH1h1fVJ5EO5JSHDDvkZzSAitT++Zv7kbsPTOMD+dVjU0PENwwxkIBj6sP8KgJpgLmrOmzFdSswSxjNxHuTcQGG8ZFVM01jgcHFAHvFxq2zVdV0242f2ZZ2kf2mQFo23vuZiGH3cLg8cg4rzvxB4P1K3vEvbTULnUtKZg0lwJGMsQ9JFB/DcOO/FWZNf/ALd8Eap9jh3axOI1ukTlpMbV8zH0UcDpk1fmv38L6KstqziW0hSOPY23LkhQCR6802rrQmOm5i32pGBDNHGjSTSYUZwgJ/p7U/T7UWrPNK5mupP9ZK38h6CtnUf7L1u2dNVhFjPJj/S7UAfN1+eP7rfhg02Tw9eBPMsJIdRixnNsfnHHUxn5h+tebVoTiu/c9GlWhJ22IkkqZJMnH86zTIYXZZsxMoywkG0qPcHpVVrlr6QQy28yWcnRwcFz23DqF7j8M1x+yb3OrnsaGo3sR0p5oX+RnWMuOPlLYYj8M81ZNtGsYjREES8qqjgemKwLUlBLot4x2sP3Mnr3H/6vqKvaZcXlin2S7tpZo0H7uWEBuPQ805U2l7v9IFK71G6nbR3CSIrBLiBRKjkgY/E9u31qnBZx6nYrJPaiJ2H3wACfcf8A162ks/tV2bu5jVW2+XHFndtXvu7En8hUzxUKryrlQnC7uZMUItowkShUXgAVYSfFTPFx0qBoj2BzRdSJcbF2K596vRXeASWAUckk4AHua5hr9UlMUCm4mHVU6L/vN0FSJEbghr9xLg5EQ4jX8O59zTdO2rJOli115zt0yIXB6edISsI+ndvw/OrsNss7LNqty14yHcqv8kMZ9kHH4nJrBF95ajaM8AjjAx2/Cs+/vLi4GJJDsHRRwK2pUJz12Rz1K8Iabs6rX/FNjNp89isf2oyDG7OFRuxB65Fed3ajYW7jvU5uQowwP1qjcz+ZwBgV6dKkqasjgqVHUd2U361HT25plaMSBH2sD6VZedWQhc5NUxT1pIGi3A3zCtmJuBWDE2GFa9rJuUc81RLNWFulaEDHNZULdK07Xpk1IGtbnI5/Wub8aSIlzBHGMERZYYwOT/8AWreSTaM5rjfFNwZtWnAz8oVBznoKRUdzOuDhLdem2EH/AL6Jb+tV81ZupTHfyFMAodgyARwMdD9KiNwrffghOe6rsP6YoNCLocjg+oqddQulGPtEjKDna53D8jUZa3b+CVPowYfkRTWSM52zj/gaEfyzQBIbtWP721gYd9i7D+YpC1m/a4i/EOP6UwWssnMeyQf7LjP5dajkgli4kidfqtAEn2dG/wBXdRE+j5Q/rx+tNNpOASIy49UIYfpUAIPTkUgJByOPpQBJv2QyIVIZmU8+2f8AGo6k+1TDgyMw9G5/nSecrffhjPuBtP6UAR96bJ/qy2cAVKfJP99fyIpy2MtzFmMqIg3MjZAySABjqf8A69FrgLbmbT7qK4tp3inXBDKemR0rof7di1hbSHUZTbtHMs3y/clK8DP93v7c1mNpge4ZGnYtHgt8nr7+tVr+zit41cSOWJCgEVT02FbU6HxKXmitrZASLlwoYfdOT69K3J5f7OsQ0eAybUQ+/wD+oVwNjrN5pvFvIWXP+qblSfp6/SukutcsZ7g2V80lvLCdvmou6Mtj5uOuAeKyd7Nrc0VrpPZHUWOqy65YvHq1tBe24baq3C788dj95efQ0yKz8NyTfYbWeayuIxjyll81fwD4JA9mNM054U0v/iWyJdGNDtEbAlm+nUc81l6Fpv2vWI7i4ifNoS4Zlx85GAOfqTWcop8sZK9y4v4pxdrGjq3gme9tt2n3tpcTRndHuYwv9Pm4/WmHSdW0+MnULa4LdWkEWU7DgrkY/GrXiDVJLOSK3tpmjcDzJSvH0H9a3tBuLz+zYprqdkdwXJztwvUZx7c1jKjTm3TXQ0VapCKnLqcqk4zgMM+meanV9w5rftfE1trGoLZy6eJ1kJCvIiudo5JbjI7d+9XtQ0vw9Z263GoItmjybFaN3G5z0AUZz69OK5ng+ZXi7o3+t2fLNHG3MkNtA008ixxjue59B61lEXWrA7A9pZnuf9ZKP6Cu1XwZoWo3xuYNWuLpolG1GZJFjJ6HGBj/AOtUt34TlW1ZoNRgEp4U3EJCZ79G5pLDVI/CrjeIpv4nY46308ReVa2kPzyNtjjBALn6n+dX9N0cSag4uiphtjumI+6Mdvfp+X1qK5+GuqXU/mza/YtJnKkRS8Htj0rp00eabSlstV1iCSYSDzpbaFiZUHZs4w3qfau+jhlD3pas4q2IctI6IjWBfFOmOnkiOdQ7WTZ+YqvY/wCyefoelcHI24fWu91bV7HQbKZtLDve3aeSkrkfuoxx8oHQZzj1PPOK8+c4FdRyMz7jhulVJQyjkECrVw4WTJ7GoJ5kKEA5JpgioxpmaVqb3qS0JSqaZmnrQMlWr9qxBznis9Ooq/GcDimQzXgcEjmtKKdUUCsGGTGOaviTKg0hGoLjdwK5O5YXOsnH3XuCfw3VuLNsBbPCgmuaiY/aS5P3I3b8dp/qRSZUBmDcO774wWYthmxnPNBtp+dsRb3Qhv5VATxikz+dBoOcMhw6sp9ximbh65p63MycLLIB6buKf9scgCRIZBx9+MdvcUAVzzT0uJYv9XK6/RjT/PgY/NagDP8Ayzcj+eaafs7D5TMh9wGH9KAFN3I4xJ5cg/20B/WkMsTH5oAP9xiP8aQxRkfLOnXowIpDbyE4Xa3+6wNIA/cH+KRT7gGmmMH7sqH6nH86Ro3T7yMPqKjoAngtJbm5ggQHM0ixgjn7zAdvrXQ6gbCwvDYR8iO4IjiUE7SGwM/z5rL8LiM+KtK83bsNyoO7pzkD9cVf8SxIviganAr/AGaeeT5uuZEJV8fUjI+tNOyE9x0xSAuwxuY5YjvWJqVz5jIuOFBJ/Grs155p4jbB9TWbcgmRXdQE6EA/lUu5WhLpRT7cJ5BmK1UzsPXb90fi2KquxmLM5y7Ekn3qcD7Noe88PeSYHP8AyzT/ABY/+O1TWTFJ7DRPDPJFIGjd45B0ZTg/nW/ZeN9YtMB5kuVAxiZcn/voYNc7w6jB5oDMf4am7Ww7J7naL4p0XULnztU0+5imZgWa3l3KwHqD9AOK62XxFpetaXLbadq1rDNLhcXGY/l7rz0z0ryD5/QUEsflAI96E1rpuDvp5HuXhHw/JYedcSyQzzyfIpgfeqqOvI7k9foKzfGd3dz6r5H2W4FrafIjCFiHZsZIIHOTgD6V5JDcy2YJgmki4wSjlcj8K1bbx74ptmVLfWbxgWG1HfzMnsOc8e1RKmnDkjoio1HGfPLVns/h/Tk0bRvMu2EMrp51y7niMAZwf90frmvLr65uPiJ4xEcRdbUnCA/8sIB3I6ZP8z7U6X4n6/G0kMktndIV2P51spUn+LAGOO3ejRfHGpm5aG0s9HsoNvmXEkNmE2ovUnB5PYe5FdFNKCsjKd5PmZ1fi7WG0uztdC0Y41G8VYo0Rvmii6Zz2Jx19AT6UWtrD4a0yGxQMEKmS7utvMjHjC+rMc/7oHNcbc/EDVrq/kksorO2aRiAy26mRl6DcxyeBVg3V3cASX1zJcTEcs56fQdBWiehlJWJb+8e8uXmkwCcBVHRFHAUewFUJG61I71QuZsZANIkq3L5Y1VanyNk1ExxSKSENN70daQHmkWhBTlplKDxSAmVqtRyZqiDUisRTJaNFHwetWoroHC54rIDnpmpY3IqibGzKWa2kCcsykAVj+RNC8nmWsrq67flyMDIPUZ9Kuw3JHB6VbS5X1xStcadjAb7OpIcXER/2sH/AApoWFvu3I/4EhH8s104ul78j3okitZ+Xt4WJ7lBS5Suc5fyCfuyRH/geP54pDbynpGT9Of5V0LaTYydYAv+6xH9ajfw/ZHGySdD7MD/ADFHKw50c8yMv3lYfUUwnPeuiPh6ZVP2bUTgchZFI5/D/Cq8ujakD962mA5xx19ORSsx8yMU9KStB9MvlOG0/OefkI/oarPA8ZHmWtxHnkZU9PypFXRAHZfusw+hpTKx+8QfqM0haH/noR9RRtB6OKQySC5a2uYp41HmQusilTjkHI/lXc30lvq32K1tYyljPbyXIZVH7tyRjHuCWyP9quB2n6/jXU+D7qV1ubMnMUSrIq+hJ5H9aaJl3Mm8tp7C5MFwhVuxxww9QaryDzAY9u4twAO57V39/bwamPLuE3JxjsVPqD61z03h6fTr0XMebi3hUyDA+bcPugr35wePSqsJMwdSCNfLbE7YLWIQoR/Ft6n8WyazdjbA5Hy5xn3rQdVlQh+eevfNVpUkSLy+sYOcj+tS4jTIEbb9PSpjIBjuaayrJKqxAcjtTfKYyGNQWYdhUNFpjxPg8inGVduc/hVc0UrBceZMkk/lV7S4QvmXkv8Aq4uF55LH0/Os5QWIA6mugsPs80a2xTAiO5M/xe5rSCuyZMzLy2a1kXCsUcZTI5Pt9a0L5jpWn/2SmBcSESXrD1/hj+i9T7mtO1ZtkuoTRgeWxFijjkygH5vfHX649K562ie6nLOS2TuZj3PerlGzJvoXNKtwh85x9K0nuziqxIUBV4AqJnpmbdyWS4Y96qyPk9aaz1Hu5oBAzVG1KTTCakpCUlFIOtIodIoWR1HQHFN7UUUDHdKcpoopkskAqRaKKoknjqZScdaKKBDwSR1qzbsSDk9KKKBFvouR1pqEk8miigROnQ0ZO4c0UU0BInPWrSMcDk/nRRQDI3ijkceZGj46blBxVSbSNPkxusoPXhcfyoopMd2Nn8JaYY1ZFlQk5ysh/rmofDdulrfapHHnajqoJ64GaKKnqVf3Wb6DcxBqZhtiypIPFFFULoU9S0ezvtOuLqWIC4jQsJE4Jx6+v41wR4aiimNbEcsK+W8i5V15BU4qG1cqZm6ttPJ60UVD3LWw234t3OBn/wCtUSgeU5xzRRUsaJoVGAcc1PE7RTRuhwwYYooqoCZ1l2o/ty5hPMdpBtiU9sg5P1PrWFZoEtlK9T1oorSRm9h79KhaiipAhNMNFFDGhh6009cUUVLKEIpkjFNhHdsH8qKKRR//2Q==)\n",
        "---\n",
        "\n",
        "\n",
        "\n",
        "\n",
        "### The goal of this project is to predict movie ratings using machine learning techniques in Python, leveraging a dataset sourced from IMDb.com that includes all Indian movies available on the platform. This project involves data cleaning, exploratory data analysis (EDA), feature engineering, model selection, training, and evaluation. The insights and predictions derived from this project will provide valuable trends and patterns within the Indian movie industry, helping to understand factors that influence movie ratings and popularity.\n",
        "### Steps to be followed:-\n",
        "* Data Collection\n",
        "* Data Cleaning\n",
        "* Exploratory Data Analysis (EDA)\n",
        "* Feature Engineering\n",
        "* Model Selection and Training\n",
        "* Model Evaluation and Prediction"
      ],
      "metadata": {
        "id": "KXcCInbMICvD"
      }
    },
    {
      "cell_type": "code",
      "source": [
        "!unzip \"drive/MyDrive/Movie_rating/movie.zip\" -d \"drive/MyDrive/Movie_rating/\""
      ],
      "metadata": {
        "colab": {
          "base_uri": "https://localhost:8080/"
        },
        "id": "ZyDdX3XXIayK",
        "outputId": "d048fe4e-af0d-4d48-f3f3-984bd2ff5416"
      },
      "execution_count": null,
      "outputs": [
        {
          "output_type": "stream",
          "name": "stdout",
          "text": [
            "Archive:  drive/MyDrive/Movie_rating/movie.zip\n",
            "  inflating: drive/MyDrive/Movie_rating/IMDb Movies India.csv  \n"
          ]
        }
      ]
    },
    {
      "cell_type": "markdown",
      "source": [
        "## Import the important libraries"
      ],
      "metadata": {
        "id": "MLVp7x37vY5g"
      }
    },
    {
      "cell_type": "code",
      "source": [
        "import pandas as pd\n",
        "import numpy as np\n",
        "%matplotlib inline\n",
        "import matplotlib.pyplot as plt\n",
        "import seaborn as sns"
      ],
      "metadata": {
        "id": "T_ZUpkVfJ9tu"
      },
      "execution_count": null,
      "outputs": []
    },
    {
      "cell_type": "code",
      "source": [
        "# This is for removing the warnings which may come while execution\n",
        "import warnings\n",
        "warnings.filterwarnings('ignore')"
      ],
      "metadata": {
        "id": "6afphyyFP-qy"
      },
      "execution_count": null,
      "outputs": []
    },
    {
      "cell_type": "code",
      "source": [
        "import plotly.express as px\n",
        "colors = ['#008B8B']"
      ],
      "metadata": {
        "id": "VV17SmIuLTAo"
      },
      "execution_count": null,
      "outputs": []
    },
    {
      "cell_type": "code",
      "source": [
        "from sklearn.model_selection import train_test_split\n",
        "from sklearn.linear_model import LinearRegression\n",
        "from sklearn.metrics import mean_squared_error, r2_score, mean_absolute_error, mean_squared_log_error\n",
        "from sklearn.ensemble import RandomForestRegressor, GradientBoostingRegressor\n",
        "from xgboost import XGBRegressor"
      ],
      "metadata": {
        "id": "h35KE1eaHIN5"
      },
      "execution_count": null,
      "outputs": []
    },
    {
      "cell_type": "code",
      "source": [
        "from sklearn.model_selection import RandomizedSearchCV, GridSearchCV"
      ],
      "metadata": {
        "id": "l9ptgWusQpew"
      },
      "execution_count": null,
      "outputs": []
    },
    {
      "cell_type": "markdown",
      "source": [
        "## Read the data from csv file"
      ],
      "metadata": {
        "id": "3dtbDnsPvg_o"
      }
    },
    {
      "cell_type": "code",
      "source": [
        "data = pd.read_csv('drive/MyDrive/Movie_rating/IMDb Movies India.csv', encoding = 'latin-1')\n",
        "data.head()"
      ],
      "metadata": {
        "colab": {
          "base_uri": "https://localhost:8080/",
          "height": 206
        },
        "id": "4y5MtJyOQwFx",
        "outputId": "5c76df12-088c-4ebf-a511-447afe4ac244"
      },
      "execution_count": null,
      "outputs": [
        {
          "output_type": "execute_result",
          "data": {
            "text/plain": [
              "                                 Name    Year Duration            Genre  \\\n",
              "0                                         NaN      NaN            Drama   \n",
              "1  #Gadhvi (He thought he was Gandhi)  (2019)  109 min            Drama   \n",
              "2                         #Homecoming  (2021)   90 min   Drama, Musical   \n",
              "3                             #Yaaram  (2019)  110 min  Comedy, Romance   \n",
              "4                   ...And Once Again  (2010)  105 min            Drama   \n",
              "\n",
              "   Rating Votes            Director       Actor 1             Actor 2  \\\n",
              "0     NaN   NaN       J.S. Randhawa      Manmauji              Birbal   \n",
              "1     7.0     8       Gaurav Bakshi  Rasika Dugal      Vivek Ghamande   \n",
              "2     NaN   NaN  Soumyajit Majumdar  Sayani Gupta   Plabita Borthakur   \n",
              "3     4.4    35          Ovais Khan       Prateik          Ishita Raj   \n",
              "4     NaN   NaN        Amol Palekar  Rajat Kapoor  Rituparna Sengupta   \n",
              "\n",
              "           Actor 3  \n",
              "0  Rajendra Bhatia  \n",
              "1    Arvind Jangid  \n",
              "2       Roy Angana  \n",
              "3  Siddhant Kapoor  \n",
              "4      Antara Mali  "
            ],
            "text/html": [
              "\n",
              "  <div id=\"df-b3b85f09-6a9b-4324-8cb2-605f3e4de552\" class=\"colab-df-container\">\n",
              "    <div>\n",
              "<style scoped>\n",
              "    .dataframe tbody tr th:only-of-type {\n",
              "        vertical-align: middle;\n",
              "    }\n",
              "\n",
              "    .dataframe tbody tr th {\n",
              "        vertical-align: top;\n",
              "    }\n",
              "\n",
              "    .dataframe thead th {\n",
              "        text-align: right;\n",
              "    }\n",
              "</style>\n",
              "<table border=\"1\" class=\"dataframe\">\n",
              "  <thead>\n",
              "    <tr style=\"text-align: right;\">\n",
              "      <th></th>\n",
              "      <th>Name</th>\n",
              "      <th>Year</th>\n",
              "      <th>Duration</th>\n",
              "      <th>Genre</th>\n",
              "      <th>Rating</th>\n",
              "      <th>Votes</th>\n",
              "      <th>Director</th>\n",
              "      <th>Actor 1</th>\n",
              "      <th>Actor 2</th>\n",
              "      <th>Actor 3</th>\n",
              "    </tr>\n",
              "  </thead>\n",
              "  <tbody>\n",
              "    <tr>\n",
              "      <th>0</th>\n",
              "      <td></td>\n",
              "      <td>NaN</td>\n",
              "      <td>NaN</td>\n",
              "      <td>Drama</td>\n",
              "      <td>NaN</td>\n",
              "      <td>NaN</td>\n",
              "      <td>J.S. Randhawa</td>\n",
              "      <td>Manmauji</td>\n",
              "      <td>Birbal</td>\n",
              "      <td>Rajendra Bhatia</td>\n",
              "    </tr>\n",
              "    <tr>\n",
              "      <th>1</th>\n",
              "      <td>#Gadhvi (He thought he was Gandhi)</td>\n",
              "      <td>(2019)</td>\n",
              "      <td>109 min</td>\n",
              "      <td>Drama</td>\n",
              "      <td>7.0</td>\n",
              "      <td>8</td>\n",
              "      <td>Gaurav Bakshi</td>\n",
              "      <td>Rasika Dugal</td>\n",
              "      <td>Vivek Ghamande</td>\n",
              "      <td>Arvind Jangid</td>\n",
              "    </tr>\n",
              "    <tr>\n",
              "      <th>2</th>\n",
              "      <td>#Homecoming</td>\n",
              "      <td>(2021)</td>\n",
              "      <td>90 min</td>\n",
              "      <td>Drama, Musical</td>\n",
              "      <td>NaN</td>\n",
              "      <td>NaN</td>\n",
              "      <td>Soumyajit Majumdar</td>\n",
              "      <td>Sayani Gupta</td>\n",
              "      <td>Plabita Borthakur</td>\n",
              "      <td>Roy Angana</td>\n",
              "    </tr>\n",
              "    <tr>\n",
              "      <th>3</th>\n",
              "      <td>#Yaaram</td>\n",
              "      <td>(2019)</td>\n",
              "      <td>110 min</td>\n",
              "      <td>Comedy, Romance</td>\n",
              "      <td>4.4</td>\n",
              "      <td>35</td>\n",
              "      <td>Ovais Khan</td>\n",
              "      <td>Prateik</td>\n",
              "      <td>Ishita Raj</td>\n",
              "      <td>Siddhant Kapoor</td>\n",
              "    </tr>\n",
              "    <tr>\n",
              "      <th>4</th>\n",
              "      <td>...And Once Again</td>\n",
              "      <td>(2010)</td>\n",
              "      <td>105 min</td>\n",
              "      <td>Drama</td>\n",
              "      <td>NaN</td>\n",
              "      <td>NaN</td>\n",
              "      <td>Amol Palekar</td>\n",
              "      <td>Rajat Kapoor</td>\n",
              "      <td>Rituparna Sengupta</td>\n",
              "      <td>Antara Mali</td>\n",
              "    </tr>\n",
              "  </tbody>\n",
              "</table>\n",
              "</div>\n",
              "    <div class=\"colab-df-buttons\">\n",
              "\n",
              "  <div class=\"colab-df-container\">\n",
              "    <button class=\"colab-df-convert\" onclick=\"convertToInteractive('df-b3b85f09-6a9b-4324-8cb2-605f3e4de552')\"\n",
              "            title=\"Convert this dataframe to an interactive table.\"\n",
              "            style=\"display:none;\">\n",
              "\n",
              "  <svg xmlns=\"http://www.w3.org/2000/svg\" height=\"24px\" viewBox=\"0 -960 960 960\">\n",
              "    <path d=\"M120-120v-720h720v720H120Zm60-500h600v-160H180v160Zm220 220h160v-160H400v160Zm0 220h160v-160H400v160ZM180-400h160v-160H180v160Zm440 0h160v-160H620v160ZM180-180h160v-160H180v160Zm440 0h160v-160H620v160Z\"/>\n",
              "  </svg>\n",
              "    </button>\n",
              "\n",
              "  <style>\n",
              "    .colab-df-container {\n",
              "      display:flex;\n",
              "      gap: 12px;\n",
              "    }\n",
              "\n",
              "    .colab-df-convert {\n",
              "      background-color: #E8F0FE;\n",
              "      border: none;\n",
              "      border-radius: 50%;\n",
              "      cursor: pointer;\n",
              "      display: none;\n",
              "      fill: #1967D2;\n",
              "      height: 32px;\n",
              "      padding: 0 0 0 0;\n",
              "      width: 32px;\n",
              "    }\n",
              "\n",
              "    .colab-df-convert:hover {\n",
              "      background-color: #E2EBFA;\n",
              "      box-shadow: 0px 1px 2px rgba(60, 64, 67, 0.3), 0px 1px 3px 1px rgba(60, 64, 67, 0.15);\n",
              "      fill: #174EA6;\n",
              "    }\n",
              "\n",
              "    .colab-df-buttons div {\n",
              "      margin-bottom: 4px;\n",
              "    }\n",
              "\n",
              "    [theme=dark] .colab-df-convert {\n",
              "      background-color: #3B4455;\n",
              "      fill: #D2E3FC;\n",
              "    }\n",
              "\n",
              "    [theme=dark] .colab-df-convert:hover {\n",
              "      background-color: #434B5C;\n",
              "      box-shadow: 0px 1px 3px 1px rgba(0, 0, 0, 0.15);\n",
              "      filter: drop-shadow(0px 1px 2px rgba(0, 0, 0, 0.3));\n",
              "      fill: #FFFFFF;\n",
              "    }\n",
              "  </style>\n",
              "\n",
              "    <script>\n",
              "      const buttonEl =\n",
              "        document.querySelector('#df-b3b85f09-6a9b-4324-8cb2-605f3e4de552 button.colab-df-convert');\n",
              "      buttonEl.style.display =\n",
              "        google.colab.kernel.accessAllowed ? 'block' : 'none';\n",
              "\n",
              "      async function convertToInteractive(key) {\n",
              "        const element = document.querySelector('#df-b3b85f09-6a9b-4324-8cb2-605f3e4de552');\n",
              "        const dataTable =\n",
              "          await google.colab.kernel.invokeFunction('convertToInteractive',\n",
              "                                                    [key], {});\n",
              "        if (!dataTable) return;\n",
              "\n",
              "        const docLinkHtml = 'Like what you see? Visit the ' +\n",
              "          '<a target=\"_blank\" href=https://colab.research.google.com/notebooks/data_table.ipynb>data table notebook</a>'\n",
              "          + ' to learn more about interactive tables.';\n",
              "        element.innerHTML = '';\n",
              "        dataTable['output_type'] = 'display_data';\n",
              "        await google.colab.output.renderOutput(dataTable, element);\n",
              "        const docLink = document.createElement('div');\n",
              "        docLink.innerHTML = docLinkHtml;\n",
              "        element.appendChild(docLink);\n",
              "      }\n",
              "    </script>\n",
              "  </div>\n",
              "\n",
              "\n",
              "<div id=\"df-8f072d7f-fbda-4ca0-b3d4-0a3689cc9a93\">\n",
              "  <button class=\"colab-df-quickchart\" onclick=\"quickchart('df-8f072d7f-fbda-4ca0-b3d4-0a3689cc9a93')\"\n",
              "            title=\"Suggest charts\"\n",
              "            style=\"display:none;\">\n",
              "\n",
              "<svg xmlns=\"http://www.w3.org/2000/svg\" height=\"24px\"viewBox=\"0 0 24 24\"\n",
              "     width=\"24px\">\n",
              "    <g>\n",
              "        <path d=\"M19 3H5c-1.1 0-2 .9-2 2v14c0 1.1.9 2 2 2h14c1.1 0 2-.9 2-2V5c0-1.1-.9-2-2-2zM9 17H7v-7h2v7zm4 0h-2V7h2v10zm4 0h-2v-4h2v4z\"/>\n",
              "    </g>\n",
              "</svg>\n",
              "  </button>\n",
              "\n",
              "<style>\n",
              "  .colab-df-quickchart {\n",
              "      --bg-color: #E8F0FE;\n",
              "      --fill-color: #1967D2;\n",
              "      --hover-bg-color: #E2EBFA;\n",
              "      --hover-fill-color: #174EA6;\n",
              "      --disabled-fill-color: #AAA;\n",
              "      --disabled-bg-color: #DDD;\n",
              "  }\n",
              "\n",
              "  [theme=dark] .colab-df-quickchart {\n",
              "      --bg-color: #3B4455;\n",
              "      --fill-color: #D2E3FC;\n",
              "      --hover-bg-color: #434B5C;\n",
              "      --hover-fill-color: #FFFFFF;\n",
              "      --disabled-bg-color: #3B4455;\n",
              "      --disabled-fill-color: #666;\n",
              "  }\n",
              "\n",
              "  .colab-df-quickchart {\n",
              "    background-color: var(--bg-color);\n",
              "    border: none;\n",
              "    border-radius: 50%;\n",
              "    cursor: pointer;\n",
              "    display: none;\n",
              "    fill: var(--fill-color);\n",
              "    height: 32px;\n",
              "    padding: 0;\n",
              "    width: 32px;\n",
              "  }\n",
              "\n",
              "  .colab-df-quickchart:hover {\n",
              "    background-color: var(--hover-bg-color);\n",
              "    box-shadow: 0 1px 2px rgba(60, 64, 67, 0.3), 0 1px 3px 1px rgba(60, 64, 67, 0.15);\n",
              "    fill: var(--button-hover-fill-color);\n",
              "  }\n",
              "\n",
              "  .colab-df-quickchart-complete:disabled,\n",
              "  .colab-df-quickchart-complete:disabled:hover {\n",
              "    background-color: var(--disabled-bg-color);\n",
              "    fill: var(--disabled-fill-color);\n",
              "    box-shadow: none;\n",
              "  }\n",
              "\n",
              "  .colab-df-spinner {\n",
              "    border: 2px solid var(--fill-color);\n",
              "    border-color: transparent;\n",
              "    border-bottom-color: var(--fill-color);\n",
              "    animation:\n",
              "      spin 1s steps(1) infinite;\n",
              "  }\n",
              "\n",
              "  @keyframes spin {\n",
              "    0% {\n",
              "      border-color: transparent;\n",
              "      border-bottom-color: var(--fill-color);\n",
              "      border-left-color: var(--fill-color);\n",
              "    }\n",
              "    20% {\n",
              "      border-color: transparent;\n",
              "      border-left-color: var(--fill-color);\n",
              "      border-top-color: var(--fill-color);\n",
              "    }\n",
              "    30% {\n",
              "      border-color: transparent;\n",
              "      border-left-color: var(--fill-color);\n",
              "      border-top-color: var(--fill-color);\n",
              "      border-right-color: var(--fill-color);\n",
              "    }\n",
              "    40% {\n",
              "      border-color: transparent;\n",
              "      border-right-color: var(--fill-color);\n",
              "      border-top-color: var(--fill-color);\n",
              "    }\n",
              "    60% {\n",
              "      border-color: transparent;\n",
              "      border-right-color: var(--fill-color);\n",
              "    }\n",
              "    80% {\n",
              "      border-color: transparent;\n",
              "      border-right-color: var(--fill-color);\n",
              "      border-bottom-color: var(--fill-color);\n",
              "    }\n",
              "    90% {\n",
              "      border-color: transparent;\n",
              "      border-bottom-color: var(--fill-color);\n",
              "    }\n",
              "  }\n",
              "</style>\n",
              "\n",
              "  <script>\n",
              "    async function quickchart(key) {\n",
              "      const quickchartButtonEl =\n",
              "        document.querySelector('#' + key + ' button');\n",
              "      quickchartButtonEl.disabled = true;  // To prevent multiple clicks.\n",
              "      quickchartButtonEl.classList.add('colab-df-spinner');\n",
              "      try {\n",
              "        const charts = await google.colab.kernel.invokeFunction(\n",
              "            'suggestCharts', [key], {});\n",
              "      } catch (error) {\n",
              "        console.error('Error during call to suggestCharts:', error);\n",
              "      }\n",
              "      quickchartButtonEl.classList.remove('colab-df-spinner');\n",
              "      quickchartButtonEl.classList.add('colab-df-quickchart-complete');\n",
              "    }\n",
              "    (() => {\n",
              "      let quickchartButtonEl =\n",
              "        document.querySelector('#df-8f072d7f-fbda-4ca0-b3d4-0a3689cc9a93 button');\n",
              "      quickchartButtonEl.style.display =\n",
              "        google.colab.kernel.accessAllowed ? 'block' : 'none';\n",
              "    })();\n",
              "  </script>\n",
              "</div>\n",
              "\n",
              "    </div>\n",
              "  </div>\n"
            ],
            "application/vnd.google.colaboratory.intrinsic+json": {
              "type": "dataframe",
              "variable_name": "data",
              "summary": "{\n  \"name\": \"data\",\n  \"rows\": 15509,\n  \"fields\": [\n    {\n      \"column\": \"Name\",\n      \"properties\": {\n        \"dtype\": \"string\",\n        \"num_unique_values\": 13838,\n        \"samples\": [\n          \"Tumsa Nahin Dekha\",\n          \"Thanedaar\",\n          \"Farzande Hind\"\n        ],\n        \"semantic_type\": \"\",\n        \"description\": \"\"\n      }\n    },\n    {\n      \"column\": \"Year\",\n      \"properties\": {\n        \"dtype\": \"category\",\n        \"num_unique_values\": 102,\n        \"samples\": [\n          \"(1974)\",\n          \"(1963)\",\n          \"(1971)\"\n        ],\n        \"semantic_type\": \"\",\n        \"description\": \"\"\n      }\n    },\n    {\n      \"column\": \"Duration\",\n      \"properties\": {\n        \"dtype\": \"category\",\n        \"num_unique_values\": 182,\n        \"samples\": [\n          \"168 min\",\n          \"99 min\",\n          \"179 min\"\n        ],\n        \"semantic_type\": \"\",\n        \"description\": \"\"\n      }\n    },\n    {\n      \"column\": \"Genre\",\n      \"properties\": {\n        \"dtype\": \"category\",\n        \"num_unique_values\": 485,\n        \"samples\": [\n          \"Family, Mystery\",\n          \"Comedy, Fantasy, Musical\",\n          \"Action, Adventure, Crime\"\n        ],\n        \"semantic_type\": \"\",\n        \"description\": \"\"\n      }\n    },\n    {\n      \"column\": \"Rating\",\n      \"properties\": {\n        \"dtype\": \"number\",\n        \"std\": 1.3817771548659665,\n        \"min\": 1.1,\n        \"max\": 10.0,\n        \"num_unique_values\": 84,\n        \"samples\": [\n          1.4,\n          7.0,\n          2.9\n        ],\n        \"semantic_type\": \"\",\n        \"description\": \"\"\n      }\n    },\n    {\n      \"column\": \"Votes\",\n      \"properties\": {\n        \"dtype\": \"category\",\n        \"num_unique_values\": 2034,\n        \"samples\": [\n          \"837\",\n          \"101\",\n          \"2,566\"\n        ],\n        \"semantic_type\": \"\",\n        \"description\": \"\"\n      }\n    },\n    {\n      \"column\": \"Director\",\n      \"properties\": {\n        \"dtype\": \"category\",\n        \"num_unique_values\": 5938,\n        \"samples\": [\n          \"Param Hans Chitra\",\n          \"Vickram\",\n          \"Zaigham Ali Syed\"\n        ],\n        \"semantic_type\": \"\",\n        \"description\": \"\"\n      }\n    },\n    {\n      \"column\": \"Actor 1\",\n      \"properties\": {\n        \"dtype\": \"category\",\n        \"num_unique_values\": 4718,\n        \"samples\": [\n          \"Abhishek Bachchan\",\n          \"Giri Babu\",\n          \"Ajay Bafna\"\n        ],\n        \"semantic_type\": \"\",\n        \"description\": \"\"\n      }\n    },\n    {\n      \"column\": \"Actor 2\",\n      \"properties\": {\n        \"dtype\": \"category\",\n        \"num_unique_values\": 4891,\n        \"samples\": [\n          \"Bipasha Basu\",\n          \"Mukul Dev\",\n          \"Arjun Kapoor\"\n        ],\n        \"semantic_type\": \"\",\n        \"description\": \"\"\n      }\n    },\n    {\n      \"column\": \"Actor 3\",\n      \"properties\": {\n        \"dtype\": \"category\",\n        \"num_unique_values\": 4820,\n        \"samples\": [\n          \"Damandeep Singh\",\n          \"Kamini Kaushal\",\n          \"Babu\"\n        ],\n        \"semantic_type\": \"\",\n        \"description\": \"\"\n      }\n    }\n  ]\n}"
            }
          },
          "metadata": {},
          "execution_count": 6
        }
      ]
    },
    {
      "cell_type": "code",
      "source": [
        "data.shape"
      ],
      "metadata": {
        "colab": {
          "base_uri": "https://localhost:8080/"
        },
        "id": "lT5GBwiXWMd7",
        "outputId": "de1694dc-e21f-451c-cb6d-21e0ccfff449"
      },
      "execution_count": null,
      "outputs": [
        {
          "output_type": "execute_result",
          "data": {
            "text/plain": [
              "(15509, 10)"
            ]
          },
          "metadata": {},
          "execution_count": 7
        }
      ]
    },
    {
      "cell_type": "code",
      "source": [
        "data.info()"
      ],
      "metadata": {
        "colab": {
          "base_uri": "https://localhost:8080/"
        },
        "id": "Lh6zcCjvTdVo",
        "outputId": "f010a03e-c1f9-463c-88c4-8a99a52a838c"
      },
      "execution_count": null,
      "outputs": [
        {
          "output_type": "stream",
          "name": "stdout",
          "text": [
            "<class 'pandas.core.frame.DataFrame'>\n",
            "RangeIndex: 15509 entries, 0 to 15508\n",
            "Data columns (total 10 columns):\n",
            " #   Column    Non-Null Count  Dtype  \n",
            "---  ------    --------------  -----  \n",
            " 0   Name      15509 non-null  object \n",
            " 1   Year      14981 non-null  object \n",
            " 2   Duration  7240 non-null   object \n",
            " 3   Genre     13632 non-null  object \n",
            " 4   Rating    7919 non-null   float64\n",
            " 5   Votes     7920 non-null   object \n",
            " 6   Director  14984 non-null  object \n",
            " 7   Actor 1   13892 non-null  object \n",
            " 8   Actor 2   13125 non-null  object \n",
            " 9   Actor 3   12365 non-null  object \n",
            "dtypes: float64(1), object(9)\n",
            "memory usage: 1.2+ MB\n"
          ]
        }
      ]
    },
    {
      "cell_type": "code",
      "source": [
        "data.describe()"
      ],
      "metadata": {
        "colab": {
          "base_uri": "https://localhost:8080/",
          "height": 300
        },
        "id": "JqMDLIBsWLL6",
        "outputId": "62d5ce8a-694f-425e-f2fd-458d5f88da65"
      },
      "execution_count": null,
      "outputs": [
        {
          "output_type": "execute_result",
          "data": {
            "text/plain": [
              "            Rating\n",
              "count  7919.000000\n",
              "mean      5.841621\n",
              "std       1.381777\n",
              "min       1.100000\n",
              "25%       4.900000\n",
              "50%       6.000000\n",
              "75%       6.800000\n",
              "max      10.000000"
            ],
            "text/html": [
              "\n",
              "  <div id=\"df-a2350566-4c35-4624-a32b-2362368faa11\" class=\"colab-df-container\">\n",
              "    <div>\n",
              "<style scoped>\n",
              "    .dataframe tbody tr th:only-of-type {\n",
              "        vertical-align: middle;\n",
              "    }\n",
              "\n",
              "    .dataframe tbody tr th {\n",
              "        vertical-align: top;\n",
              "    }\n",
              "\n",
              "    .dataframe thead th {\n",
              "        text-align: right;\n",
              "    }\n",
              "</style>\n",
              "<table border=\"1\" class=\"dataframe\">\n",
              "  <thead>\n",
              "    <tr style=\"text-align: right;\">\n",
              "      <th></th>\n",
              "      <th>Rating</th>\n",
              "    </tr>\n",
              "  </thead>\n",
              "  <tbody>\n",
              "    <tr>\n",
              "      <th>count</th>\n",
              "      <td>7919.000000</td>\n",
              "    </tr>\n",
              "    <tr>\n",
              "      <th>mean</th>\n",
              "      <td>5.841621</td>\n",
              "    </tr>\n",
              "    <tr>\n",
              "      <th>std</th>\n",
              "      <td>1.381777</td>\n",
              "    </tr>\n",
              "    <tr>\n",
              "      <th>min</th>\n",
              "      <td>1.100000</td>\n",
              "    </tr>\n",
              "    <tr>\n",
              "      <th>25%</th>\n",
              "      <td>4.900000</td>\n",
              "    </tr>\n",
              "    <tr>\n",
              "      <th>50%</th>\n",
              "      <td>6.000000</td>\n",
              "    </tr>\n",
              "    <tr>\n",
              "      <th>75%</th>\n",
              "      <td>6.800000</td>\n",
              "    </tr>\n",
              "    <tr>\n",
              "      <th>max</th>\n",
              "      <td>10.000000</td>\n",
              "    </tr>\n",
              "  </tbody>\n",
              "</table>\n",
              "</div>\n",
              "    <div class=\"colab-df-buttons\">\n",
              "\n",
              "  <div class=\"colab-df-container\">\n",
              "    <button class=\"colab-df-convert\" onclick=\"convertToInteractive('df-a2350566-4c35-4624-a32b-2362368faa11')\"\n",
              "            title=\"Convert this dataframe to an interactive table.\"\n",
              "            style=\"display:none;\">\n",
              "\n",
              "  <svg xmlns=\"http://www.w3.org/2000/svg\" height=\"24px\" viewBox=\"0 -960 960 960\">\n",
              "    <path d=\"M120-120v-720h720v720H120Zm60-500h600v-160H180v160Zm220 220h160v-160H400v160Zm0 220h160v-160H400v160ZM180-400h160v-160H180v160Zm440 0h160v-160H620v160ZM180-180h160v-160H180v160Zm440 0h160v-160H620v160Z\"/>\n",
              "  </svg>\n",
              "    </button>\n",
              "\n",
              "  <style>\n",
              "    .colab-df-container {\n",
              "      display:flex;\n",
              "      gap: 12px;\n",
              "    }\n",
              "\n",
              "    .colab-df-convert {\n",
              "      background-color: #E8F0FE;\n",
              "      border: none;\n",
              "      border-radius: 50%;\n",
              "      cursor: pointer;\n",
              "      display: none;\n",
              "      fill: #1967D2;\n",
              "      height: 32px;\n",
              "      padding: 0 0 0 0;\n",
              "      width: 32px;\n",
              "    }\n",
              "\n",
              "    .colab-df-convert:hover {\n",
              "      background-color: #E2EBFA;\n",
              "      box-shadow: 0px 1px 2px rgba(60, 64, 67, 0.3), 0px 1px 3px 1px rgba(60, 64, 67, 0.15);\n",
              "      fill: #174EA6;\n",
              "    }\n",
              "\n",
              "    .colab-df-buttons div {\n",
              "      margin-bottom: 4px;\n",
              "    }\n",
              "\n",
              "    [theme=dark] .colab-df-convert {\n",
              "      background-color: #3B4455;\n",
              "      fill: #D2E3FC;\n",
              "    }\n",
              "\n",
              "    [theme=dark] .colab-df-convert:hover {\n",
              "      background-color: #434B5C;\n",
              "      box-shadow: 0px 1px 3px 1px rgba(0, 0, 0, 0.15);\n",
              "      filter: drop-shadow(0px 1px 2px rgba(0, 0, 0, 0.3));\n",
              "      fill: #FFFFFF;\n",
              "    }\n",
              "  </style>\n",
              "\n",
              "    <script>\n",
              "      const buttonEl =\n",
              "        document.querySelector('#df-a2350566-4c35-4624-a32b-2362368faa11 button.colab-df-convert');\n",
              "      buttonEl.style.display =\n",
              "        google.colab.kernel.accessAllowed ? 'block' : 'none';\n",
              "\n",
              "      async function convertToInteractive(key) {\n",
              "        const element = document.querySelector('#df-a2350566-4c35-4624-a32b-2362368faa11');\n",
              "        const dataTable =\n",
              "          await google.colab.kernel.invokeFunction('convertToInteractive',\n",
              "                                                    [key], {});\n",
              "        if (!dataTable) return;\n",
              "\n",
              "        const docLinkHtml = 'Like what you see? Visit the ' +\n",
              "          '<a target=\"_blank\" href=https://colab.research.google.com/notebooks/data_table.ipynb>data table notebook</a>'\n",
              "          + ' to learn more about interactive tables.';\n",
              "        element.innerHTML = '';\n",
              "        dataTable['output_type'] = 'display_data';\n",
              "        await google.colab.output.renderOutput(dataTable, element);\n",
              "        const docLink = document.createElement('div');\n",
              "        docLink.innerHTML = docLinkHtml;\n",
              "        element.appendChild(docLink);\n",
              "      }\n",
              "    </script>\n",
              "  </div>\n",
              "\n",
              "\n",
              "<div id=\"df-51df5a7b-802d-4959-9fc6-2a5019f7964f\">\n",
              "  <button class=\"colab-df-quickchart\" onclick=\"quickchart('df-51df5a7b-802d-4959-9fc6-2a5019f7964f')\"\n",
              "            title=\"Suggest charts\"\n",
              "            style=\"display:none;\">\n",
              "\n",
              "<svg xmlns=\"http://www.w3.org/2000/svg\" height=\"24px\"viewBox=\"0 0 24 24\"\n",
              "     width=\"24px\">\n",
              "    <g>\n",
              "        <path d=\"M19 3H5c-1.1 0-2 .9-2 2v14c0 1.1.9 2 2 2h14c1.1 0 2-.9 2-2V5c0-1.1-.9-2-2-2zM9 17H7v-7h2v7zm4 0h-2V7h2v10zm4 0h-2v-4h2v4z\"/>\n",
              "    </g>\n",
              "</svg>\n",
              "  </button>\n",
              "\n",
              "<style>\n",
              "  .colab-df-quickchart {\n",
              "      --bg-color: #E8F0FE;\n",
              "      --fill-color: #1967D2;\n",
              "      --hover-bg-color: #E2EBFA;\n",
              "      --hover-fill-color: #174EA6;\n",
              "      --disabled-fill-color: #AAA;\n",
              "      --disabled-bg-color: #DDD;\n",
              "  }\n",
              "\n",
              "  [theme=dark] .colab-df-quickchart {\n",
              "      --bg-color: #3B4455;\n",
              "      --fill-color: #D2E3FC;\n",
              "      --hover-bg-color: #434B5C;\n",
              "      --hover-fill-color: #FFFFFF;\n",
              "      --disabled-bg-color: #3B4455;\n",
              "      --disabled-fill-color: #666;\n",
              "  }\n",
              "\n",
              "  .colab-df-quickchart {\n",
              "    background-color: var(--bg-color);\n",
              "    border: none;\n",
              "    border-radius: 50%;\n",
              "    cursor: pointer;\n",
              "    display: none;\n",
              "    fill: var(--fill-color);\n",
              "    height: 32px;\n",
              "    padding: 0;\n",
              "    width: 32px;\n",
              "  }\n",
              "\n",
              "  .colab-df-quickchart:hover {\n",
              "    background-color: var(--hover-bg-color);\n",
              "    box-shadow: 0 1px 2px rgba(60, 64, 67, 0.3), 0 1px 3px 1px rgba(60, 64, 67, 0.15);\n",
              "    fill: var(--button-hover-fill-color);\n",
              "  }\n",
              "\n",
              "  .colab-df-quickchart-complete:disabled,\n",
              "  .colab-df-quickchart-complete:disabled:hover {\n",
              "    background-color: var(--disabled-bg-color);\n",
              "    fill: var(--disabled-fill-color);\n",
              "    box-shadow: none;\n",
              "  }\n",
              "\n",
              "  .colab-df-spinner {\n",
              "    border: 2px solid var(--fill-color);\n",
              "    border-color: transparent;\n",
              "    border-bottom-color: var(--fill-color);\n",
              "    animation:\n",
              "      spin 1s steps(1) infinite;\n",
              "  }\n",
              "\n",
              "  @keyframes spin {\n",
              "    0% {\n",
              "      border-color: transparent;\n",
              "      border-bottom-color: var(--fill-color);\n",
              "      border-left-color: var(--fill-color);\n",
              "    }\n",
              "    20% {\n",
              "      border-color: transparent;\n",
              "      border-left-color: var(--fill-color);\n",
              "      border-top-color: var(--fill-color);\n",
              "    }\n",
              "    30% {\n",
              "      border-color: transparent;\n",
              "      border-left-color: var(--fill-color);\n",
              "      border-top-color: var(--fill-color);\n",
              "      border-right-color: var(--fill-color);\n",
              "    }\n",
              "    40% {\n",
              "      border-color: transparent;\n",
              "      border-right-color: var(--fill-color);\n",
              "      border-top-color: var(--fill-color);\n",
              "    }\n",
              "    60% {\n",
              "      border-color: transparent;\n",
              "      border-right-color: var(--fill-color);\n",
              "    }\n",
              "    80% {\n",
              "      border-color: transparent;\n",
              "      border-right-color: var(--fill-color);\n",
              "      border-bottom-color: var(--fill-color);\n",
              "    }\n",
              "    90% {\n",
              "      border-color: transparent;\n",
              "      border-bottom-color: var(--fill-color);\n",
              "    }\n",
              "  }\n",
              "</style>\n",
              "\n",
              "  <script>\n",
              "    async function quickchart(key) {\n",
              "      const quickchartButtonEl =\n",
              "        document.querySelector('#' + key + ' button');\n",
              "      quickchartButtonEl.disabled = true;  // To prevent multiple clicks.\n",
              "      quickchartButtonEl.classList.add('colab-df-spinner');\n",
              "      try {\n",
              "        const charts = await google.colab.kernel.invokeFunction(\n",
              "            'suggestCharts', [key], {});\n",
              "      } catch (error) {\n",
              "        console.error('Error during call to suggestCharts:', error);\n",
              "      }\n",
              "      quickchartButtonEl.classList.remove('colab-df-spinner');\n",
              "      quickchartButtonEl.classList.add('colab-df-quickchart-complete');\n",
              "    }\n",
              "    (() => {\n",
              "      let quickchartButtonEl =\n",
              "        document.querySelector('#df-51df5a7b-802d-4959-9fc6-2a5019f7964f button');\n",
              "      quickchartButtonEl.style.display =\n",
              "        google.colab.kernel.accessAllowed ? 'block' : 'none';\n",
              "    })();\n",
              "  </script>\n",
              "</div>\n",
              "\n",
              "    </div>\n",
              "  </div>\n"
            ],
            "application/vnd.google.colaboratory.intrinsic+json": {
              "type": "dataframe",
              "summary": "{\n  \"name\": \"data\",\n  \"rows\": 8,\n  \"fields\": [\n    {\n      \"column\": \"Rating\",\n      \"properties\": {\n        \"dtype\": \"number\",\n        \"std\": 2797.9713272009612,\n        \"min\": 1.1,\n        \"max\": 7919.0,\n        \"num_unique_values\": 8,\n        \"samples\": [\n          5.841621416845562,\n          6.0,\n          7919.0\n        ],\n        \"semantic_type\": \"\",\n        \"description\": \"\"\n      }\n    }\n  ]\n}"
            }
          },
          "metadata": {},
          "execution_count": 9
        }
      ]
    },
    {
      "cell_type": "code",
      "source": [
        "data.isna().sum()"
      ],
      "metadata": {
        "colab": {
          "base_uri": "https://localhost:8080/"
        },
        "id": "2l7b_jS3WQJC",
        "outputId": "130f8259-a8bd-44b7-ec6e-1c37164e7902"
      },
      "execution_count": null,
      "outputs": [
        {
          "output_type": "execute_result",
          "data": {
            "text/plain": [
              "Name           0\n",
              "Year         528\n",
              "Duration    8269\n",
              "Genre       1877\n",
              "Rating      7590\n",
              "Votes       7589\n",
              "Director     525\n",
              "Actor 1     1617\n",
              "Actor 2     2384\n",
              "Actor 3     3144\n",
              "dtype: int64"
            ]
          },
          "metadata": {},
          "execution_count": 10
        }
      ]
    },
    {
      "cell_type": "code",
      "source": [
        "# Function to find the percentage of missing values (Null) in the data\n",
        "def missing_values(df):\n",
        "  missing_val = df.isna().sum()\n",
        "  missing_data_in_percent = (missing_val/len(df)*100).round(2)\n",
        "  data_missing = pd.DataFrame({'Missing Values':missing_val, 'Percentage(%)':missing_data_in_percent})\n",
        "  return data_missing"
      ],
      "metadata": {
        "id": "RW3AlXLZdb8M"
      },
      "execution_count": null,
      "outputs": []
    },
    {
      "cell_type": "code",
      "source": [
        "missing_values(data)"
      ],
      "metadata": {
        "colab": {
          "base_uri": "https://localhost:8080/",
          "height": 363
        },
        "id": "a0Kwb6EFqkRs",
        "outputId": "843947b6-f5de-437f-e15d-30484b25853c"
      },
      "execution_count": null,
      "outputs": [
        {
          "output_type": "execute_result",
          "data": {
            "text/plain": [
              "          Missing Values  Percentage(%)\n",
              "Name                   0           0.00\n",
              "Year                 528           3.40\n",
              "Duration            8269          53.32\n",
              "Genre               1877          12.10\n",
              "Rating              7590          48.94\n",
              "Votes               7589          48.93\n",
              "Director             525           3.39\n",
              "Actor 1             1617          10.43\n",
              "Actor 2             2384          15.37\n",
              "Actor 3             3144          20.27"
            ],
            "text/html": [
              "\n",
              "  <div id=\"df-aae61635-5c04-4b95-8108-3205ced9edaa\" class=\"colab-df-container\">\n",
              "    <div>\n",
              "<style scoped>\n",
              "    .dataframe tbody tr th:only-of-type {\n",
              "        vertical-align: middle;\n",
              "    }\n",
              "\n",
              "    .dataframe tbody tr th {\n",
              "        vertical-align: top;\n",
              "    }\n",
              "\n",
              "    .dataframe thead th {\n",
              "        text-align: right;\n",
              "    }\n",
              "</style>\n",
              "<table border=\"1\" class=\"dataframe\">\n",
              "  <thead>\n",
              "    <tr style=\"text-align: right;\">\n",
              "      <th></th>\n",
              "      <th>Missing Values</th>\n",
              "      <th>Percentage(%)</th>\n",
              "    </tr>\n",
              "  </thead>\n",
              "  <tbody>\n",
              "    <tr>\n",
              "      <th>Name</th>\n",
              "      <td>0</td>\n",
              "      <td>0.00</td>\n",
              "    </tr>\n",
              "    <tr>\n",
              "      <th>Year</th>\n",
              "      <td>528</td>\n",
              "      <td>3.40</td>\n",
              "    </tr>\n",
              "    <tr>\n",
              "      <th>Duration</th>\n",
              "      <td>8269</td>\n",
              "      <td>53.32</td>\n",
              "    </tr>\n",
              "    <tr>\n",
              "      <th>Genre</th>\n",
              "      <td>1877</td>\n",
              "      <td>12.10</td>\n",
              "    </tr>\n",
              "    <tr>\n",
              "      <th>Rating</th>\n",
              "      <td>7590</td>\n",
              "      <td>48.94</td>\n",
              "    </tr>\n",
              "    <tr>\n",
              "      <th>Votes</th>\n",
              "      <td>7589</td>\n",
              "      <td>48.93</td>\n",
              "    </tr>\n",
              "    <tr>\n",
              "      <th>Director</th>\n",
              "      <td>525</td>\n",
              "      <td>3.39</td>\n",
              "    </tr>\n",
              "    <tr>\n",
              "      <th>Actor 1</th>\n",
              "      <td>1617</td>\n",
              "      <td>10.43</td>\n",
              "    </tr>\n",
              "    <tr>\n",
              "      <th>Actor 2</th>\n",
              "      <td>2384</td>\n",
              "      <td>15.37</td>\n",
              "    </tr>\n",
              "    <tr>\n",
              "      <th>Actor 3</th>\n",
              "      <td>3144</td>\n",
              "      <td>20.27</td>\n",
              "    </tr>\n",
              "  </tbody>\n",
              "</table>\n",
              "</div>\n",
              "    <div class=\"colab-df-buttons\">\n",
              "\n",
              "  <div class=\"colab-df-container\">\n",
              "    <button class=\"colab-df-convert\" onclick=\"convertToInteractive('df-aae61635-5c04-4b95-8108-3205ced9edaa')\"\n",
              "            title=\"Convert this dataframe to an interactive table.\"\n",
              "            style=\"display:none;\">\n",
              "\n",
              "  <svg xmlns=\"http://www.w3.org/2000/svg\" height=\"24px\" viewBox=\"0 -960 960 960\">\n",
              "    <path d=\"M120-120v-720h720v720H120Zm60-500h600v-160H180v160Zm220 220h160v-160H400v160Zm0 220h160v-160H400v160ZM180-400h160v-160H180v160Zm440 0h160v-160H620v160ZM180-180h160v-160H180v160Zm440 0h160v-160H620v160Z\"/>\n",
              "  </svg>\n",
              "    </button>\n",
              "\n",
              "  <style>\n",
              "    .colab-df-container {\n",
              "      display:flex;\n",
              "      gap: 12px;\n",
              "    }\n",
              "\n",
              "    .colab-df-convert {\n",
              "      background-color: #E8F0FE;\n",
              "      border: none;\n",
              "      border-radius: 50%;\n",
              "      cursor: pointer;\n",
              "      display: none;\n",
              "      fill: #1967D2;\n",
              "      height: 32px;\n",
              "      padding: 0 0 0 0;\n",
              "      width: 32px;\n",
              "    }\n",
              "\n",
              "    .colab-df-convert:hover {\n",
              "      background-color: #E2EBFA;\n",
              "      box-shadow: 0px 1px 2px rgba(60, 64, 67, 0.3), 0px 1px 3px 1px rgba(60, 64, 67, 0.15);\n",
              "      fill: #174EA6;\n",
              "    }\n",
              "\n",
              "    .colab-df-buttons div {\n",
              "      margin-bottom: 4px;\n",
              "    }\n",
              "\n",
              "    [theme=dark] .colab-df-convert {\n",
              "      background-color: #3B4455;\n",
              "      fill: #D2E3FC;\n",
              "    }\n",
              "\n",
              "    [theme=dark] .colab-df-convert:hover {\n",
              "      background-color: #434B5C;\n",
              "      box-shadow: 0px 1px 3px 1px rgba(0, 0, 0, 0.15);\n",
              "      filter: drop-shadow(0px 1px 2px rgba(0, 0, 0, 0.3));\n",
              "      fill: #FFFFFF;\n",
              "    }\n",
              "  </style>\n",
              "\n",
              "    <script>\n",
              "      const buttonEl =\n",
              "        document.querySelector('#df-aae61635-5c04-4b95-8108-3205ced9edaa button.colab-df-convert');\n",
              "      buttonEl.style.display =\n",
              "        google.colab.kernel.accessAllowed ? 'block' : 'none';\n",
              "\n",
              "      async function convertToInteractive(key) {\n",
              "        const element = document.querySelector('#df-aae61635-5c04-4b95-8108-3205ced9edaa');\n",
              "        const dataTable =\n",
              "          await google.colab.kernel.invokeFunction('convertToInteractive',\n",
              "                                                    [key], {});\n",
              "        if (!dataTable) return;\n",
              "\n",
              "        const docLinkHtml = 'Like what you see? Visit the ' +\n",
              "          '<a target=\"_blank\" href=https://colab.research.google.com/notebooks/data_table.ipynb>data table notebook</a>'\n",
              "          + ' to learn more about interactive tables.';\n",
              "        element.innerHTML = '';\n",
              "        dataTable['output_type'] = 'display_data';\n",
              "        await google.colab.output.renderOutput(dataTable, element);\n",
              "        const docLink = document.createElement('div');\n",
              "        docLink.innerHTML = docLinkHtml;\n",
              "        element.appendChild(docLink);\n",
              "      }\n",
              "    </script>\n",
              "  </div>\n",
              "\n",
              "\n",
              "<div id=\"df-31fe3b77-0ee1-4e45-945a-c5ec3cb68e5f\">\n",
              "  <button class=\"colab-df-quickchart\" onclick=\"quickchart('df-31fe3b77-0ee1-4e45-945a-c5ec3cb68e5f')\"\n",
              "            title=\"Suggest charts\"\n",
              "            style=\"display:none;\">\n",
              "\n",
              "<svg xmlns=\"http://www.w3.org/2000/svg\" height=\"24px\"viewBox=\"0 0 24 24\"\n",
              "     width=\"24px\">\n",
              "    <g>\n",
              "        <path d=\"M19 3H5c-1.1 0-2 .9-2 2v14c0 1.1.9 2 2 2h14c1.1 0 2-.9 2-2V5c0-1.1-.9-2-2-2zM9 17H7v-7h2v7zm4 0h-2V7h2v10zm4 0h-2v-4h2v4z\"/>\n",
              "    </g>\n",
              "</svg>\n",
              "  </button>\n",
              "\n",
              "<style>\n",
              "  .colab-df-quickchart {\n",
              "      --bg-color: #E8F0FE;\n",
              "      --fill-color: #1967D2;\n",
              "      --hover-bg-color: #E2EBFA;\n",
              "      --hover-fill-color: #174EA6;\n",
              "      --disabled-fill-color: #AAA;\n",
              "      --disabled-bg-color: #DDD;\n",
              "  }\n",
              "\n",
              "  [theme=dark] .colab-df-quickchart {\n",
              "      --bg-color: #3B4455;\n",
              "      --fill-color: #D2E3FC;\n",
              "      --hover-bg-color: #434B5C;\n",
              "      --hover-fill-color: #FFFFFF;\n",
              "      --disabled-bg-color: #3B4455;\n",
              "      --disabled-fill-color: #666;\n",
              "  }\n",
              "\n",
              "  .colab-df-quickchart {\n",
              "    background-color: var(--bg-color);\n",
              "    border: none;\n",
              "    border-radius: 50%;\n",
              "    cursor: pointer;\n",
              "    display: none;\n",
              "    fill: var(--fill-color);\n",
              "    height: 32px;\n",
              "    padding: 0;\n",
              "    width: 32px;\n",
              "  }\n",
              "\n",
              "  .colab-df-quickchart:hover {\n",
              "    background-color: var(--hover-bg-color);\n",
              "    box-shadow: 0 1px 2px rgba(60, 64, 67, 0.3), 0 1px 3px 1px rgba(60, 64, 67, 0.15);\n",
              "    fill: var(--button-hover-fill-color);\n",
              "  }\n",
              "\n",
              "  .colab-df-quickchart-complete:disabled,\n",
              "  .colab-df-quickchart-complete:disabled:hover {\n",
              "    background-color: var(--disabled-bg-color);\n",
              "    fill: var(--disabled-fill-color);\n",
              "    box-shadow: none;\n",
              "  }\n",
              "\n",
              "  .colab-df-spinner {\n",
              "    border: 2px solid var(--fill-color);\n",
              "    border-color: transparent;\n",
              "    border-bottom-color: var(--fill-color);\n",
              "    animation:\n",
              "      spin 1s steps(1) infinite;\n",
              "  }\n",
              "\n",
              "  @keyframes spin {\n",
              "    0% {\n",
              "      border-color: transparent;\n",
              "      border-bottom-color: var(--fill-color);\n",
              "      border-left-color: var(--fill-color);\n",
              "    }\n",
              "    20% {\n",
              "      border-color: transparent;\n",
              "      border-left-color: var(--fill-color);\n",
              "      border-top-color: var(--fill-color);\n",
              "    }\n",
              "    30% {\n",
              "      border-color: transparent;\n",
              "      border-left-color: var(--fill-color);\n",
              "      border-top-color: var(--fill-color);\n",
              "      border-right-color: var(--fill-color);\n",
              "    }\n",
              "    40% {\n",
              "      border-color: transparent;\n",
              "      border-right-color: var(--fill-color);\n",
              "      border-top-color: var(--fill-color);\n",
              "    }\n",
              "    60% {\n",
              "      border-color: transparent;\n",
              "      border-right-color: var(--fill-color);\n",
              "    }\n",
              "    80% {\n",
              "      border-color: transparent;\n",
              "      border-right-color: var(--fill-color);\n",
              "      border-bottom-color: var(--fill-color);\n",
              "    }\n",
              "    90% {\n",
              "      border-color: transparent;\n",
              "      border-bottom-color: var(--fill-color);\n",
              "    }\n",
              "  }\n",
              "</style>\n",
              "\n",
              "  <script>\n",
              "    async function quickchart(key) {\n",
              "      const quickchartButtonEl =\n",
              "        document.querySelector('#' + key + ' button');\n",
              "      quickchartButtonEl.disabled = true;  // To prevent multiple clicks.\n",
              "      quickchartButtonEl.classList.add('colab-df-spinner');\n",
              "      try {\n",
              "        const charts = await google.colab.kernel.invokeFunction(\n",
              "            'suggestCharts', [key], {});\n",
              "      } catch (error) {\n",
              "        console.error('Error during call to suggestCharts:', error);\n",
              "      }\n",
              "      quickchartButtonEl.classList.remove('colab-df-spinner');\n",
              "      quickchartButtonEl.classList.add('colab-df-quickchart-complete');\n",
              "    }\n",
              "    (() => {\n",
              "      let quickchartButtonEl =\n",
              "        document.querySelector('#df-31fe3b77-0ee1-4e45-945a-c5ec3cb68e5f button');\n",
              "      quickchartButtonEl.style.display =\n",
              "        google.colab.kernel.accessAllowed ? 'block' : 'none';\n",
              "    })();\n",
              "  </script>\n",
              "</div>\n",
              "\n",
              "    </div>\n",
              "  </div>\n"
            ],
            "application/vnd.google.colaboratory.intrinsic+json": {
              "type": "dataframe",
              "summary": "{\n  \"name\": \"missing_values(data)\",\n  \"rows\": 10,\n  \"fields\": [\n    {\n      \"column\": \"Missing Values\",\n      \"properties\": {\n        \"dtype\": \"number\",\n        \"std\": 3222,\n        \"min\": 0,\n        \"max\": 8269,\n        \"num_unique_values\": 10,\n        \"samples\": [\n          2384,\n          528,\n          7589\n        ],\n        \"semantic_type\": \"\",\n        \"description\": \"\"\n      }\n    },\n    {\n      \"column\": \"Percentage(%)\",\n      \"properties\": {\n        \"dtype\": \"number\",\n        \"std\": 20.77810131952495,\n        \"min\": 0.0,\n        \"max\": 53.32,\n        \"num_unique_values\": 10,\n        \"samples\": [\n          15.37,\n          3.4,\n          48.93\n        ],\n        \"semantic_type\": \"\",\n        \"description\": \"\"\n      }\n    }\n  ]\n}"
            }
          },
          "metadata": {},
          "execution_count": 12
        }
      ]
    },
    {
      "cell_type": "code",
      "source": [
        "missing_counts = data.isnull().sum(axis=1)\n",
        "\n",
        "# Filter the DataFrame to include only rows with 5 or fewer missing values\n",
        "data = data[missing_counts <= 5]"
      ],
      "metadata": {
        "id": "t5dZpRaUtfUL"
      },
      "execution_count": null,
      "outputs": []
    },
    {
      "cell_type": "code",
      "source": [
        "data.dropna(subset = [\"Rating\", \"Votes\", \"Duration\"], inplace = True)"
      ],
      "metadata": {
        "id": "AG4SyN30vbsm"
      },
      "execution_count": null,
      "outputs": []
    },
    {
      "cell_type": "code",
      "source": [
        "missing_values(data)"
      ],
      "metadata": {
        "colab": {
          "base_uri": "https://localhost:8080/",
          "height": 363
        },
        "id": "nVz53bCpvsp3",
        "outputId": "15994799-9fc7-41f3-cf23-f05dee87213a"
      },
      "execution_count": null,
      "outputs": [
        {
          "output_type": "execute_result",
          "data": {
            "text/plain": [
              "          Missing Values  Percentage(%)\n",
              "Name                   0           0.00\n",
              "Year                   0           0.00\n",
              "Duration               0           0.00\n",
              "Genre                 31           0.53\n",
              "Rating                 0           0.00\n",
              "Votes                  0           0.00\n",
              "Director               1           0.02\n",
              "Actor 1               75           1.28\n",
              "Actor 2              117           2.00\n",
              "Actor 3              163           2.79"
            ],
            "text/html": [
              "\n",
              "  <div id=\"df-4aaf0d67-399e-426c-9847-8304c258a77e\" class=\"colab-df-container\">\n",
              "    <div>\n",
              "<style scoped>\n",
              "    .dataframe tbody tr th:only-of-type {\n",
              "        vertical-align: middle;\n",
              "    }\n",
              "\n",
              "    .dataframe tbody tr th {\n",
              "        vertical-align: top;\n",
              "    }\n",
              "\n",
              "    .dataframe thead th {\n",
              "        text-align: right;\n",
              "    }\n",
              "</style>\n",
              "<table border=\"1\" class=\"dataframe\">\n",
              "  <thead>\n",
              "    <tr style=\"text-align: right;\">\n",
              "      <th></th>\n",
              "      <th>Missing Values</th>\n",
              "      <th>Percentage(%)</th>\n",
              "    </tr>\n",
              "  </thead>\n",
              "  <tbody>\n",
              "    <tr>\n",
              "      <th>Name</th>\n",
              "      <td>0</td>\n",
              "      <td>0.00</td>\n",
              "    </tr>\n",
              "    <tr>\n",
              "      <th>Year</th>\n",
              "      <td>0</td>\n",
              "      <td>0.00</td>\n",
              "    </tr>\n",
              "    <tr>\n",
              "      <th>Duration</th>\n",
              "      <td>0</td>\n",
              "      <td>0.00</td>\n",
              "    </tr>\n",
              "    <tr>\n",
              "      <th>Genre</th>\n",
              "      <td>31</td>\n",
              "      <td>0.53</td>\n",
              "    </tr>\n",
              "    <tr>\n",
              "      <th>Rating</th>\n",
              "      <td>0</td>\n",
              "      <td>0.00</td>\n",
              "    </tr>\n",
              "    <tr>\n",
              "      <th>Votes</th>\n",
              "      <td>0</td>\n",
              "      <td>0.00</td>\n",
              "    </tr>\n",
              "    <tr>\n",
              "      <th>Director</th>\n",
              "      <td>1</td>\n",
              "      <td>0.02</td>\n",
              "    </tr>\n",
              "    <tr>\n",
              "      <th>Actor 1</th>\n",
              "      <td>75</td>\n",
              "      <td>1.28</td>\n",
              "    </tr>\n",
              "    <tr>\n",
              "      <th>Actor 2</th>\n",
              "      <td>117</td>\n",
              "      <td>2.00</td>\n",
              "    </tr>\n",
              "    <tr>\n",
              "      <th>Actor 3</th>\n",
              "      <td>163</td>\n",
              "      <td>2.79</td>\n",
              "    </tr>\n",
              "  </tbody>\n",
              "</table>\n",
              "</div>\n",
              "    <div class=\"colab-df-buttons\">\n",
              "\n",
              "  <div class=\"colab-df-container\">\n",
              "    <button class=\"colab-df-convert\" onclick=\"convertToInteractive('df-4aaf0d67-399e-426c-9847-8304c258a77e')\"\n",
              "            title=\"Convert this dataframe to an interactive table.\"\n",
              "            style=\"display:none;\">\n",
              "\n",
              "  <svg xmlns=\"http://www.w3.org/2000/svg\" height=\"24px\" viewBox=\"0 -960 960 960\">\n",
              "    <path d=\"M120-120v-720h720v720H120Zm60-500h600v-160H180v160Zm220 220h160v-160H400v160Zm0 220h160v-160H400v160ZM180-400h160v-160H180v160Zm440 0h160v-160H620v160ZM180-180h160v-160H180v160Zm440 0h160v-160H620v160Z\"/>\n",
              "  </svg>\n",
              "    </button>\n",
              "\n",
              "  <style>\n",
              "    .colab-df-container {\n",
              "      display:flex;\n",
              "      gap: 12px;\n",
              "    }\n",
              "\n",
              "    .colab-df-convert {\n",
              "      background-color: #E8F0FE;\n",
              "      border: none;\n",
              "      border-radius: 50%;\n",
              "      cursor: pointer;\n",
              "      display: none;\n",
              "      fill: #1967D2;\n",
              "      height: 32px;\n",
              "      padding: 0 0 0 0;\n",
              "      width: 32px;\n",
              "    }\n",
              "\n",
              "    .colab-df-convert:hover {\n",
              "      background-color: #E2EBFA;\n",
              "      box-shadow: 0px 1px 2px rgba(60, 64, 67, 0.3), 0px 1px 3px 1px rgba(60, 64, 67, 0.15);\n",
              "      fill: #174EA6;\n",
              "    }\n",
              "\n",
              "    .colab-df-buttons div {\n",
              "      margin-bottom: 4px;\n",
              "    }\n",
              "\n",
              "    [theme=dark] .colab-df-convert {\n",
              "      background-color: #3B4455;\n",
              "      fill: #D2E3FC;\n",
              "    }\n",
              "\n",
              "    [theme=dark] .colab-df-convert:hover {\n",
              "      background-color: #434B5C;\n",
              "      box-shadow: 0px 1px 3px 1px rgba(0, 0, 0, 0.15);\n",
              "      filter: drop-shadow(0px 1px 2px rgba(0, 0, 0, 0.3));\n",
              "      fill: #FFFFFF;\n",
              "    }\n",
              "  </style>\n",
              "\n",
              "    <script>\n",
              "      const buttonEl =\n",
              "        document.querySelector('#df-4aaf0d67-399e-426c-9847-8304c258a77e button.colab-df-convert');\n",
              "      buttonEl.style.display =\n",
              "        google.colab.kernel.accessAllowed ? 'block' : 'none';\n",
              "\n",
              "      async function convertToInteractive(key) {\n",
              "        const element = document.querySelector('#df-4aaf0d67-399e-426c-9847-8304c258a77e');\n",
              "        const dataTable =\n",
              "          await google.colab.kernel.invokeFunction('convertToInteractive',\n",
              "                                                    [key], {});\n",
              "        if (!dataTable) return;\n",
              "\n",
              "        const docLinkHtml = 'Like what you see? Visit the ' +\n",
              "          '<a target=\"_blank\" href=https://colab.research.google.com/notebooks/data_table.ipynb>data table notebook</a>'\n",
              "          + ' to learn more about interactive tables.';\n",
              "        element.innerHTML = '';\n",
              "        dataTable['output_type'] = 'display_data';\n",
              "        await google.colab.output.renderOutput(dataTable, element);\n",
              "        const docLink = document.createElement('div');\n",
              "        docLink.innerHTML = docLinkHtml;\n",
              "        element.appendChild(docLink);\n",
              "      }\n",
              "    </script>\n",
              "  </div>\n",
              "\n",
              "\n",
              "<div id=\"df-f3f8dfbc-be7d-435b-a0c9-156fde37e149\">\n",
              "  <button class=\"colab-df-quickchart\" onclick=\"quickchart('df-f3f8dfbc-be7d-435b-a0c9-156fde37e149')\"\n",
              "            title=\"Suggest charts\"\n",
              "            style=\"display:none;\">\n",
              "\n",
              "<svg xmlns=\"http://www.w3.org/2000/svg\" height=\"24px\"viewBox=\"0 0 24 24\"\n",
              "     width=\"24px\">\n",
              "    <g>\n",
              "        <path d=\"M19 3H5c-1.1 0-2 .9-2 2v14c0 1.1.9 2 2 2h14c1.1 0 2-.9 2-2V5c0-1.1-.9-2-2-2zM9 17H7v-7h2v7zm4 0h-2V7h2v10zm4 0h-2v-4h2v4z\"/>\n",
              "    </g>\n",
              "</svg>\n",
              "  </button>\n",
              "\n",
              "<style>\n",
              "  .colab-df-quickchart {\n",
              "      --bg-color: #E8F0FE;\n",
              "      --fill-color: #1967D2;\n",
              "      --hover-bg-color: #E2EBFA;\n",
              "      --hover-fill-color: #174EA6;\n",
              "      --disabled-fill-color: #AAA;\n",
              "      --disabled-bg-color: #DDD;\n",
              "  }\n",
              "\n",
              "  [theme=dark] .colab-df-quickchart {\n",
              "      --bg-color: #3B4455;\n",
              "      --fill-color: #D2E3FC;\n",
              "      --hover-bg-color: #434B5C;\n",
              "      --hover-fill-color: #FFFFFF;\n",
              "      --disabled-bg-color: #3B4455;\n",
              "      --disabled-fill-color: #666;\n",
              "  }\n",
              "\n",
              "  .colab-df-quickchart {\n",
              "    background-color: var(--bg-color);\n",
              "    border: none;\n",
              "    border-radius: 50%;\n",
              "    cursor: pointer;\n",
              "    display: none;\n",
              "    fill: var(--fill-color);\n",
              "    height: 32px;\n",
              "    padding: 0;\n",
              "    width: 32px;\n",
              "  }\n",
              "\n",
              "  .colab-df-quickchart:hover {\n",
              "    background-color: var(--hover-bg-color);\n",
              "    box-shadow: 0 1px 2px rgba(60, 64, 67, 0.3), 0 1px 3px 1px rgba(60, 64, 67, 0.15);\n",
              "    fill: var(--button-hover-fill-color);\n",
              "  }\n",
              "\n",
              "  .colab-df-quickchart-complete:disabled,\n",
              "  .colab-df-quickchart-complete:disabled:hover {\n",
              "    background-color: var(--disabled-bg-color);\n",
              "    fill: var(--disabled-fill-color);\n",
              "    box-shadow: none;\n",
              "  }\n",
              "\n",
              "  .colab-df-spinner {\n",
              "    border: 2px solid var(--fill-color);\n",
              "    border-color: transparent;\n",
              "    border-bottom-color: var(--fill-color);\n",
              "    animation:\n",
              "      spin 1s steps(1) infinite;\n",
              "  }\n",
              "\n",
              "  @keyframes spin {\n",
              "    0% {\n",
              "      border-color: transparent;\n",
              "      border-bottom-color: var(--fill-color);\n",
              "      border-left-color: var(--fill-color);\n",
              "    }\n",
              "    20% {\n",
              "      border-color: transparent;\n",
              "      border-left-color: var(--fill-color);\n",
              "      border-top-color: var(--fill-color);\n",
              "    }\n",
              "    30% {\n",
              "      border-color: transparent;\n",
              "      border-left-color: var(--fill-color);\n",
              "      border-top-color: var(--fill-color);\n",
              "      border-right-color: var(--fill-color);\n",
              "    }\n",
              "    40% {\n",
              "      border-color: transparent;\n",
              "      border-right-color: var(--fill-color);\n",
              "      border-top-color: var(--fill-color);\n",
              "    }\n",
              "    60% {\n",
              "      border-color: transparent;\n",
              "      border-right-color: var(--fill-color);\n",
              "    }\n",
              "    80% {\n",
              "      border-color: transparent;\n",
              "      border-right-color: var(--fill-color);\n",
              "      border-bottom-color: var(--fill-color);\n",
              "    }\n",
              "    90% {\n",
              "      border-color: transparent;\n",
              "      border-bottom-color: var(--fill-color);\n",
              "    }\n",
              "  }\n",
              "</style>\n",
              "\n",
              "  <script>\n",
              "    async function quickchart(key) {\n",
              "      const quickchartButtonEl =\n",
              "        document.querySelector('#' + key + ' button');\n",
              "      quickchartButtonEl.disabled = true;  // To prevent multiple clicks.\n",
              "      quickchartButtonEl.classList.add('colab-df-spinner');\n",
              "      try {\n",
              "        const charts = await google.colab.kernel.invokeFunction(\n",
              "            'suggestCharts', [key], {});\n",
              "      } catch (error) {\n",
              "        console.error('Error during call to suggestCharts:', error);\n",
              "      }\n",
              "      quickchartButtonEl.classList.remove('colab-df-spinner');\n",
              "      quickchartButtonEl.classList.add('colab-df-quickchart-complete');\n",
              "    }\n",
              "    (() => {\n",
              "      let quickchartButtonEl =\n",
              "        document.querySelector('#df-f3f8dfbc-be7d-435b-a0c9-156fde37e149 button');\n",
              "      quickchartButtonEl.style.display =\n",
              "        google.colab.kernel.accessAllowed ? 'block' : 'none';\n",
              "    })();\n",
              "  </script>\n",
              "</div>\n",
              "\n",
              "    </div>\n",
              "  </div>\n"
            ],
            "application/vnd.google.colaboratory.intrinsic+json": {
              "type": "dataframe",
              "summary": "{\n  \"name\": \"missing_values(data)\",\n  \"rows\": 10,\n  \"fields\": [\n    {\n      \"column\": \"Missing Values\",\n      \"properties\": {\n        \"dtype\": \"number\",\n        \"std\": 59,\n        \"min\": 0,\n        \"max\": 163,\n        \"num_unique_values\": 6,\n        \"samples\": [\n          0,\n          31,\n          163\n        ],\n        \"semantic_type\": \"\",\n        \"description\": \"\"\n      }\n    },\n    {\n      \"column\": \"Percentage(%)\",\n      \"properties\": {\n        \"dtype\": \"number\",\n        \"std\": 1.0176967459251636,\n        \"min\": 0.0,\n        \"max\": 2.79,\n        \"num_unique_values\": 6,\n        \"samples\": [\n          0.0,\n          0.53,\n          2.79\n        ],\n        \"semantic_type\": \"\",\n        \"description\": \"\"\n      }\n    }\n  ]\n}"
            }
          },
          "metadata": {},
          "execution_count": 15
        }
      ]
    },
    {
      "cell_type": "code",
      "source": [
        "data.dropna(subset = [\"Actor 1\", \"Actor 2\", \"Actor 3\"], inplace=True)"
      ],
      "metadata": {
        "id": "L6gUSKqFxn2X"
      },
      "execution_count": null,
      "outputs": []
    },
    {
      "cell_type": "code",
      "source": [
        "data['Genre'] = data['Genre'].str.split(', ')\n",
        "data = data.explode('Genre')\n",
        "data['Genre'].fillna(data['Genre'].mode()[0], inplace=True)"
      ],
      "metadata": {
        "id": "4x2gnA87yE75"
      },
      "execution_count": null,
      "outputs": []
    },
    {
      "cell_type": "code",
      "source": [
        "data.dropna(subset = [\"Director\"], inplace=True)"
      ],
      "metadata": {
        "id": "yokfY3nxyNRt"
      },
      "execution_count": null,
      "outputs": []
    },
    {
      "cell_type": "code",
      "source": [
        "missing_values(data)"
      ],
      "metadata": {
        "colab": {
          "base_uri": "https://localhost:8080/",
          "height": 363
        },
        "id": "oFcpi67uyJNn",
        "outputId": "b631e315-b408-4e27-85cb-c2e46d09d6be"
      },
      "execution_count": null,
      "outputs": [
        {
          "output_type": "execute_result",
          "data": {
            "text/plain": [
              "          Missing Values  Percentage(%)\n",
              "Name                   0            0.0\n",
              "Year                   0            0.0\n",
              "Duration               0            0.0\n",
              "Genre                  0            0.0\n",
              "Rating                 0            0.0\n",
              "Votes                  0            0.0\n",
              "Director               0            0.0\n",
              "Actor 1                0            0.0\n",
              "Actor 2                0            0.0\n",
              "Actor 3                0            0.0"
            ],
            "text/html": [
              "\n",
              "  <div id=\"df-b786b695-85ad-4ab0-ad1b-900c8be5dc76\" class=\"colab-df-container\">\n",
              "    <div>\n",
              "<style scoped>\n",
              "    .dataframe tbody tr th:only-of-type {\n",
              "        vertical-align: middle;\n",
              "    }\n",
              "\n",
              "    .dataframe tbody tr th {\n",
              "        vertical-align: top;\n",
              "    }\n",
              "\n",
              "    .dataframe thead th {\n",
              "        text-align: right;\n",
              "    }\n",
              "</style>\n",
              "<table border=\"1\" class=\"dataframe\">\n",
              "  <thead>\n",
              "    <tr style=\"text-align: right;\">\n",
              "      <th></th>\n",
              "      <th>Missing Values</th>\n",
              "      <th>Percentage(%)</th>\n",
              "    </tr>\n",
              "  </thead>\n",
              "  <tbody>\n",
              "    <tr>\n",
              "      <th>Name</th>\n",
              "      <td>0</td>\n",
              "      <td>0.0</td>\n",
              "    </tr>\n",
              "    <tr>\n",
              "      <th>Year</th>\n",
              "      <td>0</td>\n",
              "      <td>0.0</td>\n",
              "    </tr>\n",
              "    <tr>\n",
              "      <th>Duration</th>\n",
              "      <td>0</td>\n",
              "      <td>0.0</td>\n",
              "    </tr>\n",
              "    <tr>\n",
              "      <th>Genre</th>\n",
              "      <td>0</td>\n",
              "      <td>0.0</td>\n",
              "    </tr>\n",
              "    <tr>\n",
              "      <th>Rating</th>\n",
              "      <td>0</td>\n",
              "      <td>0.0</td>\n",
              "    </tr>\n",
              "    <tr>\n",
              "      <th>Votes</th>\n",
              "      <td>0</td>\n",
              "      <td>0.0</td>\n",
              "    </tr>\n",
              "    <tr>\n",
              "      <th>Director</th>\n",
              "      <td>0</td>\n",
              "      <td>0.0</td>\n",
              "    </tr>\n",
              "    <tr>\n",
              "      <th>Actor 1</th>\n",
              "      <td>0</td>\n",
              "      <td>0.0</td>\n",
              "    </tr>\n",
              "    <tr>\n",
              "      <th>Actor 2</th>\n",
              "      <td>0</td>\n",
              "      <td>0.0</td>\n",
              "    </tr>\n",
              "    <tr>\n",
              "      <th>Actor 3</th>\n",
              "      <td>0</td>\n",
              "      <td>0.0</td>\n",
              "    </tr>\n",
              "  </tbody>\n",
              "</table>\n",
              "</div>\n",
              "    <div class=\"colab-df-buttons\">\n",
              "\n",
              "  <div class=\"colab-df-container\">\n",
              "    <button class=\"colab-df-convert\" onclick=\"convertToInteractive('df-b786b695-85ad-4ab0-ad1b-900c8be5dc76')\"\n",
              "            title=\"Convert this dataframe to an interactive table.\"\n",
              "            style=\"display:none;\">\n",
              "\n",
              "  <svg xmlns=\"http://www.w3.org/2000/svg\" height=\"24px\" viewBox=\"0 -960 960 960\">\n",
              "    <path d=\"M120-120v-720h720v720H120Zm60-500h600v-160H180v160Zm220 220h160v-160H400v160Zm0 220h160v-160H400v160ZM180-400h160v-160H180v160Zm440 0h160v-160H620v160ZM180-180h160v-160H180v160Zm440 0h160v-160H620v160Z\"/>\n",
              "  </svg>\n",
              "    </button>\n",
              "\n",
              "  <style>\n",
              "    .colab-df-container {\n",
              "      display:flex;\n",
              "      gap: 12px;\n",
              "    }\n",
              "\n",
              "    .colab-df-convert {\n",
              "      background-color: #E8F0FE;\n",
              "      border: none;\n",
              "      border-radius: 50%;\n",
              "      cursor: pointer;\n",
              "      display: none;\n",
              "      fill: #1967D2;\n",
              "      height: 32px;\n",
              "      padding: 0 0 0 0;\n",
              "      width: 32px;\n",
              "    }\n",
              "\n",
              "    .colab-df-convert:hover {\n",
              "      background-color: #E2EBFA;\n",
              "      box-shadow: 0px 1px 2px rgba(60, 64, 67, 0.3), 0px 1px 3px 1px rgba(60, 64, 67, 0.15);\n",
              "      fill: #174EA6;\n",
              "    }\n",
              "\n",
              "    .colab-df-buttons div {\n",
              "      margin-bottom: 4px;\n",
              "    }\n",
              "\n",
              "    [theme=dark] .colab-df-convert {\n",
              "      background-color: #3B4455;\n",
              "      fill: #D2E3FC;\n",
              "    }\n",
              "\n",
              "    [theme=dark] .colab-df-convert:hover {\n",
              "      background-color: #434B5C;\n",
              "      box-shadow: 0px 1px 3px 1px rgba(0, 0, 0, 0.15);\n",
              "      filter: drop-shadow(0px 1px 2px rgba(0, 0, 0, 0.3));\n",
              "      fill: #FFFFFF;\n",
              "    }\n",
              "  </style>\n",
              "\n",
              "    <script>\n",
              "      const buttonEl =\n",
              "        document.querySelector('#df-b786b695-85ad-4ab0-ad1b-900c8be5dc76 button.colab-df-convert');\n",
              "      buttonEl.style.display =\n",
              "        google.colab.kernel.accessAllowed ? 'block' : 'none';\n",
              "\n",
              "      async function convertToInteractive(key) {\n",
              "        const element = document.querySelector('#df-b786b695-85ad-4ab0-ad1b-900c8be5dc76');\n",
              "        const dataTable =\n",
              "          await google.colab.kernel.invokeFunction('convertToInteractive',\n",
              "                                                    [key], {});\n",
              "        if (!dataTable) return;\n",
              "\n",
              "        const docLinkHtml = 'Like what you see? Visit the ' +\n",
              "          '<a target=\"_blank\" href=https://colab.research.google.com/notebooks/data_table.ipynb>data table notebook</a>'\n",
              "          + ' to learn more about interactive tables.';\n",
              "        element.innerHTML = '';\n",
              "        dataTable['output_type'] = 'display_data';\n",
              "        await google.colab.output.renderOutput(dataTable, element);\n",
              "        const docLink = document.createElement('div');\n",
              "        docLink.innerHTML = docLinkHtml;\n",
              "        element.appendChild(docLink);\n",
              "      }\n",
              "    </script>\n",
              "  </div>\n",
              "\n",
              "\n",
              "<div id=\"df-aeb68107-1bdc-4234-879f-3692a216ebaa\">\n",
              "  <button class=\"colab-df-quickchart\" onclick=\"quickchart('df-aeb68107-1bdc-4234-879f-3692a216ebaa')\"\n",
              "            title=\"Suggest charts\"\n",
              "            style=\"display:none;\">\n",
              "\n",
              "<svg xmlns=\"http://www.w3.org/2000/svg\" height=\"24px\"viewBox=\"0 0 24 24\"\n",
              "     width=\"24px\">\n",
              "    <g>\n",
              "        <path d=\"M19 3H5c-1.1 0-2 .9-2 2v14c0 1.1.9 2 2 2h14c1.1 0 2-.9 2-2V5c0-1.1-.9-2-2-2zM9 17H7v-7h2v7zm4 0h-2V7h2v10zm4 0h-2v-4h2v4z\"/>\n",
              "    </g>\n",
              "</svg>\n",
              "  </button>\n",
              "\n",
              "<style>\n",
              "  .colab-df-quickchart {\n",
              "      --bg-color: #E8F0FE;\n",
              "      --fill-color: #1967D2;\n",
              "      --hover-bg-color: #E2EBFA;\n",
              "      --hover-fill-color: #174EA6;\n",
              "      --disabled-fill-color: #AAA;\n",
              "      --disabled-bg-color: #DDD;\n",
              "  }\n",
              "\n",
              "  [theme=dark] .colab-df-quickchart {\n",
              "      --bg-color: #3B4455;\n",
              "      --fill-color: #D2E3FC;\n",
              "      --hover-bg-color: #434B5C;\n",
              "      --hover-fill-color: #FFFFFF;\n",
              "      --disabled-bg-color: #3B4455;\n",
              "      --disabled-fill-color: #666;\n",
              "  }\n",
              "\n",
              "  .colab-df-quickchart {\n",
              "    background-color: var(--bg-color);\n",
              "    border: none;\n",
              "    border-radius: 50%;\n",
              "    cursor: pointer;\n",
              "    display: none;\n",
              "    fill: var(--fill-color);\n",
              "    height: 32px;\n",
              "    padding: 0;\n",
              "    width: 32px;\n",
              "  }\n",
              "\n",
              "  .colab-df-quickchart:hover {\n",
              "    background-color: var(--hover-bg-color);\n",
              "    box-shadow: 0 1px 2px rgba(60, 64, 67, 0.3), 0 1px 3px 1px rgba(60, 64, 67, 0.15);\n",
              "    fill: var(--button-hover-fill-color);\n",
              "  }\n",
              "\n",
              "  .colab-df-quickchart-complete:disabled,\n",
              "  .colab-df-quickchart-complete:disabled:hover {\n",
              "    background-color: var(--disabled-bg-color);\n",
              "    fill: var(--disabled-fill-color);\n",
              "    box-shadow: none;\n",
              "  }\n",
              "\n",
              "  .colab-df-spinner {\n",
              "    border: 2px solid var(--fill-color);\n",
              "    border-color: transparent;\n",
              "    border-bottom-color: var(--fill-color);\n",
              "    animation:\n",
              "      spin 1s steps(1) infinite;\n",
              "  }\n",
              "\n",
              "  @keyframes spin {\n",
              "    0% {\n",
              "      border-color: transparent;\n",
              "      border-bottom-color: var(--fill-color);\n",
              "      border-left-color: var(--fill-color);\n",
              "    }\n",
              "    20% {\n",
              "      border-color: transparent;\n",
              "      border-left-color: var(--fill-color);\n",
              "      border-top-color: var(--fill-color);\n",
              "    }\n",
              "    30% {\n",
              "      border-color: transparent;\n",
              "      border-left-color: var(--fill-color);\n",
              "      border-top-color: var(--fill-color);\n",
              "      border-right-color: var(--fill-color);\n",
              "    }\n",
              "    40% {\n",
              "      border-color: transparent;\n",
              "      border-right-color: var(--fill-color);\n",
              "      border-top-color: var(--fill-color);\n",
              "    }\n",
              "    60% {\n",
              "      border-color: transparent;\n",
              "      border-right-color: var(--fill-color);\n",
              "    }\n",
              "    80% {\n",
              "      border-color: transparent;\n",
              "      border-right-color: var(--fill-color);\n",
              "      border-bottom-color: var(--fill-color);\n",
              "    }\n",
              "    90% {\n",
              "      border-color: transparent;\n",
              "      border-bottom-color: var(--fill-color);\n",
              "    }\n",
              "  }\n",
              "</style>\n",
              "\n",
              "  <script>\n",
              "    async function quickchart(key) {\n",
              "      const quickchartButtonEl =\n",
              "        document.querySelector('#' + key + ' button');\n",
              "      quickchartButtonEl.disabled = true;  // To prevent multiple clicks.\n",
              "      quickchartButtonEl.classList.add('colab-df-spinner');\n",
              "      try {\n",
              "        const charts = await google.colab.kernel.invokeFunction(\n",
              "            'suggestCharts', [key], {});\n",
              "      } catch (error) {\n",
              "        console.error('Error during call to suggestCharts:', error);\n",
              "      }\n",
              "      quickchartButtonEl.classList.remove('colab-df-spinner');\n",
              "      quickchartButtonEl.classList.add('colab-df-quickchart-complete');\n",
              "    }\n",
              "    (() => {\n",
              "      let quickchartButtonEl =\n",
              "        document.querySelector('#df-aeb68107-1bdc-4234-879f-3692a216ebaa button');\n",
              "      quickchartButtonEl.style.display =\n",
              "        google.colab.kernel.accessAllowed ? 'block' : 'none';\n",
              "    })();\n",
              "  </script>\n",
              "</div>\n",
              "\n",
              "    </div>\n",
              "  </div>\n"
            ],
            "application/vnd.google.colaboratory.intrinsic+json": {
              "type": "dataframe",
              "summary": "{\n  \"name\": \"missing_values(data)\",\n  \"rows\": 10,\n  \"fields\": [\n    {\n      \"column\": \"Missing Values\",\n      \"properties\": {\n        \"dtype\": \"number\",\n        \"std\": 0,\n        \"min\": 0,\n        \"max\": 0,\n        \"num_unique_values\": 1,\n        \"samples\": [\n          0\n        ],\n        \"semantic_type\": \"\",\n        \"description\": \"\"\n      }\n    },\n    {\n      \"column\": \"Percentage(%)\",\n      \"properties\": {\n        \"dtype\": \"number\",\n        \"std\": 0.0,\n        \"min\": 0.0,\n        \"max\": 0.0,\n        \"num_unique_values\": 1,\n        \"samples\": [\n          0.0\n        ],\n        \"semantic_type\": \"\",\n        \"description\": \"\"\n      }\n    }\n  ]\n}"
            }
          },
          "metadata": {},
          "execution_count": 19
        }
      ]
    },
    {
      "cell_type": "code",
      "source": [
        "duplicate = data.groupby(['Name', 'Year']).filter(lambda x: len(x) > 1)\n",
        "duplicate[:10]"
      ],
      "metadata": {
        "colab": {
          "base_uri": "https://localhost:8080/",
          "height": 363
        },
        "id": "7TzHCD4uM_6G",
        "outputId": "77a2d834-f5a4-4b52-bf2f-0f29a8ec0605"
      },
      "execution_count": null,
      "outputs": [
        {
          "output_type": "execute_result",
          "data": {
            "text/plain": [
              "                   Name    Year Duration    Genre  Rating  Votes  \\\n",
              "3               #Yaaram  (2019)  110 min   Comedy     4.4     35   \n",
              "3               #Yaaram  (2019)  110 min  Romance     4.4     35   \n",
              "5  ...Aur Pyaar Ho Gaya  (1997)  147 min   Comedy     4.7    827   \n",
              "5  ...Aur Pyaar Ho Gaya  (1997)  147 min    Drama     4.7    827   \n",
              "5  ...Aur Pyaar Ho Gaya  (1997)  147 min  Musical     4.7    827   \n",
              "6             ...Yahaan  (2005)  142 min    Drama     7.4  1,086   \n",
              "6             ...Yahaan  (2005)  142 min  Romance     7.4  1,086   \n",
              "6             ...Yahaan  (2005)  142 min      War     7.4  1,086   \n",
              "8    ?: A Question Mark  (2012)   82 min   Horror     5.6    326   \n",
              "8    ?: A Question Mark  (2012)   82 min  Mystery     5.6    326   \n",
              "\n",
              "         Director          Actor 1                 Actor 2          Actor 3  \n",
              "3      Ovais Khan          Prateik              Ishita Raj  Siddhant Kapoor  \n",
              "3      Ovais Khan          Prateik              Ishita Raj  Siddhant Kapoor  \n",
              "5    Rahul Rawail       Bobby Deol  Aishwarya Rai Bachchan    Shammi Kapoor  \n",
              "5    Rahul Rawail       Bobby Deol  Aishwarya Rai Bachchan    Shammi Kapoor  \n",
              "5    Rahul Rawail       Bobby Deol  Aishwarya Rai Bachchan    Shammi Kapoor  \n",
              "6  Shoojit Sircar  Jimmy Sheirgill          Minissha Lamba   Yashpal Sharma  \n",
              "6  Shoojit Sircar  Jimmy Sheirgill          Minissha Lamba   Yashpal Sharma  \n",
              "6  Shoojit Sircar  Jimmy Sheirgill          Minissha Lamba   Yashpal Sharma  \n",
              "8   Allyson Patel        Yash Dave          Muntazir Ahmad     Kiran Bhatia  \n",
              "8   Allyson Patel        Yash Dave          Muntazir Ahmad     Kiran Bhatia  "
            ],
            "text/html": [
              "\n",
              "  <div id=\"df-a3ef5a1e-5654-40a3-b0e1-c610f243594f\" class=\"colab-df-container\">\n",
              "    <div>\n",
              "<style scoped>\n",
              "    .dataframe tbody tr th:only-of-type {\n",
              "        vertical-align: middle;\n",
              "    }\n",
              "\n",
              "    .dataframe tbody tr th {\n",
              "        vertical-align: top;\n",
              "    }\n",
              "\n",
              "    .dataframe thead th {\n",
              "        text-align: right;\n",
              "    }\n",
              "</style>\n",
              "<table border=\"1\" class=\"dataframe\">\n",
              "  <thead>\n",
              "    <tr style=\"text-align: right;\">\n",
              "      <th></th>\n",
              "      <th>Name</th>\n",
              "      <th>Year</th>\n",
              "      <th>Duration</th>\n",
              "      <th>Genre</th>\n",
              "      <th>Rating</th>\n",
              "      <th>Votes</th>\n",
              "      <th>Director</th>\n",
              "      <th>Actor 1</th>\n",
              "      <th>Actor 2</th>\n",
              "      <th>Actor 3</th>\n",
              "    </tr>\n",
              "  </thead>\n",
              "  <tbody>\n",
              "    <tr>\n",
              "      <th>3</th>\n",
              "      <td>#Yaaram</td>\n",
              "      <td>(2019)</td>\n",
              "      <td>110 min</td>\n",
              "      <td>Comedy</td>\n",
              "      <td>4.4</td>\n",
              "      <td>35</td>\n",
              "      <td>Ovais Khan</td>\n",
              "      <td>Prateik</td>\n",
              "      <td>Ishita Raj</td>\n",
              "      <td>Siddhant Kapoor</td>\n",
              "    </tr>\n",
              "    <tr>\n",
              "      <th>3</th>\n",
              "      <td>#Yaaram</td>\n",
              "      <td>(2019)</td>\n",
              "      <td>110 min</td>\n",
              "      <td>Romance</td>\n",
              "      <td>4.4</td>\n",
              "      <td>35</td>\n",
              "      <td>Ovais Khan</td>\n",
              "      <td>Prateik</td>\n",
              "      <td>Ishita Raj</td>\n",
              "      <td>Siddhant Kapoor</td>\n",
              "    </tr>\n",
              "    <tr>\n",
              "      <th>5</th>\n",
              "      <td>...Aur Pyaar Ho Gaya</td>\n",
              "      <td>(1997)</td>\n",
              "      <td>147 min</td>\n",
              "      <td>Comedy</td>\n",
              "      <td>4.7</td>\n",
              "      <td>827</td>\n",
              "      <td>Rahul Rawail</td>\n",
              "      <td>Bobby Deol</td>\n",
              "      <td>Aishwarya Rai Bachchan</td>\n",
              "      <td>Shammi Kapoor</td>\n",
              "    </tr>\n",
              "    <tr>\n",
              "      <th>5</th>\n",
              "      <td>...Aur Pyaar Ho Gaya</td>\n",
              "      <td>(1997)</td>\n",
              "      <td>147 min</td>\n",
              "      <td>Drama</td>\n",
              "      <td>4.7</td>\n",
              "      <td>827</td>\n",
              "      <td>Rahul Rawail</td>\n",
              "      <td>Bobby Deol</td>\n",
              "      <td>Aishwarya Rai Bachchan</td>\n",
              "      <td>Shammi Kapoor</td>\n",
              "    </tr>\n",
              "    <tr>\n",
              "      <th>5</th>\n",
              "      <td>...Aur Pyaar Ho Gaya</td>\n",
              "      <td>(1997)</td>\n",
              "      <td>147 min</td>\n",
              "      <td>Musical</td>\n",
              "      <td>4.7</td>\n",
              "      <td>827</td>\n",
              "      <td>Rahul Rawail</td>\n",
              "      <td>Bobby Deol</td>\n",
              "      <td>Aishwarya Rai Bachchan</td>\n",
              "      <td>Shammi Kapoor</td>\n",
              "    </tr>\n",
              "    <tr>\n",
              "      <th>6</th>\n",
              "      <td>...Yahaan</td>\n",
              "      <td>(2005)</td>\n",
              "      <td>142 min</td>\n",
              "      <td>Drama</td>\n",
              "      <td>7.4</td>\n",
              "      <td>1,086</td>\n",
              "      <td>Shoojit Sircar</td>\n",
              "      <td>Jimmy Sheirgill</td>\n",
              "      <td>Minissha Lamba</td>\n",
              "      <td>Yashpal Sharma</td>\n",
              "    </tr>\n",
              "    <tr>\n",
              "      <th>6</th>\n",
              "      <td>...Yahaan</td>\n",
              "      <td>(2005)</td>\n",
              "      <td>142 min</td>\n",
              "      <td>Romance</td>\n",
              "      <td>7.4</td>\n",
              "      <td>1,086</td>\n",
              "      <td>Shoojit Sircar</td>\n",
              "      <td>Jimmy Sheirgill</td>\n",
              "      <td>Minissha Lamba</td>\n",
              "      <td>Yashpal Sharma</td>\n",
              "    </tr>\n",
              "    <tr>\n",
              "      <th>6</th>\n",
              "      <td>...Yahaan</td>\n",
              "      <td>(2005)</td>\n",
              "      <td>142 min</td>\n",
              "      <td>War</td>\n",
              "      <td>7.4</td>\n",
              "      <td>1,086</td>\n",
              "      <td>Shoojit Sircar</td>\n",
              "      <td>Jimmy Sheirgill</td>\n",
              "      <td>Minissha Lamba</td>\n",
              "      <td>Yashpal Sharma</td>\n",
              "    </tr>\n",
              "    <tr>\n",
              "      <th>8</th>\n",
              "      <td>?: A Question Mark</td>\n",
              "      <td>(2012)</td>\n",
              "      <td>82 min</td>\n",
              "      <td>Horror</td>\n",
              "      <td>5.6</td>\n",
              "      <td>326</td>\n",
              "      <td>Allyson Patel</td>\n",
              "      <td>Yash Dave</td>\n",
              "      <td>Muntazir Ahmad</td>\n",
              "      <td>Kiran Bhatia</td>\n",
              "    </tr>\n",
              "    <tr>\n",
              "      <th>8</th>\n",
              "      <td>?: A Question Mark</td>\n",
              "      <td>(2012)</td>\n",
              "      <td>82 min</td>\n",
              "      <td>Mystery</td>\n",
              "      <td>5.6</td>\n",
              "      <td>326</td>\n",
              "      <td>Allyson Patel</td>\n",
              "      <td>Yash Dave</td>\n",
              "      <td>Muntazir Ahmad</td>\n",
              "      <td>Kiran Bhatia</td>\n",
              "    </tr>\n",
              "  </tbody>\n",
              "</table>\n",
              "</div>\n",
              "    <div class=\"colab-df-buttons\">\n",
              "\n",
              "  <div class=\"colab-df-container\">\n",
              "    <button class=\"colab-df-convert\" onclick=\"convertToInteractive('df-a3ef5a1e-5654-40a3-b0e1-c610f243594f')\"\n",
              "            title=\"Convert this dataframe to an interactive table.\"\n",
              "            style=\"display:none;\">\n",
              "\n",
              "  <svg xmlns=\"http://www.w3.org/2000/svg\" height=\"24px\" viewBox=\"0 -960 960 960\">\n",
              "    <path d=\"M120-120v-720h720v720H120Zm60-500h600v-160H180v160Zm220 220h160v-160H400v160Zm0 220h160v-160H400v160ZM180-400h160v-160H180v160Zm440 0h160v-160H620v160ZM180-180h160v-160H180v160Zm440 0h160v-160H620v160Z\"/>\n",
              "  </svg>\n",
              "    </button>\n",
              "\n",
              "  <style>\n",
              "    .colab-df-container {\n",
              "      display:flex;\n",
              "      gap: 12px;\n",
              "    }\n",
              "\n",
              "    .colab-df-convert {\n",
              "      background-color: #E8F0FE;\n",
              "      border: none;\n",
              "      border-radius: 50%;\n",
              "      cursor: pointer;\n",
              "      display: none;\n",
              "      fill: #1967D2;\n",
              "      height: 32px;\n",
              "      padding: 0 0 0 0;\n",
              "      width: 32px;\n",
              "    }\n",
              "\n",
              "    .colab-df-convert:hover {\n",
              "      background-color: #E2EBFA;\n",
              "      box-shadow: 0px 1px 2px rgba(60, 64, 67, 0.3), 0px 1px 3px 1px rgba(60, 64, 67, 0.15);\n",
              "      fill: #174EA6;\n",
              "    }\n",
              "\n",
              "    .colab-df-buttons div {\n",
              "      margin-bottom: 4px;\n",
              "    }\n",
              "\n",
              "    [theme=dark] .colab-df-convert {\n",
              "      background-color: #3B4455;\n",
              "      fill: #D2E3FC;\n",
              "    }\n",
              "\n",
              "    [theme=dark] .colab-df-convert:hover {\n",
              "      background-color: #434B5C;\n",
              "      box-shadow: 0px 1px 3px 1px rgba(0, 0, 0, 0.15);\n",
              "      filter: drop-shadow(0px 1px 2px rgba(0, 0, 0, 0.3));\n",
              "      fill: #FFFFFF;\n",
              "    }\n",
              "  </style>\n",
              "\n",
              "    <script>\n",
              "      const buttonEl =\n",
              "        document.querySelector('#df-a3ef5a1e-5654-40a3-b0e1-c610f243594f button.colab-df-convert');\n",
              "      buttonEl.style.display =\n",
              "        google.colab.kernel.accessAllowed ? 'block' : 'none';\n",
              "\n",
              "      async function convertToInteractive(key) {\n",
              "        const element = document.querySelector('#df-a3ef5a1e-5654-40a3-b0e1-c610f243594f');\n",
              "        const dataTable =\n",
              "          await google.colab.kernel.invokeFunction('convertToInteractive',\n",
              "                                                    [key], {});\n",
              "        if (!dataTable) return;\n",
              "\n",
              "        const docLinkHtml = 'Like what you see? Visit the ' +\n",
              "          '<a target=\"_blank\" href=https://colab.research.google.com/notebooks/data_table.ipynb>data table notebook</a>'\n",
              "          + ' to learn more about interactive tables.';\n",
              "        element.innerHTML = '';\n",
              "        dataTable['output_type'] = 'display_data';\n",
              "        await google.colab.output.renderOutput(dataTable, element);\n",
              "        const docLink = document.createElement('div');\n",
              "        docLink.innerHTML = docLinkHtml;\n",
              "        element.appendChild(docLink);\n",
              "      }\n",
              "    </script>\n",
              "  </div>\n",
              "\n",
              "\n",
              "<div id=\"df-76def3dc-340b-4965-b1eb-2039810deba8\">\n",
              "  <button class=\"colab-df-quickchart\" onclick=\"quickchart('df-76def3dc-340b-4965-b1eb-2039810deba8')\"\n",
              "            title=\"Suggest charts\"\n",
              "            style=\"display:none;\">\n",
              "\n",
              "<svg xmlns=\"http://www.w3.org/2000/svg\" height=\"24px\"viewBox=\"0 0 24 24\"\n",
              "     width=\"24px\">\n",
              "    <g>\n",
              "        <path d=\"M19 3H5c-1.1 0-2 .9-2 2v14c0 1.1.9 2 2 2h14c1.1 0 2-.9 2-2V5c0-1.1-.9-2-2-2zM9 17H7v-7h2v7zm4 0h-2V7h2v10zm4 0h-2v-4h2v4z\"/>\n",
              "    </g>\n",
              "</svg>\n",
              "  </button>\n",
              "\n",
              "<style>\n",
              "  .colab-df-quickchart {\n",
              "      --bg-color: #E8F0FE;\n",
              "      --fill-color: #1967D2;\n",
              "      --hover-bg-color: #E2EBFA;\n",
              "      --hover-fill-color: #174EA6;\n",
              "      --disabled-fill-color: #AAA;\n",
              "      --disabled-bg-color: #DDD;\n",
              "  }\n",
              "\n",
              "  [theme=dark] .colab-df-quickchart {\n",
              "      --bg-color: #3B4455;\n",
              "      --fill-color: #D2E3FC;\n",
              "      --hover-bg-color: #434B5C;\n",
              "      --hover-fill-color: #FFFFFF;\n",
              "      --disabled-bg-color: #3B4455;\n",
              "      --disabled-fill-color: #666;\n",
              "  }\n",
              "\n",
              "  .colab-df-quickchart {\n",
              "    background-color: var(--bg-color);\n",
              "    border: none;\n",
              "    border-radius: 50%;\n",
              "    cursor: pointer;\n",
              "    display: none;\n",
              "    fill: var(--fill-color);\n",
              "    height: 32px;\n",
              "    padding: 0;\n",
              "    width: 32px;\n",
              "  }\n",
              "\n",
              "  .colab-df-quickchart:hover {\n",
              "    background-color: var(--hover-bg-color);\n",
              "    box-shadow: 0 1px 2px rgba(60, 64, 67, 0.3), 0 1px 3px 1px rgba(60, 64, 67, 0.15);\n",
              "    fill: var(--button-hover-fill-color);\n",
              "  }\n",
              "\n",
              "  .colab-df-quickchart-complete:disabled,\n",
              "  .colab-df-quickchart-complete:disabled:hover {\n",
              "    background-color: var(--disabled-bg-color);\n",
              "    fill: var(--disabled-fill-color);\n",
              "    box-shadow: none;\n",
              "  }\n",
              "\n",
              "  .colab-df-spinner {\n",
              "    border: 2px solid var(--fill-color);\n",
              "    border-color: transparent;\n",
              "    border-bottom-color: var(--fill-color);\n",
              "    animation:\n",
              "      spin 1s steps(1) infinite;\n",
              "  }\n",
              "\n",
              "  @keyframes spin {\n",
              "    0% {\n",
              "      border-color: transparent;\n",
              "      border-bottom-color: var(--fill-color);\n",
              "      border-left-color: var(--fill-color);\n",
              "    }\n",
              "    20% {\n",
              "      border-color: transparent;\n",
              "      border-left-color: var(--fill-color);\n",
              "      border-top-color: var(--fill-color);\n",
              "    }\n",
              "    30% {\n",
              "      border-color: transparent;\n",
              "      border-left-color: var(--fill-color);\n",
              "      border-top-color: var(--fill-color);\n",
              "      border-right-color: var(--fill-color);\n",
              "    }\n",
              "    40% {\n",
              "      border-color: transparent;\n",
              "      border-right-color: var(--fill-color);\n",
              "      border-top-color: var(--fill-color);\n",
              "    }\n",
              "    60% {\n",
              "      border-color: transparent;\n",
              "      border-right-color: var(--fill-color);\n",
              "    }\n",
              "    80% {\n",
              "      border-color: transparent;\n",
              "      border-right-color: var(--fill-color);\n",
              "      border-bottom-color: var(--fill-color);\n",
              "    }\n",
              "    90% {\n",
              "      border-color: transparent;\n",
              "      border-bottom-color: var(--fill-color);\n",
              "    }\n",
              "  }\n",
              "</style>\n",
              "\n",
              "  <script>\n",
              "    async function quickchart(key) {\n",
              "      const quickchartButtonEl =\n",
              "        document.querySelector('#' + key + ' button');\n",
              "      quickchartButtonEl.disabled = true;  // To prevent multiple clicks.\n",
              "      quickchartButtonEl.classList.add('colab-df-spinner');\n",
              "      try {\n",
              "        const charts = await google.colab.kernel.invokeFunction(\n",
              "            'suggestCharts', [key], {});\n",
              "      } catch (error) {\n",
              "        console.error('Error during call to suggestCharts:', error);\n",
              "      }\n",
              "      quickchartButtonEl.classList.remove('colab-df-spinner');\n",
              "      quickchartButtonEl.classList.add('colab-df-quickchart-complete');\n",
              "    }\n",
              "    (() => {\n",
              "      let quickchartButtonEl =\n",
              "        document.querySelector('#df-76def3dc-340b-4965-b1eb-2039810deba8 button');\n",
              "      quickchartButtonEl.style.display =\n",
              "        google.colab.kernel.accessAllowed ? 'block' : 'none';\n",
              "    })();\n",
              "  </script>\n",
              "</div>\n",
              "\n",
              "    </div>\n",
              "  </div>\n"
            ],
            "application/vnd.google.colaboratory.intrinsic+json": {
              "type": "dataframe",
              "summary": "{\n  \"name\": \"duplicate[:10]\",\n  \"rows\": 10,\n  \"fields\": [\n    {\n      \"column\": \"Name\",\n      \"properties\": {\n        \"dtype\": \"category\",\n        \"num_unique_values\": 4,\n        \"samples\": [\n          \"...Aur Pyaar Ho Gaya\",\n          \"?: A Question Mark\",\n          \"#Yaaram\"\n        ],\n        \"semantic_type\": \"\",\n        \"description\": \"\"\n      }\n    },\n    {\n      \"column\": \"Year\",\n      \"properties\": {\n        \"dtype\": \"category\",\n        \"num_unique_values\": 4,\n        \"samples\": [\n          \"(1997)\",\n          \"(2012)\",\n          \"(2019)\"\n        ],\n        \"semantic_type\": \"\",\n        \"description\": \"\"\n      }\n    },\n    {\n      \"column\": \"Duration\",\n      \"properties\": {\n        \"dtype\": \"category\",\n        \"num_unique_values\": 4,\n        \"samples\": [\n          \"147 min\",\n          \"82 min\",\n          \"110 min\"\n        ],\n        \"semantic_type\": \"\",\n        \"description\": \"\"\n      }\n    },\n    {\n      \"column\": \"Genre\",\n      \"properties\": {\n        \"dtype\": \"string\",\n        \"num_unique_values\": 7,\n        \"samples\": [\n          \"Comedy\",\n          \"Romance\",\n          \"Horror\"\n        ],\n        \"semantic_type\": \"\",\n        \"description\": \"\"\n      }\n    },\n    {\n      \"column\": \"Rating\",\n      \"properties\": {\n        \"dtype\": \"number\",\n        \"std\": 1.2918978287774927,\n        \"min\": 4.4,\n        \"max\": 7.4,\n        \"num_unique_values\": 4,\n        \"samples\": [\n          4.7,\n          5.6,\n          4.4\n        ],\n        \"semantic_type\": \"\",\n        \"description\": \"\"\n      }\n    },\n    {\n      \"column\": \"Votes\",\n      \"properties\": {\n        \"dtype\": \"category\",\n        \"num_unique_values\": 4,\n        \"samples\": [\n          \"827\",\n          \"326\",\n          \"35\"\n        ],\n        \"semantic_type\": \"\",\n        \"description\": \"\"\n      }\n    },\n    {\n      \"column\": \"Director\",\n      \"properties\": {\n        \"dtype\": \"category\",\n        \"num_unique_values\": 4,\n        \"samples\": [\n          \"Rahul Rawail\",\n          \"Allyson Patel\",\n          \"Ovais Khan\"\n        ],\n        \"semantic_type\": \"\",\n        \"description\": \"\"\n      }\n    },\n    {\n      \"column\": \"Actor 1\",\n      \"properties\": {\n        \"dtype\": \"category\",\n        \"num_unique_values\": 4,\n        \"samples\": [\n          \"Bobby Deol\",\n          \"Yash Dave\",\n          \"Prateik\"\n        ],\n        \"semantic_type\": \"\",\n        \"description\": \"\"\n      }\n    },\n    {\n      \"column\": \"Actor 2\",\n      \"properties\": {\n        \"dtype\": \"category\",\n        \"num_unique_values\": 4,\n        \"samples\": [\n          \"Aishwarya Rai Bachchan\",\n          \"Muntazir Ahmad\",\n          \"Ishita Raj\"\n        ],\n        \"semantic_type\": \"\",\n        \"description\": \"\"\n      }\n    },\n    {\n      \"column\": \"Actor 3\",\n      \"properties\": {\n        \"dtype\": \"category\",\n        \"num_unique_values\": 4,\n        \"samples\": [\n          \"Shammi Kapoor\",\n          \"Kiran Bhatia\",\n          \"Siddhant Kapoor\"\n        ],\n        \"semantic_type\": \"\",\n        \"description\": \"\"\n      }\n    }\n  ]\n}"
            }
          },
          "metadata": {},
          "execution_count": 20
        }
      ]
    },
    {
      "cell_type": "code",
      "source": [
        "# Drop duplicates\n",
        "data = data.drop_duplicates(subset=['Name'], keep=False)"
      ],
      "metadata": {
        "id": "0Ejd5BtDNH73"
      },
      "execution_count": null,
      "outputs": []
    },
    {
      "cell_type": "code",
      "source": [
        "data.head()"
      ],
      "metadata": {
        "colab": {
          "base_uri": "https://localhost:8080/",
          "height": 206
        },
        "id": "vy_oAUgiyVi6",
        "outputId": "c333bc10-b428-453c-a0a6-37630234410e"
      },
      "execution_count": null,
      "outputs": [
        {
          "output_type": "execute_result",
          "data": {
            "text/plain": [
              "                                  Name    Year Duration   Genre  Rating  \\\n",
              "1   #Gadhvi (He thought he was Gandhi)  (2019)  109 min   Drama     7.0   \n",
              "10           1:1.6 An Ode to Lost Love  (2004)   96 min   Drama     6.2   \n",
              "11                1:13:7 Ek Tera Saath  (2016)  120 min  Horror     5.9   \n",
              "30                      15 Park Avenue  (2005)  116 min   Drama     7.1   \n",
              "32                         15th August  (1993)  168 min   Drama     5.6   \n",
              "\n",
              "    Votes         Director         Actor 1             Actor 2        Actor 3  \n",
              "1       8    Gaurav Bakshi    Rasika Dugal      Vivek Ghamande  Arvind Jangid  \n",
              "10     17      Madhu Ambat  Rati Agnihotri      Gulshan Grover  Atul Kulkarni  \n",
              "11     59  Arshad Siddiqui    Pankaj Berry        Anubhav Dhir   Hritu Dudani  \n",
              "30  1,002       Aparna Sen    Shabana Azmi  Konkona Sen Sharma     Rahul Bose  \n",
              "32     15    Vicky Ranawat       Ronit Roy        Tisca Chopra  Shakti Kapoor  "
            ],
            "text/html": [
              "\n",
              "  <div id=\"df-f9be9443-7509-4cec-8f84-1879e12f1457\" class=\"colab-df-container\">\n",
              "    <div>\n",
              "<style scoped>\n",
              "    .dataframe tbody tr th:only-of-type {\n",
              "        vertical-align: middle;\n",
              "    }\n",
              "\n",
              "    .dataframe tbody tr th {\n",
              "        vertical-align: top;\n",
              "    }\n",
              "\n",
              "    .dataframe thead th {\n",
              "        text-align: right;\n",
              "    }\n",
              "</style>\n",
              "<table border=\"1\" class=\"dataframe\">\n",
              "  <thead>\n",
              "    <tr style=\"text-align: right;\">\n",
              "      <th></th>\n",
              "      <th>Name</th>\n",
              "      <th>Year</th>\n",
              "      <th>Duration</th>\n",
              "      <th>Genre</th>\n",
              "      <th>Rating</th>\n",
              "      <th>Votes</th>\n",
              "      <th>Director</th>\n",
              "      <th>Actor 1</th>\n",
              "      <th>Actor 2</th>\n",
              "      <th>Actor 3</th>\n",
              "    </tr>\n",
              "  </thead>\n",
              "  <tbody>\n",
              "    <tr>\n",
              "      <th>1</th>\n",
              "      <td>#Gadhvi (He thought he was Gandhi)</td>\n",
              "      <td>(2019)</td>\n",
              "      <td>109 min</td>\n",
              "      <td>Drama</td>\n",
              "      <td>7.0</td>\n",
              "      <td>8</td>\n",
              "      <td>Gaurav Bakshi</td>\n",
              "      <td>Rasika Dugal</td>\n",
              "      <td>Vivek Ghamande</td>\n",
              "      <td>Arvind Jangid</td>\n",
              "    </tr>\n",
              "    <tr>\n",
              "      <th>10</th>\n",
              "      <td>1:1.6 An Ode to Lost Love</td>\n",
              "      <td>(2004)</td>\n",
              "      <td>96 min</td>\n",
              "      <td>Drama</td>\n",
              "      <td>6.2</td>\n",
              "      <td>17</td>\n",
              "      <td>Madhu Ambat</td>\n",
              "      <td>Rati Agnihotri</td>\n",
              "      <td>Gulshan Grover</td>\n",
              "      <td>Atul Kulkarni</td>\n",
              "    </tr>\n",
              "    <tr>\n",
              "      <th>11</th>\n",
              "      <td>1:13:7 Ek Tera Saath</td>\n",
              "      <td>(2016)</td>\n",
              "      <td>120 min</td>\n",
              "      <td>Horror</td>\n",
              "      <td>5.9</td>\n",
              "      <td>59</td>\n",
              "      <td>Arshad Siddiqui</td>\n",
              "      <td>Pankaj Berry</td>\n",
              "      <td>Anubhav Dhir</td>\n",
              "      <td>Hritu Dudani</td>\n",
              "    </tr>\n",
              "    <tr>\n",
              "      <th>30</th>\n",
              "      <td>15 Park Avenue</td>\n",
              "      <td>(2005)</td>\n",
              "      <td>116 min</td>\n",
              "      <td>Drama</td>\n",
              "      <td>7.1</td>\n",
              "      <td>1,002</td>\n",
              "      <td>Aparna Sen</td>\n",
              "      <td>Shabana Azmi</td>\n",
              "      <td>Konkona Sen Sharma</td>\n",
              "      <td>Rahul Bose</td>\n",
              "    </tr>\n",
              "    <tr>\n",
              "      <th>32</th>\n",
              "      <td>15th August</td>\n",
              "      <td>(1993)</td>\n",
              "      <td>168 min</td>\n",
              "      <td>Drama</td>\n",
              "      <td>5.6</td>\n",
              "      <td>15</td>\n",
              "      <td>Vicky Ranawat</td>\n",
              "      <td>Ronit Roy</td>\n",
              "      <td>Tisca Chopra</td>\n",
              "      <td>Shakti Kapoor</td>\n",
              "    </tr>\n",
              "  </tbody>\n",
              "</table>\n",
              "</div>\n",
              "    <div class=\"colab-df-buttons\">\n",
              "\n",
              "  <div class=\"colab-df-container\">\n",
              "    <button class=\"colab-df-convert\" onclick=\"convertToInteractive('df-f9be9443-7509-4cec-8f84-1879e12f1457')\"\n",
              "            title=\"Convert this dataframe to an interactive table.\"\n",
              "            style=\"display:none;\">\n",
              "\n",
              "  <svg xmlns=\"http://www.w3.org/2000/svg\" height=\"24px\" viewBox=\"0 -960 960 960\">\n",
              "    <path d=\"M120-120v-720h720v720H120Zm60-500h600v-160H180v160Zm220 220h160v-160H400v160Zm0 220h160v-160H400v160ZM180-400h160v-160H180v160Zm440 0h160v-160H620v160ZM180-180h160v-160H180v160Zm440 0h160v-160H620v160Z\"/>\n",
              "  </svg>\n",
              "    </button>\n",
              "\n",
              "  <style>\n",
              "    .colab-df-container {\n",
              "      display:flex;\n",
              "      gap: 12px;\n",
              "    }\n",
              "\n",
              "    .colab-df-convert {\n",
              "      background-color: #E8F0FE;\n",
              "      border: none;\n",
              "      border-radius: 50%;\n",
              "      cursor: pointer;\n",
              "      display: none;\n",
              "      fill: #1967D2;\n",
              "      height: 32px;\n",
              "      padding: 0 0 0 0;\n",
              "      width: 32px;\n",
              "    }\n",
              "\n",
              "    .colab-df-convert:hover {\n",
              "      background-color: #E2EBFA;\n",
              "      box-shadow: 0px 1px 2px rgba(60, 64, 67, 0.3), 0px 1px 3px 1px rgba(60, 64, 67, 0.15);\n",
              "      fill: #174EA6;\n",
              "    }\n",
              "\n",
              "    .colab-df-buttons div {\n",
              "      margin-bottom: 4px;\n",
              "    }\n",
              "\n",
              "    [theme=dark] .colab-df-convert {\n",
              "      background-color: #3B4455;\n",
              "      fill: #D2E3FC;\n",
              "    }\n",
              "\n",
              "    [theme=dark] .colab-df-convert:hover {\n",
              "      background-color: #434B5C;\n",
              "      box-shadow: 0px 1px 3px 1px rgba(0, 0, 0, 0.15);\n",
              "      filter: drop-shadow(0px 1px 2px rgba(0, 0, 0, 0.3));\n",
              "      fill: #FFFFFF;\n",
              "    }\n",
              "  </style>\n",
              "\n",
              "    <script>\n",
              "      const buttonEl =\n",
              "        document.querySelector('#df-f9be9443-7509-4cec-8f84-1879e12f1457 button.colab-df-convert');\n",
              "      buttonEl.style.display =\n",
              "        google.colab.kernel.accessAllowed ? 'block' : 'none';\n",
              "\n",
              "      async function convertToInteractive(key) {\n",
              "        const element = document.querySelector('#df-f9be9443-7509-4cec-8f84-1879e12f1457');\n",
              "        const dataTable =\n",
              "          await google.colab.kernel.invokeFunction('convertToInteractive',\n",
              "                                                    [key], {});\n",
              "        if (!dataTable) return;\n",
              "\n",
              "        const docLinkHtml = 'Like what you see? Visit the ' +\n",
              "          '<a target=\"_blank\" href=https://colab.research.google.com/notebooks/data_table.ipynb>data table notebook</a>'\n",
              "          + ' to learn more about interactive tables.';\n",
              "        element.innerHTML = '';\n",
              "        dataTable['output_type'] = 'display_data';\n",
              "        await google.colab.output.renderOutput(dataTable, element);\n",
              "        const docLink = document.createElement('div');\n",
              "        docLink.innerHTML = docLinkHtml;\n",
              "        element.appendChild(docLink);\n",
              "      }\n",
              "    </script>\n",
              "  </div>\n",
              "\n",
              "\n",
              "<div id=\"df-aae141b6-3952-4e55-8628-42328ec6a7cf\">\n",
              "  <button class=\"colab-df-quickchart\" onclick=\"quickchart('df-aae141b6-3952-4e55-8628-42328ec6a7cf')\"\n",
              "            title=\"Suggest charts\"\n",
              "            style=\"display:none;\">\n",
              "\n",
              "<svg xmlns=\"http://www.w3.org/2000/svg\" height=\"24px\"viewBox=\"0 0 24 24\"\n",
              "     width=\"24px\">\n",
              "    <g>\n",
              "        <path d=\"M19 3H5c-1.1 0-2 .9-2 2v14c0 1.1.9 2 2 2h14c1.1 0 2-.9 2-2V5c0-1.1-.9-2-2-2zM9 17H7v-7h2v7zm4 0h-2V7h2v10zm4 0h-2v-4h2v4z\"/>\n",
              "    </g>\n",
              "</svg>\n",
              "  </button>\n",
              "\n",
              "<style>\n",
              "  .colab-df-quickchart {\n",
              "      --bg-color: #E8F0FE;\n",
              "      --fill-color: #1967D2;\n",
              "      --hover-bg-color: #E2EBFA;\n",
              "      --hover-fill-color: #174EA6;\n",
              "      --disabled-fill-color: #AAA;\n",
              "      --disabled-bg-color: #DDD;\n",
              "  }\n",
              "\n",
              "  [theme=dark] .colab-df-quickchart {\n",
              "      --bg-color: #3B4455;\n",
              "      --fill-color: #D2E3FC;\n",
              "      --hover-bg-color: #434B5C;\n",
              "      --hover-fill-color: #FFFFFF;\n",
              "      --disabled-bg-color: #3B4455;\n",
              "      --disabled-fill-color: #666;\n",
              "  }\n",
              "\n",
              "  .colab-df-quickchart {\n",
              "    background-color: var(--bg-color);\n",
              "    border: none;\n",
              "    border-radius: 50%;\n",
              "    cursor: pointer;\n",
              "    display: none;\n",
              "    fill: var(--fill-color);\n",
              "    height: 32px;\n",
              "    padding: 0;\n",
              "    width: 32px;\n",
              "  }\n",
              "\n",
              "  .colab-df-quickchart:hover {\n",
              "    background-color: var(--hover-bg-color);\n",
              "    box-shadow: 0 1px 2px rgba(60, 64, 67, 0.3), 0 1px 3px 1px rgba(60, 64, 67, 0.15);\n",
              "    fill: var(--button-hover-fill-color);\n",
              "  }\n",
              "\n",
              "  .colab-df-quickchart-complete:disabled,\n",
              "  .colab-df-quickchart-complete:disabled:hover {\n",
              "    background-color: var(--disabled-bg-color);\n",
              "    fill: var(--disabled-fill-color);\n",
              "    box-shadow: none;\n",
              "  }\n",
              "\n",
              "  .colab-df-spinner {\n",
              "    border: 2px solid var(--fill-color);\n",
              "    border-color: transparent;\n",
              "    border-bottom-color: var(--fill-color);\n",
              "    animation:\n",
              "      spin 1s steps(1) infinite;\n",
              "  }\n",
              "\n",
              "  @keyframes spin {\n",
              "    0% {\n",
              "      border-color: transparent;\n",
              "      border-bottom-color: var(--fill-color);\n",
              "      border-left-color: var(--fill-color);\n",
              "    }\n",
              "    20% {\n",
              "      border-color: transparent;\n",
              "      border-left-color: var(--fill-color);\n",
              "      border-top-color: var(--fill-color);\n",
              "    }\n",
              "    30% {\n",
              "      border-color: transparent;\n",
              "      border-left-color: var(--fill-color);\n",
              "      border-top-color: var(--fill-color);\n",
              "      border-right-color: var(--fill-color);\n",
              "    }\n",
              "    40% {\n",
              "      border-color: transparent;\n",
              "      border-right-color: var(--fill-color);\n",
              "      border-top-color: var(--fill-color);\n",
              "    }\n",
              "    60% {\n",
              "      border-color: transparent;\n",
              "      border-right-color: var(--fill-color);\n",
              "    }\n",
              "    80% {\n",
              "      border-color: transparent;\n",
              "      border-right-color: var(--fill-color);\n",
              "      border-bottom-color: var(--fill-color);\n",
              "    }\n",
              "    90% {\n",
              "      border-color: transparent;\n",
              "      border-bottom-color: var(--fill-color);\n",
              "    }\n",
              "  }\n",
              "</style>\n",
              "\n",
              "  <script>\n",
              "    async function quickchart(key) {\n",
              "      const quickchartButtonEl =\n",
              "        document.querySelector('#' + key + ' button');\n",
              "      quickchartButtonEl.disabled = true;  // To prevent multiple clicks.\n",
              "      quickchartButtonEl.classList.add('colab-df-spinner');\n",
              "      try {\n",
              "        const charts = await google.colab.kernel.invokeFunction(\n",
              "            'suggestCharts', [key], {});\n",
              "      } catch (error) {\n",
              "        console.error('Error during call to suggestCharts:', error);\n",
              "      }\n",
              "      quickchartButtonEl.classList.remove('colab-df-spinner');\n",
              "      quickchartButtonEl.classList.add('colab-df-quickchart-complete');\n",
              "    }\n",
              "    (() => {\n",
              "      let quickchartButtonEl =\n",
              "        document.querySelector('#df-aae141b6-3952-4e55-8628-42328ec6a7cf button');\n",
              "      quickchartButtonEl.style.display =\n",
              "        google.colab.kernel.accessAllowed ? 'block' : 'none';\n",
              "    })();\n",
              "  </script>\n",
              "</div>\n",
              "\n",
              "    </div>\n",
              "  </div>\n"
            ],
            "application/vnd.google.colaboratory.intrinsic+json": {
              "type": "dataframe",
              "variable_name": "data",
              "summary": "{\n  \"name\": \"data\",\n  \"rows\": 1564,\n  \"fields\": [\n    {\n      \"column\": \"Name\",\n      \"properties\": {\n        \"dtype\": \"string\",\n        \"num_unique_values\": 1564,\n        \"samples\": [\n          \"Ghar Ka Chiraag\",\n          \"Bubble Gum\",\n          \"The Final Exit\"\n        ],\n        \"semantic_type\": \"\",\n        \"description\": \"\"\n      }\n    },\n    {\n      \"column\": \"Year\",\n      \"properties\": {\n        \"dtype\": \"category\",\n        \"num_unique_values\": 90,\n        \"samples\": [\n          \"(1999)\",\n          \"(2001)\",\n          \"(1941)\"\n        ],\n        \"semantic_type\": \"\",\n        \"description\": \"\"\n      }\n    },\n    {\n      \"column\": \"Duration\",\n      \"properties\": {\n        \"dtype\": \"category\",\n        \"num_unique_values\": 138,\n        \"samples\": [\n          \"89 min\",\n          \"177 min\",\n          \"122 min\"\n        ],\n        \"semantic_type\": \"\",\n        \"description\": \"\"\n      }\n    },\n    {\n      \"column\": \"Genre\",\n      \"properties\": {\n        \"dtype\": \"category\",\n        \"num_unique_values\": 20,\n        \"samples\": [\n          \"Drama\",\n          \"War\",\n          \"Crime\"\n        ],\n        \"semantic_type\": \"\",\n        \"description\": \"\"\n      }\n    },\n    {\n      \"column\": \"Rating\",\n      \"properties\": {\n        \"dtype\": \"number\",\n        \"std\": 1.4160269589387546,\n        \"min\": 1.6,\n        \"max\": 9.4,\n        \"num_unique_values\": 76,\n        \"samples\": [\n          5.6,\n          5.4,\n          6.9\n        ],\n        \"semantic_type\": \"\",\n        \"description\": \"\"\n      }\n    },\n    {\n      \"column\": \"Votes\",\n      \"properties\": {\n        \"dtype\": \"category\",\n        \"num_unique_values\": 453,\n        \"samples\": [\n          \"2,633\",\n          \"281\",\n          \"520\"\n        ],\n        \"semantic_type\": \"\",\n        \"description\": \"\"\n      }\n    },\n    {\n      \"column\": \"Director\",\n      \"properties\": {\n        \"dtype\": \"string\",\n        \"num_unique_values\": 1134,\n        \"samples\": [\n          \"Rati Agnihotri\",\n          \"Nikhil Mahar\",\n          \"R.P. Swamy\"\n        ],\n        \"semantic_type\": \"\",\n        \"description\": \"\"\n      }\n    },\n    {\n      \"column\": \"Actor 1\",\n      \"properties\": {\n        \"dtype\": \"string\",\n        \"num_unique_values\": 1023,\n        \"samples\": [\n          \"Shakila\",\n          \"Abhilasha\",\n          \"Sumeet Vyas\"\n        ],\n        \"semantic_type\": \"\",\n        \"description\": \"\"\n      }\n    },\n    {\n      \"column\": \"Actor 2\",\n      \"properties\": {\n        \"dtype\": \"string\",\n        \"num_unique_values\": 1150,\n        \"samples\": [\n          \"M.V. Vasudeva Rao\",\n          \"Nawab Shah\",\n          \"Triyug Mantri\"\n        ],\n        \"semantic_type\": \"\",\n        \"description\": \"\"\n      }\n    },\n    {\n      \"column\": \"Actor 3\",\n      \"properties\": {\n        \"dtype\": \"string\",\n        \"num_unique_values\": 1178,\n        \"samples\": [\n          \"Rishi Kapoor\",\n          \"Nalneesh Neel\",\n          \"Dharmendra\"\n        ],\n        \"semantic_type\": \"\",\n        \"description\": \"\"\n      }\n    }\n  ]\n}"
            }
          },
          "metadata": {},
          "execution_count": 22
        }
      ]
    },
    {
      "cell_type": "code",
      "source": [
        "len(data)"
      ],
      "metadata": {
        "colab": {
          "base_uri": "https://localhost:8080/"
        },
        "id": "OCw9C2_wPXyf",
        "outputId": "6f757486-aecc-4467-c319-3da95f3dc1f2"
      },
      "execution_count": null,
      "outputs": [
        {
          "output_type": "execute_result",
          "data": {
            "text/plain": [
              "1564"
            ]
          },
          "metadata": {},
          "execution_count": 23
        }
      ]
    },
    {
      "cell_type": "markdown",
      "source": [
        "## Some Observations we can make from above:\n",
        "* The year column has the year value enclosed within the brackets. So we need to remove the brackets and convert them to integer data.\n",
        "* The Duration column has the duration with min written alongside.\n",
        "* The votes column has the votes mentioned in numbered but it has comma present in it.\n",
        "\n",
        "Hence we will remove all these issues and convert them to numeric data"
      ],
      "metadata": {
        "id": "L7w64iXX0-Zu"
      }
    },
    {
      "cell_type": "code",
      "source": [
        "data['Year'] = data['Year'].str.replace(r'[()]', '', regex=True).astype(int)\n",
        "data['Duration'] = data['Duration'].str.replace(r' min', '', regex=True).astype(int)\n",
        "data['Votes'] = data['Votes'].str.replace(',', '').astype(int)"
      ],
      "metadata": {
        "id": "9GoUTrijyeCg"
      },
      "execution_count": null,
      "outputs": []
    },
    {
      "cell_type": "code",
      "source": [
        "data.info()"
      ],
      "metadata": {
        "colab": {
          "base_uri": "https://localhost:8080/"
        },
        "id": "Z5PA-hD7-F3P",
        "outputId": "c6f3d3dd-1c83-4b21-aecd-7a8ef060ed44"
      },
      "execution_count": null,
      "outputs": [
        {
          "output_type": "stream",
          "name": "stdout",
          "text": [
            "<class 'pandas.core.frame.DataFrame'>\n",
            "Index: 1564 entries, 1 to 15493\n",
            "Data columns (total 10 columns):\n",
            " #   Column    Non-Null Count  Dtype  \n",
            "---  ------    --------------  -----  \n",
            " 0   Name      1564 non-null   object \n",
            " 1   Year      1564 non-null   int64  \n",
            " 2   Duration  1564 non-null   int64  \n",
            " 3   Genre     1564 non-null   object \n",
            " 4   Rating    1564 non-null   float64\n",
            " 5   Votes     1564 non-null   int64  \n",
            " 6   Director  1564 non-null   object \n",
            " 7   Actor 1   1564 non-null   object \n",
            " 8   Actor 2   1564 non-null   object \n",
            " 9   Actor 3   1564 non-null   object \n",
            "dtypes: float64(1), int64(3), object(6)\n",
            "memory usage: 134.4+ KB\n"
          ]
        }
      ]
    },
    {
      "cell_type": "markdown",
      "source": [
        "## Sort the data by year"
      ],
      "metadata": {
        "id": "KtzQ5_wfKGrP"
      }
    },
    {
      "cell_type": "code",
      "source": [
        "data.sort_values(by=[\"Year\"], inplace=True, ascending=True)\n",
        "data.Year.head(20)"
      ],
      "metadata": {
        "colab": {
          "base_uri": "https://localhost:8080/"
        },
        "id": "pLTW-eeV-VYs",
        "outputId": "5dc2ad3c-55cf-49d9-a098-1f68329fd70c"
      },
      "execution_count": null,
      "outputs": [
        {
          "output_type": "execute_result",
          "data": {
            "text/plain": [
              "4171     1931\n",
              "9035     1932\n",
              "11138    1933\n",
              "2843     1934\n",
              "2232     1935\n",
              "2862     1935\n",
              "4021     1935\n",
              "9378     1935\n",
              "3780     1935\n",
              "6673     1935\n",
              "6087     1935\n",
              "894      1936\n",
              "6542     1936\n",
              "12471    1936\n",
              "11603    1936\n",
              "6674     1936\n",
              "9368     1936\n",
              "4893     1937\n",
              "4246     1937\n",
              "12430    1937\n",
              "Name: Year, dtype: int64"
            ]
          },
          "metadata": {},
          "execution_count": 26
        }
      ]
    },
    {
      "cell_type": "markdown",
      "source": [
        "## Let's visualize some data"
      ],
      "metadata": {
        "id": "-vzmUTUyNW_Q"
      }
    },
    {
      "cell_type": "code",
      "source": [
        "def plot_histogram(X, nbins, Title_plot, titleX, titleY):\n",
        "  plot_data = px.histogram(data,\n",
        "                           x = X,\n",
        "                           histnorm='probability density',\n",
        "                           nbins = nbins,\n",
        "                           color_discrete_sequence = colors)\n",
        "\n",
        "  plot_data.update_traces(selector=dict(type='histogram'))\n",
        "\n",
        "  plot_data.update_layout(title=Title_plot,\n",
        "                          title_x=0.5,\n",
        "                          title_font = dict(size=20),\n",
        "                          xaxis_title = titleX,\n",
        "                          yaxis_title = titleY,\n",
        "                          bargap=0.02,\n",
        "                          plot_bgcolor = 'white')\n",
        "\n",
        "  plot_data.show()"
      ],
      "metadata": {
        "id": "dg7YLh63KW4T"
      },
      "execution_count": null,
      "outputs": []
    },
    {
      "cell_type": "code",
      "source": [
        "plot_histogram(\"Year\", 25, \"Distribution of Year\", \"Year\", \"Probability Desnsity\")"
      ],
      "metadata": {
        "colab": {
          "base_uri": "https://localhost:8080/",
          "height": 542
        },
        "id": "3M93gIoYOT1K",
        "outputId": "95c920ad-80b2-4524-a712-16dfd0fc7f49"
      },
      "execution_count": null,
      "outputs": [
        {
          "output_type": "display_data",
          "data": {
            "text/html": [
              "<html>\n",
              "<head><meta charset=\"utf-8\" /></head>\n",
              "<body>\n",
              "    <div>            <script src=\"https://cdnjs.cloudflare.com/ajax/libs/mathjax/2.7.5/MathJax.js?config=TeX-AMS-MML_SVG\"></script><script type=\"text/javascript\">if (window.MathJax && window.MathJax.Hub && window.MathJax.Hub.Config) {window.MathJax.Hub.Config({SVG: {font: \"STIX-Web\"}});}</script>                <script type=\"text/javascript\">window.PlotlyConfig = {MathJaxConfig: 'local'};</script>\n",
              "        <script charset=\"utf-8\" src=\"https://cdn.plot.ly/plotly-2.24.1.min.js\"></script>                <div id=\"1db12161-72c2-460d-88d3-2c1d94a1ba49\" class=\"plotly-graph-div\" style=\"height:525px; width:100%;\"></div>            <script type=\"text/javascript\">                                    window.PLOTLYENV=window.PLOTLYENV || {};                                    if (document.getElementById(\"1db12161-72c2-460d-88d3-2c1d94a1ba49\")) {                    Plotly.newPlot(                        \"1db12161-72c2-460d-88d3-2c1d94a1ba49\",                        [{\"alignmentgroup\":\"True\",\"bingroup\":\"x\",\"histnorm\":\"probability density\",\"hovertemplate\":\"Year=%{x}\\u003cbr\\u003eprobability density=%{y}\\u003cextra\\u003e\\u003c\\u002fextra\\u003e\",\"legendgroup\":\"\",\"marker\":{\"color\":\"#008B8B\",\"pattern\":{\"shape\":\"\"}},\"name\":\"\",\"nbinsx\":25,\"offsetgroup\":\"\",\"orientation\":\"v\",\"showlegend\":false,\"x\":[1931,1932,1933,1934,1935,1935,1935,1935,1935,1935,1935,1936,1936,1936,1936,1936,1936,1937,1937,1937,1937,1937,1937,1938,1938,1938,1940,1940,1940,1941,1941,1941,1942,1942,1943,1943,1943,1943,1943,1944,1944,1945,1946,1946,1946,1947,1947,1947,1947,1948,1948,1948,1949,1949,1949,1950,1950,1950,1950,1951,1951,1951,1951,1951,1952,1952,1953,1953,1953,1953,1953,1953,1953,1954,1954,1954,1954,1955,1955,1955,1955,1956,1956,1956,1956,1956,1956,1956,1957,1957,1957,1957,1957,1957,1958,1958,1958,1958,1958,1958,1959,1959,1959,1959,1959,1959,1959,1959,1959,1959,1959,1960,1960,1960,1960,1960,1961,1961,1961,1961,1962,1962,1962,1963,1963,1963,1963,1963,1964,1964,1964,1964,1964,1964,1965,1965,1965,1965,1965,1965,1966,1966,1966,1966,1966,1966,1966,1967,1967,1967,1967,1967,1968,1968,1968,1968,1968,1968,1968,1968,1968,1968,1968,1969,1969,1969,1969,1969,1969,1969,1969,1969,1969,1969,1969,1970,1970,1970,1970,1970,1970,1970,1970,1970,1970,1971,1971,1971,1971,1971,1971,1971,1971,1971,1971,1971,1971,1971,1971,1972,1972,1972,1972,1972,1972,1972,1972,1972,1972,1972,1972,1972,1973,1973,1973,1973,1973,1973,1973,1973,1974,1974,1974,1974,1974,1974,1974,1974,1974,1974,1974,1974,1975,1975,1975,1975,1975,1975,1975,1975,1975,1975,1975,1976,1976,1976,1976,1976,1976,1976,1976,1976,1976,1977,1977,1977,1977,1977,1977,1977,1977,1977,1977,1977,1977,1977,1977,1977,1978,1978,1978,1978,1978,1978,1978,1978,1978,1978,1978,1978,1978,1978,1979,1979,1979,1979,1979,1979,1980,1980,1980,1980,1980,1980,1980,1980,1980,1980,1980,1980,1980,1980,1980,1980,1980,1980,1981,1981,1981,1981,1981,1981,1981,1981,1981,1981,1982,1982,1982,1982,1982,1982,1982,1982,1982,1982,1982,1982,1982,1982,1982,1982,1982,1983,1983,1983,1983,1983,1983,1983,1983,1983,1983,1983,1983,1983,1983,1983,1983,1984,1984,1984,1984,1984,1984,1984,1984,1984,1984,1984,1984,1984,1984,1984,1984,1984,1984,1984,1984,1984,1984,1984,1984,1985,1985,1985,1985,1985,1985,1985,1985,1985,1985,1985,1985,1985,1985,1985,1985,1985,1985,1985,1985,1985,1985,1985,1985,1985,1985,1986,1986,1986,1986,1986,1986,1986,1986,1986,1986,1986,1986,1986,1986,1986,1986,1986,1986,1986,1986,1986,1986,1986,1986,1987,1987,1987,1987,1987,1987,1987,1987,1987,1987,1987,1987,1987,1988,1988,1988,1988,1988,1988,1988,1988,1988,1988,1988,1988,1988,1988,1988,1988,1988,1988,1988,1988,1988,1988,1988,1989,1989,1989,1989,1989,1989,1989,1989,1989,1989,1989,1989,1989,1989,1989,1989,1989,1989,1989,1989,1989,1989,1989,1990,1990,1990,1990,1990,1990,1990,1990,1990,1990,1990,1990,1990,1990,1990,1990,1990,1990,1990,1990,1990,1990,1991,1991,1991,1991,1991,1991,1991,1991,1991,1991,1991,1991,1991,1991,1991,1991,1991,1991,1991,1991,1991,1992,1992,1992,1992,1992,1992,1992,1992,1992,1992,1992,1992,1992,1992,1992,1992,1992,1992,1992,1992,1992,1992,1993,1993,1993,1993,1993,1993,1993,1993,1993,1993,1993,1993,1993,1993,1993,1993,1994,1994,1994,1994,1994,1994,1994,1994,1994,1994,1994,1994,1994,1994,1995,1995,1995,1995,1995,1995,1995,1995,1995,1995,1995,1995,1996,1996,1996,1996,1996,1996,1996,1996,1996,1996,1996,1996,1996,1997,1997,1997,1997,1997,1997,1997,1997,1997,1997,1997,1997,1997,1997,1997,1997,1997,1997,1997,1997,1997,1998,1998,1998,1998,1998,1998,1998,1998,1998,1998,1998,1998,1998,1998,1998,1998,1998,1998,1998,1999,1999,1999,1999,1999,1999,1999,1999,1999,1999,1999,1999,1999,1999,1999,1999,1999,1999,1999,2000,2000,2000,2000,2000,2000,2000,2000,2000,2000,2000,2000,2000,2000,2000,2000,2000,2000,2000,2001,2001,2001,2001,2001,2001,2001,2001,2001,2001,2001,2001,2001,2001,2001,2001,2001,2001,2001,2001,2001,2001,2001,2002,2002,2002,2002,2002,2002,2002,2002,2002,2002,2002,2002,2002,2002,2002,2002,2003,2003,2003,2003,2003,2003,2003,2003,2003,2003,2003,2003,2003,2003,2003,2003,2003,2003,2003,2003,2003,2003,2003,2003,2003,2003,2003,2003,2003,2003,2003,2003,2003,2004,2004,2004,2004,2004,2004,2004,2004,2004,2004,2004,2004,2004,2004,2004,2004,2004,2004,2004,2004,2004,2004,2004,2004,2004,2004,2004,2004,2005,2005,2005,2005,2005,2005,2005,2005,2005,2005,2005,2005,2005,2005,2005,2005,2005,2005,2005,2005,2005,2005,2005,2005,2005,2005,2005,2005,2005,2005,2005,2005,2005,2005,2005,2005,2005,2005,2005,2005,2006,2006,2006,2006,2006,2006,2006,2006,2006,2006,2006,2006,2006,2006,2006,2006,2006,2006,2006,2006,2006,2006,2006,2006,2006,2006,2006,2006,2006,2006,2007,2007,2007,2007,2007,2007,2007,2007,2007,2007,2007,2007,2007,2007,2007,2007,2007,2007,2007,2007,2007,2007,2007,2007,2008,2008,2008,2008,2008,2008,2008,2008,2008,2008,2008,2008,2008,2009,2009,2009,2009,2009,2009,2009,2009,2009,2009,2009,2009,2009,2009,2009,2009,2009,2009,2009,2009,2009,2010,2010,2010,2010,2010,2010,2010,2010,2010,2010,2010,2010,2010,2010,2010,2010,2010,2010,2011,2011,2011,2011,2011,2011,2011,2011,2011,2011,2011,2011,2011,2011,2011,2011,2012,2012,2012,2012,2012,2012,2012,2012,2012,2012,2012,2012,2012,2012,2012,2012,2012,2012,2012,2012,2012,2012,2012,2012,2012,2012,2012,2012,2012,2012,2012,2012,2012,2012,2012,2012,2012,2012,2012,2012,2012,2012,2012,2012,2012,2012,2012,2013,2013,2013,2013,2013,2013,2013,2013,2013,2013,2013,2013,2013,2013,2013,2013,2013,2013,2013,2013,2013,2013,2013,2013,2013,2013,2013,2013,2013,2013,2013,2013,2013,2013,2013,2013,2013,2013,2014,2014,2014,2014,2014,2014,2014,2014,2014,2014,2014,2014,2014,2014,2014,2014,2014,2014,2014,2014,2014,2014,2014,2014,2014,2014,2014,2014,2014,2014,2014,2014,2014,2014,2014,2014,2014,2014,2014,2014,2014,2014,2014,2014,2014,2014,2014,2014,2014,2014,2014,2015,2015,2015,2015,2015,2015,2015,2015,2015,2015,2015,2015,2015,2015,2015,2015,2015,2015,2015,2015,2015,2015,2015,2015,2015,2015,2015,2015,2015,2015,2015,2015,2015,2015,2015,2015,2015,2015,2015,2015,2015,2015,2015,2015,2015,2015,2015,2015,2015,2015,2015,2015,2015,2015,2015,2015,2015,2015,2015,2015,2015,2015,2016,2016,2016,2016,2016,2016,2016,2016,2016,2016,2016,2016,2016,2016,2016,2016,2016,2016,2016,2016,2016,2016,2016,2016,2016,2016,2016,2016,2016,2016,2016,2016,2016,2016,2016,2016,2016,2016,2016,2016,2016,2016,2016,2016,2016,2016,2016,2016,2016,2016,2016,2016,2016,2016,2016,2016,2016,2016,2016,2016,2017,2017,2017,2017,2017,2017,2017,2017,2017,2017,2017,2017,2017,2017,2017,2017,2017,2017,2017,2017,2017,2017,2017,2017,2017,2017,2017,2017,2017,2017,2017,2017,2017,2017,2017,2017,2017,2017,2017,2017,2017,2017,2017,2017,2017,2017,2017,2017,2017,2017,2017,2017,2017,2017,2017,2017,2017,2017,2017,2017,2017,2017,2017,2017,2017,2017,2017,2017,2017,2017,2017,2017,2017,2017,2017,2017,2017,2017,2017,2017,2017,2017,2017,2017,2017,2017,2017,2017,2017,2017,2017,2017,2017,2017,2017,2017,2017,2017,2017,2017,2017,2017,2017,2017,2017,2017,2018,2018,2018,2018,2018,2018,2018,2018,2018,2018,2018,2018,2018,2018,2018,2018,2018,2018,2018,2018,2018,2018,2018,2018,2018,2018,2018,2018,2018,2018,2018,2018,2018,2018,2018,2018,2018,2018,2018,2018,2018,2018,2018,2018,2018,2018,2018,2018,2018,2018,2018,2018,2018,2018,2018,2018,2018,2018,2018,2018,2018,2018,2018,2018,2018,2018,2018,2018,2018,2018,2018,2018,2018,2018,2018,2018,2018,2018,2018,2018,2018,2018,2018,2018,2018,2018,2018,2018,2018,2018,2018,2019,2019,2019,2019,2019,2019,2019,2019,2019,2019,2019,2019,2019,2019,2019,2019,2019,2019,2019,2019,2019,2019,2019,2019,2019,2019,2019,2019,2019,2019,2019,2019,2019,2019,2019,2019,2019,2019,2019,2019,2019,2019,2019,2019,2019,2019,2019,2019,2019,2019,2019,2019,2019,2019,2019,2019,2019,2019,2019,2019,2019,2019,2019,2019,2019,2019,2019,2019,2019,2019,2019,2019,2019,2019,2019,2019,2019,2019,2019,2019,2019,2019,2019,2019,2019,2019,2019,2019,2019,2019,2019,2019,2019,2019,2020,2020,2020,2020,2020,2020,2020,2020,2020,2020,2020,2020,2020,2020,2020,2020,2020,2020,2020,2020,2020,2020,2020,2020,2020,2020,2020,2020,2020,2020,2020,2020,2020,2020,2020,2020,2020,2020,2020,2020,2020,2020,2020,2020,2020,2020,2020,2020,2020,2020,2021,2021,2021,2021,2021,2021,2021,2021,2021,2021,2021,2021,2021,2021,2021,2021,2021,2021,2021,2021,2021,2021,2021],\"xaxis\":\"x\",\"yaxis\":\"y\",\"type\":\"histogram\"}],                        {\"template\":{\"data\":{\"histogram2dcontour\":[{\"type\":\"histogram2dcontour\",\"colorbar\":{\"outlinewidth\":0,\"ticks\":\"\"},\"colorscale\":[[0.0,\"#0d0887\"],[0.1111111111111111,\"#46039f\"],[0.2222222222222222,\"#7201a8\"],[0.3333333333333333,\"#9c179e\"],[0.4444444444444444,\"#bd3786\"],[0.5555555555555556,\"#d8576b\"],[0.6666666666666666,\"#ed7953\"],[0.7777777777777778,\"#fb9f3a\"],[0.8888888888888888,\"#fdca26\"],[1.0,\"#f0f921\"]]}],\"choropleth\":[{\"type\":\"choropleth\",\"colorbar\":{\"outlinewidth\":0,\"ticks\":\"\"}}],\"histogram2d\":[{\"type\":\"histogram2d\",\"colorbar\":{\"outlinewidth\":0,\"ticks\":\"\"},\"colorscale\":[[0.0,\"#0d0887\"],[0.1111111111111111,\"#46039f\"],[0.2222222222222222,\"#7201a8\"],[0.3333333333333333,\"#9c179e\"],[0.4444444444444444,\"#bd3786\"],[0.5555555555555556,\"#d8576b\"],[0.6666666666666666,\"#ed7953\"],[0.7777777777777778,\"#fb9f3a\"],[0.8888888888888888,\"#fdca26\"],[1.0,\"#f0f921\"]]}],\"heatmap\":[{\"type\":\"heatmap\",\"colorbar\":{\"outlinewidth\":0,\"ticks\":\"\"},\"colorscale\":[[0.0,\"#0d0887\"],[0.1111111111111111,\"#46039f\"],[0.2222222222222222,\"#7201a8\"],[0.3333333333333333,\"#9c179e\"],[0.4444444444444444,\"#bd3786\"],[0.5555555555555556,\"#d8576b\"],[0.6666666666666666,\"#ed7953\"],[0.7777777777777778,\"#fb9f3a\"],[0.8888888888888888,\"#fdca26\"],[1.0,\"#f0f921\"]]}],\"heatmapgl\":[{\"type\":\"heatmapgl\",\"colorbar\":{\"outlinewidth\":0,\"ticks\":\"\"},\"colorscale\":[[0.0,\"#0d0887\"],[0.1111111111111111,\"#46039f\"],[0.2222222222222222,\"#7201a8\"],[0.3333333333333333,\"#9c179e\"],[0.4444444444444444,\"#bd3786\"],[0.5555555555555556,\"#d8576b\"],[0.6666666666666666,\"#ed7953\"],[0.7777777777777778,\"#fb9f3a\"],[0.8888888888888888,\"#fdca26\"],[1.0,\"#f0f921\"]]}],\"contourcarpet\":[{\"type\":\"contourcarpet\",\"colorbar\":{\"outlinewidth\":0,\"ticks\":\"\"}}],\"contour\":[{\"type\":\"contour\",\"colorbar\":{\"outlinewidth\":0,\"ticks\":\"\"},\"colorscale\":[[0.0,\"#0d0887\"],[0.1111111111111111,\"#46039f\"],[0.2222222222222222,\"#7201a8\"],[0.3333333333333333,\"#9c179e\"],[0.4444444444444444,\"#bd3786\"],[0.5555555555555556,\"#d8576b\"],[0.6666666666666666,\"#ed7953\"],[0.7777777777777778,\"#fb9f3a\"],[0.8888888888888888,\"#fdca26\"],[1.0,\"#f0f921\"]]}],\"surface\":[{\"type\":\"surface\",\"colorbar\":{\"outlinewidth\":0,\"ticks\":\"\"},\"colorscale\":[[0.0,\"#0d0887\"],[0.1111111111111111,\"#46039f\"],[0.2222222222222222,\"#7201a8\"],[0.3333333333333333,\"#9c179e\"],[0.4444444444444444,\"#bd3786\"],[0.5555555555555556,\"#d8576b\"],[0.6666666666666666,\"#ed7953\"],[0.7777777777777778,\"#fb9f3a\"],[0.8888888888888888,\"#fdca26\"],[1.0,\"#f0f921\"]]}],\"mesh3d\":[{\"type\":\"mesh3d\",\"colorbar\":{\"outlinewidth\":0,\"ticks\":\"\"}}],\"scatter\":[{\"fillpattern\":{\"fillmode\":\"overlay\",\"size\":10,\"solidity\":0.2},\"type\":\"scatter\"}],\"parcoords\":[{\"type\":\"parcoords\",\"line\":{\"colorbar\":{\"outlinewidth\":0,\"ticks\":\"\"}}}],\"scatterpolargl\":[{\"type\":\"scatterpolargl\",\"marker\":{\"colorbar\":{\"outlinewidth\":0,\"ticks\":\"\"}}}],\"bar\":[{\"error_x\":{\"color\":\"#2a3f5f\"},\"error_y\":{\"color\":\"#2a3f5f\"},\"marker\":{\"line\":{\"color\":\"#E5ECF6\",\"width\":0.5},\"pattern\":{\"fillmode\":\"overlay\",\"size\":10,\"solidity\":0.2}},\"type\":\"bar\"}],\"scattergeo\":[{\"type\":\"scattergeo\",\"marker\":{\"colorbar\":{\"outlinewidth\":0,\"ticks\":\"\"}}}],\"scatterpolar\":[{\"type\":\"scatterpolar\",\"marker\":{\"colorbar\":{\"outlinewidth\":0,\"ticks\":\"\"}}}],\"histogram\":[{\"marker\":{\"pattern\":{\"fillmode\":\"overlay\",\"size\":10,\"solidity\":0.2}},\"type\":\"histogram\"}],\"scattergl\":[{\"type\":\"scattergl\",\"marker\":{\"colorbar\":{\"outlinewidth\":0,\"ticks\":\"\"}}}],\"scatter3d\":[{\"type\":\"scatter3d\",\"line\":{\"colorbar\":{\"outlinewidth\":0,\"ticks\":\"\"}},\"marker\":{\"colorbar\":{\"outlinewidth\":0,\"ticks\":\"\"}}}],\"scattermapbox\":[{\"type\":\"scattermapbox\",\"marker\":{\"colorbar\":{\"outlinewidth\":0,\"ticks\":\"\"}}}],\"scatterternary\":[{\"type\":\"scatterternary\",\"marker\":{\"colorbar\":{\"outlinewidth\":0,\"ticks\":\"\"}}}],\"scattercarpet\":[{\"type\":\"scattercarpet\",\"marker\":{\"colorbar\":{\"outlinewidth\":0,\"ticks\":\"\"}}}],\"carpet\":[{\"aaxis\":{\"endlinecolor\":\"#2a3f5f\",\"gridcolor\":\"white\",\"linecolor\":\"white\",\"minorgridcolor\":\"white\",\"startlinecolor\":\"#2a3f5f\"},\"baxis\":{\"endlinecolor\":\"#2a3f5f\",\"gridcolor\":\"white\",\"linecolor\":\"white\",\"minorgridcolor\":\"white\",\"startlinecolor\":\"#2a3f5f\"},\"type\":\"carpet\"}],\"table\":[{\"cells\":{\"fill\":{\"color\":\"#EBF0F8\"},\"line\":{\"color\":\"white\"}},\"header\":{\"fill\":{\"color\":\"#C8D4E3\"},\"line\":{\"color\":\"white\"}},\"type\":\"table\"}],\"barpolar\":[{\"marker\":{\"line\":{\"color\":\"#E5ECF6\",\"width\":0.5},\"pattern\":{\"fillmode\":\"overlay\",\"size\":10,\"solidity\":0.2}},\"type\":\"barpolar\"}],\"pie\":[{\"automargin\":true,\"type\":\"pie\"}]},\"layout\":{\"autotypenumbers\":\"strict\",\"colorway\":[\"#636efa\",\"#EF553B\",\"#00cc96\",\"#ab63fa\",\"#FFA15A\",\"#19d3f3\",\"#FF6692\",\"#B6E880\",\"#FF97FF\",\"#FECB52\"],\"font\":{\"color\":\"#2a3f5f\"},\"hovermode\":\"closest\",\"hoverlabel\":{\"align\":\"left\"},\"paper_bgcolor\":\"white\",\"plot_bgcolor\":\"#E5ECF6\",\"polar\":{\"bgcolor\":\"#E5ECF6\",\"angularaxis\":{\"gridcolor\":\"white\",\"linecolor\":\"white\",\"ticks\":\"\"},\"radialaxis\":{\"gridcolor\":\"white\",\"linecolor\":\"white\",\"ticks\":\"\"}},\"ternary\":{\"bgcolor\":\"#E5ECF6\",\"aaxis\":{\"gridcolor\":\"white\",\"linecolor\":\"white\",\"ticks\":\"\"},\"baxis\":{\"gridcolor\":\"white\",\"linecolor\":\"white\",\"ticks\":\"\"},\"caxis\":{\"gridcolor\":\"white\",\"linecolor\":\"white\",\"ticks\":\"\"}},\"coloraxis\":{\"colorbar\":{\"outlinewidth\":0,\"ticks\":\"\"}},\"colorscale\":{\"sequential\":[[0.0,\"#0d0887\"],[0.1111111111111111,\"#46039f\"],[0.2222222222222222,\"#7201a8\"],[0.3333333333333333,\"#9c179e\"],[0.4444444444444444,\"#bd3786\"],[0.5555555555555556,\"#d8576b\"],[0.6666666666666666,\"#ed7953\"],[0.7777777777777778,\"#fb9f3a\"],[0.8888888888888888,\"#fdca26\"],[1.0,\"#f0f921\"]],\"sequentialminus\":[[0.0,\"#0d0887\"],[0.1111111111111111,\"#46039f\"],[0.2222222222222222,\"#7201a8\"],[0.3333333333333333,\"#9c179e\"],[0.4444444444444444,\"#bd3786\"],[0.5555555555555556,\"#d8576b\"],[0.6666666666666666,\"#ed7953\"],[0.7777777777777778,\"#fb9f3a\"],[0.8888888888888888,\"#fdca26\"],[1.0,\"#f0f921\"]],\"diverging\":[[0,\"#8e0152\"],[0.1,\"#c51b7d\"],[0.2,\"#de77ae\"],[0.3,\"#f1b6da\"],[0.4,\"#fde0ef\"],[0.5,\"#f7f7f7\"],[0.6,\"#e6f5d0\"],[0.7,\"#b8e186\"],[0.8,\"#7fbc41\"],[0.9,\"#4d9221\"],[1,\"#276419\"]]},\"xaxis\":{\"gridcolor\":\"white\",\"linecolor\":\"white\",\"ticks\":\"\",\"title\":{\"standoff\":15},\"zerolinecolor\":\"white\",\"automargin\":true,\"zerolinewidth\":2},\"yaxis\":{\"gridcolor\":\"white\",\"linecolor\":\"white\",\"ticks\":\"\",\"title\":{\"standoff\":15},\"zerolinecolor\":\"white\",\"automargin\":true,\"zerolinewidth\":2},\"scene\":{\"xaxis\":{\"backgroundcolor\":\"#E5ECF6\",\"gridcolor\":\"white\",\"linecolor\":\"white\",\"showbackground\":true,\"ticks\":\"\",\"zerolinecolor\":\"white\",\"gridwidth\":2},\"yaxis\":{\"backgroundcolor\":\"#E5ECF6\",\"gridcolor\":\"white\",\"linecolor\":\"white\",\"showbackground\":true,\"ticks\":\"\",\"zerolinecolor\":\"white\",\"gridwidth\":2},\"zaxis\":{\"backgroundcolor\":\"#E5ECF6\",\"gridcolor\":\"white\",\"linecolor\":\"white\",\"showbackground\":true,\"ticks\":\"\",\"zerolinecolor\":\"white\",\"gridwidth\":2}},\"shapedefaults\":{\"line\":{\"color\":\"#2a3f5f\"}},\"annotationdefaults\":{\"arrowcolor\":\"#2a3f5f\",\"arrowhead\":0,\"arrowwidth\":1},\"geo\":{\"bgcolor\":\"white\",\"landcolor\":\"#E5ECF6\",\"subunitcolor\":\"white\",\"showland\":true,\"showlakes\":true,\"lakecolor\":\"white\"},\"title\":{\"x\":0.05},\"mapbox\":{\"style\":\"light\"}}},\"xaxis\":{\"anchor\":\"y\",\"domain\":[0.0,1.0],\"title\":{\"text\":\"Year\"}},\"yaxis\":{\"anchor\":\"x\",\"domain\":[0.0,1.0],\"title\":{\"text\":\"Probability Desnsity\"}},\"legend\":{\"tracegroupgap\":0},\"margin\":{\"t\":60},\"barmode\":\"relative\",\"title\":{\"text\":\"Distribution of Year\",\"x\":0.5,\"font\":{\"size\":20}},\"bargap\":0.02,\"plot_bgcolor\":\"white\"},                        {\"responsive\": true}                    ).then(function(){\n",
              "                            \n",
              "var gd = document.getElementById('1db12161-72c2-460d-88d3-2c1d94a1ba49');\n",
              "var x = new MutationObserver(function (mutations, observer) {{\n",
              "        var display = window.getComputedStyle(gd).display;\n",
              "        if (!display || display === 'none') {{\n",
              "            console.log([gd, 'removed!']);\n",
              "            Plotly.purge(gd);\n",
              "            observer.disconnect();\n",
              "        }}\n",
              "}});\n",
              "\n",
              "// Listen for the removal of the full notebook cells\n",
              "var notebookContainer = gd.closest('#notebook-container');\n",
              "if (notebookContainer) {{\n",
              "    x.observe(notebookContainer, {childList: true});\n",
              "}}\n",
              "\n",
              "// Listen for the clearing of the current output cell\n",
              "var outputEl = gd.closest('.output');\n",
              "if (outputEl) {{\n",
              "    x.observe(outputEl, {childList: true});\n",
              "}}\n",
              "\n",
              "                        })                };                            </script>        </div>\n",
              "</body>\n",
              "</html>"
            ]
          },
          "metadata": {}
        }
      ]
    },
    {
      "cell_type": "code",
      "source": [
        "plot_histogram(\"Rating\", 30, \"Distribution of Rating\", \"Rating\", \"Probability Desnsity\")"
      ],
      "metadata": {
        "colab": {
          "base_uri": "https://localhost:8080/",
          "height": 542
        },
        "id": "lNjrk4uLOpFU",
        "outputId": "77835746-17ee-4971-b33e-925ad0d4cfbc"
      },
      "execution_count": null,
      "outputs": [
        {
          "output_type": "display_data",
          "data": {
            "text/html": [
              "<html>\n",
              "<head><meta charset=\"utf-8\" /></head>\n",
              "<body>\n",
              "    <div>            <script src=\"https://cdnjs.cloudflare.com/ajax/libs/mathjax/2.7.5/MathJax.js?config=TeX-AMS-MML_SVG\"></script><script type=\"text/javascript\">if (window.MathJax && window.MathJax.Hub && window.MathJax.Hub.Config) {window.MathJax.Hub.Config({SVG: {font: \"STIX-Web\"}});}</script>                <script type=\"text/javascript\">window.PlotlyConfig = {MathJaxConfig: 'local'};</script>\n",
              "        <script charset=\"utf-8\" src=\"https://cdn.plot.ly/plotly-2.24.1.min.js\"></script>                <div id=\"104577d1-3694-42bb-8218-0025b92c541e\" class=\"plotly-graph-div\" style=\"height:525px; width:100%;\"></div>            <script type=\"text/javascript\">                                    window.PLOTLYENV=window.PLOTLYENV || {};                                    if (document.getElementById(\"104577d1-3694-42bb-8218-0025b92c541e\")) {                    Plotly.newPlot(                        \"104577d1-3694-42bb-8218-0025b92c541e\",                        [{\"alignmentgroup\":\"True\",\"bingroup\":\"x\",\"histnorm\":\"probability density\",\"hovertemplate\":\"Rating=%{x}\\u003cbr\\u003eprobability density=%{y}\\u003cextra\\u003e\\u003c\\u002fextra\\u003e\",\"legendgroup\":\"\",\"marker\":{\"color\":\"#008B8B\",\"pattern\":{\"shape\":\"\"}},\"name\":\"\",\"nbinsx\":30,\"offsetgroup\":\"\",\"orientation\":\"v\",\"showlegend\":false,\"x\":[5.3,5.8,6.5,6.6,6.2,4.1,5.4,6.3,5.7,6.2,7.4,6.1,5.9,6.4,3.1,7.3,6.1,6.7,6.9,6.7,6.3,7.0,3.4,6.4,6.3,5.5,7.1,6.5,6.5,6.0,7.2,6.4,7.2,5.8,3.3,7.5,5.0,7.4,7.7,6.8,7.8,6.5,6.8,7.0,7.1,6.6,6.7,4.2,6.2,6.9,6.7,7.4,7.1,6.9,6.6,6.3,7.4,6.4,6.0,6.5,6.1,5.6,7.2,5.7,7.4,6.0,7.0,6.7,6.5,8.4,6.3,7.0,5.9,7.9,6.2,5.4,7.3,6.8,8.6,7.3,5.0,6.4,6.1,5.8,5.8,6.5,6.9,5.1,7.5,6.1,6.4,7.6,7.5,7.3,7.0,4.7,7.2,7.3,6.7,6.4,6.6,6.7,6.7,5.0,4.9,7.5,7.6,8.0,9.0,6.1,6.8,5.2,7.5,6.8,5.3,6.3,6.5,7.0,7.8,7.3,6.1,5.8,5.4,6.5,6.8,7.0,7.0,7.5,6.0,2.8,7.0,6.5,5.3,6.8,6.8,6.0,4.9,7.5,5.5,6.6,6.4,6.2,5.9,6.9,6.9,3.8,5.7,6.7,7.9,6.6,7.2,7.7,7.2,6.8,6.0,7.3,6.5,5.6,5.1,7.1,6.1,6.6,7.1,7.2,8.2,5.8,4.8,4.8,5.6,6.4,6.3,6.9,6.6,6.9,6.8,6.9,6.1,6.9,6.2,7.5,8.0,3.8,6.2,5.6,8.7,7.7,7.2,6.7,6.1,6.8,5.9,7.1,6.5,7.4,6.6,6.7,6.5,6.3,7.1,8.6,7.2,5.9,6.4,7.7,6.4,6.7,6.3,5.1,7.9,6.6,6.1,6.9,6.9,7.1,6.8,6.8,5.8,6.1,7.3,5.6,7.4,7.4,8.1,5.3,6.2,8.0,7.7,4.2,7.1,7.3,6.9,6.7,8.0,6.8,7.4,6.4,6.5,6.7,5.9,6.3,7.2,5.0,4.5,5.8,6.9,7.7,6.3,6.8,7.7,6.8,5.7,5.8,6.5,5.5,5.9,5.8,7.6,6.6,7.0,7.4,6.6,6.3,7.0,7.7,3.3,7.4,6.7,5.1,6.1,7.0,6.6,6.9,5.9,7.1,6.7,7.1,5.7,4.7,7.4,5.8,6.5,6.2,6.5,6.7,6.0,4.5,6.7,7.6,6.0,5.8,4.4,6.4,5.5,5.6,8.1,5.7,6.7,7.2,7.3,6.5,6.4,5.9,4.2,6.3,7.1,5.8,7.7,7.2,5.9,6.6,4.1,6.5,4.7,5.2,5.9,6.8,7.0,6.1,3.4,6.4,7.4,7.2,5.0,7.5,7.0,7.1,6.4,5.5,6.7,6.6,7.3,5.1,6.1,6.9,4.6,7.1,5.7,4.8,5.5,6.0,6.7,5.3,8.1,5.9,6.4,4.8,6.4,7.1,7.2,5.7,5.9,8.3,3.7,7.2,6.8,5.0,5.9,5.8,5.5,6.1,7.1,6.6,6.4,7.1,5.2,7.6,7.2,5.8,6.8,6.9,8.2,5.4,6.5,6.1,6.6,7.2,6.3,6.7,6.3,7.1,7.1,8.5,6.1,7.0,5.6,4.9,4.5,4.4,4.7,6.7,6.6,6.0,6.0,4.6,3.8,5.4,6.6,6.0,7.8,6.1,4.3,7.1,5.3,4.1,4.7,6.2,6.5,7.2,7.1,6.2,6.7,6.9,7.2,6.4,5.1,6.5,5.8,5.1,6.7,3.9,6.9,6.7,7.0,7.3,5.8,5.1,6.9,5.0,5.3,5.5,4.6,5.6,5.1,7.6,7.5,5.6,5.4,3.9,5.0,6.6,7.8,7.0,6.4,4.8,7.0,6.7,6.9,8.2,7.1,5.6,5.8,4.9,4.2,6.7,7.3,5.1,6.4,3.4,5.0,4.6,5.0,4.8,5.2,4.1,5.6,5.9,4.3,4.5,3.3,5.2,4.1,7.7,6.3,6.0,5.7,7.2,5.1,7.2,5.8,6.9,7.2,7.1,6.7,4.8,7.1,6.0,5.6,6.6,3.6,4.2,5.3,4.9,4.7,5.2,5.9,4.8,7.5,5.8,3.3,6.1,4.4,5.2,5.7,5.4,5.5,4.4,7.2,4.8,4.7,5.5,4.8,5.5,6.7,7.0,7.0,4.4,3.9,4.1,6.2,5.1,5.8,5.5,2.8,3.8,4.4,4.9,7.1,4.4,7.9,4.8,3.3,5.5,4.3,5.1,5.8,3.8,4.8,3.4,5.9,4.1,6.9,6.2,4.6,6.3,3.4,7.5,6.1,4.8,4.1,5.0,4.5,5.6,4.7,7.2,5.7,4.4,3.8,4.4,5.8,5.2,3.4,6.0,5.7,5.7,2.9,6.2,7.3,7.7,4.4,6.5,5.7,4.9,4.2,4.0,4.1,6.7,4.4,5.9,7.0,7.0,3.8,7.0,6.7,5.2,7.6,4.2,5.0,4.2,4.1,7.3,5.0,6.9,2.7,7.0,6.6,3.7,6.0,5.3,4.0,4.6,5.4,5.4,7.7,6.4,5.5,7.2,3.1,4.6,4.9,3.8,4.3,7.8,3.6,6.6,5.6,6.1,6.7,5.1,2.8,5.8,3.5,5.1,7.2,4.5,3.8,4.6,7.5,7.9,6.6,6.8,6.2,4.3,4.8,3.7,2.5,4.3,5.6,7.1,5.0,7.4,3.4,4.9,5.6,4.7,4.0,7.1,6.6,4.4,3.8,5.4,6.4,5.2,6.1,4.7,5.1,6.1,4.6,5.6,5.0,2.8,5.1,4.6,5.0,6.0,5.7,5.0,4.4,5.7,5.8,2.1,5.5,5.5,5.3,5.7,7.0,4.7,7.4,3.8,2.9,7.3,5.1,4.6,3.8,3.8,5.0,7.6,5.2,3.9,7.6,6.5,8.5,3.3,6.1,4.8,3.1,5.2,5.4,3.1,4.6,6.7,3.5,4.9,7.4,4.9,5.3,4.9,6.8,5.1,5.6,5.4,6.2,6.2,2.9,3.5,6.9,4.6,6.5,2.9,6.5,7.9,5.7,4.9,7.0,6.3,3.4,8.6,6.4,5.6,3.9,6.7,7.2,5.9,2.9,4.6,3.1,3.9,4.6,8.0,4.7,6.9,1.7,5.3,3.6,6.6,3.3,7.4,5.4,3.1,5.6,4.2,6.1,7.7,6.2,6.9,5.1,6.3,3.5,5.3,6.4,6.2,4.3,4.5,5.6,8.2,6.8,6.8,2.4,6.9,3.2,4.6,3.8,6.1,3.9,3.5,3.1,2.9,6.3,2.7,4.7,5.1,7.0,7.7,4.8,5.1,3.2,4.8,5.1,4.0,7.1,4.6,3.1,2.4,7.3,4.9,3.8,2.7,7.3,5.2,7.2,4.5,6.6,3.1,4.2,8.6,7.1,8.2,3.5,4.7,6.9,7.3,4.2,3.9,7.6,4.1,7.3,5.3,5.7,5.9,7.1,4.1,5.6,6.4,4.2,5.1,6.8,7.9,4.3,5.9,5.4,5.6,6.5,5.8,4.7,6.7,5.2,6.2,7.4,3.4,3.2,6.5,4.6,5.5,6.8,7.0,6.6,3.7,4.8,5.5,6.3,7.2,5.4,5.1,5.7,5.6,8.0,6.2,3.8,3.4,5.7,3.0,4.2,2.6,6.4,6.9,6.5,6.2,6.3,4.6,4.8,4.9,6.4,4.7,9.2,7.1,2.7,5.4,7.7,5.8,6.6,5.8,5.9,8.6,8.0,4.4,5.1,6.0,7.3,2.9,7.3,6.2,7.6,5.2,3.8,6.8,6.5,4.5,4.7,6.1,5.1,7.3,7.1,6.0,6.8,6.4,4.8,7.2,6.5,4.4,6.4,6.8,4.4,6.6,4.4,7.1,7.2,3.7,6.4,4.2,4.8,6.8,3.1,4.3,6.4,8.0,7.0,2.4,5.8,9.1,6.0,5.8,3.9,6.2,4.6,5.7,4.3,7.3,7.3,6.7,4.7,6.1,3.9,5.4,4.7,5.4,7.4,4.0,5.7,3.6,5.7,7.1,6.5,6.4,4.3,4.0,6.2,4.1,6.2,4.2,5.9,5.7,5.9,5.0,4.8,6.8,3.9,5.3,7.3,3.5,7.7,3.1,6.2,5.1,5.5,5.2,6.0,6.9,4.5,4.2,8.1,5.9,7.8,6.6,6.4,4.9,6.2,7.5,8.1,7.5,4.4,7.6,3.8,5.2,6.3,1.9,3.7,6.0,4.5,6.2,7.3,5.5,5.9,6.7,3.8,6.2,3.6,4.2,5.9,7.3,6.7,6.7,4.4,7.3,6.9,6.6,6.6,5.9,6.0,5.8,5.4,6.5,6.1,4.6,2.5,2.6,5.6,4.5,6.5,6.5,6.0,6.0,4.8,6.9,7.7,4.3,6.2,2.3,6.4,5.1,6.4,3.6,4.7,6.2,4.2,4.0,5.8,3.5,3.6,7.3,2.4,7.1,7.8,4.9,6.5,5.9,4.0,7.1,3.8,7.2,5.9,6.0,3.2,3.2,3.8,5.5,6.1,7.0,6.7,7.2,4.9,4.8,8.2,6.1,4.2,7.2,6.9,8.4,7.0,5.9,6.7,8.2,4.0,9.2,6.6,6.8,5.6,5.6,7.3,5.7,5.6,3.5,6.1,7.4,5.7,6.2,7.3,3.6,5.9,6.9,6.1,5.8,4.7,4.2,6.7,5.2,5.9,6.7,4.8,5.2,1.6,2.5,7.1,4.7,6.6,5.8,6.3,7.3,6.3,2.5,8.2,5.3,7.0,6.2,2.7,3.7,7.5,3.9,4.5,7.6,6.0,6.2,7.9,6.7,4.2,8.5,6.8,6.9,6.7,8.6,4.9,4.8,3.1,3.6,5.7,7.3,6.2,6.5,6.8,4.6,5.2,8.8,4.2,5.9,6.0,6.6,5.6,5.7,7.7,2.7,6.6,6.1,5.6,4.9,6.9,5.7,6.6,7.4,6.8,4.0,1.9,5.4,2.4,8.0,7.9,7.0,4.4,4.3,8.6,4.3,4.8,7.2,5.9,6.0,7.3,6.4,4.2,8.4,6.5,4.8,3.2,7.5,6.2,6.7,5.3,5.9,6.4,5.0,6.8,5.4,5.5,8.1,4.0,6.4,2.3,6.8,6.0,7.2,6.5,2.5,5.4,7.1,5.3,5.8,5.2,5.9,8.2,4.4,7.3,8.6,2.1,8.8,6.8,5.6,7.5,7.2,7.2,7.3,4.9,7.6,4.0,6.8,8.9,8.1,7.4,6.5,8.3,7.1,5.3,5.1,5.5,7.2,6.1,5.4,6.2,6.8,8.1,7.9,6.6,6.3,7.7,5.6,6.0,6.2,3.5,5.8,5.6,7.5,6.8,3.1,6.6,3.3,3.7,8.2,5.1,5.4,7.3,6.5,2.7,4.5,5.8,6.9,4.7,6.5,5.5,9.0,6.3,4.1,5.6,4.1,8.7,5.9,5.5,5.4,4.9,5.4,6.1,6.8,6.4,5.5,5.7,5.8,4.8,5.3,5.9,6.9,6.8,5.5,7.7,5.6,6.4,5.4,4.9,3.6,8.1,7.8,3.7,6.2,7.8,6.8,5.6,7.9,5.5,3.2,7.3,6.9,2.8,4.3,5.6,6.9,5.9,7.1,5.9,7.9,6.1,8.2,6.6,6.6,7.8,7.8,7.2,8.8,5.9,6.5,6.4,6.3,5.4,6.6,9.3,7.0,6.8,8.0,6.1,5.8,7.4,6.9,6.6,5.5,5.9,6.6,6.8,4.8,6.9,6.9,6.2,6.1,4.9,5.4,8.7,8.4,8.6,5.7,5.7,4.9,3.6,6.6,5.8,5.7,5.4,7.8,7.4,5.8,4.5,7.9,4.4,6.0,3.5,5.6,6.6,6.3,6.0,8.9,7.0,8.5,7.1,6.1,2.8,8.1,4.3,5.2,8.0,7.5,5.4,4.8,5.8,7.4,5.3,3.9,6.8,6.7,7.8,2.8,4.0,6.0,5.9,6.1,6.3,5.5,7.1,8.6,5.5,7.1,7.9,7.6,8.8,7.6,6.6,5.3,6.6,5.4,6.9,5.4,5.6,7.0,6.9,6.9,7.3,6.9,9.0,6.6,6.3,8.2,6.8,8.0,7.9,3.7,5.3,6.5,4.7,7.2,5.3,6.9,7.8,8.1,4.9,5.0,6.5,5.2,5.4,5.7,7.1,7.8,5.5,5.4,8.2,5.9,9.1,3.6,4.8,7.4,4.2,4.7,6.6,4.9,2.3,7.2,7.7,4.5,6.2,7.0,7.8,8.6,5.5,7.0,6.5,5.8,6.5,6.9,5.6,7.8,9.3,5.2,7.1,7.3,6.1,5.4,7.9,7.6,5.3,6.3,8.1,6.6,3.3,2.7,7.9,8.6,5.1,6.8,5.5,4.5,6.2,7.6,6.7,8.1,6.7,6.1,6.8,3.5,7.5,5.8,8.8,6.7,6.1,4.8,8.0,6.8,6.6,6.4,6.5,7.3,6.6,6.7,7.2,3.5,4.3,6.8,9.1,5.5,5.9,2.5,9.4,4.4,8.7,6.2,8.0,8.6,7.3,7.3,5.9,7.8,7.9,8.5,4.3,7.1,5.6,8.7,7.8,7.4,3.5,8.1,3.7,9.3,8.9,8.2,6.6,6.8,8.7,5.4,6.4,4.6,8.1,9.4,4.2,9.3,7.9,9.0],\"xaxis\":\"x\",\"yaxis\":\"y\",\"type\":\"histogram\"}],                        {\"template\":{\"data\":{\"histogram2dcontour\":[{\"type\":\"histogram2dcontour\",\"colorbar\":{\"outlinewidth\":0,\"ticks\":\"\"},\"colorscale\":[[0.0,\"#0d0887\"],[0.1111111111111111,\"#46039f\"],[0.2222222222222222,\"#7201a8\"],[0.3333333333333333,\"#9c179e\"],[0.4444444444444444,\"#bd3786\"],[0.5555555555555556,\"#d8576b\"],[0.6666666666666666,\"#ed7953\"],[0.7777777777777778,\"#fb9f3a\"],[0.8888888888888888,\"#fdca26\"],[1.0,\"#f0f921\"]]}],\"choropleth\":[{\"type\":\"choropleth\",\"colorbar\":{\"outlinewidth\":0,\"ticks\":\"\"}}],\"histogram2d\":[{\"type\":\"histogram2d\",\"colorbar\":{\"outlinewidth\":0,\"ticks\":\"\"},\"colorscale\":[[0.0,\"#0d0887\"],[0.1111111111111111,\"#46039f\"],[0.2222222222222222,\"#7201a8\"],[0.3333333333333333,\"#9c179e\"],[0.4444444444444444,\"#bd3786\"],[0.5555555555555556,\"#d8576b\"],[0.6666666666666666,\"#ed7953\"],[0.7777777777777778,\"#fb9f3a\"],[0.8888888888888888,\"#fdca26\"],[1.0,\"#f0f921\"]]}],\"heatmap\":[{\"type\":\"heatmap\",\"colorbar\":{\"outlinewidth\":0,\"ticks\":\"\"},\"colorscale\":[[0.0,\"#0d0887\"],[0.1111111111111111,\"#46039f\"],[0.2222222222222222,\"#7201a8\"],[0.3333333333333333,\"#9c179e\"],[0.4444444444444444,\"#bd3786\"],[0.5555555555555556,\"#d8576b\"],[0.6666666666666666,\"#ed7953\"],[0.7777777777777778,\"#fb9f3a\"],[0.8888888888888888,\"#fdca26\"],[1.0,\"#f0f921\"]]}],\"heatmapgl\":[{\"type\":\"heatmapgl\",\"colorbar\":{\"outlinewidth\":0,\"ticks\":\"\"},\"colorscale\":[[0.0,\"#0d0887\"],[0.1111111111111111,\"#46039f\"],[0.2222222222222222,\"#7201a8\"],[0.3333333333333333,\"#9c179e\"],[0.4444444444444444,\"#bd3786\"],[0.5555555555555556,\"#d8576b\"],[0.6666666666666666,\"#ed7953\"],[0.7777777777777778,\"#fb9f3a\"],[0.8888888888888888,\"#fdca26\"],[1.0,\"#f0f921\"]]}],\"contourcarpet\":[{\"type\":\"contourcarpet\",\"colorbar\":{\"outlinewidth\":0,\"ticks\":\"\"}}],\"contour\":[{\"type\":\"contour\",\"colorbar\":{\"outlinewidth\":0,\"ticks\":\"\"},\"colorscale\":[[0.0,\"#0d0887\"],[0.1111111111111111,\"#46039f\"],[0.2222222222222222,\"#7201a8\"],[0.3333333333333333,\"#9c179e\"],[0.4444444444444444,\"#bd3786\"],[0.5555555555555556,\"#d8576b\"],[0.6666666666666666,\"#ed7953\"],[0.7777777777777778,\"#fb9f3a\"],[0.8888888888888888,\"#fdca26\"],[1.0,\"#f0f921\"]]}],\"surface\":[{\"type\":\"surface\",\"colorbar\":{\"outlinewidth\":0,\"ticks\":\"\"},\"colorscale\":[[0.0,\"#0d0887\"],[0.1111111111111111,\"#46039f\"],[0.2222222222222222,\"#7201a8\"],[0.3333333333333333,\"#9c179e\"],[0.4444444444444444,\"#bd3786\"],[0.5555555555555556,\"#d8576b\"],[0.6666666666666666,\"#ed7953\"],[0.7777777777777778,\"#fb9f3a\"],[0.8888888888888888,\"#fdca26\"],[1.0,\"#f0f921\"]]}],\"mesh3d\":[{\"type\":\"mesh3d\",\"colorbar\":{\"outlinewidth\":0,\"ticks\":\"\"}}],\"scatter\":[{\"fillpattern\":{\"fillmode\":\"overlay\",\"size\":10,\"solidity\":0.2},\"type\":\"scatter\"}],\"parcoords\":[{\"type\":\"parcoords\",\"line\":{\"colorbar\":{\"outlinewidth\":0,\"ticks\":\"\"}}}],\"scatterpolargl\":[{\"type\":\"scatterpolargl\",\"marker\":{\"colorbar\":{\"outlinewidth\":0,\"ticks\":\"\"}}}],\"bar\":[{\"error_x\":{\"color\":\"#2a3f5f\"},\"error_y\":{\"color\":\"#2a3f5f\"},\"marker\":{\"line\":{\"color\":\"#E5ECF6\",\"width\":0.5},\"pattern\":{\"fillmode\":\"overlay\",\"size\":10,\"solidity\":0.2}},\"type\":\"bar\"}],\"scattergeo\":[{\"type\":\"scattergeo\",\"marker\":{\"colorbar\":{\"outlinewidth\":0,\"ticks\":\"\"}}}],\"scatterpolar\":[{\"type\":\"scatterpolar\",\"marker\":{\"colorbar\":{\"outlinewidth\":0,\"ticks\":\"\"}}}],\"histogram\":[{\"marker\":{\"pattern\":{\"fillmode\":\"overlay\",\"size\":10,\"solidity\":0.2}},\"type\":\"histogram\"}],\"scattergl\":[{\"type\":\"scattergl\",\"marker\":{\"colorbar\":{\"outlinewidth\":0,\"ticks\":\"\"}}}],\"scatter3d\":[{\"type\":\"scatter3d\",\"line\":{\"colorbar\":{\"outlinewidth\":0,\"ticks\":\"\"}},\"marker\":{\"colorbar\":{\"outlinewidth\":0,\"ticks\":\"\"}}}],\"scattermapbox\":[{\"type\":\"scattermapbox\",\"marker\":{\"colorbar\":{\"outlinewidth\":0,\"ticks\":\"\"}}}],\"scatterternary\":[{\"type\":\"scatterternary\",\"marker\":{\"colorbar\":{\"outlinewidth\":0,\"ticks\":\"\"}}}],\"scattercarpet\":[{\"type\":\"scattercarpet\",\"marker\":{\"colorbar\":{\"outlinewidth\":0,\"ticks\":\"\"}}}],\"carpet\":[{\"aaxis\":{\"endlinecolor\":\"#2a3f5f\",\"gridcolor\":\"white\",\"linecolor\":\"white\",\"minorgridcolor\":\"white\",\"startlinecolor\":\"#2a3f5f\"},\"baxis\":{\"endlinecolor\":\"#2a3f5f\",\"gridcolor\":\"white\",\"linecolor\":\"white\",\"minorgridcolor\":\"white\",\"startlinecolor\":\"#2a3f5f\"},\"type\":\"carpet\"}],\"table\":[{\"cells\":{\"fill\":{\"color\":\"#EBF0F8\"},\"line\":{\"color\":\"white\"}},\"header\":{\"fill\":{\"color\":\"#C8D4E3\"},\"line\":{\"color\":\"white\"}},\"type\":\"table\"}],\"barpolar\":[{\"marker\":{\"line\":{\"color\":\"#E5ECF6\",\"width\":0.5},\"pattern\":{\"fillmode\":\"overlay\",\"size\":10,\"solidity\":0.2}},\"type\":\"barpolar\"}],\"pie\":[{\"automargin\":true,\"type\":\"pie\"}]},\"layout\":{\"autotypenumbers\":\"strict\",\"colorway\":[\"#636efa\",\"#EF553B\",\"#00cc96\",\"#ab63fa\",\"#FFA15A\",\"#19d3f3\",\"#FF6692\",\"#B6E880\",\"#FF97FF\",\"#FECB52\"],\"font\":{\"color\":\"#2a3f5f\"},\"hovermode\":\"closest\",\"hoverlabel\":{\"align\":\"left\"},\"paper_bgcolor\":\"white\",\"plot_bgcolor\":\"#E5ECF6\",\"polar\":{\"bgcolor\":\"#E5ECF6\",\"angularaxis\":{\"gridcolor\":\"white\",\"linecolor\":\"white\",\"ticks\":\"\"},\"radialaxis\":{\"gridcolor\":\"white\",\"linecolor\":\"white\",\"ticks\":\"\"}},\"ternary\":{\"bgcolor\":\"#E5ECF6\",\"aaxis\":{\"gridcolor\":\"white\",\"linecolor\":\"white\",\"ticks\":\"\"},\"baxis\":{\"gridcolor\":\"white\",\"linecolor\":\"white\",\"ticks\":\"\"},\"caxis\":{\"gridcolor\":\"white\",\"linecolor\":\"white\",\"ticks\":\"\"}},\"coloraxis\":{\"colorbar\":{\"outlinewidth\":0,\"ticks\":\"\"}},\"colorscale\":{\"sequential\":[[0.0,\"#0d0887\"],[0.1111111111111111,\"#46039f\"],[0.2222222222222222,\"#7201a8\"],[0.3333333333333333,\"#9c179e\"],[0.4444444444444444,\"#bd3786\"],[0.5555555555555556,\"#d8576b\"],[0.6666666666666666,\"#ed7953\"],[0.7777777777777778,\"#fb9f3a\"],[0.8888888888888888,\"#fdca26\"],[1.0,\"#f0f921\"]],\"sequentialminus\":[[0.0,\"#0d0887\"],[0.1111111111111111,\"#46039f\"],[0.2222222222222222,\"#7201a8\"],[0.3333333333333333,\"#9c179e\"],[0.4444444444444444,\"#bd3786\"],[0.5555555555555556,\"#d8576b\"],[0.6666666666666666,\"#ed7953\"],[0.7777777777777778,\"#fb9f3a\"],[0.8888888888888888,\"#fdca26\"],[1.0,\"#f0f921\"]],\"diverging\":[[0,\"#8e0152\"],[0.1,\"#c51b7d\"],[0.2,\"#de77ae\"],[0.3,\"#f1b6da\"],[0.4,\"#fde0ef\"],[0.5,\"#f7f7f7\"],[0.6,\"#e6f5d0\"],[0.7,\"#b8e186\"],[0.8,\"#7fbc41\"],[0.9,\"#4d9221\"],[1,\"#276419\"]]},\"xaxis\":{\"gridcolor\":\"white\",\"linecolor\":\"white\",\"ticks\":\"\",\"title\":{\"standoff\":15},\"zerolinecolor\":\"white\",\"automargin\":true,\"zerolinewidth\":2},\"yaxis\":{\"gridcolor\":\"white\",\"linecolor\":\"white\",\"ticks\":\"\",\"title\":{\"standoff\":15},\"zerolinecolor\":\"white\",\"automargin\":true,\"zerolinewidth\":2},\"scene\":{\"xaxis\":{\"backgroundcolor\":\"#E5ECF6\",\"gridcolor\":\"white\",\"linecolor\":\"white\",\"showbackground\":true,\"ticks\":\"\",\"zerolinecolor\":\"white\",\"gridwidth\":2},\"yaxis\":{\"backgroundcolor\":\"#E5ECF6\",\"gridcolor\":\"white\",\"linecolor\":\"white\",\"showbackground\":true,\"ticks\":\"\",\"zerolinecolor\":\"white\",\"gridwidth\":2},\"zaxis\":{\"backgroundcolor\":\"#E5ECF6\",\"gridcolor\":\"white\",\"linecolor\":\"white\",\"showbackground\":true,\"ticks\":\"\",\"zerolinecolor\":\"white\",\"gridwidth\":2}},\"shapedefaults\":{\"line\":{\"color\":\"#2a3f5f\"}},\"annotationdefaults\":{\"arrowcolor\":\"#2a3f5f\",\"arrowhead\":0,\"arrowwidth\":1},\"geo\":{\"bgcolor\":\"white\",\"landcolor\":\"#E5ECF6\",\"subunitcolor\":\"white\",\"showland\":true,\"showlakes\":true,\"lakecolor\":\"white\"},\"title\":{\"x\":0.05},\"mapbox\":{\"style\":\"light\"}}},\"xaxis\":{\"anchor\":\"y\",\"domain\":[0.0,1.0],\"title\":{\"text\":\"Rating\"}},\"yaxis\":{\"anchor\":\"x\",\"domain\":[0.0,1.0],\"title\":{\"text\":\"Probability Desnsity\"}},\"legend\":{\"tracegroupgap\":0},\"margin\":{\"t\":60},\"barmode\":\"relative\",\"title\":{\"text\":\"Distribution of Rating\",\"x\":0.5,\"font\":{\"size\":20}},\"bargap\":0.02,\"plot_bgcolor\":\"white\"},                        {\"responsive\": true}                    ).then(function(){\n",
              "                            \n",
              "var gd = document.getElementById('104577d1-3694-42bb-8218-0025b92c541e');\n",
              "var x = new MutationObserver(function (mutations, observer) {{\n",
              "        var display = window.getComputedStyle(gd).display;\n",
              "        if (!display || display === 'none') {{\n",
              "            console.log([gd, 'removed!']);\n",
              "            Plotly.purge(gd);\n",
              "            observer.disconnect();\n",
              "        }}\n",
              "}});\n",
              "\n",
              "// Listen for the removal of the full notebook cells\n",
              "var notebookContainer = gd.closest('#notebook-container');\n",
              "if (notebookContainer) {{\n",
              "    x.observe(notebookContainer, {childList: true});\n",
              "}}\n",
              "\n",
              "// Listen for the clearing of the current output cell\n",
              "var outputEl = gd.closest('.output');\n",
              "if (outputEl) {{\n",
              "    x.observe(outputEl, {childList: true});\n",
              "}}\n",
              "\n",
              "                        })                };                            </script>        </div>\n",
              "</body>\n",
              "</html>"
            ]
          },
          "metadata": {}
        }
      ]
    },
    {
      "cell_type": "code",
      "source": [
        "plot_histogram(\"Duration\", 30, \"Distribution of Duration\", \"Duration\", \"Probability Desnsity\")"
      ],
      "metadata": {
        "colab": {
          "base_uri": "https://localhost:8080/",
          "height": 542
        },
        "id": "Zw6W-1LXP1gI",
        "outputId": "55862da5-3edb-447a-cefc-d4d106b9a9b7"
      },
      "execution_count": null,
      "outputs": [
        {
          "output_type": "display_data",
          "data": {
            "text/html": [
              "<html>\n",
              "<head><meta charset=\"utf-8\" /></head>\n",
              "<body>\n",
              "    <div>            <script src=\"https://cdnjs.cloudflare.com/ajax/libs/mathjax/2.7.5/MathJax.js?config=TeX-AMS-MML_SVG\"></script><script type=\"text/javascript\">if (window.MathJax && window.MathJax.Hub && window.MathJax.Hub.Config) {window.MathJax.Hub.Config({SVG: {font: \"STIX-Web\"}});}</script>                <script type=\"text/javascript\">window.PlotlyConfig = {MathJaxConfig: 'local'};</script>\n",
              "        <script charset=\"utf-8\" src=\"https://cdn.plot.ly/plotly-2.24.1.min.js\"></script>                <div id=\"d444b5fb-2984-4e53-9f58-993928af89f8\" class=\"plotly-graph-div\" style=\"height:525px; width:100%;\"></div>            <script type=\"text/javascript\">                                    window.PLOTLYENV=window.PLOTLYENV || {};                                    if (document.getElementById(\"d444b5fb-2984-4e53-9f58-993928af89f8\")) {                    Plotly.newPlot(                        \"d444b5fb-2984-4e53-9f58-993928af89f8\",                        [{\"alignmentgroup\":\"True\",\"bingroup\":\"x\",\"histnorm\":\"probability density\",\"hovertemplate\":\"Duration=%{x}\\u003cbr\\u003eprobability density=%{y}\\u003cextra\\u003e\\u003c\\u002fextra\\u003e\",\"legendgroup\":\"\",\"marker\":{\"color\":\"#008B8B\",\"pattern\":{\"shape\":\"\"}},\"name\":\"\",\"nbinsx\":30,\"offsetgroup\":\"\",\"orientation\":\"v\",\"showlegend\":false,\"x\":[124,154,159,128,143,136,153,90,129,139,144,166,139,157,138,140,161,134,166,131,137,141,112,158,135,128,140,150,144,156,135,144,155,133,166,121,120,143,121,122,122,122,122,98,121,147,76,133,133,207,122,155,138,164,143,149,144,137,148,144,129,130,162,170,165,146,110,142,139,131,135,139,161,120,145,107,199,140,130,129,150,117,132,164,142,88,151,146,131,140,137,133,148,119,185,145,137,121,182,114,155,127,153,143,169,160,157,148,167,171,149,160,118,173,136,134,121,139,95,150,145,152,128,135,132,125,110,120,135,80,152,120,142,133,135,134,138,136,172,136,125,138,139,153,126,136,135,166,133,157,162,136,168,160,82,146,170,176,128,160,137,155,126,100,175,135,155,137,152,154,144,135,136,136,120,143,136,110,135,148,152,131,162,110,136,138,122,156,138,134,142,148,139,164,100,139,148,130,177,125,170,135,129,115,140,117,125,134,175,125,127,107,120,98,132,124,116,137,146,120,120,131,146,135,132,131,133,112,142,122,115,129,156,155,136,136,137,103,140,140,137,127,139,132,155,134,109,135,176,121,124,115,130,136,125,127,90,119,185,124,150,135,150,136,145,142,130,132,136,110,163,118,103,119,128,142,136,151,137,133,144,123,137,93,140,139,128,78,131,125,140,141,158,114,147,130,114,120,128,146,157,150,124,147,135,134,150,152,144,137,117,121,133,138,132,140,153,140,133,142,134,127,155,160,152,117,154,216,195,151,151,131,135,143,121,140,145,118,122,119,137,120,91,130,127,149,137,180,150,108,167,109,139,110,103,100,133,132,156,120,130,128,130,120,129,141,106,140,135,171,137,128,138,125,136,150,147,130,116,153,129,107,144,137,102,140,137,130,139,106,139,141,137,109,133,141,139,157,82,143,128,131,148,132,135,135,140,113,133,135,151,135,118,148,151,148,130,115,105,112,138,129,150,140,158,150,146,127,170,116,145,160,180,130,100,135,153,141,147,140,120,142,120,156,80,158,139,137,101,153,137,169,149,150,114,146,110,113,126,120,151,131,139,127,111,158,139,102,82,153,150,91,91,138,149,160,127,95,143,131,125,105,160,128,171,155,135,137,149,153,90,155,145,135,149,138,123,147,132,161,118,160,155,165,135,136,100,165,133,125,144,160,142,121,120,121,119,129,152,157,112,130,127,120,136,172,127,140,126,155,125,152,143,130,155,132,145,158,151,182,119,162,127,154,117,102,95,137,155,125,150,168,149,128,137,162,152,117,129,90,130,150,180,134,135,138,120,130,136,90,135,153,141,120,133,125,136,145,127,160,132,89,170,148,122,140,195,160,125,165,128,150,117,143,116,141,144,128,153,143,140,132,117,132,151,128,142,120,98,172,149,137,123,130,149,180,139,160,138,130,114,88,124,126,139,138,126,125,143,127,133,105,119,153,119,120,136,186,161,145,153,140,165,139,85,100,104,133,92,93,172,137,161,146,123,173,129,87,169,97,125,140,148,144,140,90,140,115,135,123,143,142,140,71,125,145,85,120,108,109,158,113,97,140,131,114,130,115,102,146,105,108,79,152,78,96,151,113,133,180,165,148,125,82,128,130,104,118,134,109,75,112,107,115,136,116,135,122,147,120,152,95,108,121,90,150,155,110,155,120,126,143,114,157,99,95,130,188,154,90,135,106,149,90,118,154,136,46,160,95,50,99,93,90,145,108,116,95,150,96,83,94,89,189,83,94,144,172,126,119,117,142,107,145,148,100,74,73,92,127,126,117,125,145,131,132,145,134,118,134,102,162,139,162,136,99,110,76,105,102,146,138,87,60,99,122,129,120,151,102,104,110,89,88,100,140,173,88,116,155,92,129,126,118,100,147,79,125,108,119,142,109,131,169,250,100,73,147,133,115,155,112,118,137,154,112,110,150,92,127,110,103,86,300,80,110,140,160,110,152,142,93,126,149,130,92,106,190,111,126,86,88,140,109,109,95,134,110,80,135,130,113,66,140,91,134,131,110,120,131,78,115,240,112,114,127,105,141,87,144,156,107,90,127,101,120,175,120,96,95,125,120,87,120,104,98,82,118,86,131,122,121,155,165,100,122,87,95,144,140,115,87,106,102,105,90,116,92,125,81,135,132,112,116,147,145,111,97,100,140,120,77,93,78,180,116,113,120,143,90,95,127,114,82,130,97,117,180,88,120,105,149,115,147,126,87,135,111,117,94,164,140,74,136,146,96,139,130,120,127,155,120,115,137,117,140,120,126,127,110,152,127,115,130,121,91,90,96,130,126,95,137,92,132,108,103,120,114,113,95,92,105,89,103,125,131,125,88,140,101,125,110,116,125,126,120,141,117,80,136,123,107,104,120,103,126,106,94,93,90,119,142,100,134,139,100,119,99,90,97,125,128,111,58,110,125,77,100,124,124,146,132,115,96,94,102,73,133,150,93,107,48,151,155,83,85,87,107,108,90,117,99,97,105,91,98,124,139,115,106,107,131,113,160,90,136,130,122,135,125,127,130,120,115,82,127,129,130,109,120,92,137,95,133,82,109,102,116,83,138,83,108,68,59,116,73,122,102,127,132,112,131,139,92,115,110,120,128,112,124,145,122,84,125,120,125,106,110,137,120,94,142,133,132,132,90,100,125,124,125,119,143,150,124,148,104,134,113,75,110,140,125,155,130,65,130,130,100,133,120,104,140,96,120,110,110,135,87,97,105,110,92,81,137,118,100,127,105,173,90,127,139,127,119,120,93,127,144,125,117,123,110,135,89,93,106,104,91,99,74,127,72,101,141,104,140,130,115,84,134,64,132,83,100,75,151,90,127,97,128,138,119,115,130,126,120,120,78,79,96,112,80,94,178,93,111,123,113,115,104,180,120,130,124,145,130,70,120,85,120,113,128,126,99,130,110,87,134,132,108,93,124,113,54,45,112,100,84,120,129,108,109,95,65,103,106,93,124,110,124,135,135,122,119,130,117,119,138,84,90,98,96,108,102,79,99,91,123,114,127,49,100,85,145,110,98,97,129,137,70,48,108,84,100,97,95,125,121,95,99,68,140,104,124,140,118,104,159,116,145,100,116,115,81,129,97,102,108,122,130,136,109,135,161,123,135,92,106,108,143,128,65,102,133,135,92,104,67,121,116,125,131,107,72,124,101,85,112,137,131,107,120,109,126,145,100,95,92,137,100,104,107,120,107,94,120,120,113,136,92,93,65,120,122,133,134,100,96,103,113,136,90,109,149,120,47,133,104,126,90,141,112,122,155,117,125,136,143,85,120,128,120,117,95,100,116,130,85,113,128,122,130,162,80,88,80,124,123,107,105,104,109,90,94,113,80,107,117,90,79,89,120,121,153,90,135,127,90,104,142,130,97,97,120,115,142,89,52,104,117,96,120,123,122,102,100,145,114,162,80,108,93,104,120,98,90,117,85,47,102,102,98,118,134,153,108,139,104,113,132,101,82,96,115,102,101,135,100,78,100,120,84,102,155,65,128,141,92,108,72,150,93,132,84,95,134,115,130,106,93,120,65,85,93],\"xaxis\":\"x\",\"yaxis\":\"y\",\"type\":\"histogram\"}],                        {\"template\":{\"data\":{\"histogram2dcontour\":[{\"type\":\"histogram2dcontour\",\"colorbar\":{\"outlinewidth\":0,\"ticks\":\"\"},\"colorscale\":[[0.0,\"#0d0887\"],[0.1111111111111111,\"#46039f\"],[0.2222222222222222,\"#7201a8\"],[0.3333333333333333,\"#9c179e\"],[0.4444444444444444,\"#bd3786\"],[0.5555555555555556,\"#d8576b\"],[0.6666666666666666,\"#ed7953\"],[0.7777777777777778,\"#fb9f3a\"],[0.8888888888888888,\"#fdca26\"],[1.0,\"#f0f921\"]]}],\"choropleth\":[{\"type\":\"choropleth\",\"colorbar\":{\"outlinewidth\":0,\"ticks\":\"\"}}],\"histogram2d\":[{\"type\":\"histogram2d\",\"colorbar\":{\"outlinewidth\":0,\"ticks\":\"\"},\"colorscale\":[[0.0,\"#0d0887\"],[0.1111111111111111,\"#46039f\"],[0.2222222222222222,\"#7201a8\"],[0.3333333333333333,\"#9c179e\"],[0.4444444444444444,\"#bd3786\"],[0.5555555555555556,\"#d8576b\"],[0.6666666666666666,\"#ed7953\"],[0.7777777777777778,\"#fb9f3a\"],[0.8888888888888888,\"#fdca26\"],[1.0,\"#f0f921\"]]}],\"heatmap\":[{\"type\":\"heatmap\",\"colorbar\":{\"outlinewidth\":0,\"ticks\":\"\"},\"colorscale\":[[0.0,\"#0d0887\"],[0.1111111111111111,\"#46039f\"],[0.2222222222222222,\"#7201a8\"],[0.3333333333333333,\"#9c179e\"],[0.4444444444444444,\"#bd3786\"],[0.5555555555555556,\"#d8576b\"],[0.6666666666666666,\"#ed7953\"],[0.7777777777777778,\"#fb9f3a\"],[0.8888888888888888,\"#fdca26\"],[1.0,\"#f0f921\"]]}],\"heatmapgl\":[{\"type\":\"heatmapgl\",\"colorbar\":{\"outlinewidth\":0,\"ticks\":\"\"},\"colorscale\":[[0.0,\"#0d0887\"],[0.1111111111111111,\"#46039f\"],[0.2222222222222222,\"#7201a8\"],[0.3333333333333333,\"#9c179e\"],[0.4444444444444444,\"#bd3786\"],[0.5555555555555556,\"#d8576b\"],[0.6666666666666666,\"#ed7953\"],[0.7777777777777778,\"#fb9f3a\"],[0.8888888888888888,\"#fdca26\"],[1.0,\"#f0f921\"]]}],\"contourcarpet\":[{\"type\":\"contourcarpet\",\"colorbar\":{\"outlinewidth\":0,\"ticks\":\"\"}}],\"contour\":[{\"type\":\"contour\",\"colorbar\":{\"outlinewidth\":0,\"ticks\":\"\"},\"colorscale\":[[0.0,\"#0d0887\"],[0.1111111111111111,\"#46039f\"],[0.2222222222222222,\"#7201a8\"],[0.3333333333333333,\"#9c179e\"],[0.4444444444444444,\"#bd3786\"],[0.5555555555555556,\"#d8576b\"],[0.6666666666666666,\"#ed7953\"],[0.7777777777777778,\"#fb9f3a\"],[0.8888888888888888,\"#fdca26\"],[1.0,\"#f0f921\"]]}],\"surface\":[{\"type\":\"surface\",\"colorbar\":{\"outlinewidth\":0,\"ticks\":\"\"},\"colorscale\":[[0.0,\"#0d0887\"],[0.1111111111111111,\"#46039f\"],[0.2222222222222222,\"#7201a8\"],[0.3333333333333333,\"#9c179e\"],[0.4444444444444444,\"#bd3786\"],[0.5555555555555556,\"#d8576b\"],[0.6666666666666666,\"#ed7953\"],[0.7777777777777778,\"#fb9f3a\"],[0.8888888888888888,\"#fdca26\"],[1.0,\"#f0f921\"]]}],\"mesh3d\":[{\"type\":\"mesh3d\",\"colorbar\":{\"outlinewidth\":0,\"ticks\":\"\"}}],\"scatter\":[{\"fillpattern\":{\"fillmode\":\"overlay\",\"size\":10,\"solidity\":0.2},\"type\":\"scatter\"}],\"parcoords\":[{\"type\":\"parcoords\",\"line\":{\"colorbar\":{\"outlinewidth\":0,\"ticks\":\"\"}}}],\"scatterpolargl\":[{\"type\":\"scatterpolargl\",\"marker\":{\"colorbar\":{\"outlinewidth\":0,\"ticks\":\"\"}}}],\"bar\":[{\"error_x\":{\"color\":\"#2a3f5f\"},\"error_y\":{\"color\":\"#2a3f5f\"},\"marker\":{\"line\":{\"color\":\"#E5ECF6\",\"width\":0.5},\"pattern\":{\"fillmode\":\"overlay\",\"size\":10,\"solidity\":0.2}},\"type\":\"bar\"}],\"scattergeo\":[{\"type\":\"scattergeo\",\"marker\":{\"colorbar\":{\"outlinewidth\":0,\"ticks\":\"\"}}}],\"scatterpolar\":[{\"type\":\"scatterpolar\",\"marker\":{\"colorbar\":{\"outlinewidth\":0,\"ticks\":\"\"}}}],\"histogram\":[{\"marker\":{\"pattern\":{\"fillmode\":\"overlay\",\"size\":10,\"solidity\":0.2}},\"type\":\"histogram\"}],\"scattergl\":[{\"type\":\"scattergl\",\"marker\":{\"colorbar\":{\"outlinewidth\":0,\"ticks\":\"\"}}}],\"scatter3d\":[{\"type\":\"scatter3d\",\"line\":{\"colorbar\":{\"outlinewidth\":0,\"ticks\":\"\"}},\"marker\":{\"colorbar\":{\"outlinewidth\":0,\"ticks\":\"\"}}}],\"scattermapbox\":[{\"type\":\"scattermapbox\",\"marker\":{\"colorbar\":{\"outlinewidth\":0,\"ticks\":\"\"}}}],\"scatterternary\":[{\"type\":\"scatterternary\",\"marker\":{\"colorbar\":{\"outlinewidth\":0,\"ticks\":\"\"}}}],\"scattercarpet\":[{\"type\":\"scattercarpet\",\"marker\":{\"colorbar\":{\"outlinewidth\":0,\"ticks\":\"\"}}}],\"carpet\":[{\"aaxis\":{\"endlinecolor\":\"#2a3f5f\",\"gridcolor\":\"white\",\"linecolor\":\"white\",\"minorgridcolor\":\"white\",\"startlinecolor\":\"#2a3f5f\"},\"baxis\":{\"endlinecolor\":\"#2a3f5f\",\"gridcolor\":\"white\",\"linecolor\":\"white\",\"minorgridcolor\":\"white\",\"startlinecolor\":\"#2a3f5f\"},\"type\":\"carpet\"}],\"table\":[{\"cells\":{\"fill\":{\"color\":\"#EBF0F8\"},\"line\":{\"color\":\"white\"}},\"header\":{\"fill\":{\"color\":\"#C8D4E3\"},\"line\":{\"color\":\"white\"}},\"type\":\"table\"}],\"barpolar\":[{\"marker\":{\"line\":{\"color\":\"#E5ECF6\",\"width\":0.5},\"pattern\":{\"fillmode\":\"overlay\",\"size\":10,\"solidity\":0.2}},\"type\":\"barpolar\"}],\"pie\":[{\"automargin\":true,\"type\":\"pie\"}]},\"layout\":{\"autotypenumbers\":\"strict\",\"colorway\":[\"#636efa\",\"#EF553B\",\"#00cc96\",\"#ab63fa\",\"#FFA15A\",\"#19d3f3\",\"#FF6692\",\"#B6E880\",\"#FF97FF\",\"#FECB52\"],\"font\":{\"color\":\"#2a3f5f\"},\"hovermode\":\"closest\",\"hoverlabel\":{\"align\":\"left\"},\"paper_bgcolor\":\"white\",\"plot_bgcolor\":\"#E5ECF6\",\"polar\":{\"bgcolor\":\"#E5ECF6\",\"angularaxis\":{\"gridcolor\":\"white\",\"linecolor\":\"white\",\"ticks\":\"\"},\"radialaxis\":{\"gridcolor\":\"white\",\"linecolor\":\"white\",\"ticks\":\"\"}},\"ternary\":{\"bgcolor\":\"#E5ECF6\",\"aaxis\":{\"gridcolor\":\"white\",\"linecolor\":\"white\",\"ticks\":\"\"},\"baxis\":{\"gridcolor\":\"white\",\"linecolor\":\"white\",\"ticks\":\"\"},\"caxis\":{\"gridcolor\":\"white\",\"linecolor\":\"white\",\"ticks\":\"\"}},\"coloraxis\":{\"colorbar\":{\"outlinewidth\":0,\"ticks\":\"\"}},\"colorscale\":{\"sequential\":[[0.0,\"#0d0887\"],[0.1111111111111111,\"#46039f\"],[0.2222222222222222,\"#7201a8\"],[0.3333333333333333,\"#9c179e\"],[0.4444444444444444,\"#bd3786\"],[0.5555555555555556,\"#d8576b\"],[0.6666666666666666,\"#ed7953\"],[0.7777777777777778,\"#fb9f3a\"],[0.8888888888888888,\"#fdca26\"],[1.0,\"#f0f921\"]],\"sequentialminus\":[[0.0,\"#0d0887\"],[0.1111111111111111,\"#46039f\"],[0.2222222222222222,\"#7201a8\"],[0.3333333333333333,\"#9c179e\"],[0.4444444444444444,\"#bd3786\"],[0.5555555555555556,\"#d8576b\"],[0.6666666666666666,\"#ed7953\"],[0.7777777777777778,\"#fb9f3a\"],[0.8888888888888888,\"#fdca26\"],[1.0,\"#f0f921\"]],\"diverging\":[[0,\"#8e0152\"],[0.1,\"#c51b7d\"],[0.2,\"#de77ae\"],[0.3,\"#f1b6da\"],[0.4,\"#fde0ef\"],[0.5,\"#f7f7f7\"],[0.6,\"#e6f5d0\"],[0.7,\"#b8e186\"],[0.8,\"#7fbc41\"],[0.9,\"#4d9221\"],[1,\"#276419\"]]},\"xaxis\":{\"gridcolor\":\"white\",\"linecolor\":\"white\",\"ticks\":\"\",\"title\":{\"standoff\":15},\"zerolinecolor\":\"white\",\"automargin\":true,\"zerolinewidth\":2},\"yaxis\":{\"gridcolor\":\"white\",\"linecolor\":\"white\",\"ticks\":\"\",\"title\":{\"standoff\":15},\"zerolinecolor\":\"white\",\"automargin\":true,\"zerolinewidth\":2},\"scene\":{\"xaxis\":{\"backgroundcolor\":\"#E5ECF6\",\"gridcolor\":\"white\",\"linecolor\":\"white\",\"showbackground\":true,\"ticks\":\"\",\"zerolinecolor\":\"white\",\"gridwidth\":2},\"yaxis\":{\"backgroundcolor\":\"#E5ECF6\",\"gridcolor\":\"white\",\"linecolor\":\"white\",\"showbackground\":true,\"ticks\":\"\",\"zerolinecolor\":\"white\",\"gridwidth\":2},\"zaxis\":{\"backgroundcolor\":\"#E5ECF6\",\"gridcolor\":\"white\",\"linecolor\":\"white\",\"showbackground\":true,\"ticks\":\"\",\"zerolinecolor\":\"white\",\"gridwidth\":2}},\"shapedefaults\":{\"line\":{\"color\":\"#2a3f5f\"}},\"annotationdefaults\":{\"arrowcolor\":\"#2a3f5f\",\"arrowhead\":0,\"arrowwidth\":1},\"geo\":{\"bgcolor\":\"white\",\"landcolor\":\"#E5ECF6\",\"subunitcolor\":\"white\",\"showland\":true,\"showlakes\":true,\"lakecolor\":\"white\"},\"title\":{\"x\":0.05},\"mapbox\":{\"style\":\"light\"}}},\"xaxis\":{\"anchor\":\"y\",\"domain\":[0.0,1.0],\"title\":{\"text\":\"Duration\"}},\"yaxis\":{\"anchor\":\"x\",\"domain\":[0.0,1.0],\"title\":{\"text\":\"Probability Desnsity\"}},\"legend\":{\"tracegroupgap\":0},\"margin\":{\"t\":60},\"barmode\":\"relative\",\"title\":{\"text\":\"Distribution of Duration\",\"x\":0.5,\"font\":{\"size\":20}},\"bargap\":0.02,\"plot_bgcolor\":\"white\"},                        {\"responsive\": true}                    ).then(function(){\n",
              "                            \n",
              "var gd = document.getElementById('d444b5fb-2984-4e53-9f58-993928af89f8');\n",
              "var x = new MutationObserver(function (mutations, observer) {{\n",
              "        var display = window.getComputedStyle(gd).display;\n",
              "        if (!display || display === 'none') {{\n",
              "            console.log([gd, 'removed!']);\n",
              "            Plotly.purge(gd);\n",
              "            observer.disconnect();\n",
              "        }}\n",
              "}});\n",
              "\n",
              "// Listen for the removal of the full notebook cells\n",
              "var notebookContainer = gd.closest('#notebook-container');\n",
              "if (notebookContainer) {{\n",
              "    x.observe(notebookContainer, {childList: true});\n",
              "}}\n",
              "\n",
              "// Listen for the clearing of the current output cell\n",
              "var outputEl = gd.closest('.output');\n",
              "if (outputEl) {{\n",
              "    x.observe(outputEl, {childList: true});\n",
              "}}\n",
              "\n",
              "                        })                };                            </script>        </div>\n",
              "</body>\n",
              "</html>"
            ]
          },
          "metadata": {}
        }
      ]
    },
    {
      "cell_type": "code",
      "source": [
        "plot_histogram(\"Votes\", 30, \"Distribution of Votes\", \"Votes\", \"Probability Desnsity\")"
      ],
      "metadata": {
        "colab": {
          "base_uri": "https://localhost:8080/",
          "height": 542
        },
        "id": "7-Ru7jCjP6se",
        "outputId": "14790c7d-db11-457a-ee92-8eb57fb9b429"
      },
      "execution_count": null,
      "outputs": [
        {
          "output_type": "display_data",
          "data": {
            "text/html": [
              "<html>\n",
              "<head><meta charset=\"utf-8\" /></head>\n",
              "<body>\n",
              "    <div>            <script src=\"https://cdnjs.cloudflare.com/ajax/libs/mathjax/2.7.5/MathJax.js?config=TeX-AMS-MML_SVG\"></script><script type=\"text/javascript\">if (window.MathJax && window.MathJax.Hub && window.MathJax.Hub.Config) {window.MathJax.Hub.Config({SVG: {font: \"STIX-Web\"}});}</script>                <script type=\"text/javascript\">window.PlotlyConfig = {MathJaxConfig: 'local'};</script>\n",
              "        <script charset=\"utf-8\" src=\"https://cdn.plot.ly/plotly-2.24.1.min.js\"></script>                <div id=\"b5416dd2-10d4-41b5-9a78-ef121778d973\" class=\"plotly-graph-div\" style=\"height:525px; width:100%;\"></div>            <script type=\"text/javascript\">                                    window.PLOTLYENV=window.PLOTLYENV || {};                                    if (document.getElementById(\"b5416dd2-10d4-41b5-9a78-ef121778d973\")) {                    Plotly.newPlot(                        \"b5416dd2-10d4-41b5-9a78-ef121778d973\",                        [{\"alignmentgroup\":\"True\",\"bingroup\":\"x\",\"histnorm\":\"probability density\",\"hovertemplate\":\"Votes=%{x}\\u003cbr\\u003eprobability density=%{y}\\u003cextra\\u003e\\u003c\\u002fextra\\u003e\",\"legendgroup\":\"\",\"marker\":{\"color\":\"#008B8B\",\"pattern\":{\"shape\":\"\"}},\"name\":\"\",\"nbinsx\":30,\"offsetgroup\":\"\",\"orientation\":\"v\",\"showlegend\":false,\"x\":[6,13,10,5,9,11,5,9,7,12,38,17,9,9,10,6,17,11,31,229,12,23,11,10,15,14,11,11,6,10,12,19,12,8,6,30,7,93,27,10,6,8,182,18,28,25,6,5,12,39,39,38,21,18,30,15,15,8,6,15,10,13,5,18,27,7,41,10,32,1857,11,28,16,7,51,9,46,103,16,15,8,28,7,15,12,11,52,7,68,12,14,80,17,27,18,7,66,57,19,15,35,18,158,7,9,57,60,2136,22,14,13,35,20,25,6,9,14,9,317,87,21,5,346,112,30,21,58,24,33,28,26,13,33,42,12,5,10,13,6,32,7,11,33,122,45,9,14,43,50,13,47,85,80,53,5,203,11,8,8,54,20,21,8,60,690,10,8,16,48,32,37,64,9,8,12,23,10,420,27,22,49,6,14,7,10,47,78,13,17,49,10,29,40,536,10,137,117,9,200,1523,337,15,10,10,14,11,19,28,232,115,88,69,8,230,48,8,5,11,1564,11,11,27,689,22,44,1185,6,16,30,6,194,13,44,62,7,13,86,17,7,10,6,5,19,14,421,540,7,42,85,20,14,24,26,85,14,5,5,114,33,197,23,22,9,26,6,585,18,18,19,52,31,137,7,181,10,128,12,7,51,20,64,16,10,18,22,16,7,527,17,17,15,17,11,18,60,15,68,58,6,57,17,101,26,30,16,16,67,78,31,76,7,18,15,18,22,141,5,22,9,18,94,446,11,45,64,264,19,15,48,128,275,34,9,11,10,37,7,12,76,47,13,9,27,7,45,22,108,520,571,23,23,39,13,494,64,54,55,109,75,22,153,85,37,55,12,450,242,13,27,47,1781,18,26,44,129,474,16,138,27,42,346,6,49,255,80,14,8,16,43,127,160,17,32,15,5,12,14,58,43,43,38,27,12,9,36,11,15,53,124,58,103,43,105,165,19,57,43,37,113,9,17,7,13,26,293,46,7,22,93,281,52,48,32,21,22,37,67,7,8,30,51,27,27,25,27,75,365,37,438,60,19,14,16,142,63,191,24,8,7,8,52,27,250,39,36,65,37,6,17,13,7,72,13,66,81,699,13,212,102,7,53,257,1255,51,84,360,8,5,22,41,19,47,63,12,150,17,77,48,15,29,13,29,39,12,26,8,78,47,37,37,17,109,66,49,170,25,28,17,40,75,36,41,9,9,17,75,1020,14,7,8,6,14,60,75,17,9,57,58,56,20,54,65,68,51,17,86,25,21,13,16,88,15,35,489,6,30,36,20,84,9,186,45,31,10,20,69,73,406,68,50,27,134,160,23,13,11,124,53,64,4780,24,243,52,16,73,345,87,1582,40,67,60,15,21,218,189,11,25,73,652,206,332,13,215,172,46,62,14,7,10,24,7,33,53,23,26,230,49,126,17,63,6,12,13,13,24,640,31,3007,2610,302,6,6,44,24,25,25,31,274,45,285,299,25,11,13,9,367,30,21,18,104,442,5,188,7,15,23,9,21,636,8,56,24,213,20,7,7,34,15,39,23,67,11,105,16,288,706,7,5,15,645,9,18,6,20,10,17,17,8,432,40,15,11,10,24,7,5,249,7,29,19,122,311,57,10,7,50,245,8,1197,17,11,95,7,8,70,17,29,554,50,4744,798,24,2108,3207,11,336,370,7,29,46,242,525,7,29,102,78,850,2633,24,19,27,30,7,9,6,15,374,15,102,6,268,2042,101,80,1909,116,6,6,32,17,7,16,39,85340,21,107,264,1332,344,20,25,1983,22,77,151,13,12,9,24,46,39,14461,37,62,8,14,34,696,488,42,45,185,6712,1061,140,58,425,8,13,30,68,72,31,663,38,33782,892,54,594,856,44,71,796,35,700,10,60,14,1002,320,58,132,40,15,31,5785,6,45,1962,24,1957,25,43,35,12,10,25,263,9,673,189,86,118,6120,9,70,13,47,20,454,1622,49,7,1807,29,179,15,8,1556,922,36,356,66,51,1544,31,365,156,9,51,23,11,36,191,9,13,6034,12,44,96,110,43,648,7,42,83,9,125,106,1242,62,17,46,119,201,6,61,7256,265,1747,9678,10,640,37,395,254,257,15,223,948,47,32,261,1259,442,125,34,178,8,503,8,171,5383,101014,12695,8,56,99,26,95,34,9,10,14,126,398,456,302,5433,115,24,9,52,26,8,18,75,88,3677,15,13,153,9,6,97,365,18,28,7,47,185,34,25,131,75,63,3371,191,36,15,196,4132,14,76,982,152,113,1023,24,48,162,3690,22,3748,3031,209,6922,55,33,870,151,15,7,128,6,80,6,176,17,43,4964,5124,27,142,12,1747,126,671,14,454,16,433,75,131,588,14,25,34,129,444,532,24,26,143,10,22,55,299,502,2860,15,793,4338,27,10,235,449,75,44,50,123,1147,171,8,102,10,20,1553,18,29,25,301,31,31,126,32,2740,68,33,11,42,13,101,10,284,64,15,3565,2906,12,344,10,64,1968,1589,52,10,59,9,20,9,97,504,7099,23,101,55,7,239,31,14,20,123,13,293,119,7,71,408,22,22,862,9,13,101,82,41,47,43,8,23,672,52,28,36,35,2118,575,24900,20,62,25,35,1622,77,136,159,4954,13,356,31,315,13,16,62,8,193,17,45,151,142,5,760,278,137,31,16,56,6,85,266,74,13,145,184,216,35,11,23,18,14,43,210,268,13,26,193,96,4165,118,2622,13,20,15,16,860,656,74,9,15,22,257,252,45,10,33,676,27,235,27,13,403,17337,59,77,21,5,34,117,412,20,18,9,2139,12,894,117,104,99,21,18,3336,11,294,9,167,16,47,419,5,15,36,8,16,92,694,8,882,7,132,203,43,238,4890,47,89,103,34,15,24,27,1770,11,45,15,1785,56,30,40,1873,14,41,11,10,36,17,58,8,28,6,61,27,291,5,81,12,339,399,52,973,31,137,16,62,10,101,12,342,6,16,106,1446,9,13,94,27,26,28,31,6,53,9,1636,8,101,83,52,12,9,219,82,39,985,28,12,33,147,32,10,485,13,12000,17,2334,10,22,221,26,102,283,24,7,31,37,18,41,10,10,13,5,17,8,82,7,22,89,7,15,65,6,271,221,94,358,27,258,478,228,323,30,19,14156,9,8,180,206,93,692,155,10,78,34,18,36,12,394,303,1055,1570,6,1251,3781,92,4685,43,1042,7,166,77,10,1257,41,472,10,8,27,18,101,249,820,259,38,8,150,106,28,48,736,9,101,20,13,37,361,6,349,805,500,6,27,24,1361,23,69,15,449,12,19,7,597,93,20,4944,35,12370,15644,12,29,1098,8,5,24,30,22,406,32,330,672,246,7,8,17,251,38,897,27,348,286,29,8,783,16,13,200,7,5,352,27,45,162,92,73,215,9,29,18,8,20,50,1417,1486,8,941,21,8,9,329,15,46,16,22,31,50,43,778,13,30,954,31,9,46,50,384,38,244,15063,27,67,191,1126,87,2921,10,7,10,41,727,4826,16,384,7,122,1272,179,411,678,388,15,18,31,1533,20,1208,41,83029,2708,3011,25,16,215,21,56,13,14,33,85,7,8,9,6,204,7,3167,20,20,3737,514,106,7,29,294,32,76,26,12,77,10,1383,24,18,118,467,1059,37],\"xaxis\":\"x\",\"yaxis\":\"y\",\"type\":\"histogram\"}],                        {\"template\":{\"data\":{\"histogram2dcontour\":[{\"type\":\"histogram2dcontour\",\"colorbar\":{\"outlinewidth\":0,\"ticks\":\"\"},\"colorscale\":[[0.0,\"#0d0887\"],[0.1111111111111111,\"#46039f\"],[0.2222222222222222,\"#7201a8\"],[0.3333333333333333,\"#9c179e\"],[0.4444444444444444,\"#bd3786\"],[0.5555555555555556,\"#d8576b\"],[0.6666666666666666,\"#ed7953\"],[0.7777777777777778,\"#fb9f3a\"],[0.8888888888888888,\"#fdca26\"],[1.0,\"#f0f921\"]]}],\"choropleth\":[{\"type\":\"choropleth\",\"colorbar\":{\"outlinewidth\":0,\"ticks\":\"\"}}],\"histogram2d\":[{\"type\":\"histogram2d\",\"colorbar\":{\"outlinewidth\":0,\"ticks\":\"\"},\"colorscale\":[[0.0,\"#0d0887\"],[0.1111111111111111,\"#46039f\"],[0.2222222222222222,\"#7201a8\"],[0.3333333333333333,\"#9c179e\"],[0.4444444444444444,\"#bd3786\"],[0.5555555555555556,\"#d8576b\"],[0.6666666666666666,\"#ed7953\"],[0.7777777777777778,\"#fb9f3a\"],[0.8888888888888888,\"#fdca26\"],[1.0,\"#f0f921\"]]}],\"heatmap\":[{\"type\":\"heatmap\",\"colorbar\":{\"outlinewidth\":0,\"ticks\":\"\"},\"colorscale\":[[0.0,\"#0d0887\"],[0.1111111111111111,\"#46039f\"],[0.2222222222222222,\"#7201a8\"],[0.3333333333333333,\"#9c179e\"],[0.4444444444444444,\"#bd3786\"],[0.5555555555555556,\"#d8576b\"],[0.6666666666666666,\"#ed7953\"],[0.7777777777777778,\"#fb9f3a\"],[0.8888888888888888,\"#fdca26\"],[1.0,\"#f0f921\"]]}],\"heatmapgl\":[{\"type\":\"heatmapgl\",\"colorbar\":{\"outlinewidth\":0,\"ticks\":\"\"},\"colorscale\":[[0.0,\"#0d0887\"],[0.1111111111111111,\"#46039f\"],[0.2222222222222222,\"#7201a8\"],[0.3333333333333333,\"#9c179e\"],[0.4444444444444444,\"#bd3786\"],[0.5555555555555556,\"#d8576b\"],[0.6666666666666666,\"#ed7953\"],[0.7777777777777778,\"#fb9f3a\"],[0.8888888888888888,\"#fdca26\"],[1.0,\"#f0f921\"]]}],\"contourcarpet\":[{\"type\":\"contourcarpet\",\"colorbar\":{\"outlinewidth\":0,\"ticks\":\"\"}}],\"contour\":[{\"type\":\"contour\",\"colorbar\":{\"outlinewidth\":0,\"ticks\":\"\"},\"colorscale\":[[0.0,\"#0d0887\"],[0.1111111111111111,\"#46039f\"],[0.2222222222222222,\"#7201a8\"],[0.3333333333333333,\"#9c179e\"],[0.4444444444444444,\"#bd3786\"],[0.5555555555555556,\"#d8576b\"],[0.6666666666666666,\"#ed7953\"],[0.7777777777777778,\"#fb9f3a\"],[0.8888888888888888,\"#fdca26\"],[1.0,\"#f0f921\"]]}],\"surface\":[{\"type\":\"surface\",\"colorbar\":{\"outlinewidth\":0,\"ticks\":\"\"},\"colorscale\":[[0.0,\"#0d0887\"],[0.1111111111111111,\"#46039f\"],[0.2222222222222222,\"#7201a8\"],[0.3333333333333333,\"#9c179e\"],[0.4444444444444444,\"#bd3786\"],[0.5555555555555556,\"#d8576b\"],[0.6666666666666666,\"#ed7953\"],[0.7777777777777778,\"#fb9f3a\"],[0.8888888888888888,\"#fdca26\"],[1.0,\"#f0f921\"]]}],\"mesh3d\":[{\"type\":\"mesh3d\",\"colorbar\":{\"outlinewidth\":0,\"ticks\":\"\"}}],\"scatter\":[{\"fillpattern\":{\"fillmode\":\"overlay\",\"size\":10,\"solidity\":0.2},\"type\":\"scatter\"}],\"parcoords\":[{\"type\":\"parcoords\",\"line\":{\"colorbar\":{\"outlinewidth\":0,\"ticks\":\"\"}}}],\"scatterpolargl\":[{\"type\":\"scatterpolargl\",\"marker\":{\"colorbar\":{\"outlinewidth\":0,\"ticks\":\"\"}}}],\"bar\":[{\"error_x\":{\"color\":\"#2a3f5f\"},\"error_y\":{\"color\":\"#2a3f5f\"},\"marker\":{\"line\":{\"color\":\"#E5ECF6\",\"width\":0.5},\"pattern\":{\"fillmode\":\"overlay\",\"size\":10,\"solidity\":0.2}},\"type\":\"bar\"}],\"scattergeo\":[{\"type\":\"scattergeo\",\"marker\":{\"colorbar\":{\"outlinewidth\":0,\"ticks\":\"\"}}}],\"scatterpolar\":[{\"type\":\"scatterpolar\",\"marker\":{\"colorbar\":{\"outlinewidth\":0,\"ticks\":\"\"}}}],\"histogram\":[{\"marker\":{\"pattern\":{\"fillmode\":\"overlay\",\"size\":10,\"solidity\":0.2}},\"type\":\"histogram\"}],\"scattergl\":[{\"type\":\"scattergl\",\"marker\":{\"colorbar\":{\"outlinewidth\":0,\"ticks\":\"\"}}}],\"scatter3d\":[{\"type\":\"scatter3d\",\"line\":{\"colorbar\":{\"outlinewidth\":0,\"ticks\":\"\"}},\"marker\":{\"colorbar\":{\"outlinewidth\":0,\"ticks\":\"\"}}}],\"scattermapbox\":[{\"type\":\"scattermapbox\",\"marker\":{\"colorbar\":{\"outlinewidth\":0,\"ticks\":\"\"}}}],\"scatterternary\":[{\"type\":\"scatterternary\",\"marker\":{\"colorbar\":{\"outlinewidth\":0,\"ticks\":\"\"}}}],\"scattercarpet\":[{\"type\":\"scattercarpet\",\"marker\":{\"colorbar\":{\"outlinewidth\":0,\"ticks\":\"\"}}}],\"carpet\":[{\"aaxis\":{\"endlinecolor\":\"#2a3f5f\",\"gridcolor\":\"white\",\"linecolor\":\"white\",\"minorgridcolor\":\"white\",\"startlinecolor\":\"#2a3f5f\"},\"baxis\":{\"endlinecolor\":\"#2a3f5f\",\"gridcolor\":\"white\",\"linecolor\":\"white\",\"minorgridcolor\":\"white\",\"startlinecolor\":\"#2a3f5f\"},\"type\":\"carpet\"}],\"table\":[{\"cells\":{\"fill\":{\"color\":\"#EBF0F8\"},\"line\":{\"color\":\"white\"}},\"header\":{\"fill\":{\"color\":\"#C8D4E3\"},\"line\":{\"color\":\"white\"}},\"type\":\"table\"}],\"barpolar\":[{\"marker\":{\"line\":{\"color\":\"#E5ECF6\",\"width\":0.5},\"pattern\":{\"fillmode\":\"overlay\",\"size\":10,\"solidity\":0.2}},\"type\":\"barpolar\"}],\"pie\":[{\"automargin\":true,\"type\":\"pie\"}]},\"layout\":{\"autotypenumbers\":\"strict\",\"colorway\":[\"#636efa\",\"#EF553B\",\"#00cc96\",\"#ab63fa\",\"#FFA15A\",\"#19d3f3\",\"#FF6692\",\"#B6E880\",\"#FF97FF\",\"#FECB52\"],\"font\":{\"color\":\"#2a3f5f\"},\"hovermode\":\"closest\",\"hoverlabel\":{\"align\":\"left\"},\"paper_bgcolor\":\"white\",\"plot_bgcolor\":\"#E5ECF6\",\"polar\":{\"bgcolor\":\"#E5ECF6\",\"angularaxis\":{\"gridcolor\":\"white\",\"linecolor\":\"white\",\"ticks\":\"\"},\"radialaxis\":{\"gridcolor\":\"white\",\"linecolor\":\"white\",\"ticks\":\"\"}},\"ternary\":{\"bgcolor\":\"#E5ECF6\",\"aaxis\":{\"gridcolor\":\"white\",\"linecolor\":\"white\",\"ticks\":\"\"},\"baxis\":{\"gridcolor\":\"white\",\"linecolor\":\"white\",\"ticks\":\"\"},\"caxis\":{\"gridcolor\":\"white\",\"linecolor\":\"white\",\"ticks\":\"\"}},\"coloraxis\":{\"colorbar\":{\"outlinewidth\":0,\"ticks\":\"\"}},\"colorscale\":{\"sequential\":[[0.0,\"#0d0887\"],[0.1111111111111111,\"#46039f\"],[0.2222222222222222,\"#7201a8\"],[0.3333333333333333,\"#9c179e\"],[0.4444444444444444,\"#bd3786\"],[0.5555555555555556,\"#d8576b\"],[0.6666666666666666,\"#ed7953\"],[0.7777777777777778,\"#fb9f3a\"],[0.8888888888888888,\"#fdca26\"],[1.0,\"#f0f921\"]],\"sequentialminus\":[[0.0,\"#0d0887\"],[0.1111111111111111,\"#46039f\"],[0.2222222222222222,\"#7201a8\"],[0.3333333333333333,\"#9c179e\"],[0.4444444444444444,\"#bd3786\"],[0.5555555555555556,\"#d8576b\"],[0.6666666666666666,\"#ed7953\"],[0.7777777777777778,\"#fb9f3a\"],[0.8888888888888888,\"#fdca26\"],[1.0,\"#f0f921\"]],\"diverging\":[[0,\"#8e0152\"],[0.1,\"#c51b7d\"],[0.2,\"#de77ae\"],[0.3,\"#f1b6da\"],[0.4,\"#fde0ef\"],[0.5,\"#f7f7f7\"],[0.6,\"#e6f5d0\"],[0.7,\"#b8e186\"],[0.8,\"#7fbc41\"],[0.9,\"#4d9221\"],[1,\"#276419\"]]},\"xaxis\":{\"gridcolor\":\"white\",\"linecolor\":\"white\",\"ticks\":\"\",\"title\":{\"standoff\":15},\"zerolinecolor\":\"white\",\"automargin\":true,\"zerolinewidth\":2},\"yaxis\":{\"gridcolor\":\"white\",\"linecolor\":\"white\",\"ticks\":\"\",\"title\":{\"standoff\":15},\"zerolinecolor\":\"white\",\"automargin\":true,\"zerolinewidth\":2},\"scene\":{\"xaxis\":{\"backgroundcolor\":\"#E5ECF6\",\"gridcolor\":\"white\",\"linecolor\":\"white\",\"showbackground\":true,\"ticks\":\"\",\"zerolinecolor\":\"white\",\"gridwidth\":2},\"yaxis\":{\"backgroundcolor\":\"#E5ECF6\",\"gridcolor\":\"white\",\"linecolor\":\"white\",\"showbackground\":true,\"ticks\":\"\",\"zerolinecolor\":\"white\",\"gridwidth\":2},\"zaxis\":{\"backgroundcolor\":\"#E5ECF6\",\"gridcolor\":\"white\",\"linecolor\":\"white\",\"showbackground\":true,\"ticks\":\"\",\"zerolinecolor\":\"white\",\"gridwidth\":2}},\"shapedefaults\":{\"line\":{\"color\":\"#2a3f5f\"}},\"annotationdefaults\":{\"arrowcolor\":\"#2a3f5f\",\"arrowhead\":0,\"arrowwidth\":1},\"geo\":{\"bgcolor\":\"white\",\"landcolor\":\"#E5ECF6\",\"subunitcolor\":\"white\",\"showland\":true,\"showlakes\":true,\"lakecolor\":\"white\"},\"title\":{\"x\":0.05},\"mapbox\":{\"style\":\"light\"}}},\"xaxis\":{\"anchor\":\"y\",\"domain\":[0.0,1.0],\"title\":{\"text\":\"Votes\"}},\"yaxis\":{\"anchor\":\"x\",\"domain\":[0.0,1.0],\"title\":{\"text\":\"Probability Desnsity\"}},\"legend\":{\"tracegroupgap\":0},\"margin\":{\"t\":60},\"barmode\":\"relative\",\"title\":{\"text\":\"Distribution of Votes\",\"x\":0.5,\"font\":{\"size\":20}},\"bargap\":0.02,\"plot_bgcolor\":\"white\"},                        {\"responsive\": true}                    ).then(function(){\n",
              "                            \n",
              "var gd = document.getElementById('b5416dd2-10d4-41b5-9a78-ef121778d973');\n",
              "var x = new MutationObserver(function (mutations, observer) {{\n",
              "        var display = window.getComputedStyle(gd).display;\n",
              "        if (!display || display === 'none') {{\n",
              "            console.log([gd, 'removed!']);\n",
              "            Plotly.purge(gd);\n",
              "            observer.disconnect();\n",
              "        }}\n",
              "}});\n",
              "\n",
              "// Listen for the removal of the full notebook cells\n",
              "var notebookContainer = gd.closest('#notebook-container');\n",
              "if (notebookContainer) {{\n",
              "    x.observe(notebookContainer, {childList: true});\n",
              "}}\n",
              "\n",
              "// Listen for the clearing of the current output cell\n",
              "var outputEl = gd.closest('.output');\n",
              "if (outputEl) {{\n",
              "    x.observe(outputEl, {childList: true});\n",
              "}}\n",
              "\n",
              "                        })                };                            </script>        </div>\n",
              "</body>\n",
              "</html>"
            ]
          },
          "metadata": {}
        }
      ]
    },
    {
      "cell_type": "markdown",
      "source": [
        "## As you can see the histogram is not a good one for votes. We will try something else."
      ],
      "metadata": {
        "id": "xIo09zJMQNlZ"
      }
    },
    {
      "cell_type": "code",
      "source": [
        "px.scatter(data, x = 'Rating', y = 'Votes', color = 'Rating', title = 'Rating Versus Votes')"
      ],
      "metadata": {
        "colab": {
          "base_uri": "https://localhost:8080/",
          "height": 542
        },
        "id": "II6SFNSIQMXz",
        "outputId": "5fbc70d6-580e-4399-b7a5-bfa6c00ef513"
      },
      "execution_count": null,
      "outputs": [
        {
          "output_type": "display_data",
          "data": {
            "text/html": [
              "<html>\n",
              "<head><meta charset=\"utf-8\" /></head>\n",
              "<body>\n",
              "    <div>            <script src=\"https://cdnjs.cloudflare.com/ajax/libs/mathjax/2.7.5/MathJax.js?config=TeX-AMS-MML_SVG\"></script><script type=\"text/javascript\">if (window.MathJax && window.MathJax.Hub && window.MathJax.Hub.Config) {window.MathJax.Hub.Config({SVG: {font: \"STIX-Web\"}});}</script>                <script type=\"text/javascript\">window.PlotlyConfig = {MathJaxConfig: 'local'};</script>\n",
              "        <script charset=\"utf-8\" src=\"https://cdn.plot.ly/plotly-2.24.1.min.js\"></script>                <div id=\"cbe09257-82e1-415e-8d0d-3796c018e13f\" class=\"plotly-graph-div\" style=\"height:525px; width:100%;\"></div>            <script type=\"text/javascript\">                                    window.PLOTLYENV=window.PLOTLYENV || {};                                    if (document.getElementById(\"cbe09257-82e1-415e-8d0d-3796c018e13f\")) {                    Plotly.newPlot(                        \"cbe09257-82e1-415e-8d0d-3796c018e13f\",                        [{\"hovertemplate\":\"Rating=%{marker.color}\\u003cbr\\u003eVotes=%{y}\\u003cextra\\u003e\\u003c\\u002fextra\\u003e\",\"legendgroup\":\"\",\"marker\":{\"color\":[5.3,5.8,6.5,6.6,6.2,4.1,5.4,6.3,5.7,6.2,7.4,6.1,5.9,6.4,3.1,7.3,6.1,6.7,6.9,6.7,6.3,7.0,3.4,6.4,6.3,5.5,7.1,6.5,6.5,6.0,7.2,6.4,7.2,5.8,3.3,7.5,5.0,7.4,7.7,6.8,7.8,6.5,6.8,7.0,7.1,6.6,6.7,4.2,6.2,6.9,6.7,7.4,7.1,6.9,6.6,6.3,7.4,6.4,6.0,6.5,6.1,5.6,7.2,5.7,7.4,6.0,7.0,6.7,6.5,8.4,6.3,7.0,5.9,7.9,6.2,5.4,7.3,6.8,8.6,7.3,5.0,6.4,6.1,5.8,5.8,6.5,6.9,5.1,7.5,6.1,6.4,7.6,7.5,7.3,7.0,4.7,7.2,7.3,6.7,6.4,6.6,6.7,6.7,5.0,4.9,7.5,7.6,8.0,9.0,6.1,6.8,5.2,7.5,6.8,5.3,6.3,6.5,7.0,7.8,7.3,6.1,5.8,5.4,6.5,6.8,7.0,7.0,7.5,6.0,2.8,7.0,6.5,5.3,6.8,6.8,6.0,4.9,7.5,5.5,6.6,6.4,6.2,5.9,6.9,6.9,3.8,5.7,6.7,7.9,6.6,7.2,7.7,7.2,6.8,6.0,7.3,6.5,5.6,5.1,7.1,6.1,6.6,7.1,7.2,8.2,5.8,4.8,4.8,5.6,6.4,6.3,6.9,6.6,6.9,6.8,6.9,6.1,6.9,6.2,7.5,8.0,3.8,6.2,5.6,8.7,7.7,7.2,6.7,6.1,6.8,5.9,7.1,6.5,7.4,6.6,6.7,6.5,6.3,7.1,8.6,7.2,5.9,6.4,7.7,6.4,6.7,6.3,5.1,7.9,6.6,6.1,6.9,6.9,7.1,6.8,6.8,5.8,6.1,7.3,5.6,7.4,7.4,8.1,5.3,6.2,8.0,7.7,4.2,7.1,7.3,6.9,6.7,8.0,6.8,7.4,6.4,6.5,6.7,5.9,6.3,7.2,5.0,4.5,5.8,6.9,7.7,6.3,6.8,7.7,6.8,5.7,5.8,6.5,5.5,5.9,5.8,7.6,6.6,7.0,7.4,6.6,6.3,7.0,7.7,3.3,7.4,6.7,5.1,6.1,7.0,6.6,6.9,5.9,7.1,6.7,7.1,5.7,4.7,7.4,5.8,6.5,6.2,6.5,6.7,6.0,4.5,6.7,7.6,6.0,5.8,4.4,6.4,5.5,5.6,8.1,5.7,6.7,7.2,7.3,6.5,6.4,5.9,4.2,6.3,7.1,5.8,7.7,7.2,5.9,6.6,4.1,6.5,4.7,5.2,5.9,6.8,7.0,6.1,3.4,6.4,7.4,7.2,5.0,7.5,7.0,7.1,6.4,5.5,6.7,6.6,7.3,5.1,6.1,6.9,4.6,7.1,5.7,4.8,5.5,6.0,6.7,5.3,8.1,5.9,6.4,4.8,6.4,7.1,7.2,5.7,5.9,8.3,3.7,7.2,6.8,5.0,5.9,5.8,5.5,6.1,7.1,6.6,6.4,7.1,5.2,7.6,7.2,5.8,6.8,6.9,8.2,5.4,6.5,6.1,6.6,7.2,6.3,6.7,6.3,7.1,7.1,8.5,6.1,7.0,5.6,4.9,4.5,4.4,4.7,6.7,6.6,6.0,6.0,4.6,3.8,5.4,6.6,6.0,7.8,6.1,4.3,7.1,5.3,4.1,4.7,6.2,6.5,7.2,7.1,6.2,6.7,6.9,7.2,6.4,5.1,6.5,5.8,5.1,6.7,3.9,6.9,6.7,7.0,7.3,5.8,5.1,6.9,5.0,5.3,5.5,4.6,5.6,5.1,7.6,7.5,5.6,5.4,3.9,5.0,6.6,7.8,7.0,6.4,4.8,7.0,6.7,6.9,8.2,7.1,5.6,5.8,4.9,4.2,6.7,7.3,5.1,6.4,3.4,5.0,4.6,5.0,4.8,5.2,4.1,5.6,5.9,4.3,4.5,3.3,5.2,4.1,7.7,6.3,6.0,5.7,7.2,5.1,7.2,5.8,6.9,7.2,7.1,6.7,4.8,7.1,6.0,5.6,6.6,3.6,4.2,5.3,4.9,4.7,5.2,5.9,4.8,7.5,5.8,3.3,6.1,4.4,5.2,5.7,5.4,5.5,4.4,7.2,4.8,4.7,5.5,4.8,5.5,6.7,7.0,7.0,4.4,3.9,4.1,6.2,5.1,5.8,5.5,2.8,3.8,4.4,4.9,7.1,4.4,7.9,4.8,3.3,5.5,4.3,5.1,5.8,3.8,4.8,3.4,5.9,4.1,6.9,6.2,4.6,6.3,3.4,7.5,6.1,4.8,4.1,5.0,4.5,5.6,4.7,7.2,5.7,4.4,3.8,4.4,5.8,5.2,3.4,6.0,5.7,5.7,2.9,6.2,7.3,7.7,4.4,6.5,5.7,4.9,4.2,4.0,4.1,6.7,4.4,5.9,7.0,7.0,3.8,7.0,6.7,5.2,7.6,4.2,5.0,4.2,4.1,7.3,5.0,6.9,2.7,7.0,6.6,3.7,6.0,5.3,4.0,4.6,5.4,5.4,7.7,6.4,5.5,7.2,3.1,4.6,4.9,3.8,4.3,7.8,3.6,6.6,5.6,6.1,6.7,5.1,2.8,5.8,3.5,5.1,7.2,4.5,3.8,4.6,7.5,7.9,6.6,6.8,6.2,4.3,4.8,3.7,2.5,4.3,5.6,7.1,5.0,7.4,3.4,4.9,5.6,4.7,4.0,7.1,6.6,4.4,3.8,5.4,6.4,5.2,6.1,4.7,5.1,6.1,4.6,5.6,5.0,2.8,5.1,4.6,5.0,6.0,5.7,5.0,4.4,5.7,5.8,2.1,5.5,5.5,5.3,5.7,7.0,4.7,7.4,3.8,2.9,7.3,5.1,4.6,3.8,3.8,5.0,7.6,5.2,3.9,7.6,6.5,8.5,3.3,6.1,4.8,3.1,5.2,5.4,3.1,4.6,6.7,3.5,4.9,7.4,4.9,5.3,4.9,6.8,5.1,5.6,5.4,6.2,6.2,2.9,3.5,6.9,4.6,6.5,2.9,6.5,7.9,5.7,4.9,7.0,6.3,3.4,8.6,6.4,5.6,3.9,6.7,7.2,5.9,2.9,4.6,3.1,3.9,4.6,8.0,4.7,6.9,1.7,5.3,3.6,6.6,3.3,7.4,5.4,3.1,5.6,4.2,6.1,7.7,6.2,6.9,5.1,6.3,3.5,5.3,6.4,6.2,4.3,4.5,5.6,8.2,6.8,6.8,2.4,6.9,3.2,4.6,3.8,6.1,3.9,3.5,3.1,2.9,6.3,2.7,4.7,5.1,7.0,7.7,4.8,5.1,3.2,4.8,5.1,4.0,7.1,4.6,3.1,2.4,7.3,4.9,3.8,2.7,7.3,5.2,7.2,4.5,6.6,3.1,4.2,8.6,7.1,8.2,3.5,4.7,6.9,7.3,4.2,3.9,7.6,4.1,7.3,5.3,5.7,5.9,7.1,4.1,5.6,6.4,4.2,5.1,6.8,7.9,4.3,5.9,5.4,5.6,6.5,5.8,4.7,6.7,5.2,6.2,7.4,3.4,3.2,6.5,4.6,5.5,6.8,7.0,6.6,3.7,4.8,5.5,6.3,7.2,5.4,5.1,5.7,5.6,8.0,6.2,3.8,3.4,5.7,3.0,4.2,2.6,6.4,6.9,6.5,6.2,6.3,4.6,4.8,4.9,6.4,4.7,9.2,7.1,2.7,5.4,7.7,5.8,6.6,5.8,5.9,8.6,8.0,4.4,5.1,6.0,7.3,2.9,7.3,6.2,7.6,5.2,3.8,6.8,6.5,4.5,4.7,6.1,5.1,7.3,7.1,6.0,6.8,6.4,4.8,7.2,6.5,4.4,6.4,6.8,4.4,6.6,4.4,7.1,7.2,3.7,6.4,4.2,4.8,6.8,3.1,4.3,6.4,8.0,7.0,2.4,5.8,9.1,6.0,5.8,3.9,6.2,4.6,5.7,4.3,7.3,7.3,6.7,4.7,6.1,3.9,5.4,4.7,5.4,7.4,4.0,5.7,3.6,5.7,7.1,6.5,6.4,4.3,4.0,6.2,4.1,6.2,4.2,5.9,5.7,5.9,5.0,4.8,6.8,3.9,5.3,7.3,3.5,7.7,3.1,6.2,5.1,5.5,5.2,6.0,6.9,4.5,4.2,8.1,5.9,7.8,6.6,6.4,4.9,6.2,7.5,8.1,7.5,4.4,7.6,3.8,5.2,6.3,1.9,3.7,6.0,4.5,6.2,7.3,5.5,5.9,6.7,3.8,6.2,3.6,4.2,5.9,7.3,6.7,6.7,4.4,7.3,6.9,6.6,6.6,5.9,6.0,5.8,5.4,6.5,6.1,4.6,2.5,2.6,5.6,4.5,6.5,6.5,6.0,6.0,4.8,6.9,7.7,4.3,6.2,2.3,6.4,5.1,6.4,3.6,4.7,6.2,4.2,4.0,5.8,3.5,3.6,7.3,2.4,7.1,7.8,4.9,6.5,5.9,4.0,7.1,3.8,7.2,5.9,6.0,3.2,3.2,3.8,5.5,6.1,7.0,6.7,7.2,4.9,4.8,8.2,6.1,4.2,7.2,6.9,8.4,7.0,5.9,6.7,8.2,4.0,9.2,6.6,6.8,5.6,5.6,7.3,5.7,5.6,3.5,6.1,7.4,5.7,6.2,7.3,3.6,5.9,6.9,6.1,5.8,4.7,4.2,6.7,5.2,5.9,6.7,4.8,5.2,1.6,2.5,7.1,4.7,6.6,5.8,6.3,7.3,6.3,2.5,8.2,5.3,7.0,6.2,2.7,3.7,7.5,3.9,4.5,7.6,6.0,6.2,7.9,6.7,4.2,8.5,6.8,6.9,6.7,8.6,4.9,4.8,3.1,3.6,5.7,7.3,6.2,6.5,6.8,4.6,5.2,8.8,4.2,5.9,6.0,6.6,5.6,5.7,7.7,2.7,6.6,6.1,5.6,4.9,6.9,5.7,6.6,7.4,6.8,4.0,1.9,5.4,2.4,8.0,7.9,7.0,4.4,4.3,8.6,4.3,4.8,7.2,5.9,6.0,7.3,6.4,4.2,8.4,6.5,4.8,3.2,7.5,6.2,6.7,5.3,5.9,6.4,5.0,6.8,5.4,5.5,8.1,4.0,6.4,2.3,6.8,6.0,7.2,6.5,2.5,5.4,7.1,5.3,5.8,5.2,5.9,8.2,4.4,7.3,8.6,2.1,8.8,6.8,5.6,7.5,7.2,7.2,7.3,4.9,7.6,4.0,6.8,8.9,8.1,7.4,6.5,8.3,7.1,5.3,5.1,5.5,7.2,6.1,5.4,6.2,6.8,8.1,7.9,6.6,6.3,7.7,5.6,6.0,6.2,3.5,5.8,5.6,7.5,6.8,3.1,6.6,3.3,3.7,8.2,5.1,5.4,7.3,6.5,2.7,4.5,5.8,6.9,4.7,6.5,5.5,9.0,6.3,4.1,5.6,4.1,8.7,5.9,5.5,5.4,4.9,5.4,6.1,6.8,6.4,5.5,5.7,5.8,4.8,5.3,5.9,6.9,6.8,5.5,7.7,5.6,6.4,5.4,4.9,3.6,8.1,7.8,3.7,6.2,7.8,6.8,5.6,7.9,5.5,3.2,7.3,6.9,2.8,4.3,5.6,6.9,5.9,7.1,5.9,7.9,6.1,8.2,6.6,6.6,7.8,7.8,7.2,8.8,5.9,6.5,6.4,6.3,5.4,6.6,9.3,7.0,6.8,8.0,6.1,5.8,7.4,6.9,6.6,5.5,5.9,6.6,6.8,4.8,6.9,6.9,6.2,6.1,4.9,5.4,8.7,8.4,8.6,5.7,5.7,4.9,3.6,6.6,5.8,5.7,5.4,7.8,7.4,5.8,4.5,7.9,4.4,6.0,3.5,5.6,6.6,6.3,6.0,8.9,7.0,8.5,7.1,6.1,2.8,8.1,4.3,5.2,8.0,7.5,5.4,4.8,5.8,7.4,5.3,3.9,6.8,6.7,7.8,2.8,4.0,6.0,5.9,6.1,6.3,5.5,7.1,8.6,5.5,7.1,7.9,7.6,8.8,7.6,6.6,5.3,6.6,5.4,6.9,5.4,5.6,7.0,6.9,6.9,7.3,6.9,9.0,6.6,6.3,8.2,6.8,8.0,7.9,3.7,5.3,6.5,4.7,7.2,5.3,6.9,7.8,8.1,4.9,5.0,6.5,5.2,5.4,5.7,7.1,7.8,5.5,5.4,8.2,5.9,9.1,3.6,4.8,7.4,4.2,4.7,6.6,4.9,2.3,7.2,7.7,4.5,6.2,7.0,7.8,8.6,5.5,7.0,6.5,5.8,6.5,6.9,5.6,7.8,9.3,5.2,7.1,7.3,6.1,5.4,7.9,7.6,5.3,6.3,8.1,6.6,3.3,2.7,7.9,8.6,5.1,6.8,5.5,4.5,6.2,7.6,6.7,8.1,6.7,6.1,6.8,3.5,7.5,5.8,8.8,6.7,6.1,4.8,8.0,6.8,6.6,6.4,6.5,7.3,6.6,6.7,7.2,3.5,4.3,6.8,9.1,5.5,5.9,2.5,9.4,4.4,8.7,6.2,8.0,8.6,7.3,7.3,5.9,7.8,7.9,8.5,4.3,7.1,5.6,8.7,7.8,7.4,3.5,8.1,3.7,9.3,8.9,8.2,6.6,6.8,8.7,5.4,6.4,4.6,8.1,9.4,4.2,9.3,7.9,9.0],\"coloraxis\":\"coloraxis\",\"symbol\":\"circle\"},\"mode\":\"markers\",\"name\":\"\",\"showlegend\":false,\"x\":[5.3,5.8,6.5,6.6,6.2,4.1,5.4,6.3,5.7,6.2,7.4,6.1,5.9,6.4,3.1,7.3,6.1,6.7,6.9,6.7,6.3,7.0,3.4,6.4,6.3,5.5,7.1,6.5,6.5,6.0,7.2,6.4,7.2,5.8,3.3,7.5,5.0,7.4,7.7,6.8,7.8,6.5,6.8,7.0,7.1,6.6,6.7,4.2,6.2,6.9,6.7,7.4,7.1,6.9,6.6,6.3,7.4,6.4,6.0,6.5,6.1,5.6,7.2,5.7,7.4,6.0,7.0,6.7,6.5,8.4,6.3,7.0,5.9,7.9,6.2,5.4,7.3,6.8,8.6,7.3,5.0,6.4,6.1,5.8,5.8,6.5,6.9,5.1,7.5,6.1,6.4,7.6,7.5,7.3,7.0,4.7,7.2,7.3,6.7,6.4,6.6,6.7,6.7,5.0,4.9,7.5,7.6,8.0,9.0,6.1,6.8,5.2,7.5,6.8,5.3,6.3,6.5,7.0,7.8,7.3,6.1,5.8,5.4,6.5,6.8,7.0,7.0,7.5,6.0,2.8,7.0,6.5,5.3,6.8,6.8,6.0,4.9,7.5,5.5,6.6,6.4,6.2,5.9,6.9,6.9,3.8,5.7,6.7,7.9,6.6,7.2,7.7,7.2,6.8,6.0,7.3,6.5,5.6,5.1,7.1,6.1,6.6,7.1,7.2,8.2,5.8,4.8,4.8,5.6,6.4,6.3,6.9,6.6,6.9,6.8,6.9,6.1,6.9,6.2,7.5,8.0,3.8,6.2,5.6,8.7,7.7,7.2,6.7,6.1,6.8,5.9,7.1,6.5,7.4,6.6,6.7,6.5,6.3,7.1,8.6,7.2,5.9,6.4,7.7,6.4,6.7,6.3,5.1,7.9,6.6,6.1,6.9,6.9,7.1,6.8,6.8,5.8,6.1,7.3,5.6,7.4,7.4,8.1,5.3,6.2,8.0,7.7,4.2,7.1,7.3,6.9,6.7,8.0,6.8,7.4,6.4,6.5,6.7,5.9,6.3,7.2,5.0,4.5,5.8,6.9,7.7,6.3,6.8,7.7,6.8,5.7,5.8,6.5,5.5,5.9,5.8,7.6,6.6,7.0,7.4,6.6,6.3,7.0,7.7,3.3,7.4,6.7,5.1,6.1,7.0,6.6,6.9,5.9,7.1,6.7,7.1,5.7,4.7,7.4,5.8,6.5,6.2,6.5,6.7,6.0,4.5,6.7,7.6,6.0,5.8,4.4,6.4,5.5,5.6,8.1,5.7,6.7,7.2,7.3,6.5,6.4,5.9,4.2,6.3,7.1,5.8,7.7,7.2,5.9,6.6,4.1,6.5,4.7,5.2,5.9,6.8,7.0,6.1,3.4,6.4,7.4,7.2,5.0,7.5,7.0,7.1,6.4,5.5,6.7,6.6,7.3,5.1,6.1,6.9,4.6,7.1,5.7,4.8,5.5,6.0,6.7,5.3,8.1,5.9,6.4,4.8,6.4,7.1,7.2,5.7,5.9,8.3,3.7,7.2,6.8,5.0,5.9,5.8,5.5,6.1,7.1,6.6,6.4,7.1,5.2,7.6,7.2,5.8,6.8,6.9,8.2,5.4,6.5,6.1,6.6,7.2,6.3,6.7,6.3,7.1,7.1,8.5,6.1,7.0,5.6,4.9,4.5,4.4,4.7,6.7,6.6,6.0,6.0,4.6,3.8,5.4,6.6,6.0,7.8,6.1,4.3,7.1,5.3,4.1,4.7,6.2,6.5,7.2,7.1,6.2,6.7,6.9,7.2,6.4,5.1,6.5,5.8,5.1,6.7,3.9,6.9,6.7,7.0,7.3,5.8,5.1,6.9,5.0,5.3,5.5,4.6,5.6,5.1,7.6,7.5,5.6,5.4,3.9,5.0,6.6,7.8,7.0,6.4,4.8,7.0,6.7,6.9,8.2,7.1,5.6,5.8,4.9,4.2,6.7,7.3,5.1,6.4,3.4,5.0,4.6,5.0,4.8,5.2,4.1,5.6,5.9,4.3,4.5,3.3,5.2,4.1,7.7,6.3,6.0,5.7,7.2,5.1,7.2,5.8,6.9,7.2,7.1,6.7,4.8,7.1,6.0,5.6,6.6,3.6,4.2,5.3,4.9,4.7,5.2,5.9,4.8,7.5,5.8,3.3,6.1,4.4,5.2,5.7,5.4,5.5,4.4,7.2,4.8,4.7,5.5,4.8,5.5,6.7,7.0,7.0,4.4,3.9,4.1,6.2,5.1,5.8,5.5,2.8,3.8,4.4,4.9,7.1,4.4,7.9,4.8,3.3,5.5,4.3,5.1,5.8,3.8,4.8,3.4,5.9,4.1,6.9,6.2,4.6,6.3,3.4,7.5,6.1,4.8,4.1,5.0,4.5,5.6,4.7,7.2,5.7,4.4,3.8,4.4,5.8,5.2,3.4,6.0,5.7,5.7,2.9,6.2,7.3,7.7,4.4,6.5,5.7,4.9,4.2,4.0,4.1,6.7,4.4,5.9,7.0,7.0,3.8,7.0,6.7,5.2,7.6,4.2,5.0,4.2,4.1,7.3,5.0,6.9,2.7,7.0,6.6,3.7,6.0,5.3,4.0,4.6,5.4,5.4,7.7,6.4,5.5,7.2,3.1,4.6,4.9,3.8,4.3,7.8,3.6,6.6,5.6,6.1,6.7,5.1,2.8,5.8,3.5,5.1,7.2,4.5,3.8,4.6,7.5,7.9,6.6,6.8,6.2,4.3,4.8,3.7,2.5,4.3,5.6,7.1,5.0,7.4,3.4,4.9,5.6,4.7,4.0,7.1,6.6,4.4,3.8,5.4,6.4,5.2,6.1,4.7,5.1,6.1,4.6,5.6,5.0,2.8,5.1,4.6,5.0,6.0,5.7,5.0,4.4,5.7,5.8,2.1,5.5,5.5,5.3,5.7,7.0,4.7,7.4,3.8,2.9,7.3,5.1,4.6,3.8,3.8,5.0,7.6,5.2,3.9,7.6,6.5,8.5,3.3,6.1,4.8,3.1,5.2,5.4,3.1,4.6,6.7,3.5,4.9,7.4,4.9,5.3,4.9,6.8,5.1,5.6,5.4,6.2,6.2,2.9,3.5,6.9,4.6,6.5,2.9,6.5,7.9,5.7,4.9,7.0,6.3,3.4,8.6,6.4,5.6,3.9,6.7,7.2,5.9,2.9,4.6,3.1,3.9,4.6,8.0,4.7,6.9,1.7,5.3,3.6,6.6,3.3,7.4,5.4,3.1,5.6,4.2,6.1,7.7,6.2,6.9,5.1,6.3,3.5,5.3,6.4,6.2,4.3,4.5,5.6,8.2,6.8,6.8,2.4,6.9,3.2,4.6,3.8,6.1,3.9,3.5,3.1,2.9,6.3,2.7,4.7,5.1,7.0,7.7,4.8,5.1,3.2,4.8,5.1,4.0,7.1,4.6,3.1,2.4,7.3,4.9,3.8,2.7,7.3,5.2,7.2,4.5,6.6,3.1,4.2,8.6,7.1,8.2,3.5,4.7,6.9,7.3,4.2,3.9,7.6,4.1,7.3,5.3,5.7,5.9,7.1,4.1,5.6,6.4,4.2,5.1,6.8,7.9,4.3,5.9,5.4,5.6,6.5,5.8,4.7,6.7,5.2,6.2,7.4,3.4,3.2,6.5,4.6,5.5,6.8,7.0,6.6,3.7,4.8,5.5,6.3,7.2,5.4,5.1,5.7,5.6,8.0,6.2,3.8,3.4,5.7,3.0,4.2,2.6,6.4,6.9,6.5,6.2,6.3,4.6,4.8,4.9,6.4,4.7,9.2,7.1,2.7,5.4,7.7,5.8,6.6,5.8,5.9,8.6,8.0,4.4,5.1,6.0,7.3,2.9,7.3,6.2,7.6,5.2,3.8,6.8,6.5,4.5,4.7,6.1,5.1,7.3,7.1,6.0,6.8,6.4,4.8,7.2,6.5,4.4,6.4,6.8,4.4,6.6,4.4,7.1,7.2,3.7,6.4,4.2,4.8,6.8,3.1,4.3,6.4,8.0,7.0,2.4,5.8,9.1,6.0,5.8,3.9,6.2,4.6,5.7,4.3,7.3,7.3,6.7,4.7,6.1,3.9,5.4,4.7,5.4,7.4,4.0,5.7,3.6,5.7,7.1,6.5,6.4,4.3,4.0,6.2,4.1,6.2,4.2,5.9,5.7,5.9,5.0,4.8,6.8,3.9,5.3,7.3,3.5,7.7,3.1,6.2,5.1,5.5,5.2,6.0,6.9,4.5,4.2,8.1,5.9,7.8,6.6,6.4,4.9,6.2,7.5,8.1,7.5,4.4,7.6,3.8,5.2,6.3,1.9,3.7,6.0,4.5,6.2,7.3,5.5,5.9,6.7,3.8,6.2,3.6,4.2,5.9,7.3,6.7,6.7,4.4,7.3,6.9,6.6,6.6,5.9,6.0,5.8,5.4,6.5,6.1,4.6,2.5,2.6,5.6,4.5,6.5,6.5,6.0,6.0,4.8,6.9,7.7,4.3,6.2,2.3,6.4,5.1,6.4,3.6,4.7,6.2,4.2,4.0,5.8,3.5,3.6,7.3,2.4,7.1,7.8,4.9,6.5,5.9,4.0,7.1,3.8,7.2,5.9,6.0,3.2,3.2,3.8,5.5,6.1,7.0,6.7,7.2,4.9,4.8,8.2,6.1,4.2,7.2,6.9,8.4,7.0,5.9,6.7,8.2,4.0,9.2,6.6,6.8,5.6,5.6,7.3,5.7,5.6,3.5,6.1,7.4,5.7,6.2,7.3,3.6,5.9,6.9,6.1,5.8,4.7,4.2,6.7,5.2,5.9,6.7,4.8,5.2,1.6,2.5,7.1,4.7,6.6,5.8,6.3,7.3,6.3,2.5,8.2,5.3,7.0,6.2,2.7,3.7,7.5,3.9,4.5,7.6,6.0,6.2,7.9,6.7,4.2,8.5,6.8,6.9,6.7,8.6,4.9,4.8,3.1,3.6,5.7,7.3,6.2,6.5,6.8,4.6,5.2,8.8,4.2,5.9,6.0,6.6,5.6,5.7,7.7,2.7,6.6,6.1,5.6,4.9,6.9,5.7,6.6,7.4,6.8,4.0,1.9,5.4,2.4,8.0,7.9,7.0,4.4,4.3,8.6,4.3,4.8,7.2,5.9,6.0,7.3,6.4,4.2,8.4,6.5,4.8,3.2,7.5,6.2,6.7,5.3,5.9,6.4,5.0,6.8,5.4,5.5,8.1,4.0,6.4,2.3,6.8,6.0,7.2,6.5,2.5,5.4,7.1,5.3,5.8,5.2,5.9,8.2,4.4,7.3,8.6,2.1,8.8,6.8,5.6,7.5,7.2,7.2,7.3,4.9,7.6,4.0,6.8,8.9,8.1,7.4,6.5,8.3,7.1,5.3,5.1,5.5,7.2,6.1,5.4,6.2,6.8,8.1,7.9,6.6,6.3,7.7,5.6,6.0,6.2,3.5,5.8,5.6,7.5,6.8,3.1,6.6,3.3,3.7,8.2,5.1,5.4,7.3,6.5,2.7,4.5,5.8,6.9,4.7,6.5,5.5,9.0,6.3,4.1,5.6,4.1,8.7,5.9,5.5,5.4,4.9,5.4,6.1,6.8,6.4,5.5,5.7,5.8,4.8,5.3,5.9,6.9,6.8,5.5,7.7,5.6,6.4,5.4,4.9,3.6,8.1,7.8,3.7,6.2,7.8,6.8,5.6,7.9,5.5,3.2,7.3,6.9,2.8,4.3,5.6,6.9,5.9,7.1,5.9,7.9,6.1,8.2,6.6,6.6,7.8,7.8,7.2,8.8,5.9,6.5,6.4,6.3,5.4,6.6,9.3,7.0,6.8,8.0,6.1,5.8,7.4,6.9,6.6,5.5,5.9,6.6,6.8,4.8,6.9,6.9,6.2,6.1,4.9,5.4,8.7,8.4,8.6,5.7,5.7,4.9,3.6,6.6,5.8,5.7,5.4,7.8,7.4,5.8,4.5,7.9,4.4,6.0,3.5,5.6,6.6,6.3,6.0,8.9,7.0,8.5,7.1,6.1,2.8,8.1,4.3,5.2,8.0,7.5,5.4,4.8,5.8,7.4,5.3,3.9,6.8,6.7,7.8,2.8,4.0,6.0,5.9,6.1,6.3,5.5,7.1,8.6,5.5,7.1,7.9,7.6,8.8,7.6,6.6,5.3,6.6,5.4,6.9,5.4,5.6,7.0,6.9,6.9,7.3,6.9,9.0,6.6,6.3,8.2,6.8,8.0,7.9,3.7,5.3,6.5,4.7,7.2,5.3,6.9,7.8,8.1,4.9,5.0,6.5,5.2,5.4,5.7,7.1,7.8,5.5,5.4,8.2,5.9,9.1,3.6,4.8,7.4,4.2,4.7,6.6,4.9,2.3,7.2,7.7,4.5,6.2,7.0,7.8,8.6,5.5,7.0,6.5,5.8,6.5,6.9,5.6,7.8,9.3,5.2,7.1,7.3,6.1,5.4,7.9,7.6,5.3,6.3,8.1,6.6,3.3,2.7,7.9,8.6,5.1,6.8,5.5,4.5,6.2,7.6,6.7,8.1,6.7,6.1,6.8,3.5,7.5,5.8,8.8,6.7,6.1,4.8,8.0,6.8,6.6,6.4,6.5,7.3,6.6,6.7,7.2,3.5,4.3,6.8,9.1,5.5,5.9,2.5,9.4,4.4,8.7,6.2,8.0,8.6,7.3,7.3,5.9,7.8,7.9,8.5,4.3,7.1,5.6,8.7,7.8,7.4,3.5,8.1,3.7,9.3,8.9,8.2,6.6,6.8,8.7,5.4,6.4,4.6,8.1,9.4,4.2,9.3,7.9,9.0],\"xaxis\":\"x\",\"y\":[6,13,10,5,9,11,5,9,7,12,38,17,9,9,10,6,17,11,31,229,12,23,11,10,15,14,11,11,6,10,12,19,12,8,6,30,7,93,27,10,6,8,182,18,28,25,6,5,12,39,39,38,21,18,30,15,15,8,6,15,10,13,5,18,27,7,41,10,32,1857,11,28,16,7,51,9,46,103,16,15,8,28,7,15,12,11,52,7,68,12,14,80,17,27,18,7,66,57,19,15,35,18,158,7,9,57,60,2136,22,14,13,35,20,25,6,9,14,9,317,87,21,5,346,112,30,21,58,24,33,28,26,13,33,42,12,5,10,13,6,32,7,11,33,122,45,9,14,43,50,13,47,85,80,53,5,203,11,8,8,54,20,21,8,60,690,10,8,16,48,32,37,64,9,8,12,23,10,420,27,22,49,6,14,7,10,47,78,13,17,49,10,29,40,536,10,137,117,9,200,1523,337,15,10,10,14,11,19,28,232,115,88,69,8,230,48,8,5,11,1564,11,11,27,689,22,44,1185,6,16,30,6,194,13,44,62,7,13,86,17,7,10,6,5,19,14,421,540,7,42,85,20,14,24,26,85,14,5,5,114,33,197,23,22,9,26,6,585,18,18,19,52,31,137,7,181,10,128,12,7,51,20,64,16,10,18,22,16,7,527,17,17,15,17,11,18,60,15,68,58,6,57,17,101,26,30,16,16,67,78,31,76,7,18,15,18,22,141,5,22,9,18,94,446,11,45,64,264,19,15,48,128,275,34,9,11,10,37,7,12,76,47,13,9,27,7,45,22,108,520,571,23,23,39,13,494,64,54,55,109,75,22,153,85,37,55,12,450,242,13,27,47,1781,18,26,44,129,474,16,138,27,42,346,6,49,255,80,14,8,16,43,127,160,17,32,15,5,12,14,58,43,43,38,27,12,9,36,11,15,53,124,58,103,43,105,165,19,57,43,37,113,9,17,7,13,26,293,46,7,22,93,281,52,48,32,21,22,37,67,7,8,30,51,27,27,25,27,75,365,37,438,60,19,14,16,142,63,191,24,8,7,8,52,27,250,39,36,65,37,6,17,13,7,72,13,66,81,699,13,212,102,7,53,257,1255,51,84,360,8,5,22,41,19,47,63,12,150,17,77,48,15,29,13,29,39,12,26,8,78,47,37,37,17,109,66,49,170,25,28,17,40,75,36,41,9,9,17,75,1020,14,7,8,6,14,60,75,17,9,57,58,56,20,54,65,68,51,17,86,25,21,13,16,88,15,35,489,6,30,36,20,84,9,186,45,31,10,20,69,73,406,68,50,27,134,160,23,13,11,124,53,64,4780,24,243,52,16,73,345,87,1582,40,67,60,15,21,218,189,11,25,73,652,206,332,13,215,172,46,62,14,7,10,24,7,33,53,23,26,230,49,126,17,63,6,12,13,13,24,640,31,3007,2610,302,6,6,44,24,25,25,31,274,45,285,299,25,11,13,9,367,30,21,18,104,442,5,188,7,15,23,9,21,636,8,56,24,213,20,7,7,34,15,39,23,67,11,105,16,288,706,7,5,15,645,9,18,6,20,10,17,17,8,432,40,15,11,10,24,7,5,249,7,29,19,122,311,57,10,7,50,245,8,1197,17,11,95,7,8,70,17,29,554,50,4744,798,24,2108,3207,11,336,370,7,29,46,242,525,7,29,102,78,850,2633,24,19,27,30,7,9,6,15,374,15,102,6,268,2042,101,80,1909,116,6,6,32,17,7,16,39,85340,21,107,264,1332,344,20,25,1983,22,77,151,13,12,9,24,46,39,14461,37,62,8,14,34,696,488,42,45,185,6712,1061,140,58,425,8,13,30,68,72,31,663,38,33782,892,54,594,856,44,71,796,35,700,10,60,14,1002,320,58,132,40,15,31,5785,6,45,1962,24,1957,25,43,35,12,10,25,263,9,673,189,86,118,6120,9,70,13,47,20,454,1622,49,7,1807,29,179,15,8,1556,922,36,356,66,51,1544,31,365,156,9,51,23,11,36,191,9,13,6034,12,44,96,110,43,648,7,42,83,9,125,106,1242,62,17,46,119,201,6,61,7256,265,1747,9678,10,640,37,395,254,257,15,223,948,47,32,261,1259,442,125,34,178,8,503,8,171,5383,101014,12695,8,56,99,26,95,34,9,10,14,126,398,456,302,5433,115,24,9,52,26,8,18,75,88,3677,15,13,153,9,6,97,365,18,28,7,47,185,34,25,131,75,63,3371,191,36,15,196,4132,14,76,982,152,113,1023,24,48,162,3690,22,3748,3031,209,6922,55,33,870,151,15,7,128,6,80,6,176,17,43,4964,5124,27,142,12,1747,126,671,14,454,16,433,75,131,588,14,25,34,129,444,532,24,26,143,10,22,55,299,502,2860,15,793,4338,27,10,235,449,75,44,50,123,1147,171,8,102,10,20,1553,18,29,25,301,31,31,126,32,2740,68,33,11,42,13,101,10,284,64,15,3565,2906,12,344,10,64,1968,1589,52,10,59,9,20,9,97,504,7099,23,101,55,7,239,31,14,20,123,13,293,119,7,71,408,22,22,862,9,13,101,82,41,47,43,8,23,672,52,28,36,35,2118,575,24900,20,62,25,35,1622,77,136,159,4954,13,356,31,315,13,16,62,8,193,17,45,151,142,5,760,278,137,31,16,56,6,85,266,74,13,145,184,216,35,11,23,18,14,43,210,268,13,26,193,96,4165,118,2622,13,20,15,16,860,656,74,9,15,22,257,252,45,10,33,676,27,235,27,13,403,17337,59,77,21,5,34,117,412,20,18,9,2139,12,894,117,104,99,21,18,3336,11,294,9,167,16,47,419,5,15,36,8,16,92,694,8,882,7,132,203,43,238,4890,47,89,103,34,15,24,27,1770,11,45,15,1785,56,30,40,1873,14,41,11,10,36,17,58,8,28,6,61,27,291,5,81,12,339,399,52,973,31,137,16,62,10,101,12,342,6,16,106,1446,9,13,94,27,26,28,31,6,53,9,1636,8,101,83,52,12,9,219,82,39,985,28,12,33,147,32,10,485,13,12000,17,2334,10,22,221,26,102,283,24,7,31,37,18,41,10,10,13,5,17,8,82,7,22,89,7,15,65,6,271,221,94,358,27,258,478,228,323,30,19,14156,9,8,180,206,93,692,155,10,78,34,18,36,12,394,303,1055,1570,6,1251,3781,92,4685,43,1042,7,166,77,10,1257,41,472,10,8,27,18,101,249,820,259,38,8,150,106,28,48,736,9,101,20,13,37,361,6,349,805,500,6,27,24,1361,23,69,15,449,12,19,7,597,93,20,4944,35,12370,15644,12,29,1098,8,5,24,30,22,406,32,330,672,246,7,8,17,251,38,897,27,348,286,29,8,783,16,13,200,7,5,352,27,45,162,92,73,215,9,29,18,8,20,50,1417,1486,8,941,21,8,9,329,15,46,16,22,31,50,43,778,13,30,954,31,9,46,50,384,38,244,15063,27,67,191,1126,87,2921,10,7,10,41,727,4826,16,384,7,122,1272,179,411,678,388,15,18,31,1533,20,1208,41,83029,2708,3011,25,16,215,21,56,13,14,33,85,7,8,9,6,204,7,3167,20,20,3737,514,106,7,29,294,32,76,26,12,77,10,1383,24,18,118,467,1059,37],\"yaxis\":\"y\",\"type\":\"scattergl\"}],                        {\"template\":{\"data\":{\"histogram2dcontour\":[{\"type\":\"histogram2dcontour\",\"colorbar\":{\"outlinewidth\":0,\"ticks\":\"\"},\"colorscale\":[[0.0,\"#0d0887\"],[0.1111111111111111,\"#46039f\"],[0.2222222222222222,\"#7201a8\"],[0.3333333333333333,\"#9c179e\"],[0.4444444444444444,\"#bd3786\"],[0.5555555555555556,\"#d8576b\"],[0.6666666666666666,\"#ed7953\"],[0.7777777777777778,\"#fb9f3a\"],[0.8888888888888888,\"#fdca26\"],[1.0,\"#f0f921\"]]}],\"choropleth\":[{\"type\":\"choropleth\",\"colorbar\":{\"outlinewidth\":0,\"ticks\":\"\"}}],\"histogram2d\":[{\"type\":\"histogram2d\",\"colorbar\":{\"outlinewidth\":0,\"ticks\":\"\"},\"colorscale\":[[0.0,\"#0d0887\"],[0.1111111111111111,\"#46039f\"],[0.2222222222222222,\"#7201a8\"],[0.3333333333333333,\"#9c179e\"],[0.4444444444444444,\"#bd3786\"],[0.5555555555555556,\"#d8576b\"],[0.6666666666666666,\"#ed7953\"],[0.7777777777777778,\"#fb9f3a\"],[0.8888888888888888,\"#fdca26\"],[1.0,\"#f0f921\"]]}],\"heatmap\":[{\"type\":\"heatmap\",\"colorbar\":{\"outlinewidth\":0,\"ticks\":\"\"},\"colorscale\":[[0.0,\"#0d0887\"],[0.1111111111111111,\"#46039f\"],[0.2222222222222222,\"#7201a8\"],[0.3333333333333333,\"#9c179e\"],[0.4444444444444444,\"#bd3786\"],[0.5555555555555556,\"#d8576b\"],[0.6666666666666666,\"#ed7953\"],[0.7777777777777778,\"#fb9f3a\"],[0.8888888888888888,\"#fdca26\"],[1.0,\"#f0f921\"]]}],\"heatmapgl\":[{\"type\":\"heatmapgl\",\"colorbar\":{\"outlinewidth\":0,\"ticks\":\"\"},\"colorscale\":[[0.0,\"#0d0887\"],[0.1111111111111111,\"#46039f\"],[0.2222222222222222,\"#7201a8\"],[0.3333333333333333,\"#9c179e\"],[0.4444444444444444,\"#bd3786\"],[0.5555555555555556,\"#d8576b\"],[0.6666666666666666,\"#ed7953\"],[0.7777777777777778,\"#fb9f3a\"],[0.8888888888888888,\"#fdca26\"],[1.0,\"#f0f921\"]]}],\"contourcarpet\":[{\"type\":\"contourcarpet\",\"colorbar\":{\"outlinewidth\":0,\"ticks\":\"\"}}],\"contour\":[{\"type\":\"contour\",\"colorbar\":{\"outlinewidth\":0,\"ticks\":\"\"},\"colorscale\":[[0.0,\"#0d0887\"],[0.1111111111111111,\"#46039f\"],[0.2222222222222222,\"#7201a8\"],[0.3333333333333333,\"#9c179e\"],[0.4444444444444444,\"#bd3786\"],[0.5555555555555556,\"#d8576b\"],[0.6666666666666666,\"#ed7953\"],[0.7777777777777778,\"#fb9f3a\"],[0.8888888888888888,\"#fdca26\"],[1.0,\"#f0f921\"]]}],\"surface\":[{\"type\":\"surface\",\"colorbar\":{\"outlinewidth\":0,\"ticks\":\"\"},\"colorscale\":[[0.0,\"#0d0887\"],[0.1111111111111111,\"#46039f\"],[0.2222222222222222,\"#7201a8\"],[0.3333333333333333,\"#9c179e\"],[0.4444444444444444,\"#bd3786\"],[0.5555555555555556,\"#d8576b\"],[0.6666666666666666,\"#ed7953\"],[0.7777777777777778,\"#fb9f3a\"],[0.8888888888888888,\"#fdca26\"],[1.0,\"#f0f921\"]]}],\"mesh3d\":[{\"type\":\"mesh3d\",\"colorbar\":{\"outlinewidth\":0,\"ticks\":\"\"}}],\"scatter\":[{\"fillpattern\":{\"fillmode\":\"overlay\",\"size\":10,\"solidity\":0.2},\"type\":\"scatter\"}],\"parcoords\":[{\"type\":\"parcoords\",\"line\":{\"colorbar\":{\"outlinewidth\":0,\"ticks\":\"\"}}}],\"scatterpolargl\":[{\"type\":\"scatterpolargl\",\"marker\":{\"colorbar\":{\"outlinewidth\":0,\"ticks\":\"\"}}}],\"bar\":[{\"error_x\":{\"color\":\"#2a3f5f\"},\"error_y\":{\"color\":\"#2a3f5f\"},\"marker\":{\"line\":{\"color\":\"#E5ECF6\",\"width\":0.5},\"pattern\":{\"fillmode\":\"overlay\",\"size\":10,\"solidity\":0.2}},\"type\":\"bar\"}],\"scattergeo\":[{\"type\":\"scattergeo\",\"marker\":{\"colorbar\":{\"outlinewidth\":0,\"ticks\":\"\"}}}],\"scatterpolar\":[{\"type\":\"scatterpolar\",\"marker\":{\"colorbar\":{\"outlinewidth\":0,\"ticks\":\"\"}}}],\"histogram\":[{\"marker\":{\"pattern\":{\"fillmode\":\"overlay\",\"size\":10,\"solidity\":0.2}},\"type\":\"histogram\"}],\"scattergl\":[{\"type\":\"scattergl\",\"marker\":{\"colorbar\":{\"outlinewidth\":0,\"ticks\":\"\"}}}],\"scatter3d\":[{\"type\":\"scatter3d\",\"line\":{\"colorbar\":{\"outlinewidth\":0,\"ticks\":\"\"}},\"marker\":{\"colorbar\":{\"outlinewidth\":0,\"ticks\":\"\"}}}],\"scattermapbox\":[{\"type\":\"scattermapbox\",\"marker\":{\"colorbar\":{\"outlinewidth\":0,\"ticks\":\"\"}}}],\"scatterternary\":[{\"type\":\"scatterternary\",\"marker\":{\"colorbar\":{\"outlinewidth\":0,\"ticks\":\"\"}}}],\"scattercarpet\":[{\"type\":\"scattercarpet\",\"marker\":{\"colorbar\":{\"outlinewidth\":0,\"ticks\":\"\"}}}],\"carpet\":[{\"aaxis\":{\"endlinecolor\":\"#2a3f5f\",\"gridcolor\":\"white\",\"linecolor\":\"white\",\"minorgridcolor\":\"white\",\"startlinecolor\":\"#2a3f5f\"},\"baxis\":{\"endlinecolor\":\"#2a3f5f\",\"gridcolor\":\"white\",\"linecolor\":\"white\",\"minorgridcolor\":\"white\",\"startlinecolor\":\"#2a3f5f\"},\"type\":\"carpet\"}],\"table\":[{\"cells\":{\"fill\":{\"color\":\"#EBF0F8\"},\"line\":{\"color\":\"white\"}},\"header\":{\"fill\":{\"color\":\"#C8D4E3\"},\"line\":{\"color\":\"white\"}},\"type\":\"table\"}],\"barpolar\":[{\"marker\":{\"line\":{\"color\":\"#E5ECF6\",\"width\":0.5},\"pattern\":{\"fillmode\":\"overlay\",\"size\":10,\"solidity\":0.2}},\"type\":\"barpolar\"}],\"pie\":[{\"automargin\":true,\"type\":\"pie\"}]},\"layout\":{\"autotypenumbers\":\"strict\",\"colorway\":[\"#636efa\",\"#EF553B\",\"#00cc96\",\"#ab63fa\",\"#FFA15A\",\"#19d3f3\",\"#FF6692\",\"#B6E880\",\"#FF97FF\",\"#FECB52\"],\"font\":{\"color\":\"#2a3f5f\"},\"hovermode\":\"closest\",\"hoverlabel\":{\"align\":\"left\"},\"paper_bgcolor\":\"white\",\"plot_bgcolor\":\"#E5ECF6\",\"polar\":{\"bgcolor\":\"#E5ECF6\",\"angularaxis\":{\"gridcolor\":\"white\",\"linecolor\":\"white\",\"ticks\":\"\"},\"radialaxis\":{\"gridcolor\":\"white\",\"linecolor\":\"white\",\"ticks\":\"\"}},\"ternary\":{\"bgcolor\":\"#E5ECF6\",\"aaxis\":{\"gridcolor\":\"white\",\"linecolor\":\"white\",\"ticks\":\"\"},\"baxis\":{\"gridcolor\":\"white\",\"linecolor\":\"white\",\"ticks\":\"\"},\"caxis\":{\"gridcolor\":\"white\",\"linecolor\":\"white\",\"ticks\":\"\"}},\"coloraxis\":{\"colorbar\":{\"outlinewidth\":0,\"ticks\":\"\"}},\"colorscale\":{\"sequential\":[[0.0,\"#0d0887\"],[0.1111111111111111,\"#46039f\"],[0.2222222222222222,\"#7201a8\"],[0.3333333333333333,\"#9c179e\"],[0.4444444444444444,\"#bd3786\"],[0.5555555555555556,\"#d8576b\"],[0.6666666666666666,\"#ed7953\"],[0.7777777777777778,\"#fb9f3a\"],[0.8888888888888888,\"#fdca26\"],[1.0,\"#f0f921\"]],\"sequentialminus\":[[0.0,\"#0d0887\"],[0.1111111111111111,\"#46039f\"],[0.2222222222222222,\"#7201a8\"],[0.3333333333333333,\"#9c179e\"],[0.4444444444444444,\"#bd3786\"],[0.5555555555555556,\"#d8576b\"],[0.6666666666666666,\"#ed7953\"],[0.7777777777777778,\"#fb9f3a\"],[0.8888888888888888,\"#fdca26\"],[1.0,\"#f0f921\"]],\"diverging\":[[0,\"#8e0152\"],[0.1,\"#c51b7d\"],[0.2,\"#de77ae\"],[0.3,\"#f1b6da\"],[0.4,\"#fde0ef\"],[0.5,\"#f7f7f7\"],[0.6,\"#e6f5d0\"],[0.7,\"#b8e186\"],[0.8,\"#7fbc41\"],[0.9,\"#4d9221\"],[1,\"#276419\"]]},\"xaxis\":{\"gridcolor\":\"white\",\"linecolor\":\"white\",\"ticks\":\"\",\"title\":{\"standoff\":15},\"zerolinecolor\":\"white\",\"automargin\":true,\"zerolinewidth\":2},\"yaxis\":{\"gridcolor\":\"white\",\"linecolor\":\"white\",\"ticks\":\"\",\"title\":{\"standoff\":15},\"zerolinecolor\":\"white\",\"automargin\":true,\"zerolinewidth\":2},\"scene\":{\"xaxis\":{\"backgroundcolor\":\"#E5ECF6\",\"gridcolor\":\"white\",\"linecolor\":\"white\",\"showbackground\":true,\"ticks\":\"\",\"zerolinecolor\":\"white\",\"gridwidth\":2},\"yaxis\":{\"backgroundcolor\":\"#E5ECF6\",\"gridcolor\":\"white\",\"linecolor\":\"white\",\"showbackground\":true,\"ticks\":\"\",\"zerolinecolor\":\"white\",\"gridwidth\":2},\"zaxis\":{\"backgroundcolor\":\"#E5ECF6\",\"gridcolor\":\"white\",\"linecolor\":\"white\",\"showbackground\":true,\"ticks\":\"\",\"zerolinecolor\":\"white\",\"gridwidth\":2}},\"shapedefaults\":{\"line\":{\"color\":\"#2a3f5f\"}},\"annotationdefaults\":{\"arrowcolor\":\"#2a3f5f\",\"arrowhead\":0,\"arrowwidth\":1},\"geo\":{\"bgcolor\":\"white\",\"landcolor\":\"#E5ECF6\",\"subunitcolor\":\"white\",\"showland\":true,\"showlakes\":true,\"lakecolor\":\"white\"},\"title\":{\"x\":0.05},\"mapbox\":{\"style\":\"light\"}}},\"xaxis\":{\"anchor\":\"y\",\"domain\":[0.0,1.0],\"title\":{\"text\":\"Rating\"}},\"yaxis\":{\"anchor\":\"x\",\"domain\":[0.0,1.0],\"title\":{\"text\":\"Votes\"}},\"coloraxis\":{\"colorbar\":{\"title\":{\"text\":\"Rating\"}},\"colorscale\":[[0.0,\"#0d0887\"],[0.1111111111111111,\"#46039f\"],[0.2222222222222222,\"#7201a8\"],[0.3333333333333333,\"#9c179e\"],[0.4444444444444444,\"#bd3786\"],[0.5555555555555556,\"#d8576b\"],[0.6666666666666666,\"#ed7953\"],[0.7777777777777778,\"#fb9f3a\"],[0.8888888888888888,\"#fdca26\"],[1.0,\"#f0f921\"]]},\"legend\":{\"tracegroupgap\":0},\"title\":{\"text\":\"Rating Versus Votes\"}},                        {\"responsive\": true}                    ).then(function(){\n",
              "                            \n",
              "var gd = document.getElementById('cbe09257-82e1-415e-8d0d-3796c018e13f');\n",
              "var x = new MutationObserver(function (mutations, observer) {{\n",
              "        var display = window.getComputedStyle(gd).display;\n",
              "        if (!display || display === 'none') {{\n",
              "            console.log([gd, 'removed!']);\n",
              "            Plotly.purge(gd);\n",
              "            observer.disconnect();\n",
              "        }}\n",
              "}});\n",
              "\n",
              "// Listen for the removal of the full notebook cells\n",
              "var notebookContainer = gd.closest('#notebook-container');\n",
              "if (notebookContainer) {{\n",
              "    x.observe(notebookContainer, {childList: true});\n",
              "}}\n",
              "\n",
              "// Listen for the clearing of the current output cell\n",
              "var outputEl = gd.closest('.output');\n",
              "if (outputEl) {{\n",
              "    x.observe(outputEl, {childList: true});\n",
              "}}\n",
              "\n",
              "                        })                };                            </script>        </div>\n",
              "</body>\n",
              "</html>"
            ]
          },
          "metadata": {}
        }
      ]
    },
    {
      "cell_type": "code",
      "source": [
        "px.scatter(data, x = 'Rating', y = 'Duration', color = 'Duration', title = 'Rating Versus Duration')"
      ],
      "metadata": {
        "colab": {
          "base_uri": "https://localhost:8080/",
          "height": 542
        },
        "id": "sLByQgQKiL0E",
        "outputId": "ea13f256-7633-4452-f07c-cc6a9c92b528"
      },
      "execution_count": null,
      "outputs": [
        {
          "output_type": "display_data",
          "data": {
            "text/html": [
              "<html>\n",
              "<head><meta charset=\"utf-8\" /></head>\n",
              "<body>\n",
              "    <div>            <script src=\"https://cdnjs.cloudflare.com/ajax/libs/mathjax/2.7.5/MathJax.js?config=TeX-AMS-MML_SVG\"></script><script type=\"text/javascript\">if (window.MathJax && window.MathJax.Hub && window.MathJax.Hub.Config) {window.MathJax.Hub.Config({SVG: {font: \"STIX-Web\"}});}</script>                <script type=\"text/javascript\">window.PlotlyConfig = {MathJaxConfig: 'local'};</script>\n",
              "        <script charset=\"utf-8\" src=\"https://cdn.plot.ly/plotly-2.24.1.min.js\"></script>                <div id=\"52cf4cab-dee4-462b-b26e-dd0eb8dc73f5\" class=\"plotly-graph-div\" style=\"height:525px; width:100%;\"></div>            <script type=\"text/javascript\">                                    window.PLOTLYENV=window.PLOTLYENV || {};                                    if (document.getElementById(\"52cf4cab-dee4-462b-b26e-dd0eb8dc73f5\")) {                    Plotly.newPlot(                        \"52cf4cab-dee4-462b-b26e-dd0eb8dc73f5\",                        [{\"hovertemplate\":\"Rating=%{x}\\u003cbr\\u003eDuration=%{marker.color}\\u003cextra\\u003e\\u003c\\u002fextra\\u003e\",\"legendgroup\":\"\",\"marker\":{\"color\":[124,154,159,128,143,136,153,90,129,139,144,166,139,157,138,140,161,134,166,131,137,141,112,158,135,128,140,150,144,156,135,144,155,133,166,121,120,143,121,122,122,122,122,98,121,147,76,133,133,207,122,155,138,164,143,149,144,137,148,144,129,130,162,170,165,146,110,142,139,131,135,139,161,120,145,107,199,140,130,129,150,117,132,164,142,88,151,146,131,140,137,133,148,119,185,145,137,121,182,114,155,127,153,143,169,160,157,148,167,171,149,160,118,173,136,134,121,139,95,150,145,152,128,135,132,125,110,120,135,80,152,120,142,133,135,134,138,136,172,136,125,138,139,153,126,136,135,166,133,157,162,136,168,160,82,146,170,176,128,160,137,155,126,100,175,135,155,137,152,154,144,135,136,136,120,143,136,110,135,148,152,131,162,110,136,138,122,156,138,134,142,148,139,164,100,139,148,130,177,125,170,135,129,115,140,117,125,134,175,125,127,107,120,98,132,124,116,137,146,120,120,131,146,135,132,131,133,112,142,122,115,129,156,155,136,136,137,103,140,140,137,127,139,132,155,134,109,135,176,121,124,115,130,136,125,127,90,119,185,124,150,135,150,136,145,142,130,132,136,110,163,118,103,119,128,142,136,151,137,133,144,123,137,93,140,139,128,78,131,125,140,141,158,114,147,130,114,120,128,146,157,150,124,147,135,134,150,152,144,137,117,121,133,138,132,140,153,140,133,142,134,127,155,160,152,117,154,216,195,151,151,131,135,143,121,140,145,118,122,119,137,120,91,130,127,149,137,180,150,108,167,109,139,110,103,100,133,132,156,120,130,128,130,120,129,141,106,140,135,171,137,128,138,125,136,150,147,130,116,153,129,107,144,137,102,140,137,130,139,106,139,141,137,109,133,141,139,157,82,143,128,131,148,132,135,135,140,113,133,135,151,135,118,148,151,148,130,115,105,112,138,129,150,140,158,150,146,127,170,116,145,160,180,130,100,135,153,141,147,140,120,142,120,156,80,158,139,137,101,153,137,169,149,150,114,146,110,113,126,120,151,131,139,127,111,158,139,102,82,153,150,91,91,138,149,160,127,95,143,131,125,105,160,128,171,155,135,137,149,153,90,155,145,135,149,138,123,147,132,161,118,160,155,165,135,136,100,165,133,125,144,160,142,121,120,121,119,129,152,157,112,130,127,120,136,172,127,140,126,155,125,152,143,130,155,132,145,158,151,182,119,162,127,154,117,102,95,137,155,125,150,168,149,128,137,162,152,117,129,90,130,150,180,134,135,138,120,130,136,90,135,153,141,120,133,125,136,145,127,160,132,89,170,148,122,140,195,160,125,165,128,150,117,143,116,141,144,128,153,143,140,132,117,132,151,128,142,120,98,172,149,137,123,130,149,180,139,160,138,130,114,88,124,126,139,138,126,125,143,127,133,105,119,153,119,120,136,186,161,145,153,140,165,139,85,100,104,133,92,93,172,137,161,146,123,173,129,87,169,97,125,140,148,144,140,90,140,115,135,123,143,142,140,71,125,145,85,120,108,109,158,113,97,140,131,114,130,115,102,146,105,108,79,152,78,96,151,113,133,180,165,148,125,82,128,130,104,118,134,109,75,112,107,115,136,116,135,122,147,120,152,95,108,121,90,150,155,110,155,120,126,143,114,157,99,95,130,188,154,90,135,106,149,90,118,154,136,46,160,95,50,99,93,90,145,108,116,95,150,96,83,94,89,189,83,94,144,172,126,119,117,142,107,145,148,100,74,73,92,127,126,117,125,145,131,132,145,134,118,134,102,162,139,162,136,99,110,76,105,102,146,138,87,60,99,122,129,120,151,102,104,110,89,88,100,140,173,88,116,155,92,129,126,118,100,147,79,125,108,119,142,109,131,169,250,100,73,147,133,115,155,112,118,137,154,112,110,150,92,127,110,103,86,300,80,110,140,160,110,152,142,93,126,149,130,92,106,190,111,126,86,88,140,109,109,95,134,110,80,135,130,113,66,140,91,134,131,110,120,131,78,115,240,112,114,127,105,141,87,144,156,107,90,127,101,120,175,120,96,95,125,120,87,120,104,98,82,118,86,131,122,121,155,165,100,122,87,95,144,140,115,87,106,102,105,90,116,92,125,81,135,132,112,116,147,145,111,97,100,140,120,77,93,78,180,116,113,120,143,90,95,127,114,82,130,97,117,180,88,120,105,149,115,147,126,87,135,111,117,94,164,140,74,136,146,96,139,130,120,127,155,120,115,137,117,140,120,126,127,110,152,127,115,130,121,91,90,96,130,126,95,137,92,132,108,103,120,114,113,95,92,105,89,103,125,131,125,88,140,101,125,110,116,125,126,120,141,117,80,136,123,107,104,120,103,126,106,94,93,90,119,142,100,134,139,100,119,99,90,97,125,128,111,58,110,125,77,100,124,124,146,132,115,96,94,102,73,133,150,93,107,48,151,155,83,85,87,107,108,90,117,99,97,105,91,98,124,139,115,106,107,131,113,160,90,136,130,122,135,125,127,130,120,115,82,127,129,130,109,120,92,137,95,133,82,109,102,116,83,138,83,108,68,59,116,73,122,102,127,132,112,131,139,92,115,110,120,128,112,124,145,122,84,125,120,125,106,110,137,120,94,142,133,132,132,90,100,125,124,125,119,143,150,124,148,104,134,113,75,110,140,125,155,130,65,130,130,100,133,120,104,140,96,120,110,110,135,87,97,105,110,92,81,137,118,100,127,105,173,90,127,139,127,119,120,93,127,144,125,117,123,110,135,89,93,106,104,91,99,74,127,72,101,141,104,140,130,115,84,134,64,132,83,100,75,151,90,127,97,128,138,119,115,130,126,120,120,78,79,96,112,80,94,178,93,111,123,113,115,104,180,120,130,124,145,130,70,120,85,120,113,128,126,99,130,110,87,134,132,108,93,124,113,54,45,112,100,84,120,129,108,109,95,65,103,106,93,124,110,124,135,135,122,119,130,117,119,138,84,90,98,96,108,102,79,99,91,123,114,127,49,100,85,145,110,98,97,129,137,70,48,108,84,100,97,95,125,121,95,99,68,140,104,124,140,118,104,159,116,145,100,116,115,81,129,97,102,108,122,130,136,109,135,161,123,135,92,106,108,143,128,65,102,133,135,92,104,67,121,116,125,131,107,72,124,101,85,112,137,131,107,120,109,126,145,100,95,92,137,100,104,107,120,107,94,120,120,113,136,92,93,65,120,122,133,134,100,96,103,113,136,90,109,149,120,47,133,104,126,90,141,112,122,155,117,125,136,143,85,120,128,120,117,95,100,116,130,85,113,128,122,130,162,80,88,80,124,123,107,105,104,109,90,94,113,80,107,117,90,79,89,120,121,153,90,135,127,90,104,142,130,97,97,120,115,142,89,52,104,117,96,120,123,122,102,100,145,114,162,80,108,93,104,120,98,90,117,85,47,102,102,98,118,134,153,108,139,104,113,132,101,82,96,115,102,101,135,100,78,100,120,84,102,155,65,128,141,92,108,72,150,93,132,84,95,134,115,130,106,93,120,65,85,93],\"coloraxis\":\"coloraxis\",\"symbol\":\"circle\"},\"mode\":\"markers\",\"name\":\"\",\"showlegend\":false,\"x\":[5.3,5.8,6.5,6.6,6.2,4.1,5.4,6.3,5.7,6.2,7.4,6.1,5.9,6.4,3.1,7.3,6.1,6.7,6.9,6.7,6.3,7.0,3.4,6.4,6.3,5.5,7.1,6.5,6.5,6.0,7.2,6.4,7.2,5.8,3.3,7.5,5.0,7.4,7.7,6.8,7.8,6.5,6.8,7.0,7.1,6.6,6.7,4.2,6.2,6.9,6.7,7.4,7.1,6.9,6.6,6.3,7.4,6.4,6.0,6.5,6.1,5.6,7.2,5.7,7.4,6.0,7.0,6.7,6.5,8.4,6.3,7.0,5.9,7.9,6.2,5.4,7.3,6.8,8.6,7.3,5.0,6.4,6.1,5.8,5.8,6.5,6.9,5.1,7.5,6.1,6.4,7.6,7.5,7.3,7.0,4.7,7.2,7.3,6.7,6.4,6.6,6.7,6.7,5.0,4.9,7.5,7.6,8.0,9.0,6.1,6.8,5.2,7.5,6.8,5.3,6.3,6.5,7.0,7.8,7.3,6.1,5.8,5.4,6.5,6.8,7.0,7.0,7.5,6.0,2.8,7.0,6.5,5.3,6.8,6.8,6.0,4.9,7.5,5.5,6.6,6.4,6.2,5.9,6.9,6.9,3.8,5.7,6.7,7.9,6.6,7.2,7.7,7.2,6.8,6.0,7.3,6.5,5.6,5.1,7.1,6.1,6.6,7.1,7.2,8.2,5.8,4.8,4.8,5.6,6.4,6.3,6.9,6.6,6.9,6.8,6.9,6.1,6.9,6.2,7.5,8.0,3.8,6.2,5.6,8.7,7.7,7.2,6.7,6.1,6.8,5.9,7.1,6.5,7.4,6.6,6.7,6.5,6.3,7.1,8.6,7.2,5.9,6.4,7.7,6.4,6.7,6.3,5.1,7.9,6.6,6.1,6.9,6.9,7.1,6.8,6.8,5.8,6.1,7.3,5.6,7.4,7.4,8.1,5.3,6.2,8.0,7.7,4.2,7.1,7.3,6.9,6.7,8.0,6.8,7.4,6.4,6.5,6.7,5.9,6.3,7.2,5.0,4.5,5.8,6.9,7.7,6.3,6.8,7.7,6.8,5.7,5.8,6.5,5.5,5.9,5.8,7.6,6.6,7.0,7.4,6.6,6.3,7.0,7.7,3.3,7.4,6.7,5.1,6.1,7.0,6.6,6.9,5.9,7.1,6.7,7.1,5.7,4.7,7.4,5.8,6.5,6.2,6.5,6.7,6.0,4.5,6.7,7.6,6.0,5.8,4.4,6.4,5.5,5.6,8.1,5.7,6.7,7.2,7.3,6.5,6.4,5.9,4.2,6.3,7.1,5.8,7.7,7.2,5.9,6.6,4.1,6.5,4.7,5.2,5.9,6.8,7.0,6.1,3.4,6.4,7.4,7.2,5.0,7.5,7.0,7.1,6.4,5.5,6.7,6.6,7.3,5.1,6.1,6.9,4.6,7.1,5.7,4.8,5.5,6.0,6.7,5.3,8.1,5.9,6.4,4.8,6.4,7.1,7.2,5.7,5.9,8.3,3.7,7.2,6.8,5.0,5.9,5.8,5.5,6.1,7.1,6.6,6.4,7.1,5.2,7.6,7.2,5.8,6.8,6.9,8.2,5.4,6.5,6.1,6.6,7.2,6.3,6.7,6.3,7.1,7.1,8.5,6.1,7.0,5.6,4.9,4.5,4.4,4.7,6.7,6.6,6.0,6.0,4.6,3.8,5.4,6.6,6.0,7.8,6.1,4.3,7.1,5.3,4.1,4.7,6.2,6.5,7.2,7.1,6.2,6.7,6.9,7.2,6.4,5.1,6.5,5.8,5.1,6.7,3.9,6.9,6.7,7.0,7.3,5.8,5.1,6.9,5.0,5.3,5.5,4.6,5.6,5.1,7.6,7.5,5.6,5.4,3.9,5.0,6.6,7.8,7.0,6.4,4.8,7.0,6.7,6.9,8.2,7.1,5.6,5.8,4.9,4.2,6.7,7.3,5.1,6.4,3.4,5.0,4.6,5.0,4.8,5.2,4.1,5.6,5.9,4.3,4.5,3.3,5.2,4.1,7.7,6.3,6.0,5.7,7.2,5.1,7.2,5.8,6.9,7.2,7.1,6.7,4.8,7.1,6.0,5.6,6.6,3.6,4.2,5.3,4.9,4.7,5.2,5.9,4.8,7.5,5.8,3.3,6.1,4.4,5.2,5.7,5.4,5.5,4.4,7.2,4.8,4.7,5.5,4.8,5.5,6.7,7.0,7.0,4.4,3.9,4.1,6.2,5.1,5.8,5.5,2.8,3.8,4.4,4.9,7.1,4.4,7.9,4.8,3.3,5.5,4.3,5.1,5.8,3.8,4.8,3.4,5.9,4.1,6.9,6.2,4.6,6.3,3.4,7.5,6.1,4.8,4.1,5.0,4.5,5.6,4.7,7.2,5.7,4.4,3.8,4.4,5.8,5.2,3.4,6.0,5.7,5.7,2.9,6.2,7.3,7.7,4.4,6.5,5.7,4.9,4.2,4.0,4.1,6.7,4.4,5.9,7.0,7.0,3.8,7.0,6.7,5.2,7.6,4.2,5.0,4.2,4.1,7.3,5.0,6.9,2.7,7.0,6.6,3.7,6.0,5.3,4.0,4.6,5.4,5.4,7.7,6.4,5.5,7.2,3.1,4.6,4.9,3.8,4.3,7.8,3.6,6.6,5.6,6.1,6.7,5.1,2.8,5.8,3.5,5.1,7.2,4.5,3.8,4.6,7.5,7.9,6.6,6.8,6.2,4.3,4.8,3.7,2.5,4.3,5.6,7.1,5.0,7.4,3.4,4.9,5.6,4.7,4.0,7.1,6.6,4.4,3.8,5.4,6.4,5.2,6.1,4.7,5.1,6.1,4.6,5.6,5.0,2.8,5.1,4.6,5.0,6.0,5.7,5.0,4.4,5.7,5.8,2.1,5.5,5.5,5.3,5.7,7.0,4.7,7.4,3.8,2.9,7.3,5.1,4.6,3.8,3.8,5.0,7.6,5.2,3.9,7.6,6.5,8.5,3.3,6.1,4.8,3.1,5.2,5.4,3.1,4.6,6.7,3.5,4.9,7.4,4.9,5.3,4.9,6.8,5.1,5.6,5.4,6.2,6.2,2.9,3.5,6.9,4.6,6.5,2.9,6.5,7.9,5.7,4.9,7.0,6.3,3.4,8.6,6.4,5.6,3.9,6.7,7.2,5.9,2.9,4.6,3.1,3.9,4.6,8.0,4.7,6.9,1.7,5.3,3.6,6.6,3.3,7.4,5.4,3.1,5.6,4.2,6.1,7.7,6.2,6.9,5.1,6.3,3.5,5.3,6.4,6.2,4.3,4.5,5.6,8.2,6.8,6.8,2.4,6.9,3.2,4.6,3.8,6.1,3.9,3.5,3.1,2.9,6.3,2.7,4.7,5.1,7.0,7.7,4.8,5.1,3.2,4.8,5.1,4.0,7.1,4.6,3.1,2.4,7.3,4.9,3.8,2.7,7.3,5.2,7.2,4.5,6.6,3.1,4.2,8.6,7.1,8.2,3.5,4.7,6.9,7.3,4.2,3.9,7.6,4.1,7.3,5.3,5.7,5.9,7.1,4.1,5.6,6.4,4.2,5.1,6.8,7.9,4.3,5.9,5.4,5.6,6.5,5.8,4.7,6.7,5.2,6.2,7.4,3.4,3.2,6.5,4.6,5.5,6.8,7.0,6.6,3.7,4.8,5.5,6.3,7.2,5.4,5.1,5.7,5.6,8.0,6.2,3.8,3.4,5.7,3.0,4.2,2.6,6.4,6.9,6.5,6.2,6.3,4.6,4.8,4.9,6.4,4.7,9.2,7.1,2.7,5.4,7.7,5.8,6.6,5.8,5.9,8.6,8.0,4.4,5.1,6.0,7.3,2.9,7.3,6.2,7.6,5.2,3.8,6.8,6.5,4.5,4.7,6.1,5.1,7.3,7.1,6.0,6.8,6.4,4.8,7.2,6.5,4.4,6.4,6.8,4.4,6.6,4.4,7.1,7.2,3.7,6.4,4.2,4.8,6.8,3.1,4.3,6.4,8.0,7.0,2.4,5.8,9.1,6.0,5.8,3.9,6.2,4.6,5.7,4.3,7.3,7.3,6.7,4.7,6.1,3.9,5.4,4.7,5.4,7.4,4.0,5.7,3.6,5.7,7.1,6.5,6.4,4.3,4.0,6.2,4.1,6.2,4.2,5.9,5.7,5.9,5.0,4.8,6.8,3.9,5.3,7.3,3.5,7.7,3.1,6.2,5.1,5.5,5.2,6.0,6.9,4.5,4.2,8.1,5.9,7.8,6.6,6.4,4.9,6.2,7.5,8.1,7.5,4.4,7.6,3.8,5.2,6.3,1.9,3.7,6.0,4.5,6.2,7.3,5.5,5.9,6.7,3.8,6.2,3.6,4.2,5.9,7.3,6.7,6.7,4.4,7.3,6.9,6.6,6.6,5.9,6.0,5.8,5.4,6.5,6.1,4.6,2.5,2.6,5.6,4.5,6.5,6.5,6.0,6.0,4.8,6.9,7.7,4.3,6.2,2.3,6.4,5.1,6.4,3.6,4.7,6.2,4.2,4.0,5.8,3.5,3.6,7.3,2.4,7.1,7.8,4.9,6.5,5.9,4.0,7.1,3.8,7.2,5.9,6.0,3.2,3.2,3.8,5.5,6.1,7.0,6.7,7.2,4.9,4.8,8.2,6.1,4.2,7.2,6.9,8.4,7.0,5.9,6.7,8.2,4.0,9.2,6.6,6.8,5.6,5.6,7.3,5.7,5.6,3.5,6.1,7.4,5.7,6.2,7.3,3.6,5.9,6.9,6.1,5.8,4.7,4.2,6.7,5.2,5.9,6.7,4.8,5.2,1.6,2.5,7.1,4.7,6.6,5.8,6.3,7.3,6.3,2.5,8.2,5.3,7.0,6.2,2.7,3.7,7.5,3.9,4.5,7.6,6.0,6.2,7.9,6.7,4.2,8.5,6.8,6.9,6.7,8.6,4.9,4.8,3.1,3.6,5.7,7.3,6.2,6.5,6.8,4.6,5.2,8.8,4.2,5.9,6.0,6.6,5.6,5.7,7.7,2.7,6.6,6.1,5.6,4.9,6.9,5.7,6.6,7.4,6.8,4.0,1.9,5.4,2.4,8.0,7.9,7.0,4.4,4.3,8.6,4.3,4.8,7.2,5.9,6.0,7.3,6.4,4.2,8.4,6.5,4.8,3.2,7.5,6.2,6.7,5.3,5.9,6.4,5.0,6.8,5.4,5.5,8.1,4.0,6.4,2.3,6.8,6.0,7.2,6.5,2.5,5.4,7.1,5.3,5.8,5.2,5.9,8.2,4.4,7.3,8.6,2.1,8.8,6.8,5.6,7.5,7.2,7.2,7.3,4.9,7.6,4.0,6.8,8.9,8.1,7.4,6.5,8.3,7.1,5.3,5.1,5.5,7.2,6.1,5.4,6.2,6.8,8.1,7.9,6.6,6.3,7.7,5.6,6.0,6.2,3.5,5.8,5.6,7.5,6.8,3.1,6.6,3.3,3.7,8.2,5.1,5.4,7.3,6.5,2.7,4.5,5.8,6.9,4.7,6.5,5.5,9.0,6.3,4.1,5.6,4.1,8.7,5.9,5.5,5.4,4.9,5.4,6.1,6.8,6.4,5.5,5.7,5.8,4.8,5.3,5.9,6.9,6.8,5.5,7.7,5.6,6.4,5.4,4.9,3.6,8.1,7.8,3.7,6.2,7.8,6.8,5.6,7.9,5.5,3.2,7.3,6.9,2.8,4.3,5.6,6.9,5.9,7.1,5.9,7.9,6.1,8.2,6.6,6.6,7.8,7.8,7.2,8.8,5.9,6.5,6.4,6.3,5.4,6.6,9.3,7.0,6.8,8.0,6.1,5.8,7.4,6.9,6.6,5.5,5.9,6.6,6.8,4.8,6.9,6.9,6.2,6.1,4.9,5.4,8.7,8.4,8.6,5.7,5.7,4.9,3.6,6.6,5.8,5.7,5.4,7.8,7.4,5.8,4.5,7.9,4.4,6.0,3.5,5.6,6.6,6.3,6.0,8.9,7.0,8.5,7.1,6.1,2.8,8.1,4.3,5.2,8.0,7.5,5.4,4.8,5.8,7.4,5.3,3.9,6.8,6.7,7.8,2.8,4.0,6.0,5.9,6.1,6.3,5.5,7.1,8.6,5.5,7.1,7.9,7.6,8.8,7.6,6.6,5.3,6.6,5.4,6.9,5.4,5.6,7.0,6.9,6.9,7.3,6.9,9.0,6.6,6.3,8.2,6.8,8.0,7.9,3.7,5.3,6.5,4.7,7.2,5.3,6.9,7.8,8.1,4.9,5.0,6.5,5.2,5.4,5.7,7.1,7.8,5.5,5.4,8.2,5.9,9.1,3.6,4.8,7.4,4.2,4.7,6.6,4.9,2.3,7.2,7.7,4.5,6.2,7.0,7.8,8.6,5.5,7.0,6.5,5.8,6.5,6.9,5.6,7.8,9.3,5.2,7.1,7.3,6.1,5.4,7.9,7.6,5.3,6.3,8.1,6.6,3.3,2.7,7.9,8.6,5.1,6.8,5.5,4.5,6.2,7.6,6.7,8.1,6.7,6.1,6.8,3.5,7.5,5.8,8.8,6.7,6.1,4.8,8.0,6.8,6.6,6.4,6.5,7.3,6.6,6.7,7.2,3.5,4.3,6.8,9.1,5.5,5.9,2.5,9.4,4.4,8.7,6.2,8.0,8.6,7.3,7.3,5.9,7.8,7.9,8.5,4.3,7.1,5.6,8.7,7.8,7.4,3.5,8.1,3.7,9.3,8.9,8.2,6.6,6.8,8.7,5.4,6.4,4.6,8.1,9.4,4.2,9.3,7.9,9.0],\"xaxis\":\"x\",\"y\":[124,154,159,128,143,136,153,90,129,139,144,166,139,157,138,140,161,134,166,131,137,141,112,158,135,128,140,150,144,156,135,144,155,133,166,121,120,143,121,122,122,122,122,98,121,147,76,133,133,207,122,155,138,164,143,149,144,137,148,144,129,130,162,170,165,146,110,142,139,131,135,139,161,120,145,107,199,140,130,129,150,117,132,164,142,88,151,146,131,140,137,133,148,119,185,145,137,121,182,114,155,127,153,143,169,160,157,148,167,171,149,160,118,173,136,134,121,139,95,150,145,152,128,135,132,125,110,120,135,80,152,120,142,133,135,134,138,136,172,136,125,138,139,153,126,136,135,166,133,157,162,136,168,160,82,146,170,176,128,160,137,155,126,100,175,135,155,137,152,154,144,135,136,136,120,143,136,110,135,148,152,131,162,110,136,138,122,156,138,134,142,148,139,164,100,139,148,130,177,125,170,135,129,115,140,117,125,134,175,125,127,107,120,98,132,124,116,137,146,120,120,131,146,135,132,131,133,112,142,122,115,129,156,155,136,136,137,103,140,140,137,127,139,132,155,134,109,135,176,121,124,115,130,136,125,127,90,119,185,124,150,135,150,136,145,142,130,132,136,110,163,118,103,119,128,142,136,151,137,133,144,123,137,93,140,139,128,78,131,125,140,141,158,114,147,130,114,120,128,146,157,150,124,147,135,134,150,152,144,137,117,121,133,138,132,140,153,140,133,142,134,127,155,160,152,117,154,216,195,151,151,131,135,143,121,140,145,118,122,119,137,120,91,130,127,149,137,180,150,108,167,109,139,110,103,100,133,132,156,120,130,128,130,120,129,141,106,140,135,171,137,128,138,125,136,150,147,130,116,153,129,107,144,137,102,140,137,130,139,106,139,141,137,109,133,141,139,157,82,143,128,131,148,132,135,135,140,113,133,135,151,135,118,148,151,148,130,115,105,112,138,129,150,140,158,150,146,127,170,116,145,160,180,130,100,135,153,141,147,140,120,142,120,156,80,158,139,137,101,153,137,169,149,150,114,146,110,113,126,120,151,131,139,127,111,158,139,102,82,153,150,91,91,138,149,160,127,95,143,131,125,105,160,128,171,155,135,137,149,153,90,155,145,135,149,138,123,147,132,161,118,160,155,165,135,136,100,165,133,125,144,160,142,121,120,121,119,129,152,157,112,130,127,120,136,172,127,140,126,155,125,152,143,130,155,132,145,158,151,182,119,162,127,154,117,102,95,137,155,125,150,168,149,128,137,162,152,117,129,90,130,150,180,134,135,138,120,130,136,90,135,153,141,120,133,125,136,145,127,160,132,89,170,148,122,140,195,160,125,165,128,150,117,143,116,141,144,128,153,143,140,132,117,132,151,128,142,120,98,172,149,137,123,130,149,180,139,160,138,130,114,88,124,126,139,138,126,125,143,127,133,105,119,153,119,120,136,186,161,145,153,140,165,139,85,100,104,133,92,93,172,137,161,146,123,173,129,87,169,97,125,140,148,144,140,90,140,115,135,123,143,142,140,71,125,145,85,120,108,109,158,113,97,140,131,114,130,115,102,146,105,108,79,152,78,96,151,113,133,180,165,148,125,82,128,130,104,118,134,109,75,112,107,115,136,116,135,122,147,120,152,95,108,121,90,150,155,110,155,120,126,143,114,157,99,95,130,188,154,90,135,106,149,90,118,154,136,46,160,95,50,99,93,90,145,108,116,95,150,96,83,94,89,189,83,94,144,172,126,119,117,142,107,145,148,100,74,73,92,127,126,117,125,145,131,132,145,134,118,134,102,162,139,162,136,99,110,76,105,102,146,138,87,60,99,122,129,120,151,102,104,110,89,88,100,140,173,88,116,155,92,129,126,118,100,147,79,125,108,119,142,109,131,169,250,100,73,147,133,115,155,112,118,137,154,112,110,150,92,127,110,103,86,300,80,110,140,160,110,152,142,93,126,149,130,92,106,190,111,126,86,88,140,109,109,95,134,110,80,135,130,113,66,140,91,134,131,110,120,131,78,115,240,112,114,127,105,141,87,144,156,107,90,127,101,120,175,120,96,95,125,120,87,120,104,98,82,118,86,131,122,121,155,165,100,122,87,95,144,140,115,87,106,102,105,90,116,92,125,81,135,132,112,116,147,145,111,97,100,140,120,77,93,78,180,116,113,120,143,90,95,127,114,82,130,97,117,180,88,120,105,149,115,147,126,87,135,111,117,94,164,140,74,136,146,96,139,130,120,127,155,120,115,137,117,140,120,126,127,110,152,127,115,130,121,91,90,96,130,126,95,137,92,132,108,103,120,114,113,95,92,105,89,103,125,131,125,88,140,101,125,110,116,125,126,120,141,117,80,136,123,107,104,120,103,126,106,94,93,90,119,142,100,134,139,100,119,99,90,97,125,128,111,58,110,125,77,100,124,124,146,132,115,96,94,102,73,133,150,93,107,48,151,155,83,85,87,107,108,90,117,99,97,105,91,98,124,139,115,106,107,131,113,160,90,136,130,122,135,125,127,130,120,115,82,127,129,130,109,120,92,137,95,133,82,109,102,116,83,138,83,108,68,59,116,73,122,102,127,132,112,131,139,92,115,110,120,128,112,124,145,122,84,125,120,125,106,110,137,120,94,142,133,132,132,90,100,125,124,125,119,143,150,124,148,104,134,113,75,110,140,125,155,130,65,130,130,100,133,120,104,140,96,120,110,110,135,87,97,105,110,92,81,137,118,100,127,105,173,90,127,139,127,119,120,93,127,144,125,117,123,110,135,89,93,106,104,91,99,74,127,72,101,141,104,140,130,115,84,134,64,132,83,100,75,151,90,127,97,128,138,119,115,130,126,120,120,78,79,96,112,80,94,178,93,111,123,113,115,104,180,120,130,124,145,130,70,120,85,120,113,128,126,99,130,110,87,134,132,108,93,124,113,54,45,112,100,84,120,129,108,109,95,65,103,106,93,124,110,124,135,135,122,119,130,117,119,138,84,90,98,96,108,102,79,99,91,123,114,127,49,100,85,145,110,98,97,129,137,70,48,108,84,100,97,95,125,121,95,99,68,140,104,124,140,118,104,159,116,145,100,116,115,81,129,97,102,108,122,130,136,109,135,161,123,135,92,106,108,143,128,65,102,133,135,92,104,67,121,116,125,131,107,72,124,101,85,112,137,131,107,120,109,126,145,100,95,92,137,100,104,107,120,107,94,120,120,113,136,92,93,65,120,122,133,134,100,96,103,113,136,90,109,149,120,47,133,104,126,90,141,112,122,155,117,125,136,143,85,120,128,120,117,95,100,116,130,85,113,128,122,130,162,80,88,80,124,123,107,105,104,109,90,94,113,80,107,117,90,79,89,120,121,153,90,135,127,90,104,142,130,97,97,120,115,142,89,52,104,117,96,120,123,122,102,100,145,114,162,80,108,93,104,120,98,90,117,85,47,102,102,98,118,134,153,108,139,104,113,132,101,82,96,115,102,101,135,100,78,100,120,84,102,155,65,128,141,92,108,72,150,93,132,84,95,134,115,130,106,93,120,65,85,93],\"yaxis\":\"y\",\"type\":\"scattergl\"}],                        {\"template\":{\"data\":{\"histogram2dcontour\":[{\"type\":\"histogram2dcontour\",\"colorbar\":{\"outlinewidth\":0,\"ticks\":\"\"},\"colorscale\":[[0.0,\"#0d0887\"],[0.1111111111111111,\"#46039f\"],[0.2222222222222222,\"#7201a8\"],[0.3333333333333333,\"#9c179e\"],[0.4444444444444444,\"#bd3786\"],[0.5555555555555556,\"#d8576b\"],[0.6666666666666666,\"#ed7953\"],[0.7777777777777778,\"#fb9f3a\"],[0.8888888888888888,\"#fdca26\"],[1.0,\"#f0f921\"]]}],\"choropleth\":[{\"type\":\"choropleth\",\"colorbar\":{\"outlinewidth\":0,\"ticks\":\"\"}}],\"histogram2d\":[{\"type\":\"histogram2d\",\"colorbar\":{\"outlinewidth\":0,\"ticks\":\"\"},\"colorscale\":[[0.0,\"#0d0887\"],[0.1111111111111111,\"#46039f\"],[0.2222222222222222,\"#7201a8\"],[0.3333333333333333,\"#9c179e\"],[0.4444444444444444,\"#bd3786\"],[0.5555555555555556,\"#d8576b\"],[0.6666666666666666,\"#ed7953\"],[0.7777777777777778,\"#fb9f3a\"],[0.8888888888888888,\"#fdca26\"],[1.0,\"#f0f921\"]]}],\"heatmap\":[{\"type\":\"heatmap\",\"colorbar\":{\"outlinewidth\":0,\"ticks\":\"\"},\"colorscale\":[[0.0,\"#0d0887\"],[0.1111111111111111,\"#46039f\"],[0.2222222222222222,\"#7201a8\"],[0.3333333333333333,\"#9c179e\"],[0.4444444444444444,\"#bd3786\"],[0.5555555555555556,\"#d8576b\"],[0.6666666666666666,\"#ed7953\"],[0.7777777777777778,\"#fb9f3a\"],[0.8888888888888888,\"#fdca26\"],[1.0,\"#f0f921\"]]}],\"heatmapgl\":[{\"type\":\"heatmapgl\",\"colorbar\":{\"outlinewidth\":0,\"ticks\":\"\"},\"colorscale\":[[0.0,\"#0d0887\"],[0.1111111111111111,\"#46039f\"],[0.2222222222222222,\"#7201a8\"],[0.3333333333333333,\"#9c179e\"],[0.4444444444444444,\"#bd3786\"],[0.5555555555555556,\"#d8576b\"],[0.6666666666666666,\"#ed7953\"],[0.7777777777777778,\"#fb9f3a\"],[0.8888888888888888,\"#fdca26\"],[1.0,\"#f0f921\"]]}],\"contourcarpet\":[{\"type\":\"contourcarpet\",\"colorbar\":{\"outlinewidth\":0,\"ticks\":\"\"}}],\"contour\":[{\"type\":\"contour\",\"colorbar\":{\"outlinewidth\":0,\"ticks\":\"\"},\"colorscale\":[[0.0,\"#0d0887\"],[0.1111111111111111,\"#46039f\"],[0.2222222222222222,\"#7201a8\"],[0.3333333333333333,\"#9c179e\"],[0.4444444444444444,\"#bd3786\"],[0.5555555555555556,\"#d8576b\"],[0.6666666666666666,\"#ed7953\"],[0.7777777777777778,\"#fb9f3a\"],[0.8888888888888888,\"#fdca26\"],[1.0,\"#f0f921\"]]}],\"surface\":[{\"type\":\"surface\",\"colorbar\":{\"outlinewidth\":0,\"ticks\":\"\"},\"colorscale\":[[0.0,\"#0d0887\"],[0.1111111111111111,\"#46039f\"],[0.2222222222222222,\"#7201a8\"],[0.3333333333333333,\"#9c179e\"],[0.4444444444444444,\"#bd3786\"],[0.5555555555555556,\"#d8576b\"],[0.6666666666666666,\"#ed7953\"],[0.7777777777777778,\"#fb9f3a\"],[0.8888888888888888,\"#fdca26\"],[1.0,\"#f0f921\"]]}],\"mesh3d\":[{\"type\":\"mesh3d\",\"colorbar\":{\"outlinewidth\":0,\"ticks\":\"\"}}],\"scatter\":[{\"fillpattern\":{\"fillmode\":\"overlay\",\"size\":10,\"solidity\":0.2},\"type\":\"scatter\"}],\"parcoords\":[{\"type\":\"parcoords\",\"line\":{\"colorbar\":{\"outlinewidth\":0,\"ticks\":\"\"}}}],\"scatterpolargl\":[{\"type\":\"scatterpolargl\",\"marker\":{\"colorbar\":{\"outlinewidth\":0,\"ticks\":\"\"}}}],\"bar\":[{\"error_x\":{\"color\":\"#2a3f5f\"},\"error_y\":{\"color\":\"#2a3f5f\"},\"marker\":{\"line\":{\"color\":\"#E5ECF6\",\"width\":0.5},\"pattern\":{\"fillmode\":\"overlay\",\"size\":10,\"solidity\":0.2}},\"type\":\"bar\"}],\"scattergeo\":[{\"type\":\"scattergeo\",\"marker\":{\"colorbar\":{\"outlinewidth\":0,\"ticks\":\"\"}}}],\"scatterpolar\":[{\"type\":\"scatterpolar\",\"marker\":{\"colorbar\":{\"outlinewidth\":0,\"ticks\":\"\"}}}],\"histogram\":[{\"marker\":{\"pattern\":{\"fillmode\":\"overlay\",\"size\":10,\"solidity\":0.2}},\"type\":\"histogram\"}],\"scattergl\":[{\"type\":\"scattergl\",\"marker\":{\"colorbar\":{\"outlinewidth\":0,\"ticks\":\"\"}}}],\"scatter3d\":[{\"type\":\"scatter3d\",\"line\":{\"colorbar\":{\"outlinewidth\":0,\"ticks\":\"\"}},\"marker\":{\"colorbar\":{\"outlinewidth\":0,\"ticks\":\"\"}}}],\"scattermapbox\":[{\"type\":\"scattermapbox\",\"marker\":{\"colorbar\":{\"outlinewidth\":0,\"ticks\":\"\"}}}],\"scatterternary\":[{\"type\":\"scatterternary\",\"marker\":{\"colorbar\":{\"outlinewidth\":0,\"ticks\":\"\"}}}],\"scattercarpet\":[{\"type\":\"scattercarpet\",\"marker\":{\"colorbar\":{\"outlinewidth\":0,\"ticks\":\"\"}}}],\"carpet\":[{\"aaxis\":{\"endlinecolor\":\"#2a3f5f\",\"gridcolor\":\"white\",\"linecolor\":\"white\",\"minorgridcolor\":\"white\",\"startlinecolor\":\"#2a3f5f\"},\"baxis\":{\"endlinecolor\":\"#2a3f5f\",\"gridcolor\":\"white\",\"linecolor\":\"white\",\"minorgridcolor\":\"white\",\"startlinecolor\":\"#2a3f5f\"},\"type\":\"carpet\"}],\"table\":[{\"cells\":{\"fill\":{\"color\":\"#EBF0F8\"},\"line\":{\"color\":\"white\"}},\"header\":{\"fill\":{\"color\":\"#C8D4E3\"},\"line\":{\"color\":\"white\"}},\"type\":\"table\"}],\"barpolar\":[{\"marker\":{\"line\":{\"color\":\"#E5ECF6\",\"width\":0.5},\"pattern\":{\"fillmode\":\"overlay\",\"size\":10,\"solidity\":0.2}},\"type\":\"barpolar\"}],\"pie\":[{\"automargin\":true,\"type\":\"pie\"}]},\"layout\":{\"autotypenumbers\":\"strict\",\"colorway\":[\"#636efa\",\"#EF553B\",\"#00cc96\",\"#ab63fa\",\"#FFA15A\",\"#19d3f3\",\"#FF6692\",\"#B6E880\",\"#FF97FF\",\"#FECB52\"],\"font\":{\"color\":\"#2a3f5f\"},\"hovermode\":\"closest\",\"hoverlabel\":{\"align\":\"left\"},\"paper_bgcolor\":\"white\",\"plot_bgcolor\":\"#E5ECF6\",\"polar\":{\"bgcolor\":\"#E5ECF6\",\"angularaxis\":{\"gridcolor\":\"white\",\"linecolor\":\"white\",\"ticks\":\"\"},\"radialaxis\":{\"gridcolor\":\"white\",\"linecolor\":\"white\",\"ticks\":\"\"}},\"ternary\":{\"bgcolor\":\"#E5ECF6\",\"aaxis\":{\"gridcolor\":\"white\",\"linecolor\":\"white\",\"ticks\":\"\"},\"baxis\":{\"gridcolor\":\"white\",\"linecolor\":\"white\",\"ticks\":\"\"},\"caxis\":{\"gridcolor\":\"white\",\"linecolor\":\"white\",\"ticks\":\"\"}},\"coloraxis\":{\"colorbar\":{\"outlinewidth\":0,\"ticks\":\"\"}},\"colorscale\":{\"sequential\":[[0.0,\"#0d0887\"],[0.1111111111111111,\"#46039f\"],[0.2222222222222222,\"#7201a8\"],[0.3333333333333333,\"#9c179e\"],[0.4444444444444444,\"#bd3786\"],[0.5555555555555556,\"#d8576b\"],[0.6666666666666666,\"#ed7953\"],[0.7777777777777778,\"#fb9f3a\"],[0.8888888888888888,\"#fdca26\"],[1.0,\"#f0f921\"]],\"sequentialminus\":[[0.0,\"#0d0887\"],[0.1111111111111111,\"#46039f\"],[0.2222222222222222,\"#7201a8\"],[0.3333333333333333,\"#9c179e\"],[0.4444444444444444,\"#bd3786\"],[0.5555555555555556,\"#d8576b\"],[0.6666666666666666,\"#ed7953\"],[0.7777777777777778,\"#fb9f3a\"],[0.8888888888888888,\"#fdca26\"],[1.0,\"#f0f921\"]],\"diverging\":[[0,\"#8e0152\"],[0.1,\"#c51b7d\"],[0.2,\"#de77ae\"],[0.3,\"#f1b6da\"],[0.4,\"#fde0ef\"],[0.5,\"#f7f7f7\"],[0.6,\"#e6f5d0\"],[0.7,\"#b8e186\"],[0.8,\"#7fbc41\"],[0.9,\"#4d9221\"],[1,\"#276419\"]]},\"xaxis\":{\"gridcolor\":\"white\",\"linecolor\":\"white\",\"ticks\":\"\",\"title\":{\"standoff\":15},\"zerolinecolor\":\"white\",\"automargin\":true,\"zerolinewidth\":2},\"yaxis\":{\"gridcolor\":\"white\",\"linecolor\":\"white\",\"ticks\":\"\",\"title\":{\"standoff\":15},\"zerolinecolor\":\"white\",\"automargin\":true,\"zerolinewidth\":2},\"scene\":{\"xaxis\":{\"backgroundcolor\":\"#E5ECF6\",\"gridcolor\":\"white\",\"linecolor\":\"white\",\"showbackground\":true,\"ticks\":\"\",\"zerolinecolor\":\"white\",\"gridwidth\":2},\"yaxis\":{\"backgroundcolor\":\"#E5ECF6\",\"gridcolor\":\"white\",\"linecolor\":\"white\",\"showbackground\":true,\"ticks\":\"\",\"zerolinecolor\":\"white\",\"gridwidth\":2},\"zaxis\":{\"backgroundcolor\":\"#E5ECF6\",\"gridcolor\":\"white\",\"linecolor\":\"white\",\"showbackground\":true,\"ticks\":\"\",\"zerolinecolor\":\"white\",\"gridwidth\":2}},\"shapedefaults\":{\"line\":{\"color\":\"#2a3f5f\"}},\"annotationdefaults\":{\"arrowcolor\":\"#2a3f5f\",\"arrowhead\":0,\"arrowwidth\":1},\"geo\":{\"bgcolor\":\"white\",\"landcolor\":\"#E5ECF6\",\"subunitcolor\":\"white\",\"showland\":true,\"showlakes\":true,\"lakecolor\":\"white\"},\"title\":{\"x\":0.05},\"mapbox\":{\"style\":\"light\"}}},\"xaxis\":{\"anchor\":\"y\",\"domain\":[0.0,1.0],\"title\":{\"text\":\"Rating\"}},\"yaxis\":{\"anchor\":\"x\",\"domain\":[0.0,1.0],\"title\":{\"text\":\"Duration\"}},\"coloraxis\":{\"colorbar\":{\"title\":{\"text\":\"Duration\"}},\"colorscale\":[[0.0,\"#0d0887\"],[0.1111111111111111,\"#46039f\"],[0.2222222222222222,\"#7201a8\"],[0.3333333333333333,\"#9c179e\"],[0.4444444444444444,\"#bd3786\"],[0.5555555555555556,\"#d8576b\"],[0.6666666666666666,\"#ed7953\"],[0.7777777777777778,\"#fb9f3a\"],[0.8888888888888888,\"#fdca26\"],[1.0,\"#f0f921\"]]},\"legend\":{\"tracegroupgap\":0},\"title\":{\"text\":\"Rating Versus Duration\"}},                        {\"responsive\": true}                    ).then(function(){\n",
              "                            \n",
              "var gd = document.getElementById('52cf4cab-dee4-462b-b26e-dd0eb8dc73f5');\n",
              "var x = new MutationObserver(function (mutations, observer) {{\n",
              "        var display = window.getComputedStyle(gd).display;\n",
              "        if (!display || display === 'none') {{\n",
              "            console.log([gd, 'removed!']);\n",
              "            Plotly.purge(gd);\n",
              "            observer.disconnect();\n",
              "        }}\n",
              "}});\n",
              "\n",
              "// Listen for the removal of the full notebook cells\n",
              "var notebookContainer = gd.closest('#notebook-container');\n",
              "if (notebookContainer) {{\n",
              "    x.observe(notebookContainer, {childList: true});\n",
              "}}\n",
              "\n",
              "// Listen for the clearing of the current output cell\n",
              "var outputEl = gd.closest('.output');\n",
              "if (outputEl) {{\n",
              "    x.observe(outputEl, {childList: true});\n",
              "}}\n",
              "\n",
              "                        })                };                            </script>        </div>\n",
              "</body>\n",
              "</html>"
            ]
          },
          "metadata": {}
        }
      ]
    },
    {
      "cell_type": "code",
      "source": [
        "px.scatter(data, x = 'Rating', y = 'Genre', color = 'Genre', title = 'Rating Versus Genre')"
      ],
      "metadata": {
        "colab": {
          "base_uri": "https://localhost:8080/",
          "height": 542
        },
        "id": "g_ZyqAE-i7m9",
        "outputId": "484b57e7-dcc2-4620-e794-2f2f608978f5"
      },
      "execution_count": null,
      "outputs": [
        {
          "output_type": "display_data",
          "data": {
            "text/html": [
              "<html>\n",
              "<head><meta charset=\"utf-8\" /></head>\n",
              "<body>\n",
              "    <div>            <script src=\"https://cdnjs.cloudflare.com/ajax/libs/mathjax/2.7.5/MathJax.js?config=TeX-AMS-MML_SVG\"></script><script type=\"text/javascript\">if (window.MathJax && window.MathJax.Hub && window.MathJax.Hub.Config) {window.MathJax.Hub.Config({SVG: {font: \"STIX-Web\"}});}</script>                <script type=\"text/javascript\">window.PlotlyConfig = {MathJaxConfig: 'local'};</script>\n",
              "        <script charset=\"utf-8\" src=\"https://cdn.plot.ly/plotly-2.24.1.min.js\"></script>                <div id=\"51f5d8fe-19b6-48d6-8f2c-00d232d95f5c\" class=\"plotly-graph-div\" style=\"height:525px; width:100%;\"></div>            <script type=\"text/javascript\">                                    window.PLOTLYENV=window.PLOTLYENV || {};                                    if (document.getElementById(\"51f5d8fe-19b6-48d6-8f2c-00d232d95f5c\")) {                    Plotly.newPlot(                        \"51f5d8fe-19b6-48d6-8f2c-00d232d95f5c\",                        [{\"hovertemplate\":\"Genre=%{y}\\u003cbr\\u003eRating=%{x}\\u003cextra\\u003e\\u003c\\u002fextra\\u003e\",\"legendgroup\":\"Drama\",\"marker\":{\"color\":\"#636efa\",\"symbol\":\"circle\"},\"mode\":\"markers\",\"name\":\"Drama\",\"showlegend\":true,\"x\":[5.3,5.8,6.5,6.6,6.2,5.4,6.3,5.7,6.2,7.4,6.1,5.9,6.4,7.3,6.1,6.7,6.9,6.3,7.0,6.3,5.5,7.1,6.5,6.5,6.0,7.2,6.4,7.2,5.8,7.5,5.0,7.4,7.7,6.8,7.8,6.5,6.8,7.0,7.1,6.6,6.7,6.2,6.9,7.4,6.9,6.6,6.3,7.4,6.0,6.5,6.1,5.6,5.7,7.0,6.5,8.4,7.0,6.2,7.3,6.8,7.3,5.0,6.1,5.8,6.9,6.1,6.4,7.6,7.5,7.0,4.7,7.2,7.3,6.7,6.6,6.7,6.7,5.0,7.5,9.0,6.8,7.5,5.3,6.5,7.8,7.3,6.1,5.8,7.0,7.0,7.0,6.5,6.8,6.8,6.0,4.9,7.5,5.5,6.6,6.2,5.9,6.9,6.7,7.9,6.6,7.2,7.7,7.3,6.5,5.1,7.2,8.2,5.8,4.8,4.8,6.4,6.1,6.9,6.2,7.5,8.0,6.2,8.7,7.7,6.7,5.9,7.1,6.5,7.4,6.6,6.7,6.5,6.3,7.1,8.6,7.2,6.4,7.7,6.4,6.7,6.3,7.9,6.6,6.9,6.9,7.1,6.8,5.8,6.1,7.3,5.6,8.1,5.3,8.0,7.7,4.2,7.3,6.9,6.7,8.0,6.8,7.4,5.9,6.3,7.2,5.0,6.9,7.7,6.8,5.7,5.8,6.5,7.6,6.6,7.4,6.6,6.3,7.7,7.4,6.9,7.1,6.7,7.1,5.7,7.4,6.5,6.7,6.0,6.7,6.0,5.8,4.4,6.4,8.1,6.7,7.3,6.5,6.4,5.9,4.2,6.3,7.2,5.9,6.6,6.5,5.2,5.9,7.0,6.1,7.4,7.0,7.1,6.4,5.5,6.6,7.3,6.1,7.1,5.7,5.5,6.7,8.1,6.4,7.2,8.3,7.2,6.8,5.8,5.5,7.1,6.4,7.1,7.6,7.2,5.8,6.9,8.2,5.4,6.5,7.2,6.3,7.1,7.1,6.1,7.0,4.9,6.7,6.6,6.0,6.6,6.0,4.3,7.1,5.3,4.1,6.2,6.5,7.2,7.1,6.2,6.7,6.9,7.2,5.1,5.8,5.1,6.7,3.9,6.7,7.3,5.8,6.9,5.5,5.1,7.5,5.0,6.6,7.8,7.0,6.4,4.8,7.0,6.7,8.2,7.1,5.8,4.2,6.7,7.3,5.1,4.6,5.9,4.3,4.5,5.2,4.1,7.7,6.0,7.2,7.2,5.8,7.2,7.1,6.7,7.1,6.0,5.6,3.6,5.3,5.9,4.8,6.1,4.4,5.7,7.2,4.7,5.5,5.5,7.0,7.0,4.4,4.4,4.3,5.1,3.8,4.8,5.9,6.9,7.5,6.1,5.6,7.2,3.8,5.2,6.0,7.3,7.7,4.4,6.5,5.7,4.9,5.9,7.0,7.0,7.6,4.1,7.3,7.0,6.6,3.7,6.0,4.0,7.7,6.4,7.2,4.6,6.6,5.6,6.7,5.1,7.2,7.5,7.9,6.8,7.1,5.0,7.4,3.4,7.1,6.6,5.4,6.4,5.0,6.0,5.7,5.7,7.0,7.3,3.8,7.6,5.4,6.7,3.5,4.9,7.4,4.9,6.8,5.1,6.2,4.6,2.9,7.9,7.0,3.9,6.7,7.2,5.9,4.6,8.0,6.9,1.7,7.4,5.6,6.1,7.7,6.2,6.9,6.2,4.3,4.5,8.2,6.8,6.8,6.9,3.2,6.1,2.7,7.0,7.7,5.1,5.1,4.0,7.1,4.6,7.3,4.9,7.2,4.5,4.2,7.1,8.2,7.3,7.3,5.3,5.7,5.9,7.1,5.6,6.4,6.8,7.9,5.9,6.5,5.8,3.4,6.5,4.6,4.8,6.3,7.2,5.4,5.7,6.2,5.7,6.9,6.5,6.2,6.3,4.7,7.1,5.4,7.7,5.8,6.6,5.8,5.9,5.1,6.0,2.9,6.2,7.6,3.8,4.5,4.7,6.1,5.1,7.1,6.4,4.8,7.2,4.4,6.4,6.8,4.4,7.1,7.2,3.7,4.2,6.8,3.1,8.0,7.0,9.1,5.7,4.3,7.3,7.3,6.7,3.9,3.6,6.5,6.4,6.2,5.9,4.8,7.7,6.2,5.1,5.2,6.9,8.1,6.4,6.2,8.1,7.5,7.6,5.2,6.3,4.5,7.3,5.5,5.9,6.7,5.9,7.3,6.7,6.7,7.3,6.6,6.6,5.9,5.8,6.5,6.1,5.6,6.5,4.8,7.7,4.7,4.0,5.8,7.3,2.4,4.9,6.5,7.1,7.2,6.0,6.7,7.2,8.2,6.1,7.2,6.9,8.4,7.0,5.9,6.7,8.2,6.8,5.6,5.6,7.3,7.4,6.2,7.3,6.1,4.2,5.2,5.9,1.6,7.1,6.6,6.3,2.5,8.2,7.0,7.5,7.6,6.0,6.7,6.9,7.3,6.2,6.8,4.6,5.2,6.0,6.6,5.7,5.6,6.9,5.7,6.8,5.4,8.0,7.0,4.4,4.8,7.2,6.0,8.4,6.5,7.5,6.2,6.7,6.4,6.8,5.4,8.1,7.2,6.5,2.5,5.4,5.3,5.2,5.9,8.2,4.4,7.3,8.6,2.1,8.8,6.8,5.6,7.2,7.2,7.3,4.9,7.6,4.0,6.8,8.1,8.3,6.1,6.2,8.1,7.9,7.7,6.0,6.6,6.5,5.8,6.9,6.5,6.3,4.1,5.6,8.7,5.5,5.8,5.9,6.9,5.5,7.7,5.6,6.4,5.4,4.9,8.1,6.2,7.8,5.6,7.3,2.8,6.9,5.9,7.1,5.9,7.9,6.6,7.8,7.8,7.2,8.8,6.4,6.3,5.4,6.6,9.3,8.0,6.1,5.8,6.9,6.6,5.9,6.6,6.8,4.8,6.9,8.7,8.4,8.6,5.7,6.6,5.7,7.8,7.4,7.9,6.0,5.6,6.3,6.0,7.0,8.5,7.1,6.1,8.1,4.3,8.0,4.8,5.8,5.3,6.7,5.9,5.5,5.5,7.1,7.9,7.6,7.6,6.6,5.4,5.6,9.0,6.6,6.3,8.2,8.0,7.9,3.7,6.5,7.2,6.9,8.1,5.4,5.7,7.1,7.8,5.4,8.2,9.1,3.6,7.4,6.6,7.2,4.5,7.8,7.0,6.5,5.8,6.5,6.9,7.8,5.2,7.1,7.3,6.1,5.4,7.9,7.6,5.3,6.3,8.1,6.6,3.3,6.8,7.6,6.7,8.1,6.8,7.5,5.8,8.8,6.7,6.1,4.8,8.0,6.8,6.6,6.4,7.3,9.1,9.4,8.7,6.2,8.0,8.6,7.3,7.8,7.9,8.5,7.1,7.4,3.7,8.2,6.6,6.8,8.7,5.4,4.6,8.1,9.4,7.9,9.0],\"xaxis\":\"x\",\"y\":[\"Drama\",\"Drama\",\"Drama\",\"Drama\",\"Drama\",\"Drama\",\"Drama\",\"Drama\",\"Drama\",\"Drama\",\"Drama\",\"Drama\",\"Drama\",\"Drama\",\"Drama\",\"Drama\",\"Drama\",\"Drama\",\"Drama\",\"Drama\",\"Drama\",\"Drama\",\"Drama\",\"Drama\",\"Drama\",\"Drama\",\"Drama\",\"Drama\",\"Drama\",\"Drama\",\"Drama\",\"Drama\",\"Drama\",\"Drama\",\"Drama\",\"Drama\",\"Drama\",\"Drama\",\"Drama\",\"Drama\",\"Drama\",\"Drama\",\"Drama\",\"Drama\",\"Drama\",\"Drama\",\"Drama\",\"Drama\",\"Drama\",\"Drama\",\"Drama\",\"Drama\",\"Drama\",\"Drama\",\"Drama\",\"Drama\",\"Drama\",\"Drama\",\"Drama\",\"Drama\",\"Drama\",\"Drama\",\"Drama\",\"Drama\",\"Drama\",\"Drama\",\"Drama\",\"Drama\",\"Drama\",\"Drama\",\"Drama\",\"Drama\",\"Drama\",\"Drama\",\"Drama\",\"Drama\",\"Drama\",\"Drama\",\"Drama\",\"Drama\",\"Drama\",\"Drama\",\"Drama\",\"Drama\",\"Drama\",\"Drama\",\"Drama\",\"Drama\",\"Drama\",\"Drama\",\"Drama\",\"Drama\",\"Drama\",\"Drama\",\"Drama\",\"Drama\",\"Drama\",\"Drama\",\"Drama\",\"Drama\",\"Drama\",\"Drama\",\"Drama\",\"Drama\",\"Drama\",\"Drama\",\"Drama\",\"Drama\",\"Drama\",\"Drama\",\"Drama\",\"Drama\",\"Drama\",\"Drama\",\"Drama\",\"Drama\",\"Drama\",\"Drama\",\"Drama\",\"Drama\",\"Drama\",\"Drama\",\"Drama\",\"Drama\",\"Drama\",\"Drama\",\"Drama\",\"Drama\",\"Drama\",\"Drama\",\"Drama\",\"Drama\",\"Drama\",\"Drama\",\"Drama\",\"Drama\",\"Drama\",\"Drama\",\"Drama\",\"Drama\",\"Drama\",\"Drama\",\"Drama\",\"Drama\",\"Drama\",\"Drama\",\"Drama\",\"Drama\",\"Drama\",\"Drama\",\"Drama\",\"Drama\",\"Drama\",\"Drama\",\"Drama\",\"Drama\",\"Drama\",\"Drama\",\"Drama\",\"Drama\",\"Drama\",\"Drama\",\"Drama\",\"Drama\",\"Drama\",\"Drama\",\"Drama\",\"Drama\",\"Drama\",\"Drama\",\"Drama\",\"Drama\",\"Drama\",\"Drama\",\"Drama\",\"Drama\",\"Drama\",\"Drama\",\"Drama\",\"Drama\",\"Drama\",\"Drama\",\"Drama\",\"Drama\",\"Drama\",\"Drama\",\"Drama\",\"Drama\",\"Drama\",\"Drama\",\"Drama\",\"Drama\",\"Drama\",\"Drama\",\"Drama\",\"Drama\",\"Drama\",\"Drama\",\"Drama\",\"Drama\",\"Drama\",\"Drama\",\"Drama\",\"Drama\",\"Drama\",\"Drama\",\"Drama\",\"Drama\",\"Drama\",\"Drama\",\"Drama\",\"Drama\",\"Drama\",\"Drama\",\"Drama\",\"Drama\",\"Drama\",\"Drama\",\"Drama\",\"Drama\",\"Drama\",\"Drama\",\"Drama\",\"Drama\",\"Drama\",\"Drama\",\"Drama\",\"Drama\",\"Drama\",\"Drama\",\"Drama\",\"Drama\",\"Drama\",\"Drama\",\"Drama\",\"Drama\",\"Drama\",\"Drama\",\"Drama\",\"Drama\",\"Drama\",\"Drama\",\"Drama\",\"Drama\",\"Drama\",\"Drama\",\"Drama\",\"Drama\",\"Drama\",\"Drama\",\"Drama\",\"Drama\",\"Drama\",\"Drama\",\"Drama\",\"Drama\",\"Drama\",\"Drama\",\"Drama\",\"Drama\",\"Drama\",\"Drama\",\"Drama\",\"Drama\",\"Drama\",\"Drama\",\"Drama\",\"Drama\",\"Drama\",\"Drama\",\"Drama\",\"Drama\",\"Drama\",\"Drama\",\"Drama\",\"Drama\",\"Drama\",\"Drama\",\"Drama\",\"Drama\",\"Drama\",\"Drama\",\"Drama\",\"Drama\",\"Drama\",\"Drama\",\"Drama\",\"Drama\",\"Drama\",\"Drama\",\"Drama\",\"Drama\",\"Drama\",\"Drama\",\"Drama\",\"Drama\",\"Drama\",\"Drama\",\"Drama\",\"Drama\",\"Drama\",\"Drama\",\"Drama\",\"Drama\",\"Drama\",\"Drama\",\"Drama\",\"Drama\",\"Drama\",\"Drama\",\"Drama\",\"Drama\",\"Drama\",\"Drama\",\"Drama\",\"Drama\",\"Drama\",\"Drama\",\"Drama\",\"Drama\",\"Drama\",\"Drama\",\"Drama\",\"Drama\",\"Drama\",\"Drama\",\"Drama\",\"Drama\",\"Drama\",\"Drama\",\"Drama\",\"Drama\",\"Drama\",\"Drama\",\"Drama\",\"Drama\",\"Drama\",\"Drama\",\"Drama\",\"Drama\",\"Drama\",\"Drama\",\"Drama\",\"Drama\",\"Drama\",\"Drama\",\"Drama\",\"Drama\",\"Drama\",\"Drama\",\"Drama\",\"Drama\",\"Drama\",\"Drama\",\"Drama\",\"Drama\",\"Drama\",\"Drama\",\"Drama\",\"Drama\",\"Drama\",\"Drama\",\"Drama\",\"Drama\",\"Drama\",\"Drama\",\"Drama\",\"Drama\",\"Drama\",\"Drama\",\"Drama\",\"Drama\",\"Drama\",\"Drama\",\"Drama\",\"Drama\",\"Drama\",\"Drama\",\"Drama\",\"Drama\",\"Drama\",\"Drama\",\"Drama\",\"Drama\",\"Drama\",\"Drama\",\"Drama\",\"Drama\",\"Drama\",\"Drama\",\"Drama\",\"Drama\",\"Drama\",\"Drama\",\"Drama\",\"Drama\",\"Drama\",\"Drama\",\"Drama\",\"Drama\",\"Drama\",\"Drama\",\"Drama\",\"Drama\",\"Drama\",\"Drama\",\"Drama\",\"Drama\",\"Drama\",\"Drama\",\"Drama\",\"Drama\",\"Drama\",\"Drama\",\"Drama\",\"Drama\",\"Drama\",\"Drama\",\"Drama\",\"Drama\",\"Drama\",\"Drama\",\"Drama\",\"Drama\",\"Drama\",\"Drama\",\"Drama\",\"Drama\",\"Drama\",\"Drama\",\"Drama\",\"Drama\",\"Drama\",\"Drama\",\"Drama\",\"Drama\",\"Drama\",\"Drama\",\"Drama\",\"Drama\",\"Drama\",\"Drama\",\"Drama\",\"Drama\",\"Drama\",\"Drama\",\"Drama\",\"Drama\",\"Drama\",\"Drama\",\"Drama\",\"Drama\",\"Drama\",\"Drama\",\"Drama\",\"Drama\",\"Drama\",\"Drama\",\"Drama\",\"Drama\",\"Drama\",\"Drama\",\"Drama\",\"Drama\",\"Drama\",\"Drama\",\"Drama\",\"Drama\",\"Drama\",\"Drama\",\"Drama\",\"Drama\",\"Drama\",\"Drama\",\"Drama\",\"Drama\",\"Drama\",\"Drama\",\"Drama\",\"Drama\",\"Drama\",\"Drama\",\"Drama\",\"Drama\",\"Drama\",\"Drama\",\"Drama\",\"Drama\",\"Drama\",\"Drama\",\"Drama\",\"Drama\",\"Drama\",\"Drama\",\"Drama\",\"Drama\",\"Drama\",\"Drama\",\"Drama\",\"Drama\",\"Drama\",\"Drama\",\"Drama\",\"Drama\",\"Drama\",\"Drama\",\"Drama\",\"Drama\",\"Drama\",\"Drama\",\"Drama\",\"Drama\",\"Drama\",\"Drama\",\"Drama\",\"Drama\",\"Drama\",\"Drama\",\"Drama\",\"Drama\",\"Drama\",\"Drama\",\"Drama\",\"Drama\",\"Drama\",\"Drama\",\"Drama\",\"Drama\",\"Drama\",\"Drama\",\"Drama\",\"Drama\",\"Drama\",\"Drama\",\"Drama\",\"Drama\",\"Drama\",\"Drama\",\"Drama\",\"Drama\",\"Drama\",\"Drama\",\"Drama\",\"Drama\",\"Drama\",\"Drama\",\"Drama\",\"Drama\",\"Drama\",\"Drama\",\"Drama\",\"Drama\",\"Drama\",\"Drama\",\"Drama\",\"Drama\",\"Drama\",\"Drama\",\"Drama\",\"Drama\",\"Drama\",\"Drama\",\"Drama\",\"Drama\",\"Drama\",\"Drama\",\"Drama\",\"Drama\",\"Drama\",\"Drama\",\"Drama\",\"Drama\",\"Drama\",\"Drama\",\"Drama\",\"Drama\",\"Drama\",\"Drama\",\"Drama\",\"Drama\",\"Drama\",\"Drama\",\"Drama\",\"Drama\",\"Drama\",\"Drama\",\"Drama\",\"Drama\",\"Drama\",\"Drama\",\"Drama\",\"Drama\",\"Drama\",\"Drama\",\"Drama\",\"Drama\",\"Drama\",\"Drama\",\"Drama\",\"Drama\",\"Drama\",\"Drama\",\"Drama\",\"Drama\",\"Drama\",\"Drama\",\"Drama\",\"Drama\",\"Drama\",\"Drama\",\"Drama\",\"Drama\",\"Drama\",\"Drama\",\"Drama\",\"Drama\",\"Drama\",\"Drama\",\"Drama\",\"Drama\",\"Drama\",\"Drama\",\"Drama\",\"Drama\",\"Drama\",\"Drama\",\"Drama\",\"Drama\",\"Drama\",\"Drama\",\"Drama\",\"Drama\",\"Drama\",\"Drama\",\"Drama\",\"Drama\",\"Drama\",\"Drama\",\"Drama\",\"Drama\",\"Drama\",\"Drama\",\"Drama\",\"Drama\",\"Drama\",\"Drama\",\"Drama\",\"Drama\",\"Drama\",\"Drama\",\"Drama\",\"Drama\",\"Drama\",\"Drama\",\"Drama\",\"Drama\",\"Drama\",\"Drama\",\"Drama\",\"Drama\",\"Drama\",\"Drama\",\"Drama\",\"Drama\",\"Drama\",\"Drama\",\"Drama\",\"Drama\",\"Drama\",\"Drama\",\"Drama\",\"Drama\",\"Drama\",\"Drama\",\"Drama\",\"Drama\",\"Drama\",\"Drama\",\"Drama\",\"Drama\",\"Drama\",\"Drama\",\"Drama\",\"Drama\",\"Drama\",\"Drama\",\"Drama\",\"Drama\",\"Drama\",\"Drama\",\"Drama\",\"Drama\",\"Drama\",\"Drama\",\"Drama\",\"Drama\",\"Drama\",\"Drama\",\"Drama\",\"Drama\",\"Drama\",\"Drama\",\"Drama\",\"Drama\",\"Drama\",\"Drama\",\"Drama\",\"Drama\",\"Drama\",\"Drama\",\"Drama\",\"Drama\",\"Drama\",\"Drama\",\"Drama\",\"Drama\",\"Drama\",\"Drama\",\"Drama\",\"Drama\",\"Drama\",\"Drama\",\"Drama\",\"Drama\",\"Drama\",\"Drama\",\"Drama\",\"Drama\",\"Drama\",\"Drama\",\"Drama\",\"Drama\",\"Drama\",\"Drama\",\"Drama\",\"Drama\",\"Drama\",\"Drama\",\"Drama\",\"Drama\",\"Drama\",\"Drama\",\"Drama\",\"Drama\",\"Drama\",\"Drama\",\"Drama\",\"Drama\",\"Drama\",\"Drama\",\"Drama\",\"Drama\",\"Drama\",\"Drama\",\"Drama\",\"Drama\",\"Drama\",\"Drama\",\"Drama\",\"Drama\",\"Drama\",\"Drama\",\"Drama\",\"Drama\",\"Drama\",\"Drama\",\"Drama\",\"Drama\",\"Drama\",\"Drama\",\"Drama\",\"Drama\",\"Drama\",\"Drama\",\"Drama\",\"Drama\",\"Drama\",\"Drama\",\"Drama\",\"Drama\",\"Drama\",\"Drama\",\"Drama\",\"Drama\",\"Drama\",\"Drama\",\"Drama\",\"Drama\",\"Drama\",\"Drama\",\"Drama\",\"Drama\",\"Drama\",\"Drama\",\"Drama\",\"Drama\",\"Drama\",\"Drama\",\"Drama\",\"Drama\",\"Drama\",\"Drama\",\"Drama\",\"Drama\",\"Drama\"],\"yaxis\":\"y\",\"type\":\"scattergl\"},{\"hovertemplate\":\"Genre=%{y}\\u003cbr\\u003eRating=%{x}\\u003cextra\\u003e\\u003c\\u002fextra\\u003e\",\"legendgroup\":\"Adventure\",\"marker\":{\"color\":\"#EF553B\",\"symbol\":\"circle\"},\"mode\":\"markers\",\"name\":\"Adventure\",\"showlegend\":true,\"x\":[4.1,3.1,3.4,6.4,6.1,5.3,3.8,4.7,6.2,6.6,7.4,6.6,6.4],\"xaxis\":\"x\",\"y\":[\"Adventure\",\"Adventure\",\"Adventure\",\"Adventure\",\"Adventure\",\"Adventure\",\"Adventure\",\"Adventure\",\"Adventure\",\"Adventure\",\"Adventure\",\"Adventure\",\"Adventure\"],\"yaxis\":\"y\",\"type\":\"scattergl\"},{\"hovertemplate\":\"Genre=%{y}\\u003cbr\\u003eRating=%{x}\\u003cextra\\u003e\\u003c\\u002fextra\\u003e\",\"legendgroup\":\"Biography\",\"marker\":{\"color\":\"#00cc96\",\"symbol\":\"circle\"},\"mode\":\"markers\",\"name\":\"Biography\",\"showlegend\":true,\"x\":[6.7,5.4,4.9,7.9,5.4,4.2],\"xaxis\":\"x\",\"y\":[\"Biography\",\"Biography\",\"Biography\",\"Biography\",\"Biography\",\"Biography\"],\"yaxis\":\"y\",\"type\":\"scattergl\"},{\"hovertemplate\":\"Genre=%{y}\\u003cbr\\u003eRating=%{x}\\u003cextra\\u003e\\u003c\\u002fextra\\u003e\",\"legendgroup\":\"Mystery\",\"marker\":{\"color\":\"#ab63fa\",\"symbol\":\"circle\"},\"mode\":\"markers\",\"name\":\"Mystery\",\"showlegend\":true,\"x\":[3.3,7.5,6.4,5.7,7.1,6.5,5.1,5.6,5.8,5.2,6.5,6.4,4.4,2.7,6.6,5.9],\"xaxis\":\"x\",\"y\":[\"Mystery\",\"Mystery\",\"Mystery\",\"Mystery\",\"Mystery\",\"Mystery\",\"Mystery\",\"Mystery\",\"Mystery\",\"Mystery\",\"Mystery\",\"Mystery\",\"Mystery\",\"Mystery\",\"Mystery\",\"Mystery\"],\"yaxis\":\"y\",\"type\":\"scattergl\"},{\"hovertemplate\":\"Genre=%{y}\\u003cbr\\u003eRating=%{x}\\u003cextra\\u003e\\u003c\\u002fextra\\u003e\",\"legendgroup\":\"Romance\",\"marker\":{\"color\":\"#FFA15A\",\"symbol\":\"circle\"},\"mode\":\"markers\",\"name\":\"Romance\",\"showlegend\":true,\"x\":[4.2,7.1,6.7,5.4,8.6,5.8,5.1,7.3,4.9,7.6,8.0,6.5,6.0,7.2,6.6,5.6,6.3,6.9,6.8,6.9,7.4,6.2,5.8,5.5,6.1,5.6,7.2,7.7,6.4,6.7,5.1,6.9,4.6,6.1,6.1,6.9,5.0,7.6,4.4,4.8,4.8,6.2,4.9,4.8,5.5,4.6,6.3,4.1,4.4,5.7,4.2,3.8,5.5,5.1,6.2,4.8,5.6,5.2,6.1,6.1,5.8,6.5,6.9,6.4,6.4,3.1,4.8,2.7,4.7,4.1,5.1,6.7,5.5,3.4,6.4,2.7,4.4,6.0,2.4,5.8,4.6,5.4,4.0,5.7,4.1,5.0,5.5,4.2,4.4,6.0,6.0,2.6,6.5,3.6,5.6,5.7,6.9,5.2,6.8,4.8,3.6,4.0,3.2,5.0,5.3,6.6,3.7,4.7,6.4,5.7,6.8,3.6,4.3,5.4,7.5,6.5,6.2,7.2,4.4],\"xaxis\":\"x\",\"y\":[\"Romance\",\"Romance\",\"Romance\",\"Romance\",\"Romance\",\"Romance\",\"Romance\",\"Romance\",\"Romance\",\"Romance\",\"Romance\",\"Romance\",\"Romance\",\"Romance\",\"Romance\",\"Romance\",\"Romance\",\"Romance\",\"Romance\",\"Romance\",\"Romance\",\"Romance\",\"Romance\",\"Romance\",\"Romance\",\"Romance\",\"Romance\",\"Romance\",\"Romance\",\"Romance\",\"Romance\",\"Romance\",\"Romance\",\"Romance\",\"Romance\",\"Romance\",\"Romance\",\"Romance\",\"Romance\",\"Romance\",\"Romance\",\"Romance\",\"Romance\",\"Romance\",\"Romance\",\"Romance\",\"Romance\",\"Romance\",\"Romance\",\"Romance\",\"Romance\",\"Romance\",\"Romance\",\"Romance\",\"Romance\",\"Romance\",\"Romance\",\"Romance\",\"Romance\",\"Romance\",\"Romance\",\"Romance\",\"Romance\",\"Romance\",\"Romance\",\"Romance\",\"Romance\",\"Romance\",\"Romance\",\"Romance\",\"Romance\",\"Romance\",\"Romance\",\"Romance\",\"Romance\",\"Romance\",\"Romance\",\"Romance\",\"Romance\",\"Romance\",\"Romance\",\"Romance\",\"Romance\",\"Romance\",\"Romance\",\"Romance\",\"Romance\",\"Romance\",\"Romance\",\"Romance\",\"Romance\",\"Romance\",\"Romance\",\"Romance\",\"Romance\",\"Romance\",\"Romance\",\"Romance\",\"Romance\",\"Romance\",\"Romance\",\"Romance\",\"Romance\",\"Romance\",\"Romance\",\"Romance\",\"Romance\",\"Romance\",\"Romance\",\"Romance\",\"Romance\",\"Romance\",\"Romance\",\"Romance\",\"Romance\",\"Romance\",\"Romance\",\"Romance\",\"Romance\"],\"yaxis\":\"y\",\"type\":\"scattergl\"},{\"hovertemplate\":\"Genre=%{y}\\u003cbr\\u003eRating=%{x}\\u003cextra\\u003e\\u003c\\u002fextra\\u003e\",\"legendgroup\":\"Musical\",\"marker\":{\"color\":\"#19d3f3\",\"symbol\":\"circle\"},\"mode\":\"markers\",\"name\":\"Musical\",\"showlegend\":true,\"x\":[6.7,5.2,5.9,6.7,5.4,4.6,5.1,2.8],\"xaxis\":\"x\",\"y\":[\"Musical\",\"Musical\",\"Musical\",\"Musical\",\"Musical\",\"Musical\",\"Musical\",\"Musical\"],\"yaxis\":\"y\",\"type\":\"scattergl\"},{\"hovertemplate\":\"Genre=%{y}\\u003cbr\\u003eRating=%{x}\\u003cextra\\u003e\\u003c\\u002fextra\\u003e\",\"legendgroup\":\"Fantasy\",\"marker\":{\"color\":\"#FF6692\",\"symbol\":\"circle\"},\"mode\":\"markers\",\"name\":\"Fantasy\",\"showlegend\":true,\"x\":[6.4,7.2,6.3,7.9,5.6,7.4,7.7,6.6,5.7,7.5,6.7,4.4,7.0,3.1,2.4,6.7,6.8],\"xaxis\":\"x\",\"y\":[\"Fantasy\",\"Fantasy\",\"Fantasy\",\"Fantasy\",\"Fantasy\",\"Fantasy\",\"Fantasy\",\"Fantasy\",\"Fantasy\",\"Fantasy\",\"Fantasy\",\"Fantasy\",\"Fantasy\",\"Fantasy\",\"Fantasy\",\"Fantasy\",\"Fantasy\"],\"yaxis\":\"y\",\"type\":\"scattergl\"},{\"hovertemplate\":\"Genre=%{y}\\u003cbr\\u003eRating=%{x}\\u003cextra\\u003e\\u003c\\u002fextra\\u003e\",\"legendgroup\":\"Comedy\",\"marker\":{\"color\":\"#B6E880\",\"symbol\":\"circle\"},\"mode\":\"markers\",\"name\":\"Comedy\",\"showlegend\":true,\"x\":[7.4,5.9,6.4,6.5,6.8,7.0,5.4,6.8,7.5,6.9,6.8,6.6,6.8,5.9,5.1,6.7,4.5,6.8,6.7,7.0,7.2,5.3,5.9,7.1,6.6,6.6,8.5,6.4,6.9,5.6,6.3,6.2,4.2,4.6,5.4,4.3,4.6,6.6,4.7,5.0,6.5,5.7,4.6,3.6,5.4,6.3,5.3,5.6,4.7,2.4,7.3,6.6,3.5,4.2,4.1,4.2,7.4,6.8,7.0,3.7,5.1,3.8,4.2,2.6,6.4,7.3,7.3,7.3,6.8,4.3,6.4,5.8,3.9,6.2,4.7,4.7,4.3,4.0,6.2,5.7,5.9,3.9,7.3,3.5,6.0,4.5,6.6,4.9,3.7,6.9,4.5,6.0,6.0,6.2,6.4,5.1,3.6,7.8,3.2,3.8,6.1,4.9,4.0,6.1,5.9,4.7,4.8,2.5,4.7,7.3,6.3,3.9,6.2,4.9,5.7,6.5,5.9,6.1,6.6,1.9,2.4,4.3,7.3,5.8,6.5,5.1,5.4,6.8,5.6,5.8,5.6,7.5,6.8,3.3,5.5,4.1,5.5,5.4,4.9,6.1,4.8,3.2,6.9,5.6,6.1,4.9,5.7,4.9,3.6,5.8,5.4,4.5,4.4,3.5,6.6,8.9,6.8,7.1,8.6,8.8,6.9,7.0,6.9,6.9,7.3,6.9,6.8,4.7,4.9,5.0,5.2,4.9,2.3,7.7,5.5,5.1,6.7,6.6,5.5,5.9,5.9,5.6],\"xaxis\":\"x\",\"y\":[\"Comedy\",\"Comedy\",\"Comedy\",\"Comedy\",\"Comedy\",\"Comedy\",\"Comedy\",\"Comedy\",\"Comedy\",\"Comedy\",\"Comedy\",\"Comedy\",\"Comedy\",\"Comedy\",\"Comedy\",\"Comedy\",\"Comedy\",\"Comedy\",\"Comedy\",\"Comedy\",\"Comedy\",\"Comedy\",\"Comedy\",\"Comedy\",\"Comedy\",\"Comedy\",\"Comedy\",\"Comedy\",\"Comedy\",\"Comedy\",\"Comedy\",\"Comedy\",\"Comedy\",\"Comedy\",\"Comedy\",\"Comedy\",\"Comedy\",\"Comedy\",\"Comedy\",\"Comedy\",\"Comedy\",\"Comedy\",\"Comedy\",\"Comedy\",\"Comedy\",\"Comedy\",\"Comedy\",\"Comedy\",\"Comedy\",\"Comedy\",\"Comedy\",\"Comedy\",\"Comedy\",\"Comedy\",\"Comedy\",\"Comedy\",\"Comedy\",\"Comedy\",\"Comedy\",\"Comedy\",\"Comedy\",\"Comedy\",\"Comedy\",\"Comedy\",\"Comedy\",\"Comedy\",\"Comedy\",\"Comedy\",\"Comedy\",\"Comedy\",\"Comedy\",\"Comedy\",\"Comedy\",\"Comedy\",\"Comedy\",\"Comedy\",\"Comedy\",\"Comedy\",\"Comedy\",\"Comedy\",\"Comedy\",\"Comedy\",\"Comedy\",\"Comedy\",\"Comedy\",\"Comedy\",\"Comedy\",\"Comedy\",\"Comedy\",\"Comedy\",\"Comedy\",\"Comedy\",\"Comedy\",\"Comedy\",\"Comedy\",\"Comedy\",\"Comedy\",\"Comedy\",\"Comedy\",\"Comedy\",\"Comedy\",\"Comedy\",\"Comedy\",\"Comedy\",\"Comedy\",\"Comedy\",\"Comedy\",\"Comedy\",\"Comedy\",\"Comedy\",\"Comedy\",\"Comedy\",\"Comedy\",\"Comedy\",\"Comedy\",\"Comedy\",\"Comedy\",\"Comedy\",\"Comedy\",\"Comedy\",\"Comedy\",\"Comedy\",\"Comedy\",\"Comedy\",\"Comedy\",\"Comedy\",\"Comedy\",\"Comedy\",\"Comedy\",\"Comedy\",\"Comedy\",\"Comedy\",\"Comedy\",\"Comedy\",\"Comedy\",\"Comedy\",\"Comedy\",\"Comedy\",\"Comedy\",\"Comedy\",\"Comedy\",\"Comedy\",\"Comedy\",\"Comedy\",\"Comedy\",\"Comedy\",\"Comedy\",\"Comedy\",\"Comedy\",\"Comedy\",\"Comedy\",\"Comedy\",\"Comedy\",\"Comedy\",\"Comedy\",\"Comedy\",\"Comedy\",\"Comedy\",\"Comedy\",\"Comedy\",\"Comedy\",\"Comedy\",\"Comedy\",\"Comedy\",\"Comedy\",\"Comedy\",\"Comedy\",\"Comedy\",\"Comedy\",\"Comedy\",\"Comedy\",\"Comedy\",\"Comedy\",\"Comedy\",\"Comedy\",\"Comedy\",\"Comedy\",\"Comedy\",\"Comedy\",\"Comedy\",\"Comedy\",\"Comedy\"],\"yaxis\":\"y\",\"type\":\"scattergl\"},{\"hovertemplate\":\"Genre=%{y}\\u003cbr\\u003eRating=%{x}\\u003cextra\\u003e\\u003c\\u002fextra\\u003e\",\"legendgroup\":\"History\",\"marker\":{\"color\":\"#FF97FF\",\"symbol\":\"circle\"},\"mode\":\"markers\",\"name\":\"History\",\"showlegend\":true,\"x\":[6.0,7.1,7.0,6.6,7.4,7.1],\"xaxis\":\"x\",\"y\":[\"History\",\"History\",\"History\",\"History\",\"History\",\"History\"],\"yaxis\":\"y\",\"type\":\"scattergl\"},{\"hovertemplate\":\"Genre=%{y}\\u003cbr\\u003eRating=%{x}\\u003cextra\\u003e\\u003c\\u002fextra\\u003e\",\"legendgroup\":\"Thriller\",\"marker\":{\"color\":\"#FECB52\",\"symbol\":\"circle\"},\"mode\":\"markers\",\"name\":\"Thriller\",\"showlegend\":true,\"x\":[6.3,6.1,7.1,6.4,6.2,5.8,6.3,2.8,6.1,5.5,5.3,5.1,5.2,5.6,3.9,3.3,2.9,3.2,4.8,3.1,3.8,3.1,5.6,4.7,3.2,6.8,5.7,3.1,6.2,3.6,4.6,2.5,6.9,7.1,5.5,4.8,4.2,6.6,3.5,5.8,4.5,6.7,3.1,5.6,7.4,4.3,5.9,6.0,7.1,7.2,6.3,5.1,7.3,4.5,5.9,3.7,7.9,8.2,7.0,5.5,6.1,5.8,5.2,5.4,3.9,4.0,5.3,5.3,4.2,7.0,5.6,2.7,7.9,8.6,5.5,6.1,4.3,2.5,4.3,8.7,3.5],\"xaxis\":\"x\",\"y\":[\"Thriller\",\"Thriller\",\"Thriller\",\"Thriller\",\"Thriller\",\"Thriller\",\"Thriller\",\"Thriller\",\"Thriller\",\"Thriller\",\"Thriller\",\"Thriller\",\"Thriller\",\"Thriller\",\"Thriller\",\"Thriller\",\"Thriller\",\"Thriller\",\"Thriller\",\"Thriller\",\"Thriller\",\"Thriller\",\"Thriller\",\"Thriller\",\"Thriller\",\"Thriller\",\"Thriller\",\"Thriller\",\"Thriller\",\"Thriller\",\"Thriller\",\"Thriller\",\"Thriller\",\"Thriller\",\"Thriller\",\"Thriller\",\"Thriller\",\"Thriller\",\"Thriller\",\"Thriller\",\"Thriller\",\"Thriller\",\"Thriller\",\"Thriller\",\"Thriller\",\"Thriller\",\"Thriller\",\"Thriller\",\"Thriller\",\"Thriller\",\"Thriller\",\"Thriller\",\"Thriller\",\"Thriller\",\"Thriller\",\"Thriller\",\"Thriller\",\"Thriller\",\"Thriller\",\"Thriller\",\"Thriller\",\"Thriller\",\"Thriller\",\"Thriller\",\"Thriller\",\"Thriller\",\"Thriller\",\"Thriller\",\"Thriller\",\"Thriller\",\"Thriller\",\"Thriller\",\"Thriller\",\"Thriller\",\"Thriller\",\"Thriller\",\"Thriller\",\"Thriller\",\"Thriller\",\"Thriller\",\"Thriller\"],\"yaxis\":\"y\",\"type\":\"scattergl\"},{\"hovertemplate\":\"Genre=%{y}\\u003cbr\\u003eRating=%{x}\\u003cextra\\u003e\\u003c\\u002fextra\\u003e\",\"legendgroup\":\"Action\",\"marker\":{\"color\":\"#636efa\",\"symbol\":\"circle\"},\"mode\":\"markers\",\"name\":\"Action\",\"showlegend\":true,\"x\":[2.8,6.1,6.9,3.8,6.8,6.3,5.8,7.0,3.3,5.1,5.8,6.5,4.5,5.5,7.1,4.1,4.7,6.8,3.4,6.0,4.8,3.7,5.9,5.2,6.8,6.1,6.7,4.5,4.4,4.7,6.0,3.8,5.4,4.7,6.5,7.0,5.3,4.6,5.6,5.6,3.9,4.9,6.4,5.0,5.0,5.7,6.9,6.6,5.2,3.3,5.2,5.5,5.1,3.8,3.3,5.8,3.4,4.1,6.2,4.8,4.5,4.7,5.7,4.4,5.8,3.4,5.7,2.9,4.0,4.1,4.4,5.2,4.2,5.0,5.0,6.9,5.3,3.1,3.8,7.8,3.6,2.8,4.5,3.8,3.7,2.5,5.6,4.9,4.7,4.4,5.1,5.1,4.6,5.0,4.4,4.7,3.8,2.9,4.6,3.8,3.9,8.5,4.8,4.6,4.9,5.3,5.4,2.9,3.5,6.5,5.6,2.9,4.7,3.1,5.1,3.8,3.5,6.3,6.9,5.2,5.5,5.6,3.0,4.8,9.2,6.5,4.8,6.0,4.2,3.8,3.5,5.9,4.0,3.6,5.3,6.2,6.6,6.4,6.4,7.5,2.7,6.8,5.3,6.8,5.5,5.9,6.2,6.8],\"xaxis\":\"x\",\"y\":[\"Action\",\"Action\",\"Action\",\"Action\",\"Action\",\"Action\",\"Action\",\"Action\",\"Action\",\"Action\",\"Action\",\"Action\",\"Action\",\"Action\",\"Action\",\"Action\",\"Action\",\"Action\",\"Action\",\"Action\",\"Action\",\"Action\",\"Action\",\"Action\",\"Action\",\"Action\",\"Action\",\"Action\",\"Action\",\"Action\",\"Action\",\"Action\",\"Action\",\"Action\",\"Action\",\"Action\",\"Action\",\"Action\",\"Action\",\"Action\",\"Action\",\"Action\",\"Action\",\"Action\",\"Action\",\"Action\",\"Action\",\"Action\",\"Action\",\"Action\",\"Action\",\"Action\",\"Action\",\"Action\",\"Action\",\"Action\",\"Action\",\"Action\",\"Action\",\"Action\",\"Action\",\"Action\",\"Action\",\"Action\",\"Action\",\"Action\",\"Action\",\"Action\",\"Action\",\"Action\",\"Action\",\"Action\",\"Action\",\"Action\",\"Action\",\"Action\",\"Action\",\"Action\",\"Action\",\"Action\",\"Action\",\"Action\",\"Action\",\"Action\",\"Action\",\"Action\",\"Action\",\"Action\",\"Action\",\"Action\",\"Action\",\"Action\",\"Action\",\"Action\",\"Action\",\"Action\",\"Action\",\"Action\",\"Action\",\"Action\",\"Action\",\"Action\",\"Action\",\"Action\",\"Action\",\"Action\",\"Action\",\"Action\",\"Action\",\"Action\",\"Action\",\"Action\",\"Action\",\"Action\",\"Action\",\"Action\",\"Action\",\"Action\",\"Action\",\"Action\",\"Action\",\"Action\",\"Action\",\"Action\",\"Action\",\"Action\",\"Action\",\"Action\",\"Action\",\"Action\",\"Action\",\"Action\",\"Action\",\"Action\",\"Action\",\"Action\",\"Action\",\"Action\",\"Action\",\"Action\",\"Action\",\"Action\",\"Action\",\"Action\",\"Action\",\"Action\",\"Action\",\"Action\"],\"yaxis\":\"y\",\"type\":\"scattergl\"},{\"hovertemplate\":\"Genre=%{y}\\u003cbr\\u003eRating=%{x}\\u003cextra\\u003e\\u003c\\u002fextra\\u003e\",\"legendgroup\":\"Family\",\"marker\":{\"color\":\"#EF553B\",\"symbol\":\"circle\"},\"mode\":\"markers\",\"name\":\"Family\",\"showlegend\":true,\"x\":[6.4,6.0,7.2,5.9,7.6,5.0,4.8,5.9,5.1,4.2,4.9,4.7,7.9,5.5,5.7,7.4,5.0,6.1,8.0,5.7,8.8,4.8,7.8,6.0,7.8,8.6,7.3,9.3],\"xaxis\":\"x\",\"y\":[\"Family\",\"Family\",\"Family\",\"Family\",\"Family\",\"Family\",\"Family\",\"Family\",\"Family\",\"Family\",\"Family\",\"Family\",\"Family\",\"Family\",\"Family\",\"Family\",\"Family\",\"Family\",\"Family\",\"Family\",\"Family\",\"Family\",\"Family\",\"Family\",\"Family\",\"Family\",\"Family\",\"Family\"],\"yaxis\":\"y\",\"type\":\"scattergl\"},{\"hovertemplate\":\"Genre=%{y}\\u003cbr\\u003eRating=%{x}\\u003cextra\\u003e\\u003c\\u002fextra\\u003e\",\"legendgroup\":\"Crime\",\"marker\":{\"color\":\"#00cc96\",\"symbol\":\"circle\"},\"mode\":\"markers\",\"name\":\"Crime\",\"showlegend\":true,\"x\":[5.6,6.4,5.7,4.6,5.4,2.1,3.3,3.1,3.4,3.9,3.8,5.4,6.4,5.9,7.0,5.8,3.1,6.5,5.4,5.3,7.8,8.9],\"xaxis\":\"x\",\"y\":[\"Crime\",\"Crime\",\"Crime\",\"Crime\",\"Crime\",\"Crime\",\"Crime\",\"Crime\",\"Crime\",\"Crime\",\"Crime\",\"Crime\",\"Crime\",\"Crime\",\"Crime\",\"Crime\",\"Crime\",\"Crime\",\"Crime\",\"Crime\",\"Crime\",\"Crime\"],\"yaxis\":\"y\",\"type\":\"scattergl\"},{\"hovertemplate\":\"Genre=%{y}\\u003cbr\\u003eRating=%{x}\\u003cextra\\u003e\\u003c\\u002fextra\\u003e\",\"legendgroup\":\"Horror\",\"marker\":{\"color\":\"#ab63fa\",\"symbol\":\"circle\"},\"mode\":\"markers\",\"name\":\"Horror\",\"showlegend\":true,\"x\":[6.1,5.0,5.6,3.4,4.8,5.2,4.1,3.3,4.8,5.8,3.9,4.1,5.8,5.5,7.1,3.4,5.0,2.7,4.9,3.5,4.3,4.3,4.0,3.8,4.6,5.6,2.8,3.1,5.2,4.9,6.3,5.3,4.2,3.5,5.2,3.9,4.3,5.4,4.9,4.4,5.3,1.9,4.2,2.3,6.2,4.2,3.8,3.2,2.7,3.7,4.2,5.3,5.9,4.0,6.8,7.1,5.5,6.2,3.5,5.4,7.4,6.3,4.8,4.7,4.5,6.2,6.7,3.5],\"xaxis\":\"x\",\"y\":[\"Horror\",\"Horror\",\"Horror\",\"Horror\",\"Horror\",\"Horror\",\"Horror\",\"Horror\",\"Horror\",\"Horror\",\"Horror\",\"Horror\",\"Horror\",\"Horror\",\"Horror\",\"Horror\",\"Horror\",\"Horror\",\"Horror\",\"Horror\",\"Horror\",\"Horror\",\"Horror\",\"Horror\",\"Horror\",\"Horror\",\"Horror\",\"Horror\",\"Horror\",\"Horror\",\"Horror\",\"Horror\",\"Horror\",\"Horror\",\"Horror\",\"Horror\",\"Horror\",\"Horror\",\"Horror\",\"Horror\",\"Horror\",\"Horror\",\"Horror\",\"Horror\",\"Horror\",\"Horror\",\"Horror\",\"Horror\",\"Horror\",\"Horror\",\"Horror\",\"Horror\",\"Horror\",\"Horror\",\"Horror\",\"Horror\",\"Horror\",\"Horror\",\"Horror\",\"Horror\",\"Horror\",\"Horror\",\"Horror\",\"Horror\",\"Horror\",\"Horror\",\"Horror\",\"Horror\"],\"yaxis\":\"y\",\"type\":\"scattergl\"},{\"hovertemplate\":\"Genre=%{y}\\u003cbr\\u003eRating=%{x}\\u003cextra\\u003e\\u003c\\u002fextra\\u003e\",\"legendgroup\":\"Documentary\",\"marker\":{\"color\":\"#FFA15A\",\"symbol\":\"circle\"},\"mode\":\"markers\",\"name\":\"Documentary\",\"showlegend\":true,\"x\":[7.8,7.5,7.6,8.6,8.6,6.2,8.6,8.0,6.1,6.8,7.8,7.5,9.2,6.7,7.9,8.5,8.6,4.2,8.9,7.4,8.2,9.0,6.9,9.3,8.1],\"xaxis\":\"x\",\"y\":[\"Documentary\",\"Documentary\",\"Documentary\",\"Documentary\",\"Documentary\",\"Documentary\",\"Documentary\",\"Documentary\",\"Documentary\",\"Documentary\",\"Documentary\",\"Documentary\",\"Documentary\",\"Documentary\",\"Documentary\",\"Documentary\",\"Documentary\",\"Documentary\",\"Documentary\",\"Documentary\",\"Documentary\",\"Documentary\",\"Documentary\",\"Documentary\",\"Documentary\"],\"yaxis\":\"y\",\"type\":\"scattergl\"},{\"hovertemplate\":\"Genre=%{y}\\u003cbr\\u003eRating=%{x}\\u003cextra\\u003e\\u003c\\u002fextra\\u003e\",\"legendgroup\":\"War\",\"marker\":{\"color\":\"#19d3f3\",\"symbol\":\"circle\"},\"mode\":\"markers\",\"name\":\"War\",\"showlegend\":true,\"x\":[6.7,2.8,3.5],\"xaxis\":\"x\",\"y\":[\"War\",\"War\",\"War\"],\"yaxis\":\"y\",\"type\":\"scattergl\"},{\"hovertemplate\":\"Genre=%{y}\\u003cbr\\u003eRating=%{x}\\u003cextra\\u003e\\u003c\\u002fextra\\u003e\",\"legendgroup\":\"Animation\",\"marker\":{\"color\":\"#FF6692\",\"symbol\":\"circle\"},\"mode\":\"markers\",\"name\":\"Animation\",\"showlegend\":true,\"x\":[7.6,4.6,6.6,6.2,4.2,7.7,8.6,5.5,2.3,7.8,6.5],\"xaxis\":\"x\",\"y\":[\"Animation\",\"Animation\",\"Animation\",\"Animation\",\"Animation\",\"Animation\",\"Animation\",\"Animation\",\"Animation\",\"Animation\",\"Animation\"],\"yaxis\":\"y\",\"type\":\"scattergl\"},{\"hovertemplate\":\"Genre=%{y}\\u003cbr\\u003eRating=%{x}\\u003cextra\\u003e\\u003c\\u002fextra\\u003e\",\"legendgroup\":\"Sci-Fi\",\"marker\":{\"color\":\"#B6E880\",\"symbol\":\"circle\"},\"mode\":\"markers\",\"name\":\"Sci-Fi\",\"showlegend\":true,\"x\":[5.4,4.3,9.3],\"xaxis\":\"x\",\"y\":[\"Sci-Fi\",\"Sci-Fi\",\"Sci-Fi\"],\"yaxis\":\"y\",\"type\":\"scattergl\"},{\"hovertemplate\":\"Genre=%{y}\\u003cbr\\u003eRating=%{x}\\u003cextra\\u003e\\u003c\\u002fextra\\u003e\",\"legendgroup\":\"Music\",\"marker\":{\"color\":\"#FF97FF\",\"symbol\":\"circle\"},\"mode\":\"markers\",\"name\":\"Music\",\"showlegend\":true,\"x\":[5.9],\"xaxis\":\"x\",\"y\":[\"Music\"],\"yaxis\":\"y\",\"type\":\"scattergl\"},{\"hovertemplate\":\"Genre=%{y}\\u003cbr\\u003eRating=%{x}\\u003cextra\\u003e\\u003c\\u002fextra\\u003e\",\"legendgroup\":\"Sport\",\"marker\":{\"color\":\"#FECB52\",\"symbol\":\"circle\"},\"mode\":\"markers\",\"name\":\"Sport\",\"showlegend\":true,\"x\":[6.1,5.5],\"xaxis\":\"x\",\"y\":[\"Sport\",\"Sport\"],\"yaxis\":\"y\",\"type\":\"scattergl\"}],                        {\"template\":{\"data\":{\"histogram2dcontour\":[{\"type\":\"histogram2dcontour\",\"colorbar\":{\"outlinewidth\":0,\"ticks\":\"\"},\"colorscale\":[[0.0,\"#0d0887\"],[0.1111111111111111,\"#46039f\"],[0.2222222222222222,\"#7201a8\"],[0.3333333333333333,\"#9c179e\"],[0.4444444444444444,\"#bd3786\"],[0.5555555555555556,\"#d8576b\"],[0.6666666666666666,\"#ed7953\"],[0.7777777777777778,\"#fb9f3a\"],[0.8888888888888888,\"#fdca26\"],[1.0,\"#f0f921\"]]}],\"choropleth\":[{\"type\":\"choropleth\",\"colorbar\":{\"outlinewidth\":0,\"ticks\":\"\"}}],\"histogram2d\":[{\"type\":\"histogram2d\",\"colorbar\":{\"outlinewidth\":0,\"ticks\":\"\"},\"colorscale\":[[0.0,\"#0d0887\"],[0.1111111111111111,\"#46039f\"],[0.2222222222222222,\"#7201a8\"],[0.3333333333333333,\"#9c179e\"],[0.4444444444444444,\"#bd3786\"],[0.5555555555555556,\"#d8576b\"],[0.6666666666666666,\"#ed7953\"],[0.7777777777777778,\"#fb9f3a\"],[0.8888888888888888,\"#fdca26\"],[1.0,\"#f0f921\"]]}],\"heatmap\":[{\"type\":\"heatmap\",\"colorbar\":{\"outlinewidth\":0,\"ticks\":\"\"},\"colorscale\":[[0.0,\"#0d0887\"],[0.1111111111111111,\"#46039f\"],[0.2222222222222222,\"#7201a8\"],[0.3333333333333333,\"#9c179e\"],[0.4444444444444444,\"#bd3786\"],[0.5555555555555556,\"#d8576b\"],[0.6666666666666666,\"#ed7953\"],[0.7777777777777778,\"#fb9f3a\"],[0.8888888888888888,\"#fdca26\"],[1.0,\"#f0f921\"]]}],\"heatmapgl\":[{\"type\":\"heatmapgl\",\"colorbar\":{\"outlinewidth\":0,\"ticks\":\"\"},\"colorscale\":[[0.0,\"#0d0887\"],[0.1111111111111111,\"#46039f\"],[0.2222222222222222,\"#7201a8\"],[0.3333333333333333,\"#9c179e\"],[0.4444444444444444,\"#bd3786\"],[0.5555555555555556,\"#d8576b\"],[0.6666666666666666,\"#ed7953\"],[0.7777777777777778,\"#fb9f3a\"],[0.8888888888888888,\"#fdca26\"],[1.0,\"#f0f921\"]]}],\"contourcarpet\":[{\"type\":\"contourcarpet\",\"colorbar\":{\"outlinewidth\":0,\"ticks\":\"\"}}],\"contour\":[{\"type\":\"contour\",\"colorbar\":{\"outlinewidth\":0,\"ticks\":\"\"},\"colorscale\":[[0.0,\"#0d0887\"],[0.1111111111111111,\"#46039f\"],[0.2222222222222222,\"#7201a8\"],[0.3333333333333333,\"#9c179e\"],[0.4444444444444444,\"#bd3786\"],[0.5555555555555556,\"#d8576b\"],[0.6666666666666666,\"#ed7953\"],[0.7777777777777778,\"#fb9f3a\"],[0.8888888888888888,\"#fdca26\"],[1.0,\"#f0f921\"]]}],\"surface\":[{\"type\":\"surface\",\"colorbar\":{\"outlinewidth\":0,\"ticks\":\"\"},\"colorscale\":[[0.0,\"#0d0887\"],[0.1111111111111111,\"#46039f\"],[0.2222222222222222,\"#7201a8\"],[0.3333333333333333,\"#9c179e\"],[0.4444444444444444,\"#bd3786\"],[0.5555555555555556,\"#d8576b\"],[0.6666666666666666,\"#ed7953\"],[0.7777777777777778,\"#fb9f3a\"],[0.8888888888888888,\"#fdca26\"],[1.0,\"#f0f921\"]]}],\"mesh3d\":[{\"type\":\"mesh3d\",\"colorbar\":{\"outlinewidth\":0,\"ticks\":\"\"}}],\"scatter\":[{\"fillpattern\":{\"fillmode\":\"overlay\",\"size\":10,\"solidity\":0.2},\"type\":\"scatter\"}],\"parcoords\":[{\"type\":\"parcoords\",\"line\":{\"colorbar\":{\"outlinewidth\":0,\"ticks\":\"\"}}}],\"scatterpolargl\":[{\"type\":\"scatterpolargl\",\"marker\":{\"colorbar\":{\"outlinewidth\":0,\"ticks\":\"\"}}}],\"bar\":[{\"error_x\":{\"color\":\"#2a3f5f\"},\"error_y\":{\"color\":\"#2a3f5f\"},\"marker\":{\"line\":{\"color\":\"#E5ECF6\",\"width\":0.5},\"pattern\":{\"fillmode\":\"overlay\",\"size\":10,\"solidity\":0.2}},\"type\":\"bar\"}],\"scattergeo\":[{\"type\":\"scattergeo\",\"marker\":{\"colorbar\":{\"outlinewidth\":0,\"ticks\":\"\"}}}],\"scatterpolar\":[{\"type\":\"scatterpolar\",\"marker\":{\"colorbar\":{\"outlinewidth\":0,\"ticks\":\"\"}}}],\"histogram\":[{\"marker\":{\"pattern\":{\"fillmode\":\"overlay\",\"size\":10,\"solidity\":0.2}},\"type\":\"histogram\"}],\"scattergl\":[{\"type\":\"scattergl\",\"marker\":{\"colorbar\":{\"outlinewidth\":0,\"ticks\":\"\"}}}],\"scatter3d\":[{\"type\":\"scatter3d\",\"line\":{\"colorbar\":{\"outlinewidth\":0,\"ticks\":\"\"}},\"marker\":{\"colorbar\":{\"outlinewidth\":0,\"ticks\":\"\"}}}],\"scattermapbox\":[{\"type\":\"scattermapbox\",\"marker\":{\"colorbar\":{\"outlinewidth\":0,\"ticks\":\"\"}}}],\"scatterternary\":[{\"type\":\"scatterternary\",\"marker\":{\"colorbar\":{\"outlinewidth\":0,\"ticks\":\"\"}}}],\"scattercarpet\":[{\"type\":\"scattercarpet\",\"marker\":{\"colorbar\":{\"outlinewidth\":0,\"ticks\":\"\"}}}],\"carpet\":[{\"aaxis\":{\"endlinecolor\":\"#2a3f5f\",\"gridcolor\":\"white\",\"linecolor\":\"white\",\"minorgridcolor\":\"white\",\"startlinecolor\":\"#2a3f5f\"},\"baxis\":{\"endlinecolor\":\"#2a3f5f\",\"gridcolor\":\"white\",\"linecolor\":\"white\",\"minorgridcolor\":\"white\",\"startlinecolor\":\"#2a3f5f\"},\"type\":\"carpet\"}],\"table\":[{\"cells\":{\"fill\":{\"color\":\"#EBF0F8\"},\"line\":{\"color\":\"white\"}},\"header\":{\"fill\":{\"color\":\"#C8D4E3\"},\"line\":{\"color\":\"white\"}},\"type\":\"table\"}],\"barpolar\":[{\"marker\":{\"line\":{\"color\":\"#E5ECF6\",\"width\":0.5},\"pattern\":{\"fillmode\":\"overlay\",\"size\":10,\"solidity\":0.2}},\"type\":\"barpolar\"}],\"pie\":[{\"automargin\":true,\"type\":\"pie\"}]},\"layout\":{\"autotypenumbers\":\"strict\",\"colorway\":[\"#636efa\",\"#EF553B\",\"#00cc96\",\"#ab63fa\",\"#FFA15A\",\"#19d3f3\",\"#FF6692\",\"#B6E880\",\"#FF97FF\",\"#FECB52\"],\"font\":{\"color\":\"#2a3f5f\"},\"hovermode\":\"closest\",\"hoverlabel\":{\"align\":\"left\"},\"paper_bgcolor\":\"white\",\"plot_bgcolor\":\"#E5ECF6\",\"polar\":{\"bgcolor\":\"#E5ECF6\",\"angularaxis\":{\"gridcolor\":\"white\",\"linecolor\":\"white\",\"ticks\":\"\"},\"radialaxis\":{\"gridcolor\":\"white\",\"linecolor\":\"white\",\"ticks\":\"\"}},\"ternary\":{\"bgcolor\":\"#E5ECF6\",\"aaxis\":{\"gridcolor\":\"white\",\"linecolor\":\"white\",\"ticks\":\"\"},\"baxis\":{\"gridcolor\":\"white\",\"linecolor\":\"white\",\"ticks\":\"\"},\"caxis\":{\"gridcolor\":\"white\",\"linecolor\":\"white\",\"ticks\":\"\"}},\"coloraxis\":{\"colorbar\":{\"outlinewidth\":0,\"ticks\":\"\"}},\"colorscale\":{\"sequential\":[[0.0,\"#0d0887\"],[0.1111111111111111,\"#46039f\"],[0.2222222222222222,\"#7201a8\"],[0.3333333333333333,\"#9c179e\"],[0.4444444444444444,\"#bd3786\"],[0.5555555555555556,\"#d8576b\"],[0.6666666666666666,\"#ed7953\"],[0.7777777777777778,\"#fb9f3a\"],[0.8888888888888888,\"#fdca26\"],[1.0,\"#f0f921\"]],\"sequentialminus\":[[0.0,\"#0d0887\"],[0.1111111111111111,\"#46039f\"],[0.2222222222222222,\"#7201a8\"],[0.3333333333333333,\"#9c179e\"],[0.4444444444444444,\"#bd3786\"],[0.5555555555555556,\"#d8576b\"],[0.6666666666666666,\"#ed7953\"],[0.7777777777777778,\"#fb9f3a\"],[0.8888888888888888,\"#fdca26\"],[1.0,\"#f0f921\"]],\"diverging\":[[0,\"#8e0152\"],[0.1,\"#c51b7d\"],[0.2,\"#de77ae\"],[0.3,\"#f1b6da\"],[0.4,\"#fde0ef\"],[0.5,\"#f7f7f7\"],[0.6,\"#e6f5d0\"],[0.7,\"#b8e186\"],[0.8,\"#7fbc41\"],[0.9,\"#4d9221\"],[1,\"#276419\"]]},\"xaxis\":{\"gridcolor\":\"white\",\"linecolor\":\"white\",\"ticks\":\"\",\"title\":{\"standoff\":15},\"zerolinecolor\":\"white\",\"automargin\":true,\"zerolinewidth\":2},\"yaxis\":{\"gridcolor\":\"white\",\"linecolor\":\"white\",\"ticks\":\"\",\"title\":{\"standoff\":15},\"zerolinecolor\":\"white\",\"automargin\":true,\"zerolinewidth\":2},\"scene\":{\"xaxis\":{\"backgroundcolor\":\"#E5ECF6\",\"gridcolor\":\"white\",\"linecolor\":\"white\",\"showbackground\":true,\"ticks\":\"\",\"zerolinecolor\":\"white\",\"gridwidth\":2},\"yaxis\":{\"backgroundcolor\":\"#E5ECF6\",\"gridcolor\":\"white\",\"linecolor\":\"white\",\"showbackground\":true,\"ticks\":\"\",\"zerolinecolor\":\"white\",\"gridwidth\":2},\"zaxis\":{\"backgroundcolor\":\"#E5ECF6\",\"gridcolor\":\"white\",\"linecolor\":\"white\",\"showbackground\":true,\"ticks\":\"\",\"zerolinecolor\":\"white\",\"gridwidth\":2}},\"shapedefaults\":{\"line\":{\"color\":\"#2a3f5f\"}},\"annotationdefaults\":{\"arrowcolor\":\"#2a3f5f\",\"arrowhead\":0,\"arrowwidth\":1},\"geo\":{\"bgcolor\":\"white\",\"landcolor\":\"#E5ECF6\",\"subunitcolor\":\"white\",\"showland\":true,\"showlakes\":true,\"lakecolor\":\"white\"},\"title\":{\"x\":0.05},\"mapbox\":{\"style\":\"light\"}}},\"xaxis\":{\"anchor\":\"y\",\"domain\":[0.0,1.0],\"title\":{\"text\":\"Rating\"}},\"yaxis\":{\"anchor\":\"x\",\"domain\":[0.0,1.0],\"title\":{\"text\":\"Genre\"},\"categoryorder\":\"array\",\"categoryarray\":[\"Sport\",\"Music\",\"Sci-Fi\",\"Animation\",\"War\",\"Documentary\",\"Horror\",\"Crime\",\"Family\",\"Action\",\"Thriller\",\"History\",\"Comedy\",\"Fantasy\",\"Musical\",\"Romance\",\"Mystery\",\"Biography\",\"Adventure\",\"Drama\"]},\"legend\":{\"title\":{\"text\":\"Genre\"},\"tracegroupgap\":0},\"title\":{\"text\":\"Rating Versus Genre\"}},                        {\"responsive\": true}                    ).then(function(){\n",
              "                            \n",
              "var gd = document.getElementById('51f5d8fe-19b6-48d6-8f2c-00d232d95f5c');\n",
              "var x = new MutationObserver(function (mutations, observer) {{\n",
              "        var display = window.getComputedStyle(gd).display;\n",
              "        if (!display || display === 'none') {{\n",
              "            console.log([gd, 'removed!']);\n",
              "            Plotly.purge(gd);\n",
              "            observer.disconnect();\n",
              "        }}\n",
              "}});\n",
              "\n",
              "// Listen for the removal of the full notebook cells\n",
              "var notebookContainer = gd.closest('#notebook-container');\n",
              "if (notebookContainer) {{\n",
              "    x.observe(notebookContainer, {childList: true});\n",
              "}}\n",
              "\n",
              "// Listen for the clearing of the current output cell\n",
              "var outputEl = gd.closest('.output');\n",
              "if (outputEl) {{\n",
              "    x.observe(outputEl, {childList: true});\n",
              "}}\n",
              "\n",
              "                        })                };                            </script>        </div>\n",
              "</body>\n",
              "</html>"
            ]
          },
          "metadata": {}
        }
      ]
    },
    {
      "cell_type": "code",
      "source": [
        "px.scatter(data, x = 'Duration', y = 'Votes', color = 'Votes', title = 'Duration Versus Votes')"
      ],
      "metadata": {
        "colab": {
          "base_uri": "https://localhost:8080/",
          "height": 542
        },
        "id": "mniNiTNmjaSE",
        "outputId": "2d9d0f86-de4b-4672-dde8-ce12655e4f2f"
      },
      "execution_count": null,
      "outputs": [
        {
          "output_type": "display_data",
          "data": {
            "text/html": [
              "<html>\n",
              "<head><meta charset=\"utf-8\" /></head>\n",
              "<body>\n",
              "    <div>            <script src=\"https://cdnjs.cloudflare.com/ajax/libs/mathjax/2.7.5/MathJax.js?config=TeX-AMS-MML_SVG\"></script><script type=\"text/javascript\">if (window.MathJax && window.MathJax.Hub && window.MathJax.Hub.Config) {window.MathJax.Hub.Config({SVG: {font: \"STIX-Web\"}});}</script>                <script type=\"text/javascript\">window.PlotlyConfig = {MathJaxConfig: 'local'};</script>\n",
              "        <script charset=\"utf-8\" src=\"https://cdn.plot.ly/plotly-2.24.1.min.js\"></script>                <div id=\"f51920d4-b917-43ab-9332-e67a4e4506bf\" class=\"plotly-graph-div\" style=\"height:525px; width:100%;\"></div>            <script type=\"text/javascript\">                                    window.PLOTLYENV=window.PLOTLYENV || {};                                    if (document.getElementById(\"f51920d4-b917-43ab-9332-e67a4e4506bf\")) {                    Plotly.newPlot(                        \"f51920d4-b917-43ab-9332-e67a4e4506bf\",                        [{\"hovertemplate\":\"Duration=%{x}\\u003cbr\\u003eVotes=%{marker.color}\\u003cextra\\u003e\\u003c\\u002fextra\\u003e\",\"legendgroup\":\"\",\"marker\":{\"color\":[6,13,10,5,9,11,5,9,7,12,38,17,9,9,10,6,17,11,31,229,12,23,11,10,15,14,11,11,6,10,12,19,12,8,6,30,7,93,27,10,6,8,182,18,28,25,6,5,12,39,39,38,21,18,30,15,15,8,6,15,10,13,5,18,27,7,41,10,32,1857,11,28,16,7,51,9,46,103,16,15,8,28,7,15,12,11,52,7,68,12,14,80,17,27,18,7,66,57,19,15,35,18,158,7,9,57,60,2136,22,14,13,35,20,25,6,9,14,9,317,87,21,5,346,112,30,21,58,24,33,28,26,13,33,42,12,5,10,13,6,32,7,11,33,122,45,9,14,43,50,13,47,85,80,53,5,203,11,8,8,54,20,21,8,60,690,10,8,16,48,32,37,64,9,8,12,23,10,420,27,22,49,6,14,7,10,47,78,13,17,49,10,29,40,536,10,137,117,9,200,1523,337,15,10,10,14,11,19,28,232,115,88,69,8,230,48,8,5,11,1564,11,11,27,689,22,44,1185,6,16,30,6,194,13,44,62,7,13,86,17,7,10,6,5,19,14,421,540,7,42,85,20,14,24,26,85,14,5,5,114,33,197,23,22,9,26,6,585,18,18,19,52,31,137,7,181,10,128,12,7,51,20,64,16,10,18,22,16,7,527,17,17,15,17,11,18,60,15,68,58,6,57,17,101,26,30,16,16,67,78,31,76,7,18,15,18,22,141,5,22,9,18,94,446,11,45,64,264,19,15,48,128,275,34,9,11,10,37,7,12,76,47,13,9,27,7,45,22,108,520,571,23,23,39,13,494,64,54,55,109,75,22,153,85,37,55,12,450,242,13,27,47,1781,18,26,44,129,474,16,138,27,42,346,6,49,255,80,14,8,16,43,127,160,17,32,15,5,12,14,58,43,43,38,27,12,9,36,11,15,53,124,58,103,43,105,165,19,57,43,37,113,9,17,7,13,26,293,46,7,22,93,281,52,48,32,21,22,37,67,7,8,30,51,27,27,25,27,75,365,37,438,60,19,14,16,142,63,191,24,8,7,8,52,27,250,39,36,65,37,6,17,13,7,72,13,66,81,699,13,212,102,7,53,257,1255,51,84,360,8,5,22,41,19,47,63,12,150,17,77,48,15,29,13,29,39,12,26,8,78,47,37,37,17,109,66,49,170,25,28,17,40,75,36,41,9,9,17,75,1020,14,7,8,6,14,60,75,17,9,57,58,56,20,54,65,68,51,17,86,25,21,13,16,88,15,35,489,6,30,36,20,84,9,186,45,31,10,20,69,73,406,68,50,27,134,160,23,13,11,124,53,64,4780,24,243,52,16,73,345,87,1582,40,67,60,15,21,218,189,11,25,73,652,206,332,13,215,172,46,62,14,7,10,24,7,33,53,23,26,230,49,126,17,63,6,12,13,13,24,640,31,3007,2610,302,6,6,44,24,25,25,31,274,45,285,299,25,11,13,9,367,30,21,18,104,442,5,188,7,15,23,9,21,636,8,56,24,213,20,7,7,34,15,39,23,67,11,105,16,288,706,7,5,15,645,9,18,6,20,10,17,17,8,432,40,15,11,10,24,7,5,249,7,29,19,122,311,57,10,7,50,245,8,1197,17,11,95,7,8,70,17,29,554,50,4744,798,24,2108,3207,11,336,370,7,29,46,242,525,7,29,102,78,850,2633,24,19,27,30,7,9,6,15,374,15,102,6,268,2042,101,80,1909,116,6,6,32,17,7,16,39,85340,21,107,264,1332,344,20,25,1983,22,77,151,13,12,9,24,46,39,14461,37,62,8,14,34,696,488,42,45,185,6712,1061,140,58,425,8,13,30,68,72,31,663,38,33782,892,54,594,856,44,71,796,35,700,10,60,14,1002,320,58,132,40,15,31,5785,6,45,1962,24,1957,25,43,35,12,10,25,263,9,673,189,86,118,6120,9,70,13,47,20,454,1622,49,7,1807,29,179,15,8,1556,922,36,356,66,51,1544,31,365,156,9,51,23,11,36,191,9,13,6034,12,44,96,110,43,648,7,42,83,9,125,106,1242,62,17,46,119,201,6,61,7256,265,1747,9678,10,640,37,395,254,257,15,223,948,47,32,261,1259,442,125,34,178,8,503,8,171,5383,101014,12695,8,56,99,26,95,34,9,10,14,126,398,456,302,5433,115,24,9,52,26,8,18,75,88,3677,15,13,153,9,6,97,365,18,28,7,47,185,34,25,131,75,63,3371,191,36,15,196,4132,14,76,982,152,113,1023,24,48,162,3690,22,3748,3031,209,6922,55,33,870,151,15,7,128,6,80,6,176,17,43,4964,5124,27,142,12,1747,126,671,14,454,16,433,75,131,588,14,25,34,129,444,532,24,26,143,10,22,55,299,502,2860,15,793,4338,27,10,235,449,75,44,50,123,1147,171,8,102,10,20,1553,18,29,25,301,31,31,126,32,2740,68,33,11,42,13,101,10,284,64,15,3565,2906,12,344,10,64,1968,1589,52,10,59,9,20,9,97,504,7099,23,101,55,7,239,31,14,20,123,13,293,119,7,71,408,22,22,862,9,13,101,82,41,47,43,8,23,672,52,28,36,35,2118,575,24900,20,62,25,35,1622,77,136,159,4954,13,356,31,315,13,16,62,8,193,17,45,151,142,5,760,278,137,31,16,56,6,85,266,74,13,145,184,216,35,11,23,18,14,43,210,268,13,26,193,96,4165,118,2622,13,20,15,16,860,656,74,9,15,22,257,252,45,10,33,676,27,235,27,13,403,17337,59,77,21,5,34,117,412,20,18,9,2139,12,894,117,104,99,21,18,3336,11,294,9,167,16,47,419,5,15,36,8,16,92,694,8,882,7,132,203,43,238,4890,47,89,103,34,15,24,27,1770,11,45,15,1785,56,30,40,1873,14,41,11,10,36,17,58,8,28,6,61,27,291,5,81,12,339,399,52,973,31,137,16,62,10,101,12,342,6,16,106,1446,9,13,94,27,26,28,31,6,53,9,1636,8,101,83,52,12,9,219,82,39,985,28,12,33,147,32,10,485,13,12000,17,2334,10,22,221,26,102,283,24,7,31,37,18,41,10,10,13,5,17,8,82,7,22,89,7,15,65,6,271,221,94,358,27,258,478,228,323,30,19,14156,9,8,180,206,93,692,155,10,78,34,18,36,12,394,303,1055,1570,6,1251,3781,92,4685,43,1042,7,166,77,10,1257,41,472,10,8,27,18,101,249,820,259,38,8,150,106,28,48,736,9,101,20,13,37,361,6,349,805,500,6,27,24,1361,23,69,15,449,12,19,7,597,93,20,4944,35,12370,15644,12,29,1098,8,5,24,30,22,406,32,330,672,246,7,8,17,251,38,897,27,348,286,29,8,783,16,13,200,7,5,352,27,45,162,92,73,215,9,29,18,8,20,50,1417,1486,8,941,21,8,9,329,15,46,16,22,31,50,43,778,13,30,954,31,9,46,50,384,38,244,15063,27,67,191,1126,87,2921,10,7,10,41,727,4826,16,384,7,122,1272,179,411,678,388,15,18,31,1533,20,1208,41,83029,2708,3011,25,16,215,21,56,13,14,33,85,7,8,9,6,204,7,3167,20,20,3737,514,106,7,29,294,32,76,26,12,77,10,1383,24,18,118,467,1059,37],\"coloraxis\":\"coloraxis\",\"symbol\":\"circle\"},\"mode\":\"markers\",\"name\":\"\",\"showlegend\":false,\"x\":[124,154,159,128,143,136,153,90,129,139,144,166,139,157,138,140,161,134,166,131,137,141,112,158,135,128,140,150,144,156,135,144,155,133,166,121,120,143,121,122,122,122,122,98,121,147,76,133,133,207,122,155,138,164,143,149,144,137,148,144,129,130,162,170,165,146,110,142,139,131,135,139,161,120,145,107,199,140,130,129,150,117,132,164,142,88,151,146,131,140,137,133,148,119,185,145,137,121,182,114,155,127,153,143,169,160,157,148,167,171,149,160,118,173,136,134,121,139,95,150,145,152,128,135,132,125,110,120,135,80,152,120,142,133,135,134,138,136,172,136,125,138,139,153,126,136,135,166,133,157,162,136,168,160,82,146,170,176,128,160,137,155,126,100,175,135,155,137,152,154,144,135,136,136,120,143,136,110,135,148,152,131,162,110,136,138,122,156,138,134,142,148,139,164,100,139,148,130,177,125,170,135,129,115,140,117,125,134,175,125,127,107,120,98,132,124,116,137,146,120,120,131,146,135,132,131,133,112,142,122,115,129,156,155,136,136,137,103,140,140,137,127,139,132,155,134,109,135,176,121,124,115,130,136,125,127,90,119,185,124,150,135,150,136,145,142,130,132,136,110,163,118,103,119,128,142,136,151,137,133,144,123,137,93,140,139,128,78,131,125,140,141,158,114,147,130,114,120,128,146,157,150,124,147,135,134,150,152,144,137,117,121,133,138,132,140,153,140,133,142,134,127,155,160,152,117,154,216,195,151,151,131,135,143,121,140,145,118,122,119,137,120,91,130,127,149,137,180,150,108,167,109,139,110,103,100,133,132,156,120,130,128,130,120,129,141,106,140,135,171,137,128,138,125,136,150,147,130,116,153,129,107,144,137,102,140,137,130,139,106,139,141,137,109,133,141,139,157,82,143,128,131,148,132,135,135,140,113,133,135,151,135,118,148,151,148,130,115,105,112,138,129,150,140,158,150,146,127,170,116,145,160,180,130,100,135,153,141,147,140,120,142,120,156,80,158,139,137,101,153,137,169,149,150,114,146,110,113,126,120,151,131,139,127,111,158,139,102,82,153,150,91,91,138,149,160,127,95,143,131,125,105,160,128,171,155,135,137,149,153,90,155,145,135,149,138,123,147,132,161,118,160,155,165,135,136,100,165,133,125,144,160,142,121,120,121,119,129,152,157,112,130,127,120,136,172,127,140,126,155,125,152,143,130,155,132,145,158,151,182,119,162,127,154,117,102,95,137,155,125,150,168,149,128,137,162,152,117,129,90,130,150,180,134,135,138,120,130,136,90,135,153,141,120,133,125,136,145,127,160,132,89,170,148,122,140,195,160,125,165,128,150,117,143,116,141,144,128,153,143,140,132,117,132,151,128,142,120,98,172,149,137,123,130,149,180,139,160,138,130,114,88,124,126,139,138,126,125,143,127,133,105,119,153,119,120,136,186,161,145,153,140,165,139,85,100,104,133,92,93,172,137,161,146,123,173,129,87,169,97,125,140,148,144,140,90,140,115,135,123,143,142,140,71,125,145,85,120,108,109,158,113,97,140,131,114,130,115,102,146,105,108,79,152,78,96,151,113,133,180,165,148,125,82,128,130,104,118,134,109,75,112,107,115,136,116,135,122,147,120,152,95,108,121,90,150,155,110,155,120,126,143,114,157,99,95,130,188,154,90,135,106,149,90,118,154,136,46,160,95,50,99,93,90,145,108,116,95,150,96,83,94,89,189,83,94,144,172,126,119,117,142,107,145,148,100,74,73,92,127,126,117,125,145,131,132,145,134,118,134,102,162,139,162,136,99,110,76,105,102,146,138,87,60,99,122,129,120,151,102,104,110,89,88,100,140,173,88,116,155,92,129,126,118,100,147,79,125,108,119,142,109,131,169,250,100,73,147,133,115,155,112,118,137,154,112,110,150,92,127,110,103,86,300,80,110,140,160,110,152,142,93,126,149,130,92,106,190,111,126,86,88,140,109,109,95,134,110,80,135,130,113,66,140,91,134,131,110,120,131,78,115,240,112,114,127,105,141,87,144,156,107,90,127,101,120,175,120,96,95,125,120,87,120,104,98,82,118,86,131,122,121,155,165,100,122,87,95,144,140,115,87,106,102,105,90,116,92,125,81,135,132,112,116,147,145,111,97,100,140,120,77,93,78,180,116,113,120,143,90,95,127,114,82,130,97,117,180,88,120,105,149,115,147,126,87,135,111,117,94,164,140,74,136,146,96,139,130,120,127,155,120,115,137,117,140,120,126,127,110,152,127,115,130,121,91,90,96,130,126,95,137,92,132,108,103,120,114,113,95,92,105,89,103,125,131,125,88,140,101,125,110,116,125,126,120,141,117,80,136,123,107,104,120,103,126,106,94,93,90,119,142,100,134,139,100,119,99,90,97,125,128,111,58,110,125,77,100,124,124,146,132,115,96,94,102,73,133,150,93,107,48,151,155,83,85,87,107,108,90,117,99,97,105,91,98,124,139,115,106,107,131,113,160,90,136,130,122,135,125,127,130,120,115,82,127,129,130,109,120,92,137,95,133,82,109,102,116,83,138,83,108,68,59,116,73,122,102,127,132,112,131,139,92,115,110,120,128,112,124,145,122,84,125,120,125,106,110,137,120,94,142,133,132,132,90,100,125,124,125,119,143,150,124,148,104,134,113,75,110,140,125,155,130,65,130,130,100,133,120,104,140,96,120,110,110,135,87,97,105,110,92,81,137,118,100,127,105,173,90,127,139,127,119,120,93,127,144,125,117,123,110,135,89,93,106,104,91,99,74,127,72,101,141,104,140,130,115,84,134,64,132,83,100,75,151,90,127,97,128,138,119,115,130,126,120,120,78,79,96,112,80,94,178,93,111,123,113,115,104,180,120,130,124,145,130,70,120,85,120,113,128,126,99,130,110,87,134,132,108,93,124,113,54,45,112,100,84,120,129,108,109,95,65,103,106,93,124,110,124,135,135,122,119,130,117,119,138,84,90,98,96,108,102,79,99,91,123,114,127,49,100,85,145,110,98,97,129,137,70,48,108,84,100,97,95,125,121,95,99,68,140,104,124,140,118,104,159,116,145,100,116,115,81,129,97,102,108,122,130,136,109,135,161,123,135,92,106,108,143,128,65,102,133,135,92,104,67,121,116,125,131,107,72,124,101,85,112,137,131,107,120,109,126,145,100,95,92,137,100,104,107,120,107,94,120,120,113,136,92,93,65,120,122,133,134,100,96,103,113,136,90,109,149,120,47,133,104,126,90,141,112,122,155,117,125,136,143,85,120,128,120,117,95,100,116,130,85,113,128,122,130,162,80,88,80,124,123,107,105,104,109,90,94,113,80,107,117,90,79,89,120,121,153,90,135,127,90,104,142,130,97,97,120,115,142,89,52,104,117,96,120,123,122,102,100,145,114,162,80,108,93,104,120,98,90,117,85,47,102,102,98,118,134,153,108,139,104,113,132,101,82,96,115,102,101,135,100,78,100,120,84,102,155,65,128,141,92,108,72,150,93,132,84,95,134,115,130,106,93,120,65,85,93],\"xaxis\":\"x\",\"y\":[6,13,10,5,9,11,5,9,7,12,38,17,9,9,10,6,17,11,31,229,12,23,11,10,15,14,11,11,6,10,12,19,12,8,6,30,7,93,27,10,6,8,182,18,28,25,6,5,12,39,39,38,21,18,30,15,15,8,6,15,10,13,5,18,27,7,41,10,32,1857,11,28,16,7,51,9,46,103,16,15,8,28,7,15,12,11,52,7,68,12,14,80,17,27,18,7,66,57,19,15,35,18,158,7,9,57,60,2136,22,14,13,35,20,25,6,9,14,9,317,87,21,5,346,112,30,21,58,24,33,28,26,13,33,42,12,5,10,13,6,32,7,11,33,122,45,9,14,43,50,13,47,85,80,53,5,203,11,8,8,54,20,21,8,60,690,10,8,16,48,32,37,64,9,8,12,23,10,420,27,22,49,6,14,7,10,47,78,13,17,49,10,29,40,536,10,137,117,9,200,1523,337,15,10,10,14,11,19,28,232,115,88,69,8,230,48,8,5,11,1564,11,11,27,689,22,44,1185,6,16,30,6,194,13,44,62,7,13,86,17,7,10,6,5,19,14,421,540,7,42,85,20,14,24,26,85,14,5,5,114,33,197,23,22,9,26,6,585,18,18,19,52,31,137,7,181,10,128,12,7,51,20,64,16,10,18,22,16,7,527,17,17,15,17,11,18,60,15,68,58,6,57,17,101,26,30,16,16,67,78,31,76,7,18,15,18,22,141,5,22,9,18,94,446,11,45,64,264,19,15,48,128,275,34,9,11,10,37,7,12,76,47,13,9,27,7,45,22,108,520,571,23,23,39,13,494,64,54,55,109,75,22,153,85,37,55,12,450,242,13,27,47,1781,18,26,44,129,474,16,138,27,42,346,6,49,255,80,14,8,16,43,127,160,17,32,15,5,12,14,58,43,43,38,27,12,9,36,11,15,53,124,58,103,43,105,165,19,57,43,37,113,9,17,7,13,26,293,46,7,22,93,281,52,48,32,21,22,37,67,7,8,30,51,27,27,25,27,75,365,37,438,60,19,14,16,142,63,191,24,8,7,8,52,27,250,39,36,65,37,6,17,13,7,72,13,66,81,699,13,212,102,7,53,257,1255,51,84,360,8,5,22,41,19,47,63,12,150,17,77,48,15,29,13,29,39,12,26,8,78,47,37,37,17,109,66,49,170,25,28,17,40,75,36,41,9,9,17,75,1020,14,7,8,6,14,60,75,17,9,57,58,56,20,54,65,68,51,17,86,25,21,13,16,88,15,35,489,6,30,36,20,84,9,186,45,31,10,20,69,73,406,68,50,27,134,160,23,13,11,124,53,64,4780,24,243,52,16,73,345,87,1582,40,67,60,15,21,218,189,11,25,73,652,206,332,13,215,172,46,62,14,7,10,24,7,33,53,23,26,230,49,126,17,63,6,12,13,13,24,640,31,3007,2610,302,6,6,44,24,25,25,31,274,45,285,299,25,11,13,9,367,30,21,18,104,442,5,188,7,15,23,9,21,636,8,56,24,213,20,7,7,34,15,39,23,67,11,105,16,288,706,7,5,15,645,9,18,6,20,10,17,17,8,432,40,15,11,10,24,7,5,249,7,29,19,122,311,57,10,7,50,245,8,1197,17,11,95,7,8,70,17,29,554,50,4744,798,24,2108,3207,11,336,370,7,29,46,242,525,7,29,102,78,850,2633,24,19,27,30,7,9,6,15,374,15,102,6,268,2042,101,80,1909,116,6,6,32,17,7,16,39,85340,21,107,264,1332,344,20,25,1983,22,77,151,13,12,9,24,46,39,14461,37,62,8,14,34,696,488,42,45,185,6712,1061,140,58,425,8,13,30,68,72,31,663,38,33782,892,54,594,856,44,71,796,35,700,10,60,14,1002,320,58,132,40,15,31,5785,6,45,1962,24,1957,25,43,35,12,10,25,263,9,673,189,86,118,6120,9,70,13,47,20,454,1622,49,7,1807,29,179,15,8,1556,922,36,356,66,51,1544,31,365,156,9,51,23,11,36,191,9,13,6034,12,44,96,110,43,648,7,42,83,9,125,106,1242,62,17,46,119,201,6,61,7256,265,1747,9678,10,640,37,395,254,257,15,223,948,47,32,261,1259,442,125,34,178,8,503,8,171,5383,101014,12695,8,56,99,26,95,34,9,10,14,126,398,456,302,5433,115,24,9,52,26,8,18,75,88,3677,15,13,153,9,6,97,365,18,28,7,47,185,34,25,131,75,63,3371,191,36,15,196,4132,14,76,982,152,113,1023,24,48,162,3690,22,3748,3031,209,6922,55,33,870,151,15,7,128,6,80,6,176,17,43,4964,5124,27,142,12,1747,126,671,14,454,16,433,75,131,588,14,25,34,129,444,532,24,26,143,10,22,55,299,502,2860,15,793,4338,27,10,235,449,75,44,50,123,1147,171,8,102,10,20,1553,18,29,25,301,31,31,126,32,2740,68,33,11,42,13,101,10,284,64,15,3565,2906,12,344,10,64,1968,1589,52,10,59,9,20,9,97,504,7099,23,101,55,7,239,31,14,20,123,13,293,119,7,71,408,22,22,862,9,13,101,82,41,47,43,8,23,672,52,28,36,35,2118,575,24900,20,62,25,35,1622,77,136,159,4954,13,356,31,315,13,16,62,8,193,17,45,151,142,5,760,278,137,31,16,56,6,85,266,74,13,145,184,216,35,11,23,18,14,43,210,268,13,26,193,96,4165,118,2622,13,20,15,16,860,656,74,9,15,22,257,252,45,10,33,676,27,235,27,13,403,17337,59,77,21,5,34,117,412,20,18,9,2139,12,894,117,104,99,21,18,3336,11,294,9,167,16,47,419,5,15,36,8,16,92,694,8,882,7,132,203,43,238,4890,47,89,103,34,15,24,27,1770,11,45,15,1785,56,30,40,1873,14,41,11,10,36,17,58,8,28,6,61,27,291,5,81,12,339,399,52,973,31,137,16,62,10,101,12,342,6,16,106,1446,9,13,94,27,26,28,31,6,53,9,1636,8,101,83,52,12,9,219,82,39,985,28,12,33,147,32,10,485,13,12000,17,2334,10,22,221,26,102,283,24,7,31,37,18,41,10,10,13,5,17,8,82,7,22,89,7,15,65,6,271,221,94,358,27,258,478,228,323,30,19,14156,9,8,180,206,93,692,155,10,78,34,18,36,12,394,303,1055,1570,6,1251,3781,92,4685,43,1042,7,166,77,10,1257,41,472,10,8,27,18,101,249,820,259,38,8,150,106,28,48,736,9,101,20,13,37,361,6,349,805,500,6,27,24,1361,23,69,15,449,12,19,7,597,93,20,4944,35,12370,15644,12,29,1098,8,5,24,30,22,406,32,330,672,246,7,8,17,251,38,897,27,348,286,29,8,783,16,13,200,7,5,352,27,45,162,92,73,215,9,29,18,8,20,50,1417,1486,8,941,21,8,9,329,15,46,16,22,31,50,43,778,13,30,954,31,9,46,50,384,38,244,15063,27,67,191,1126,87,2921,10,7,10,41,727,4826,16,384,7,122,1272,179,411,678,388,15,18,31,1533,20,1208,41,83029,2708,3011,25,16,215,21,56,13,14,33,85,7,8,9,6,204,7,3167,20,20,3737,514,106,7,29,294,32,76,26,12,77,10,1383,24,18,118,467,1059,37],\"yaxis\":\"y\",\"type\":\"scattergl\"}],                        {\"template\":{\"data\":{\"histogram2dcontour\":[{\"type\":\"histogram2dcontour\",\"colorbar\":{\"outlinewidth\":0,\"ticks\":\"\"},\"colorscale\":[[0.0,\"#0d0887\"],[0.1111111111111111,\"#46039f\"],[0.2222222222222222,\"#7201a8\"],[0.3333333333333333,\"#9c179e\"],[0.4444444444444444,\"#bd3786\"],[0.5555555555555556,\"#d8576b\"],[0.6666666666666666,\"#ed7953\"],[0.7777777777777778,\"#fb9f3a\"],[0.8888888888888888,\"#fdca26\"],[1.0,\"#f0f921\"]]}],\"choropleth\":[{\"type\":\"choropleth\",\"colorbar\":{\"outlinewidth\":0,\"ticks\":\"\"}}],\"histogram2d\":[{\"type\":\"histogram2d\",\"colorbar\":{\"outlinewidth\":0,\"ticks\":\"\"},\"colorscale\":[[0.0,\"#0d0887\"],[0.1111111111111111,\"#46039f\"],[0.2222222222222222,\"#7201a8\"],[0.3333333333333333,\"#9c179e\"],[0.4444444444444444,\"#bd3786\"],[0.5555555555555556,\"#d8576b\"],[0.6666666666666666,\"#ed7953\"],[0.7777777777777778,\"#fb9f3a\"],[0.8888888888888888,\"#fdca26\"],[1.0,\"#f0f921\"]]}],\"heatmap\":[{\"type\":\"heatmap\",\"colorbar\":{\"outlinewidth\":0,\"ticks\":\"\"},\"colorscale\":[[0.0,\"#0d0887\"],[0.1111111111111111,\"#46039f\"],[0.2222222222222222,\"#7201a8\"],[0.3333333333333333,\"#9c179e\"],[0.4444444444444444,\"#bd3786\"],[0.5555555555555556,\"#d8576b\"],[0.6666666666666666,\"#ed7953\"],[0.7777777777777778,\"#fb9f3a\"],[0.8888888888888888,\"#fdca26\"],[1.0,\"#f0f921\"]]}],\"heatmapgl\":[{\"type\":\"heatmapgl\",\"colorbar\":{\"outlinewidth\":0,\"ticks\":\"\"},\"colorscale\":[[0.0,\"#0d0887\"],[0.1111111111111111,\"#46039f\"],[0.2222222222222222,\"#7201a8\"],[0.3333333333333333,\"#9c179e\"],[0.4444444444444444,\"#bd3786\"],[0.5555555555555556,\"#d8576b\"],[0.6666666666666666,\"#ed7953\"],[0.7777777777777778,\"#fb9f3a\"],[0.8888888888888888,\"#fdca26\"],[1.0,\"#f0f921\"]]}],\"contourcarpet\":[{\"type\":\"contourcarpet\",\"colorbar\":{\"outlinewidth\":0,\"ticks\":\"\"}}],\"contour\":[{\"type\":\"contour\",\"colorbar\":{\"outlinewidth\":0,\"ticks\":\"\"},\"colorscale\":[[0.0,\"#0d0887\"],[0.1111111111111111,\"#46039f\"],[0.2222222222222222,\"#7201a8\"],[0.3333333333333333,\"#9c179e\"],[0.4444444444444444,\"#bd3786\"],[0.5555555555555556,\"#d8576b\"],[0.6666666666666666,\"#ed7953\"],[0.7777777777777778,\"#fb9f3a\"],[0.8888888888888888,\"#fdca26\"],[1.0,\"#f0f921\"]]}],\"surface\":[{\"type\":\"surface\",\"colorbar\":{\"outlinewidth\":0,\"ticks\":\"\"},\"colorscale\":[[0.0,\"#0d0887\"],[0.1111111111111111,\"#46039f\"],[0.2222222222222222,\"#7201a8\"],[0.3333333333333333,\"#9c179e\"],[0.4444444444444444,\"#bd3786\"],[0.5555555555555556,\"#d8576b\"],[0.6666666666666666,\"#ed7953\"],[0.7777777777777778,\"#fb9f3a\"],[0.8888888888888888,\"#fdca26\"],[1.0,\"#f0f921\"]]}],\"mesh3d\":[{\"type\":\"mesh3d\",\"colorbar\":{\"outlinewidth\":0,\"ticks\":\"\"}}],\"scatter\":[{\"fillpattern\":{\"fillmode\":\"overlay\",\"size\":10,\"solidity\":0.2},\"type\":\"scatter\"}],\"parcoords\":[{\"type\":\"parcoords\",\"line\":{\"colorbar\":{\"outlinewidth\":0,\"ticks\":\"\"}}}],\"scatterpolargl\":[{\"type\":\"scatterpolargl\",\"marker\":{\"colorbar\":{\"outlinewidth\":0,\"ticks\":\"\"}}}],\"bar\":[{\"error_x\":{\"color\":\"#2a3f5f\"},\"error_y\":{\"color\":\"#2a3f5f\"},\"marker\":{\"line\":{\"color\":\"#E5ECF6\",\"width\":0.5},\"pattern\":{\"fillmode\":\"overlay\",\"size\":10,\"solidity\":0.2}},\"type\":\"bar\"}],\"scattergeo\":[{\"type\":\"scattergeo\",\"marker\":{\"colorbar\":{\"outlinewidth\":0,\"ticks\":\"\"}}}],\"scatterpolar\":[{\"type\":\"scatterpolar\",\"marker\":{\"colorbar\":{\"outlinewidth\":0,\"ticks\":\"\"}}}],\"histogram\":[{\"marker\":{\"pattern\":{\"fillmode\":\"overlay\",\"size\":10,\"solidity\":0.2}},\"type\":\"histogram\"}],\"scattergl\":[{\"type\":\"scattergl\",\"marker\":{\"colorbar\":{\"outlinewidth\":0,\"ticks\":\"\"}}}],\"scatter3d\":[{\"type\":\"scatter3d\",\"line\":{\"colorbar\":{\"outlinewidth\":0,\"ticks\":\"\"}},\"marker\":{\"colorbar\":{\"outlinewidth\":0,\"ticks\":\"\"}}}],\"scattermapbox\":[{\"type\":\"scattermapbox\",\"marker\":{\"colorbar\":{\"outlinewidth\":0,\"ticks\":\"\"}}}],\"scatterternary\":[{\"type\":\"scatterternary\",\"marker\":{\"colorbar\":{\"outlinewidth\":0,\"ticks\":\"\"}}}],\"scattercarpet\":[{\"type\":\"scattercarpet\",\"marker\":{\"colorbar\":{\"outlinewidth\":0,\"ticks\":\"\"}}}],\"carpet\":[{\"aaxis\":{\"endlinecolor\":\"#2a3f5f\",\"gridcolor\":\"white\",\"linecolor\":\"white\",\"minorgridcolor\":\"white\",\"startlinecolor\":\"#2a3f5f\"},\"baxis\":{\"endlinecolor\":\"#2a3f5f\",\"gridcolor\":\"white\",\"linecolor\":\"white\",\"minorgridcolor\":\"white\",\"startlinecolor\":\"#2a3f5f\"},\"type\":\"carpet\"}],\"table\":[{\"cells\":{\"fill\":{\"color\":\"#EBF0F8\"},\"line\":{\"color\":\"white\"}},\"header\":{\"fill\":{\"color\":\"#C8D4E3\"},\"line\":{\"color\":\"white\"}},\"type\":\"table\"}],\"barpolar\":[{\"marker\":{\"line\":{\"color\":\"#E5ECF6\",\"width\":0.5},\"pattern\":{\"fillmode\":\"overlay\",\"size\":10,\"solidity\":0.2}},\"type\":\"barpolar\"}],\"pie\":[{\"automargin\":true,\"type\":\"pie\"}]},\"layout\":{\"autotypenumbers\":\"strict\",\"colorway\":[\"#636efa\",\"#EF553B\",\"#00cc96\",\"#ab63fa\",\"#FFA15A\",\"#19d3f3\",\"#FF6692\",\"#B6E880\",\"#FF97FF\",\"#FECB52\"],\"font\":{\"color\":\"#2a3f5f\"},\"hovermode\":\"closest\",\"hoverlabel\":{\"align\":\"left\"},\"paper_bgcolor\":\"white\",\"plot_bgcolor\":\"#E5ECF6\",\"polar\":{\"bgcolor\":\"#E5ECF6\",\"angularaxis\":{\"gridcolor\":\"white\",\"linecolor\":\"white\",\"ticks\":\"\"},\"radialaxis\":{\"gridcolor\":\"white\",\"linecolor\":\"white\",\"ticks\":\"\"}},\"ternary\":{\"bgcolor\":\"#E5ECF6\",\"aaxis\":{\"gridcolor\":\"white\",\"linecolor\":\"white\",\"ticks\":\"\"},\"baxis\":{\"gridcolor\":\"white\",\"linecolor\":\"white\",\"ticks\":\"\"},\"caxis\":{\"gridcolor\":\"white\",\"linecolor\":\"white\",\"ticks\":\"\"}},\"coloraxis\":{\"colorbar\":{\"outlinewidth\":0,\"ticks\":\"\"}},\"colorscale\":{\"sequential\":[[0.0,\"#0d0887\"],[0.1111111111111111,\"#46039f\"],[0.2222222222222222,\"#7201a8\"],[0.3333333333333333,\"#9c179e\"],[0.4444444444444444,\"#bd3786\"],[0.5555555555555556,\"#d8576b\"],[0.6666666666666666,\"#ed7953\"],[0.7777777777777778,\"#fb9f3a\"],[0.8888888888888888,\"#fdca26\"],[1.0,\"#f0f921\"]],\"sequentialminus\":[[0.0,\"#0d0887\"],[0.1111111111111111,\"#46039f\"],[0.2222222222222222,\"#7201a8\"],[0.3333333333333333,\"#9c179e\"],[0.4444444444444444,\"#bd3786\"],[0.5555555555555556,\"#d8576b\"],[0.6666666666666666,\"#ed7953\"],[0.7777777777777778,\"#fb9f3a\"],[0.8888888888888888,\"#fdca26\"],[1.0,\"#f0f921\"]],\"diverging\":[[0,\"#8e0152\"],[0.1,\"#c51b7d\"],[0.2,\"#de77ae\"],[0.3,\"#f1b6da\"],[0.4,\"#fde0ef\"],[0.5,\"#f7f7f7\"],[0.6,\"#e6f5d0\"],[0.7,\"#b8e186\"],[0.8,\"#7fbc41\"],[0.9,\"#4d9221\"],[1,\"#276419\"]]},\"xaxis\":{\"gridcolor\":\"white\",\"linecolor\":\"white\",\"ticks\":\"\",\"title\":{\"standoff\":15},\"zerolinecolor\":\"white\",\"automargin\":true,\"zerolinewidth\":2},\"yaxis\":{\"gridcolor\":\"white\",\"linecolor\":\"white\",\"ticks\":\"\",\"title\":{\"standoff\":15},\"zerolinecolor\":\"white\",\"automargin\":true,\"zerolinewidth\":2},\"scene\":{\"xaxis\":{\"backgroundcolor\":\"#E5ECF6\",\"gridcolor\":\"white\",\"linecolor\":\"white\",\"showbackground\":true,\"ticks\":\"\",\"zerolinecolor\":\"white\",\"gridwidth\":2},\"yaxis\":{\"backgroundcolor\":\"#E5ECF6\",\"gridcolor\":\"white\",\"linecolor\":\"white\",\"showbackground\":true,\"ticks\":\"\",\"zerolinecolor\":\"white\",\"gridwidth\":2},\"zaxis\":{\"backgroundcolor\":\"#E5ECF6\",\"gridcolor\":\"white\",\"linecolor\":\"white\",\"showbackground\":true,\"ticks\":\"\",\"zerolinecolor\":\"white\",\"gridwidth\":2}},\"shapedefaults\":{\"line\":{\"color\":\"#2a3f5f\"}},\"annotationdefaults\":{\"arrowcolor\":\"#2a3f5f\",\"arrowhead\":0,\"arrowwidth\":1},\"geo\":{\"bgcolor\":\"white\",\"landcolor\":\"#E5ECF6\",\"subunitcolor\":\"white\",\"showland\":true,\"showlakes\":true,\"lakecolor\":\"white\"},\"title\":{\"x\":0.05},\"mapbox\":{\"style\":\"light\"}}},\"xaxis\":{\"anchor\":\"y\",\"domain\":[0.0,1.0],\"title\":{\"text\":\"Duration\"}},\"yaxis\":{\"anchor\":\"x\",\"domain\":[0.0,1.0],\"title\":{\"text\":\"Votes\"}},\"coloraxis\":{\"colorbar\":{\"title\":{\"text\":\"Votes\"}},\"colorscale\":[[0.0,\"#0d0887\"],[0.1111111111111111,\"#46039f\"],[0.2222222222222222,\"#7201a8\"],[0.3333333333333333,\"#9c179e\"],[0.4444444444444444,\"#bd3786\"],[0.5555555555555556,\"#d8576b\"],[0.6666666666666666,\"#ed7953\"],[0.7777777777777778,\"#fb9f3a\"],[0.8888888888888888,\"#fdca26\"],[1.0,\"#f0f921\"]]},\"legend\":{\"tracegroupgap\":0},\"title\":{\"text\":\"Duration Versus Votes\"}},                        {\"responsive\": true}                    ).then(function(){\n",
              "                            \n",
              "var gd = document.getElementById('f51920d4-b917-43ab-9332-e67a4e4506bf');\n",
              "var x = new MutationObserver(function (mutations, observer) {{\n",
              "        var display = window.getComputedStyle(gd).display;\n",
              "        if (!display || display === 'none') {{\n",
              "            console.log([gd, 'removed!']);\n",
              "            Plotly.purge(gd);\n",
              "            observer.disconnect();\n",
              "        }}\n",
              "}});\n",
              "\n",
              "// Listen for the removal of the full notebook cells\n",
              "var notebookContainer = gd.closest('#notebook-container');\n",
              "if (notebookContainer) {{\n",
              "    x.observe(notebookContainer, {childList: true});\n",
              "}}\n",
              "\n",
              "// Listen for the clearing of the current output cell\n",
              "var outputEl = gd.closest('.output');\n",
              "if (outputEl) {{\n",
              "    x.observe(outputEl, {childList: true});\n",
              "}}\n",
              "\n",
              "                        })                };                            </script>        </div>\n",
              "</body>\n",
              "</html>"
            ]
          },
          "metadata": {}
        }
      ]
    },
    {
      "cell_type": "code",
      "source": [
        "px.scatter(data, x = 'Year', y = 'Votes', color = 'Votes', title = 'Year Versus Votes')"
      ],
      "metadata": {
        "colab": {
          "base_uri": "https://localhost:8080/",
          "height": 542
        },
        "id": "W-sn1hJhjzQu",
        "outputId": "2146f673-7f0f-4d8b-ab18-e1aea70e45a0"
      },
      "execution_count": null,
      "outputs": [
        {
          "output_type": "display_data",
          "data": {
            "text/html": [
              "<html>\n",
              "<head><meta charset=\"utf-8\" /></head>\n",
              "<body>\n",
              "    <div>            <script src=\"https://cdnjs.cloudflare.com/ajax/libs/mathjax/2.7.5/MathJax.js?config=TeX-AMS-MML_SVG\"></script><script type=\"text/javascript\">if (window.MathJax && window.MathJax.Hub && window.MathJax.Hub.Config) {window.MathJax.Hub.Config({SVG: {font: \"STIX-Web\"}});}</script>                <script type=\"text/javascript\">window.PlotlyConfig = {MathJaxConfig: 'local'};</script>\n",
              "        <script charset=\"utf-8\" src=\"https://cdn.plot.ly/plotly-2.24.1.min.js\"></script>                <div id=\"c6a25abc-b691-41fd-9196-dc4f842fdb7a\" class=\"plotly-graph-div\" style=\"height:525px; width:100%;\"></div>            <script type=\"text/javascript\">                                    window.PLOTLYENV=window.PLOTLYENV || {};                                    if (document.getElementById(\"c6a25abc-b691-41fd-9196-dc4f842fdb7a\")) {                    Plotly.newPlot(                        \"c6a25abc-b691-41fd-9196-dc4f842fdb7a\",                        [{\"hovertemplate\":\"Year=%{x}\\u003cbr\\u003eVotes=%{marker.color}\\u003cextra\\u003e\\u003c\\u002fextra\\u003e\",\"legendgroup\":\"\",\"marker\":{\"color\":[6,13,10,5,9,11,5,9,7,12,38,17,9,9,10,6,17,11,31,229,12,23,11,10,15,14,11,11,6,10,12,19,12,8,6,30,7,93,27,10,6,8,182,18,28,25,6,5,12,39,39,38,21,18,30,15,15,8,6,15,10,13,5,18,27,7,41,10,32,1857,11,28,16,7,51,9,46,103,16,15,8,28,7,15,12,11,52,7,68,12,14,80,17,27,18,7,66,57,19,15,35,18,158,7,9,57,60,2136,22,14,13,35,20,25,6,9,14,9,317,87,21,5,346,112,30,21,58,24,33,28,26,13,33,42,12,5,10,13,6,32,7,11,33,122,45,9,14,43,50,13,47,85,80,53,5,203,11,8,8,54,20,21,8,60,690,10,8,16,48,32,37,64,9,8,12,23,10,420,27,22,49,6,14,7,10,47,78,13,17,49,10,29,40,536,10,137,117,9,200,1523,337,15,10,10,14,11,19,28,232,115,88,69,8,230,48,8,5,11,1564,11,11,27,689,22,44,1185,6,16,30,6,194,13,44,62,7,13,86,17,7,10,6,5,19,14,421,540,7,42,85,20,14,24,26,85,14,5,5,114,33,197,23,22,9,26,6,585,18,18,19,52,31,137,7,181,10,128,12,7,51,20,64,16,10,18,22,16,7,527,17,17,15,17,11,18,60,15,68,58,6,57,17,101,26,30,16,16,67,78,31,76,7,18,15,18,22,141,5,22,9,18,94,446,11,45,64,264,19,15,48,128,275,34,9,11,10,37,7,12,76,47,13,9,27,7,45,22,108,520,571,23,23,39,13,494,64,54,55,109,75,22,153,85,37,55,12,450,242,13,27,47,1781,18,26,44,129,474,16,138,27,42,346,6,49,255,80,14,8,16,43,127,160,17,32,15,5,12,14,58,43,43,38,27,12,9,36,11,15,53,124,58,103,43,105,165,19,57,43,37,113,9,17,7,13,26,293,46,7,22,93,281,52,48,32,21,22,37,67,7,8,30,51,27,27,25,27,75,365,37,438,60,19,14,16,142,63,191,24,8,7,8,52,27,250,39,36,65,37,6,17,13,7,72,13,66,81,699,13,212,102,7,53,257,1255,51,84,360,8,5,22,41,19,47,63,12,150,17,77,48,15,29,13,29,39,12,26,8,78,47,37,37,17,109,66,49,170,25,28,17,40,75,36,41,9,9,17,75,1020,14,7,8,6,14,60,75,17,9,57,58,56,20,54,65,68,51,17,86,25,21,13,16,88,15,35,489,6,30,36,20,84,9,186,45,31,10,20,69,73,406,68,50,27,134,160,23,13,11,124,53,64,4780,24,243,52,16,73,345,87,1582,40,67,60,15,21,218,189,11,25,73,652,206,332,13,215,172,46,62,14,7,10,24,7,33,53,23,26,230,49,126,17,63,6,12,13,13,24,640,31,3007,2610,302,6,6,44,24,25,25,31,274,45,285,299,25,11,13,9,367,30,21,18,104,442,5,188,7,15,23,9,21,636,8,56,24,213,20,7,7,34,15,39,23,67,11,105,16,288,706,7,5,15,645,9,18,6,20,10,17,17,8,432,40,15,11,10,24,7,5,249,7,29,19,122,311,57,10,7,50,245,8,1197,17,11,95,7,8,70,17,29,554,50,4744,798,24,2108,3207,11,336,370,7,29,46,242,525,7,29,102,78,850,2633,24,19,27,30,7,9,6,15,374,15,102,6,268,2042,101,80,1909,116,6,6,32,17,7,16,39,85340,21,107,264,1332,344,20,25,1983,22,77,151,13,12,9,24,46,39,14461,37,62,8,14,34,696,488,42,45,185,6712,1061,140,58,425,8,13,30,68,72,31,663,38,33782,892,54,594,856,44,71,796,35,700,10,60,14,1002,320,58,132,40,15,31,5785,6,45,1962,24,1957,25,43,35,12,10,25,263,9,673,189,86,118,6120,9,70,13,47,20,454,1622,49,7,1807,29,179,15,8,1556,922,36,356,66,51,1544,31,365,156,9,51,23,11,36,191,9,13,6034,12,44,96,110,43,648,7,42,83,9,125,106,1242,62,17,46,119,201,6,61,7256,265,1747,9678,10,640,37,395,254,257,15,223,948,47,32,261,1259,442,125,34,178,8,503,8,171,5383,101014,12695,8,56,99,26,95,34,9,10,14,126,398,456,302,5433,115,24,9,52,26,8,18,75,88,3677,15,13,153,9,6,97,365,18,28,7,47,185,34,25,131,75,63,3371,191,36,15,196,4132,14,76,982,152,113,1023,24,48,162,3690,22,3748,3031,209,6922,55,33,870,151,15,7,128,6,80,6,176,17,43,4964,5124,27,142,12,1747,126,671,14,454,16,433,75,131,588,14,25,34,129,444,532,24,26,143,10,22,55,299,502,2860,15,793,4338,27,10,235,449,75,44,50,123,1147,171,8,102,10,20,1553,18,29,25,301,31,31,126,32,2740,68,33,11,42,13,101,10,284,64,15,3565,2906,12,344,10,64,1968,1589,52,10,59,9,20,9,97,504,7099,23,101,55,7,239,31,14,20,123,13,293,119,7,71,408,22,22,862,9,13,101,82,41,47,43,8,23,672,52,28,36,35,2118,575,24900,20,62,25,35,1622,77,136,159,4954,13,356,31,315,13,16,62,8,193,17,45,151,142,5,760,278,137,31,16,56,6,85,266,74,13,145,184,216,35,11,23,18,14,43,210,268,13,26,193,96,4165,118,2622,13,20,15,16,860,656,74,9,15,22,257,252,45,10,33,676,27,235,27,13,403,17337,59,77,21,5,34,117,412,20,18,9,2139,12,894,117,104,99,21,18,3336,11,294,9,167,16,47,419,5,15,36,8,16,92,694,8,882,7,132,203,43,238,4890,47,89,103,34,15,24,27,1770,11,45,15,1785,56,30,40,1873,14,41,11,10,36,17,58,8,28,6,61,27,291,5,81,12,339,399,52,973,31,137,16,62,10,101,12,342,6,16,106,1446,9,13,94,27,26,28,31,6,53,9,1636,8,101,83,52,12,9,219,82,39,985,28,12,33,147,32,10,485,13,12000,17,2334,10,22,221,26,102,283,24,7,31,37,18,41,10,10,13,5,17,8,82,7,22,89,7,15,65,6,271,221,94,358,27,258,478,228,323,30,19,14156,9,8,180,206,93,692,155,10,78,34,18,36,12,394,303,1055,1570,6,1251,3781,92,4685,43,1042,7,166,77,10,1257,41,472,10,8,27,18,101,249,820,259,38,8,150,106,28,48,736,9,101,20,13,37,361,6,349,805,500,6,27,24,1361,23,69,15,449,12,19,7,597,93,20,4944,35,12370,15644,12,29,1098,8,5,24,30,22,406,32,330,672,246,7,8,17,251,38,897,27,348,286,29,8,783,16,13,200,7,5,352,27,45,162,92,73,215,9,29,18,8,20,50,1417,1486,8,941,21,8,9,329,15,46,16,22,31,50,43,778,13,30,954,31,9,46,50,384,38,244,15063,27,67,191,1126,87,2921,10,7,10,41,727,4826,16,384,7,122,1272,179,411,678,388,15,18,31,1533,20,1208,41,83029,2708,3011,25,16,215,21,56,13,14,33,85,7,8,9,6,204,7,3167,20,20,3737,514,106,7,29,294,32,76,26,12,77,10,1383,24,18,118,467,1059,37],\"coloraxis\":\"coloraxis\",\"symbol\":\"circle\"},\"mode\":\"markers\",\"name\":\"\",\"showlegend\":false,\"x\":[1931,1932,1933,1934,1935,1935,1935,1935,1935,1935,1935,1936,1936,1936,1936,1936,1936,1937,1937,1937,1937,1937,1937,1938,1938,1938,1940,1940,1940,1941,1941,1941,1942,1942,1943,1943,1943,1943,1943,1944,1944,1945,1946,1946,1946,1947,1947,1947,1947,1948,1948,1948,1949,1949,1949,1950,1950,1950,1950,1951,1951,1951,1951,1951,1952,1952,1953,1953,1953,1953,1953,1953,1953,1954,1954,1954,1954,1955,1955,1955,1955,1956,1956,1956,1956,1956,1956,1956,1957,1957,1957,1957,1957,1957,1958,1958,1958,1958,1958,1958,1959,1959,1959,1959,1959,1959,1959,1959,1959,1959,1959,1960,1960,1960,1960,1960,1961,1961,1961,1961,1962,1962,1962,1963,1963,1963,1963,1963,1964,1964,1964,1964,1964,1964,1965,1965,1965,1965,1965,1965,1966,1966,1966,1966,1966,1966,1966,1967,1967,1967,1967,1967,1968,1968,1968,1968,1968,1968,1968,1968,1968,1968,1968,1969,1969,1969,1969,1969,1969,1969,1969,1969,1969,1969,1969,1970,1970,1970,1970,1970,1970,1970,1970,1970,1970,1971,1971,1971,1971,1971,1971,1971,1971,1971,1971,1971,1971,1971,1971,1972,1972,1972,1972,1972,1972,1972,1972,1972,1972,1972,1972,1972,1973,1973,1973,1973,1973,1973,1973,1973,1974,1974,1974,1974,1974,1974,1974,1974,1974,1974,1974,1974,1975,1975,1975,1975,1975,1975,1975,1975,1975,1975,1975,1976,1976,1976,1976,1976,1976,1976,1976,1976,1976,1977,1977,1977,1977,1977,1977,1977,1977,1977,1977,1977,1977,1977,1977,1977,1978,1978,1978,1978,1978,1978,1978,1978,1978,1978,1978,1978,1978,1978,1979,1979,1979,1979,1979,1979,1980,1980,1980,1980,1980,1980,1980,1980,1980,1980,1980,1980,1980,1980,1980,1980,1980,1980,1981,1981,1981,1981,1981,1981,1981,1981,1981,1981,1982,1982,1982,1982,1982,1982,1982,1982,1982,1982,1982,1982,1982,1982,1982,1982,1982,1983,1983,1983,1983,1983,1983,1983,1983,1983,1983,1983,1983,1983,1983,1983,1983,1984,1984,1984,1984,1984,1984,1984,1984,1984,1984,1984,1984,1984,1984,1984,1984,1984,1984,1984,1984,1984,1984,1984,1984,1985,1985,1985,1985,1985,1985,1985,1985,1985,1985,1985,1985,1985,1985,1985,1985,1985,1985,1985,1985,1985,1985,1985,1985,1985,1985,1986,1986,1986,1986,1986,1986,1986,1986,1986,1986,1986,1986,1986,1986,1986,1986,1986,1986,1986,1986,1986,1986,1986,1986,1987,1987,1987,1987,1987,1987,1987,1987,1987,1987,1987,1987,1987,1988,1988,1988,1988,1988,1988,1988,1988,1988,1988,1988,1988,1988,1988,1988,1988,1988,1988,1988,1988,1988,1988,1988,1989,1989,1989,1989,1989,1989,1989,1989,1989,1989,1989,1989,1989,1989,1989,1989,1989,1989,1989,1989,1989,1989,1989,1990,1990,1990,1990,1990,1990,1990,1990,1990,1990,1990,1990,1990,1990,1990,1990,1990,1990,1990,1990,1990,1990,1991,1991,1991,1991,1991,1991,1991,1991,1991,1991,1991,1991,1991,1991,1991,1991,1991,1991,1991,1991,1991,1992,1992,1992,1992,1992,1992,1992,1992,1992,1992,1992,1992,1992,1992,1992,1992,1992,1992,1992,1992,1992,1992,1993,1993,1993,1993,1993,1993,1993,1993,1993,1993,1993,1993,1993,1993,1993,1993,1994,1994,1994,1994,1994,1994,1994,1994,1994,1994,1994,1994,1994,1994,1995,1995,1995,1995,1995,1995,1995,1995,1995,1995,1995,1995,1996,1996,1996,1996,1996,1996,1996,1996,1996,1996,1996,1996,1996,1997,1997,1997,1997,1997,1997,1997,1997,1997,1997,1997,1997,1997,1997,1997,1997,1997,1997,1997,1997,1997,1998,1998,1998,1998,1998,1998,1998,1998,1998,1998,1998,1998,1998,1998,1998,1998,1998,1998,1998,1999,1999,1999,1999,1999,1999,1999,1999,1999,1999,1999,1999,1999,1999,1999,1999,1999,1999,1999,2000,2000,2000,2000,2000,2000,2000,2000,2000,2000,2000,2000,2000,2000,2000,2000,2000,2000,2000,2001,2001,2001,2001,2001,2001,2001,2001,2001,2001,2001,2001,2001,2001,2001,2001,2001,2001,2001,2001,2001,2001,2001,2002,2002,2002,2002,2002,2002,2002,2002,2002,2002,2002,2002,2002,2002,2002,2002,2003,2003,2003,2003,2003,2003,2003,2003,2003,2003,2003,2003,2003,2003,2003,2003,2003,2003,2003,2003,2003,2003,2003,2003,2003,2003,2003,2003,2003,2003,2003,2003,2003,2004,2004,2004,2004,2004,2004,2004,2004,2004,2004,2004,2004,2004,2004,2004,2004,2004,2004,2004,2004,2004,2004,2004,2004,2004,2004,2004,2004,2005,2005,2005,2005,2005,2005,2005,2005,2005,2005,2005,2005,2005,2005,2005,2005,2005,2005,2005,2005,2005,2005,2005,2005,2005,2005,2005,2005,2005,2005,2005,2005,2005,2005,2005,2005,2005,2005,2005,2005,2006,2006,2006,2006,2006,2006,2006,2006,2006,2006,2006,2006,2006,2006,2006,2006,2006,2006,2006,2006,2006,2006,2006,2006,2006,2006,2006,2006,2006,2006,2007,2007,2007,2007,2007,2007,2007,2007,2007,2007,2007,2007,2007,2007,2007,2007,2007,2007,2007,2007,2007,2007,2007,2007,2008,2008,2008,2008,2008,2008,2008,2008,2008,2008,2008,2008,2008,2009,2009,2009,2009,2009,2009,2009,2009,2009,2009,2009,2009,2009,2009,2009,2009,2009,2009,2009,2009,2009,2010,2010,2010,2010,2010,2010,2010,2010,2010,2010,2010,2010,2010,2010,2010,2010,2010,2010,2011,2011,2011,2011,2011,2011,2011,2011,2011,2011,2011,2011,2011,2011,2011,2011,2012,2012,2012,2012,2012,2012,2012,2012,2012,2012,2012,2012,2012,2012,2012,2012,2012,2012,2012,2012,2012,2012,2012,2012,2012,2012,2012,2012,2012,2012,2012,2012,2012,2012,2012,2012,2012,2012,2012,2012,2012,2012,2012,2012,2012,2012,2012,2013,2013,2013,2013,2013,2013,2013,2013,2013,2013,2013,2013,2013,2013,2013,2013,2013,2013,2013,2013,2013,2013,2013,2013,2013,2013,2013,2013,2013,2013,2013,2013,2013,2013,2013,2013,2013,2013,2014,2014,2014,2014,2014,2014,2014,2014,2014,2014,2014,2014,2014,2014,2014,2014,2014,2014,2014,2014,2014,2014,2014,2014,2014,2014,2014,2014,2014,2014,2014,2014,2014,2014,2014,2014,2014,2014,2014,2014,2014,2014,2014,2014,2014,2014,2014,2014,2014,2014,2014,2015,2015,2015,2015,2015,2015,2015,2015,2015,2015,2015,2015,2015,2015,2015,2015,2015,2015,2015,2015,2015,2015,2015,2015,2015,2015,2015,2015,2015,2015,2015,2015,2015,2015,2015,2015,2015,2015,2015,2015,2015,2015,2015,2015,2015,2015,2015,2015,2015,2015,2015,2015,2015,2015,2015,2015,2015,2015,2015,2015,2015,2015,2016,2016,2016,2016,2016,2016,2016,2016,2016,2016,2016,2016,2016,2016,2016,2016,2016,2016,2016,2016,2016,2016,2016,2016,2016,2016,2016,2016,2016,2016,2016,2016,2016,2016,2016,2016,2016,2016,2016,2016,2016,2016,2016,2016,2016,2016,2016,2016,2016,2016,2016,2016,2016,2016,2016,2016,2016,2016,2016,2016,2017,2017,2017,2017,2017,2017,2017,2017,2017,2017,2017,2017,2017,2017,2017,2017,2017,2017,2017,2017,2017,2017,2017,2017,2017,2017,2017,2017,2017,2017,2017,2017,2017,2017,2017,2017,2017,2017,2017,2017,2017,2017,2017,2017,2017,2017,2017,2017,2017,2017,2017,2017,2017,2017,2017,2017,2017,2017,2017,2017,2017,2017,2017,2017,2017,2017,2017,2017,2017,2017,2017,2017,2017,2017,2017,2017,2017,2017,2017,2017,2017,2017,2017,2017,2017,2017,2017,2017,2017,2017,2017,2017,2017,2017,2017,2017,2017,2017,2017,2017,2017,2017,2017,2017,2017,2017,2018,2018,2018,2018,2018,2018,2018,2018,2018,2018,2018,2018,2018,2018,2018,2018,2018,2018,2018,2018,2018,2018,2018,2018,2018,2018,2018,2018,2018,2018,2018,2018,2018,2018,2018,2018,2018,2018,2018,2018,2018,2018,2018,2018,2018,2018,2018,2018,2018,2018,2018,2018,2018,2018,2018,2018,2018,2018,2018,2018,2018,2018,2018,2018,2018,2018,2018,2018,2018,2018,2018,2018,2018,2018,2018,2018,2018,2018,2018,2018,2018,2018,2018,2018,2018,2018,2018,2018,2018,2018,2018,2019,2019,2019,2019,2019,2019,2019,2019,2019,2019,2019,2019,2019,2019,2019,2019,2019,2019,2019,2019,2019,2019,2019,2019,2019,2019,2019,2019,2019,2019,2019,2019,2019,2019,2019,2019,2019,2019,2019,2019,2019,2019,2019,2019,2019,2019,2019,2019,2019,2019,2019,2019,2019,2019,2019,2019,2019,2019,2019,2019,2019,2019,2019,2019,2019,2019,2019,2019,2019,2019,2019,2019,2019,2019,2019,2019,2019,2019,2019,2019,2019,2019,2019,2019,2019,2019,2019,2019,2019,2019,2019,2019,2019,2019,2020,2020,2020,2020,2020,2020,2020,2020,2020,2020,2020,2020,2020,2020,2020,2020,2020,2020,2020,2020,2020,2020,2020,2020,2020,2020,2020,2020,2020,2020,2020,2020,2020,2020,2020,2020,2020,2020,2020,2020,2020,2020,2020,2020,2020,2020,2020,2020,2020,2020,2021,2021,2021,2021,2021,2021,2021,2021,2021,2021,2021,2021,2021,2021,2021,2021,2021,2021,2021,2021,2021,2021,2021],\"xaxis\":\"x\",\"y\":[6,13,10,5,9,11,5,9,7,12,38,17,9,9,10,6,17,11,31,229,12,23,11,10,15,14,11,11,6,10,12,19,12,8,6,30,7,93,27,10,6,8,182,18,28,25,6,5,12,39,39,38,21,18,30,15,15,8,6,15,10,13,5,18,27,7,41,10,32,1857,11,28,16,7,51,9,46,103,16,15,8,28,7,15,12,11,52,7,68,12,14,80,17,27,18,7,66,57,19,15,35,18,158,7,9,57,60,2136,22,14,13,35,20,25,6,9,14,9,317,87,21,5,346,112,30,21,58,24,33,28,26,13,33,42,12,5,10,13,6,32,7,11,33,122,45,9,14,43,50,13,47,85,80,53,5,203,11,8,8,54,20,21,8,60,690,10,8,16,48,32,37,64,9,8,12,23,10,420,27,22,49,6,14,7,10,47,78,13,17,49,10,29,40,536,10,137,117,9,200,1523,337,15,10,10,14,11,19,28,232,115,88,69,8,230,48,8,5,11,1564,11,11,27,689,22,44,1185,6,16,30,6,194,13,44,62,7,13,86,17,7,10,6,5,19,14,421,540,7,42,85,20,14,24,26,85,14,5,5,114,33,197,23,22,9,26,6,585,18,18,19,52,31,137,7,181,10,128,12,7,51,20,64,16,10,18,22,16,7,527,17,17,15,17,11,18,60,15,68,58,6,57,17,101,26,30,16,16,67,78,31,76,7,18,15,18,22,141,5,22,9,18,94,446,11,45,64,264,19,15,48,128,275,34,9,11,10,37,7,12,76,47,13,9,27,7,45,22,108,520,571,23,23,39,13,494,64,54,55,109,75,22,153,85,37,55,12,450,242,13,27,47,1781,18,26,44,129,474,16,138,27,42,346,6,49,255,80,14,8,16,43,127,160,17,32,15,5,12,14,58,43,43,38,27,12,9,36,11,15,53,124,58,103,43,105,165,19,57,43,37,113,9,17,7,13,26,293,46,7,22,93,281,52,48,32,21,22,37,67,7,8,30,51,27,27,25,27,75,365,37,438,60,19,14,16,142,63,191,24,8,7,8,52,27,250,39,36,65,37,6,17,13,7,72,13,66,81,699,13,212,102,7,53,257,1255,51,84,360,8,5,22,41,19,47,63,12,150,17,77,48,15,29,13,29,39,12,26,8,78,47,37,37,17,109,66,49,170,25,28,17,40,75,36,41,9,9,17,75,1020,14,7,8,6,14,60,75,17,9,57,58,56,20,54,65,68,51,17,86,25,21,13,16,88,15,35,489,6,30,36,20,84,9,186,45,31,10,20,69,73,406,68,50,27,134,160,23,13,11,124,53,64,4780,24,243,52,16,73,345,87,1582,40,67,60,15,21,218,189,11,25,73,652,206,332,13,215,172,46,62,14,7,10,24,7,33,53,23,26,230,49,126,17,63,6,12,13,13,24,640,31,3007,2610,302,6,6,44,24,25,25,31,274,45,285,299,25,11,13,9,367,30,21,18,104,442,5,188,7,15,23,9,21,636,8,56,24,213,20,7,7,34,15,39,23,67,11,105,16,288,706,7,5,15,645,9,18,6,20,10,17,17,8,432,40,15,11,10,24,7,5,249,7,29,19,122,311,57,10,7,50,245,8,1197,17,11,95,7,8,70,17,29,554,50,4744,798,24,2108,3207,11,336,370,7,29,46,242,525,7,29,102,78,850,2633,24,19,27,30,7,9,6,15,374,15,102,6,268,2042,101,80,1909,116,6,6,32,17,7,16,39,85340,21,107,264,1332,344,20,25,1983,22,77,151,13,12,9,24,46,39,14461,37,62,8,14,34,696,488,42,45,185,6712,1061,140,58,425,8,13,30,68,72,31,663,38,33782,892,54,594,856,44,71,796,35,700,10,60,14,1002,320,58,132,40,15,31,5785,6,45,1962,24,1957,25,43,35,12,10,25,263,9,673,189,86,118,6120,9,70,13,47,20,454,1622,49,7,1807,29,179,15,8,1556,922,36,356,66,51,1544,31,365,156,9,51,23,11,36,191,9,13,6034,12,44,96,110,43,648,7,42,83,9,125,106,1242,62,17,46,119,201,6,61,7256,265,1747,9678,10,640,37,395,254,257,15,223,948,47,32,261,1259,442,125,34,178,8,503,8,171,5383,101014,12695,8,56,99,26,95,34,9,10,14,126,398,456,302,5433,115,24,9,52,26,8,18,75,88,3677,15,13,153,9,6,97,365,18,28,7,47,185,34,25,131,75,63,3371,191,36,15,196,4132,14,76,982,152,113,1023,24,48,162,3690,22,3748,3031,209,6922,55,33,870,151,15,7,128,6,80,6,176,17,43,4964,5124,27,142,12,1747,126,671,14,454,16,433,75,131,588,14,25,34,129,444,532,24,26,143,10,22,55,299,502,2860,15,793,4338,27,10,235,449,75,44,50,123,1147,171,8,102,10,20,1553,18,29,25,301,31,31,126,32,2740,68,33,11,42,13,101,10,284,64,15,3565,2906,12,344,10,64,1968,1589,52,10,59,9,20,9,97,504,7099,23,101,55,7,239,31,14,20,123,13,293,119,7,71,408,22,22,862,9,13,101,82,41,47,43,8,23,672,52,28,36,35,2118,575,24900,20,62,25,35,1622,77,136,159,4954,13,356,31,315,13,16,62,8,193,17,45,151,142,5,760,278,137,31,16,56,6,85,266,74,13,145,184,216,35,11,23,18,14,43,210,268,13,26,193,96,4165,118,2622,13,20,15,16,860,656,74,9,15,22,257,252,45,10,33,676,27,235,27,13,403,17337,59,77,21,5,34,117,412,20,18,9,2139,12,894,117,104,99,21,18,3336,11,294,9,167,16,47,419,5,15,36,8,16,92,694,8,882,7,132,203,43,238,4890,47,89,103,34,15,24,27,1770,11,45,15,1785,56,30,40,1873,14,41,11,10,36,17,58,8,28,6,61,27,291,5,81,12,339,399,52,973,31,137,16,62,10,101,12,342,6,16,106,1446,9,13,94,27,26,28,31,6,53,9,1636,8,101,83,52,12,9,219,82,39,985,28,12,33,147,32,10,485,13,12000,17,2334,10,22,221,26,102,283,24,7,31,37,18,41,10,10,13,5,17,8,82,7,22,89,7,15,65,6,271,221,94,358,27,258,478,228,323,30,19,14156,9,8,180,206,93,692,155,10,78,34,18,36,12,394,303,1055,1570,6,1251,3781,92,4685,43,1042,7,166,77,10,1257,41,472,10,8,27,18,101,249,820,259,38,8,150,106,28,48,736,9,101,20,13,37,361,6,349,805,500,6,27,24,1361,23,69,15,449,12,19,7,597,93,20,4944,35,12370,15644,12,29,1098,8,5,24,30,22,406,32,330,672,246,7,8,17,251,38,897,27,348,286,29,8,783,16,13,200,7,5,352,27,45,162,92,73,215,9,29,18,8,20,50,1417,1486,8,941,21,8,9,329,15,46,16,22,31,50,43,778,13,30,954,31,9,46,50,384,38,244,15063,27,67,191,1126,87,2921,10,7,10,41,727,4826,16,384,7,122,1272,179,411,678,388,15,18,31,1533,20,1208,41,83029,2708,3011,25,16,215,21,56,13,14,33,85,7,8,9,6,204,7,3167,20,20,3737,514,106,7,29,294,32,76,26,12,77,10,1383,24,18,118,467,1059,37],\"yaxis\":\"y\",\"type\":\"scattergl\"}],                        {\"template\":{\"data\":{\"histogram2dcontour\":[{\"type\":\"histogram2dcontour\",\"colorbar\":{\"outlinewidth\":0,\"ticks\":\"\"},\"colorscale\":[[0.0,\"#0d0887\"],[0.1111111111111111,\"#46039f\"],[0.2222222222222222,\"#7201a8\"],[0.3333333333333333,\"#9c179e\"],[0.4444444444444444,\"#bd3786\"],[0.5555555555555556,\"#d8576b\"],[0.6666666666666666,\"#ed7953\"],[0.7777777777777778,\"#fb9f3a\"],[0.8888888888888888,\"#fdca26\"],[1.0,\"#f0f921\"]]}],\"choropleth\":[{\"type\":\"choropleth\",\"colorbar\":{\"outlinewidth\":0,\"ticks\":\"\"}}],\"histogram2d\":[{\"type\":\"histogram2d\",\"colorbar\":{\"outlinewidth\":0,\"ticks\":\"\"},\"colorscale\":[[0.0,\"#0d0887\"],[0.1111111111111111,\"#46039f\"],[0.2222222222222222,\"#7201a8\"],[0.3333333333333333,\"#9c179e\"],[0.4444444444444444,\"#bd3786\"],[0.5555555555555556,\"#d8576b\"],[0.6666666666666666,\"#ed7953\"],[0.7777777777777778,\"#fb9f3a\"],[0.8888888888888888,\"#fdca26\"],[1.0,\"#f0f921\"]]}],\"heatmap\":[{\"type\":\"heatmap\",\"colorbar\":{\"outlinewidth\":0,\"ticks\":\"\"},\"colorscale\":[[0.0,\"#0d0887\"],[0.1111111111111111,\"#46039f\"],[0.2222222222222222,\"#7201a8\"],[0.3333333333333333,\"#9c179e\"],[0.4444444444444444,\"#bd3786\"],[0.5555555555555556,\"#d8576b\"],[0.6666666666666666,\"#ed7953\"],[0.7777777777777778,\"#fb9f3a\"],[0.8888888888888888,\"#fdca26\"],[1.0,\"#f0f921\"]]}],\"heatmapgl\":[{\"type\":\"heatmapgl\",\"colorbar\":{\"outlinewidth\":0,\"ticks\":\"\"},\"colorscale\":[[0.0,\"#0d0887\"],[0.1111111111111111,\"#46039f\"],[0.2222222222222222,\"#7201a8\"],[0.3333333333333333,\"#9c179e\"],[0.4444444444444444,\"#bd3786\"],[0.5555555555555556,\"#d8576b\"],[0.6666666666666666,\"#ed7953\"],[0.7777777777777778,\"#fb9f3a\"],[0.8888888888888888,\"#fdca26\"],[1.0,\"#f0f921\"]]}],\"contourcarpet\":[{\"type\":\"contourcarpet\",\"colorbar\":{\"outlinewidth\":0,\"ticks\":\"\"}}],\"contour\":[{\"type\":\"contour\",\"colorbar\":{\"outlinewidth\":0,\"ticks\":\"\"},\"colorscale\":[[0.0,\"#0d0887\"],[0.1111111111111111,\"#46039f\"],[0.2222222222222222,\"#7201a8\"],[0.3333333333333333,\"#9c179e\"],[0.4444444444444444,\"#bd3786\"],[0.5555555555555556,\"#d8576b\"],[0.6666666666666666,\"#ed7953\"],[0.7777777777777778,\"#fb9f3a\"],[0.8888888888888888,\"#fdca26\"],[1.0,\"#f0f921\"]]}],\"surface\":[{\"type\":\"surface\",\"colorbar\":{\"outlinewidth\":0,\"ticks\":\"\"},\"colorscale\":[[0.0,\"#0d0887\"],[0.1111111111111111,\"#46039f\"],[0.2222222222222222,\"#7201a8\"],[0.3333333333333333,\"#9c179e\"],[0.4444444444444444,\"#bd3786\"],[0.5555555555555556,\"#d8576b\"],[0.6666666666666666,\"#ed7953\"],[0.7777777777777778,\"#fb9f3a\"],[0.8888888888888888,\"#fdca26\"],[1.0,\"#f0f921\"]]}],\"mesh3d\":[{\"type\":\"mesh3d\",\"colorbar\":{\"outlinewidth\":0,\"ticks\":\"\"}}],\"scatter\":[{\"fillpattern\":{\"fillmode\":\"overlay\",\"size\":10,\"solidity\":0.2},\"type\":\"scatter\"}],\"parcoords\":[{\"type\":\"parcoords\",\"line\":{\"colorbar\":{\"outlinewidth\":0,\"ticks\":\"\"}}}],\"scatterpolargl\":[{\"type\":\"scatterpolargl\",\"marker\":{\"colorbar\":{\"outlinewidth\":0,\"ticks\":\"\"}}}],\"bar\":[{\"error_x\":{\"color\":\"#2a3f5f\"},\"error_y\":{\"color\":\"#2a3f5f\"},\"marker\":{\"line\":{\"color\":\"#E5ECF6\",\"width\":0.5},\"pattern\":{\"fillmode\":\"overlay\",\"size\":10,\"solidity\":0.2}},\"type\":\"bar\"}],\"scattergeo\":[{\"type\":\"scattergeo\",\"marker\":{\"colorbar\":{\"outlinewidth\":0,\"ticks\":\"\"}}}],\"scatterpolar\":[{\"type\":\"scatterpolar\",\"marker\":{\"colorbar\":{\"outlinewidth\":0,\"ticks\":\"\"}}}],\"histogram\":[{\"marker\":{\"pattern\":{\"fillmode\":\"overlay\",\"size\":10,\"solidity\":0.2}},\"type\":\"histogram\"}],\"scattergl\":[{\"type\":\"scattergl\",\"marker\":{\"colorbar\":{\"outlinewidth\":0,\"ticks\":\"\"}}}],\"scatter3d\":[{\"type\":\"scatter3d\",\"line\":{\"colorbar\":{\"outlinewidth\":0,\"ticks\":\"\"}},\"marker\":{\"colorbar\":{\"outlinewidth\":0,\"ticks\":\"\"}}}],\"scattermapbox\":[{\"type\":\"scattermapbox\",\"marker\":{\"colorbar\":{\"outlinewidth\":0,\"ticks\":\"\"}}}],\"scatterternary\":[{\"type\":\"scatterternary\",\"marker\":{\"colorbar\":{\"outlinewidth\":0,\"ticks\":\"\"}}}],\"scattercarpet\":[{\"type\":\"scattercarpet\",\"marker\":{\"colorbar\":{\"outlinewidth\":0,\"ticks\":\"\"}}}],\"carpet\":[{\"aaxis\":{\"endlinecolor\":\"#2a3f5f\",\"gridcolor\":\"white\",\"linecolor\":\"white\",\"minorgridcolor\":\"white\",\"startlinecolor\":\"#2a3f5f\"},\"baxis\":{\"endlinecolor\":\"#2a3f5f\",\"gridcolor\":\"white\",\"linecolor\":\"white\",\"minorgridcolor\":\"white\",\"startlinecolor\":\"#2a3f5f\"},\"type\":\"carpet\"}],\"table\":[{\"cells\":{\"fill\":{\"color\":\"#EBF0F8\"},\"line\":{\"color\":\"white\"}},\"header\":{\"fill\":{\"color\":\"#C8D4E3\"},\"line\":{\"color\":\"white\"}},\"type\":\"table\"}],\"barpolar\":[{\"marker\":{\"line\":{\"color\":\"#E5ECF6\",\"width\":0.5},\"pattern\":{\"fillmode\":\"overlay\",\"size\":10,\"solidity\":0.2}},\"type\":\"barpolar\"}],\"pie\":[{\"automargin\":true,\"type\":\"pie\"}]},\"layout\":{\"autotypenumbers\":\"strict\",\"colorway\":[\"#636efa\",\"#EF553B\",\"#00cc96\",\"#ab63fa\",\"#FFA15A\",\"#19d3f3\",\"#FF6692\",\"#B6E880\",\"#FF97FF\",\"#FECB52\"],\"font\":{\"color\":\"#2a3f5f\"},\"hovermode\":\"closest\",\"hoverlabel\":{\"align\":\"left\"},\"paper_bgcolor\":\"white\",\"plot_bgcolor\":\"#E5ECF6\",\"polar\":{\"bgcolor\":\"#E5ECF6\",\"angularaxis\":{\"gridcolor\":\"white\",\"linecolor\":\"white\",\"ticks\":\"\"},\"radialaxis\":{\"gridcolor\":\"white\",\"linecolor\":\"white\",\"ticks\":\"\"}},\"ternary\":{\"bgcolor\":\"#E5ECF6\",\"aaxis\":{\"gridcolor\":\"white\",\"linecolor\":\"white\",\"ticks\":\"\"},\"baxis\":{\"gridcolor\":\"white\",\"linecolor\":\"white\",\"ticks\":\"\"},\"caxis\":{\"gridcolor\":\"white\",\"linecolor\":\"white\",\"ticks\":\"\"}},\"coloraxis\":{\"colorbar\":{\"outlinewidth\":0,\"ticks\":\"\"}},\"colorscale\":{\"sequential\":[[0.0,\"#0d0887\"],[0.1111111111111111,\"#46039f\"],[0.2222222222222222,\"#7201a8\"],[0.3333333333333333,\"#9c179e\"],[0.4444444444444444,\"#bd3786\"],[0.5555555555555556,\"#d8576b\"],[0.6666666666666666,\"#ed7953\"],[0.7777777777777778,\"#fb9f3a\"],[0.8888888888888888,\"#fdca26\"],[1.0,\"#f0f921\"]],\"sequentialminus\":[[0.0,\"#0d0887\"],[0.1111111111111111,\"#46039f\"],[0.2222222222222222,\"#7201a8\"],[0.3333333333333333,\"#9c179e\"],[0.4444444444444444,\"#bd3786\"],[0.5555555555555556,\"#d8576b\"],[0.6666666666666666,\"#ed7953\"],[0.7777777777777778,\"#fb9f3a\"],[0.8888888888888888,\"#fdca26\"],[1.0,\"#f0f921\"]],\"diverging\":[[0,\"#8e0152\"],[0.1,\"#c51b7d\"],[0.2,\"#de77ae\"],[0.3,\"#f1b6da\"],[0.4,\"#fde0ef\"],[0.5,\"#f7f7f7\"],[0.6,\"#e6f5d0\"],[0.7,\"#b8e186\"],[0.8,\"#7fbc41\"],[0.9,\"#4d9221\"],[1,\"#276419\"]]},\"xaxis\":{\"gridcolor\":\"white\",\"linecolor\":\"white\",\"ticks\":\"\",\"title\":{\"standoff\":15},\"zerolinecolor\":\"white\",\"automargin\":true,\"zerolinewidth\":2},\"yaxis\":{\"gridcolor\":\"white\",\"linecolor\":\"white\",\"ticks\":\"\",\"title\":{\"standoff\":15},\"zerolinecolor\":\"white\",\"automargin\":true,\"zerolinewidth\":2},\"scene\":{\"xaxis\":{\"backgroundcolor\":\"#E5ECF6\",\"gridcolor\":\"white\",\"linecolor\":\"white\",\"showbackground\":true,\"ticks\":\"\",\"zerolinecolor\":\"white\",\"gridwidth\":2},\"yaxis\":{\"backgroundcolor\":\"#E5ECF6\",\"gridcolor\":\"white\",\"linecolor\":\"white\",\"showbackground\":true,\"ticks\":\"\",\"zerolinecolor\":\"white\",\"gridwidth\":2},\"zaxis\":{\"backgroundcolor\":\"#E5ECF6\",\"gridcolor\":\"white\",\"linecolor\":\"white\",\"showbackground\":true,\"ticks\":\"\",\"zerolinecolor\":\"white\",\"gridwidth\":2}},\"shapedefaults\":{\"line\":{\"color\":\"#2a3f5f\"}},\"annotationdefaults\":{\"arrowcolor\":\"#2a3f5f\",\"arrowhead\":0,\"arrowwidth\":1},\"geo\":{\"bgcolor\":\"white\",\"landcolor\":\"#E5ECF6\",\"subunitcolor\":\"white\",\"showland\":true,\"showlakes\":true,\"lakecolor\":\"white\"},\"title\":{\"x\":0.05},\"mapbox\":{\"style\":\"light\"}}},\"xaxis\":{\"anchor\":\"y\",\"domain\":[0.0,1.0],\"title\":{\"text\":\"Year\"}},\"yaxis\":{\"anchor\":\"x\",\"domain\":[0.0,1.0],\"title\":{\"text\":\"Votes\"}},\"coloraxis\":{\"colorbar\":{\"title\":{\"text\":\"Votes\"}},\"colorscale\":[[0.0,\"#0d0887\"],[0.1111111111111111,\"#46039f\"],[0.2222222222222222,\"#7201a8\"],[0.3333333333333333,\"#9c179e\"],[0.4444444444444444,\"#bd3786\"],[0.5555555555555556,\"#d8576b\"],[0.6666666666666666,\"#ed7953\"],[0.7777777777777778,\"#fb9f3a\"],[0.8888888888888888,\"#fdca26\"],[1.0,\"#f0f921\"]]},\"legend\":{\"tracegroupgap\":0},\"title\":{\"text\":\"Year Versus Votes\"}},                        {\"responsive\": true}                    ).then(function(){\n",
              "                            \n",
              "var gd = document.getElementById('c6a25abc-b691-41fd-9196-dc4f842fdb7a');\n",
              "var x = new MutationObserver(function (mutations, observer) {{\n",
              "        var display = window.getComputedStyle(gd).display;\n",
              "        if (!display || display === 'none') {{\n",
              "            console.log([gd, 'removed!']);\n",
              "            Plotly.purge(gd);\n",
              "            observer.disconnect();\n",
              "        }}\n",
              "}});\n",
              "\n",
              "// Listen for the removal of the full notebook cells\n",
              "var notebookContainer = gd.closest('#notebook-container');\n",
              "if (notebookContainer) {{\n",
              "    x.observe(notebookContainer, {childList: true});\n",
              "}}\n",
              "\n",
              "// Listen for the clearing of the current output cell\n",
              "var outputEl = gd.closest('.output');\n",
              "if (outputEl) {{\n",
              "    x.observe(outputEl, {childList: true});\n",
              "}}\n",
              "\n",
              "                        })                };                            </script>        </div>\n",
              "</body>\n",
              "</html>"
            ]
          },
          "metadata": {}
        }
      ]
    },
    {
      "cell_type": "code",
      "source": [
        "px.scatter(data, x = 'Year', y = 'Rating', color = 'Rating', title = 'Year Versus Rating')"
      ],
      "metadata": {
        "colab": {
          "base_uri": "https://localhost:8080/",
          "height": 542
        },
        "id": "Py-kDwQJkLjC",
        "outputId": "f4f18faf-c18f-4ffe-9bca-8ab5bfcc50b1"
      },
      "execution_count": null,
      "outputs": [
        {
          "output_type": "display_data",
          "data": {
            "text/html": [
              "<html>\n",
              "<head><meta charset=\"utf-8\" /></head>\n",
              "<body>\n",
              "    <div>            <script src=\"https://cdnjs.cloudflare.com/ajax/libs/mathjax/2.7.5/MathJax.js?config=TeX-AMS-MML_SVG\"></script><script type=\"text/javascript\">if (window.MathJax && window.MathJax.Hub && window.MathJax.Hub.Config) {window.MathJax.Hub.Config({SVG: {font: \"STIX-Web\"}});}</script>                <script type=\"text/javascript\">window.PlotlyConfig = {MathJaxConfig: 'local'};</script>\n",
              "        <script charset=\"utf-8\" src=\"https://cdn.plot.ly/plotly-2.24.1.min.js\"></script>                <div id=\"d718c645-3bf8-445c-a0a3-135c6c2dfa05\" class=\"plotly-graph-div\" style=\"height:525px; width:100%;\"></div>            <script type=\"text/javascript\">                                    window.PLOTLYENV=window.PLOTLYENV || {};                                    if (document.getElementById(\"d718c645-3bf8-445c-a0a3-135c6c2dfa05\")) {                    Plotly.newPlot(                        \"d718c645-3bf8-445c-a0a3-135c6c2dfa05\",                        [{\"hovertemplate\":\"Year=%{x}\\u003cbr\\u003eRating=%{marker.color}\\u003cextra\\u003e\\u003c\\u002fextra\\u003e\",\"legendgroup\":\"\",\"marker\":{\"color\":[5.3,5.8,6.5,6.6,6.2,4.1,5.4,6.3,5.7,6.2,7.4,6.1,5.9,6.4,3.1,7.3,6.1,6.7,6.9,6.7,6.3,7.0,3.4,6.4,6.3,5.5,7.1,6.5,6.5,6.0,7.2,6.4,7.2,5.8,3.3,7.5,5.0,7.4,7.7,6.8,7.8,6.5,6.8,7.0,7.1,6.6,6.7,4.2,6.2,6.9,6.7,7.4,7.1,6.9,6.6,6.3,7.4,6.4,6.0,6.5,6.1,5.6,7.2,5.7,7.4,6.0,7.0,6.7,6.5,8.4,6.3,7.0,5.9,7.9,6.2,5.4,7.3,6.8,8.6,7.3,5.0,6.4,6.1,5.8,5.8,6.5,6.9,5.1,7.5,6.1,6.4,7.6,7.5,7.3,7.0,4.7,7.2,7.3,6.7,6.4,6.6,6.7,6.7,5.0,4.9,7.5,7.6,8.0,9.0,6.1,6.8,5.2,7.5,6.8,5.3,6.3,6.5,7.0,7.8,7.3,6.1,5.8,5.4,6.5,6.8,7.0,7.0,7.5,6.0,2.8,7.0,6.5,5.3,6.8,6.8,6.0,4.9,7.5,5.5,6.6,6.4,6.2,5.9,6.9,6.9,3.8,5.7,6.7,7.9,6.6,7.2,7.7,7.2,6.8,6.0,7.3,6.5,5.6,5.1,7.1,6.1,6.6,7.1,7.2,8.2,5.8,4.8,4.8,5.6,6.4,6.3,6.9,6.6,6.9,6.8,6.9,6.1,6.9,6.2,7.5,8.0,3.8,6.2,5.6,8.7,7.7,7.2,6.7,6.1,6.8,5.9,7.1,6.5,7.4,6.6,6.7,6.5,6.3,7.1,8.6,7.2,5.9,6.4,7.7,6.4,6.7,6.3,5.1,7.9,6.6,6.1,6.9,6.9,7.1,6.8,6.8,5.8,6.1,7.3,5.6,7.4,7.4,8.1,5.3,6.2,8.0,7.7,4.2,7.1,7.3,6.9,6.7,8.0,6.8,7.4,6.4,6.5,6.7,5.9,6.3,7.2,5.0,4.5,5.8,6.9,7.7,6.3,6.8,7.7,6.8,5.7,5.8,6.5,5.5,5.9,5.8,7.6,6.6,7.0,7.4,6.6,6.3,7.0,7.7,3.3,7.4,6.7,5.1,6.1,7.0,6.6,6.9,5.9,7.1,6.7,7.1,5.7,4.7,7.4,5.8,6.5,6.2,6.5,6.7,6.0,4.5,6.7,7.6,6.0,5.8,4.4,6.4,5.5,5.6,8.1,5.7,6.7,7.2,7.3,6.5,6.4,5.9,4.2,6.3,7.1,5.8,7.7,7.2,5.9,6.6,4.1,6.5,4.7,5.2,5.9,6.8,7.0,6.1,3.4,6.4,7.4,7.2,5.0,7.5,7.0,7.1,6.4,5.5,6.7,6.6,7.3,5.1,6.1,6.9,4.6,7.1,5.7,4.8,5.5,6.0,6.7,5.3,8.1,5.9,6.4,4.8,6.4,7.1,7.2,5.7,5.9,8.3,3.7,7.2,6.8,5.0,5.9,5.8,5.5,6.1,7.1,6.6,6.4,7.1,5.2,7.6,7.2,5.8,6.8,6.9,8.2,5.4,6.5,6.1,6.6,7.2,6.3,6.7,6.3,7.1,7.1,8.5,6.1,7.0,5.6,4.9,4.5,4.4,4.7,6.7,6.6,6.0,6.0,4.6,3.8,5.4,6.6,6.0,7.8,6.1,4.3,7.1,5.3,4.1,4.7,6.2,6.5,7.2,7.1,6.2,6.7,6.9,7.2,6.4,5.1,6.5,5.8,5.1,6.7,3.9,6.9,6.7,7.0,7.3,5.8,5.1,6.9,5.0,5.3,5.5,4.6,5.6,5.1,7.6,7.5,5.6,5.4,3.9,5.0,6.6,7.8,7.0,6.4,4.8,7.0,6.7,6.9,8.2,7.1,5.6,5.8,4.9,4.2,6.7,7.3,5.1,6.4,3.4,5.0,4.6,5.0,4.8,5.2,4.1,5.6,5.9,4.3,4.5,3.3,5.2,4.1,7.7,6.3,6.0,5.7,7.2,5.1,7.2,5.8,6.9,7.2,7.1,6.7,4.8,7.1,6.0,5.6,6.6,3.6,4.2,5.3,4.9,4.7,5.2,5.9,4.8,7.5,5.8,3.3,6.1,4.4,5.2,5.7,5.4,5.5,4.4,7.2,4.8,4.7,5.5,4.8,5.5,6.7,7.0,7.0,4.4,3.9,4.1,6.2,5.1,5.8,5.5,2.8,3.8,4.4,4.9,7.1,4.4,7.9,4.8,3.3,5.5,4.3,5.1,5.8,3.8,4.8,3.4,5.9,4.1,6.9,6.2,4.6,6.3,3.4,7.5,6.1,4.8,4.1,5.0,4.5,5.6,4.7,7.2,5.7,4.4,3.8,4.4,5.8,5.2,3.4,6.0,5.7,5.7,2.9,6.2,7.3,7.7,4.4,6.5,5.7,4.9,4.2,4.0,4.1,6.7,4.4,5.9,7.0,7.0,3.8,7.0,6.7,5.2,7.6,4.2,5.0,4.2,4.1,7.3,5.0,6.9,2.7,7.0,6.6,3.7,6.0,5.3,4.0,4.6,5.4,5.4,7.7,6.4,5.5,7.2,3.1,4.6,4.9,3.8,4.3,7.8,3.6,6.6,5.6,6.1,6.7,5.1,2.8,5.8,3.5,5.1,7.2,4.5,3.8,4.6,7.5,7.9,6.6,6.8,6.2,4.3,4.8,3.7,2.5,4.3,5.6,7.1,5.0,7.4,3.4,4.9,5.6,4.7,4.0,7.1,6.6,4.4,3.8,5.4,6.4,5.2,6.1,4.7,5.1,6.1,4.6,5.6,5.0,2.8,5.1,4.6,5.0,6.0,5.7,5.0,4.4,5.7,5.8,2.1,5.5,5.5,5.3,5.7,7.0,4.7,7.4,3.8,2.9,7.3,5.1,4.6,3.8,3.8,5.0,7.6,5.2,3.9,7.6,6.5,8.5,3.3,6.1,4.8,3.1,5.2,5.4,3.1,4.6,6.7,3.5,4.9,7.4,4.9,5.3,4.9,6.8,5.1,5.6,5.4,6.2,6.2,2.9,3.5,6.9,4.6,6.5,2.9,6.5,7.9,5.7,4.9,7.0,6.3,3.4,8.6,6.4,5.6,3.9,6.7,7.2,5.9,2.9,4.6,3.1,3.9,4.6,8.0,4.7,6.9,1.7,5.3,3.6,6.6,3.3,7.4,5.4,3.1,5.6,4.2,6.1,7.7,6.2,6.9,5.1,6.3,3.5,5.3,6.4,6.2,4.3,4.5,5.6,8.2,6.8,6.8,2.4,6.9,3.2,4.6,3.8,6.1,3.9,3.5,3.1,2.9,6.3,2.7,4.7,5.1,7.0,7.7,4.8,5.1,3.2,4.8,5.1,4.0,7.1,4.6,3.1,2.4,7.3,4.9,3.8,2.7,7.3,5.2,7.2,4.5,6.6,3.1,4.2,8.6,7.1,8.2,3.5,4.7,6.9,7.3,4.2,3.9,7.6,4.1,7.3,5.3,5.7,5.9,7.1,4.1,5.6,6.4,4.2,5.1,6.8,7.9,4.3,5.9,5.4,5.6,6.5,5.8,4.7,6.7,5.2,6.2,7.4,3.4,3.2,6.5,4.6,5.5,6.8,7.0,6.6,3.7,4.8,5.5,6.3,7.2,5.4,5.1,5.7,5.6,8.0,6.2,3.8,3.4,5.7,3.0,4.2,2.6,6.4,6.9,6.5,6.2,6.3,4.6,4.8,4.9,6.4,4.7,9.2,7.1,2.7,5.4,7.7,5.8,6.6,5.8,5.9,8.6,8.0,4.4,5.1,6.0,7.3,2.9,7.3,6.2,7.6,5.2,3.8,6.8,6.5,4.5,4.7,6.1,5.1,7.3,7.1,6.0,6.8,6.4,4.8,7.2,6.5,4.4,6.4,6.8,4.4,6.6,4.4,7.1,7.2,3.7,6.4,4.2,4.8,6.8,3.1,4.3,6.4,8.0,7.0,2.4,5.8,9.1,6.0,5.8,3.9,6.2,4.6,5.7,4.3,7.3,7.3,6.7,4.7,6.1,3.9,5.4,4.7,5.4,7.4,4.0,5.7,3.6,5.7,7.1,6.5,6.4,4.3,4.0,6.2,4.1,6.2,4.2,5.9,5.7,5.9,5.0,4.8,6.8,3.9,5.3,7.3,3.5,7.7,3.1,6.2,5.1,5.5,5.2,6.0,6.9,4.5,4.2,8.1,5.9,7.8,6.6,6.4,4.9,6.2,7.5,8.1,7.5,4.4,7.6,3.8,5.2,6.3,1.9,3.7,6.0,4.5,6.2,7.3,5.5,5.9,6.7,3.8,6.2,3.6,4.2,5.9,7.3,6.7,6.7,4.4,7.3,6.9,6.6,6.6,5.9,6.0,5.8,5.4,6.5,6.1,4.6,2.5,2.6,5.6,4.5,6.5,6.5,6.0,6.0,4.8,6.9,7.7,4.3,6.2,2.3,6.4,5.1,6.4,3.6,4.7,6.2,4.2,4.0,5.8,3.5,3.6,7.3,2.4,7.1,7.8,4.9,6.5,5.9,4.0,7.1,3.8,7.2,5.9,6.0,3.2,3.2,3.8,5.5,6.1,7.0,6.7,7.2,4.9,4.8,8.2,6.1,4.2,7.2,6.9,8.4,7.0,5.9,6.7,8.2,4.0,9.2,6.6,6.8,5.6,5.6,7.3,5.7,5.6,3.5,6.1,7.4,5.7,6.2,7.3,3.6,5.9,6.9,6.1,5.8,4.7,4.2,6.7,5.2,5.9,6.7,4.8,5.2,1.6,2.5,7.1,4.7,6.6,5.8,6.3,7.3,6.3,2.5,8.2,5.3,7.0,6.2,2.7,3.7,7.5,3.9,4.5,7.6,6.0,6.2,7.9,6.7,4.2,8.5,6.8,6.9,6.7,8.6,4.9,4.8,3.1,3.6,5.7,7.3,6.2,6.5,6.8,4.6,5.2,8.8,4.2,5.9,6.0,6.6,5.6,5.7,7.7,2.7,6.6,6.1,5.6,4.9,6.9,5.7,6.6,7.4,6.8,4.0,1.9,5.4,2.4,8.0,7.9,7.0,4.4,4.3,8.6,4.3,4.8,7.2,5.9,6.0,7.3,6.4,4.2,8.4,6.5,4.8,3.2,7.5,6.2,6.7,5.3,5.9,6.4,5.0,6.8,5.4,5.5,8.1,4.0,6.4,2.3,6.8,6.0,7.2,6.5,2.5,5.4,7.1,5.3,5.8,5.2,5.9,8.2,4.4,7.3,8.6,2.1,8.8,6.8,5.6,7.5,7.2,7.2,7.3,4.9,7.6,4.0,6.8,8.9,8.1,7.4,6.5,8.3,7.1,5.3,5.1,5.5,7.2,6.1,5.4,6.2,6.8,8.1,7.9,6.6,6.3,7.7,5.6,6.0,6.2,3.5,5.8,5.6,7.5,6.8,3.1,6.6,3.3,3.7,8.2,5.1,5.4,7.3,6.5,2.7,4.5,5.8,6.9,4.7,6.5,5.5,9.0,6.3,4.1,5.6,4.1,8.7,5.9,5.5,5.4,4.9,5.4,6.1,6.8,6.4,5.5,5.7,5.8,4.8,5.3,5.9,6.9,6.8,5.5,7.7,5.6,6.4,5.4,4.9,3.6,8.1,7.8,3.7,6.2,7.8,6.8,5.6,7.9,5.5,3.2,7.3,6.9,2.8,4.3,5.6,6.9,5.9,7.1,5.9,7.9,6.1,8.2,6.6,6.6,7.8,7.8,7.2,8.8,5.9,6.5,6.4,6.3,5.4,6.6,9.3,7.0,6.8,8.0,6.1,5.8,7.4,6.9,6.6,5.5,5.9,6.6,6.8,4.8,6.9,6.9,6.2,6.1,4.9,5.4,8.7,8.4,8.6,5.7,5.7,4.9,3.6,6.6,5.8,5.7,5.4,7.8,7.4,5.8,4.5,7.9,4.4,6.0,3.5,5.6,6.6,6.3,6.0,8.9,7.0,8.5,7.1,6.1,2.8,8.1,4.3,5.2,8.0,7.5,5.4,4.8,5.8,7.4,5.3,3.9,6.8,6.7,7.8,2.8,4.0,6.0,5.9,6.1,6.3,5.5,7.1,8.6,5.5,7.1,7.9,7.6,8.8,7.6,6.6,5.3,6.6,5.4,6.9,5.4,5.6,7.0,6.9,6.9,7.3,6.9,9.0,6.6,6.3,8.2,6.8,8.0,7.9,3.7,5.3,6.5,4.7,7.2,5.3,6.9,7.8,8.1,4.9,5.0,6.5,5.2,5.4,5.7,7.1,7.8,5.5,5.4,8.2,5.9,9.1,3.6,4.8,7.4,4.2,4.7,6.6,4.9,2.3,7.2,7.7,4.5,6.2,7.0,7.8,8.6,5.5,7.0,6.5,5.8,6.5,6.9,5.6,7.8,9.3,5.2,7.1,7.3,6.1,5.4,7.9,7.6,5.3,6.3,8.1,6.6,3.3,2.7,7.9,8.6,5.1,6.8,5.5,4.5,6.2,7.6,6.7,8.1,6.7,6.1,6.8,3.5,7.5,5.8,8.8,6.7,6.1,4.8,8.0,6.8,6.6,6.4,6.5,7.3,6.6,6.7,7.2,3.5,4.3,6.8,9.1,5.5,5.9,2.5,9.4,4.4,8.7,6.2,8.0,8.6,7.3,7.3,5.9,7.8,7.9,8.5,4.3,7.1,5.6,8.7,7.8,7.4,3.5,8.1,3.7,9.3,8.9,8.2,6.6,6.8,8.7,5.4,6.4,4.6,8.1,9.4,4.2,9.3,7.9,9.0],\"coloraxis\":\"coloraxis\",\"symbol\":\"circle\"},\"mode\":\"markers\",\"name\":\"\",\"showlegend\":false,\"x\":[1931,1932,1933,1934,1935,1935,1935,1935,1935,1935,1935,1936,1936,1936,1936,1936,1936,1937,1937,1937,1937,1937,1937,1938,1938,1938,1940,1940,1940,1941,1941,1941,1942,1942,1943,1943,1943,1943,1943,1944,1944,1945,1946,1946,1946,1947,1947,1947,1947,1948,1948,1948,1949,1949,1949,1950,1950,1950,1950,1951,1951,1951,1951,1951,1952,1952,1953,1953,1953,1953,1953,1953,1953,1954,1954,1954,1954,1955,1955,1955,1955,1956,1956,1956,1956,1956,1956,1956,1957,1957,1957,1957,1957,1957,1958,1958,1958,1958,1958,1958,1959,1959,1959,1959,1959,1959,1959,1959,1959,1959,1959,1960,1960,1960,1960,1960,1961,1961,1961,1961,1962,1962,1962,1963,1963,1963,1963,1963,1964,1964,1964,1964,1964,1964,1965,1965,1965,1965,1965,1965,1966,1966,1966,1966,1966,1966,1966,1967,1967,1967,1967,1967,1968,1968,1968,1968,1968,1968,1968,1968,1968,1968,1968,1969,1969,1969,1969,1969,1969,1969,1969,1969,1969,1969,1969,1970,1970,1970,1970,1970,1970,1970,1970,1970,1970,1971,1971,1971,1971,1971,1971,1971,1971,1971,1971,1971,1971,1971,1971,1972,1972,1972,1972,1972,1972,1972,1972,1972,1972,1972,1972,1972,1973,1973,1973,1973,1973,1973,1973,1973,1974,1974,1974,1974,1974,1974,1974,1974,1974,1974,1974,1974,1975,1975,1975,1975,1975,1975,1975,1975,1975,1975,1975,1976,1976,1976,1976,1976,1976,1976,1976,1976,1976,1977,1977,1977,1977,1977,1977,1977,1977,1977,1977,1977,1977,1977,1977,1977,1978,1978,1978,1978,1978,1978,1978,1978,1978,1978,1978,1978,1978,1978,1979,1979,1979,1979,1979,1979,1980,1980,1980,1980,1980,1980,1980,1980,1980,1980,1980,1980,1980,1980,1980,1980,1980,1980,1981,1981,1981,1981,1981,1981,1981,1981,1981,1981,1982,1982,1982,1982,1982,1982,1982,1982,1982,1982,1982,1982,1982,1982,1982,1982,1982,1983,1983,1983,1983,1983,1983,1983,1983,1983,1983,1983,1983,1983,1983,1983,1983,1984,1984,1984,1984,1984,1984,1984,1984,1984,1984,1984,1984,1984,1984,1984,1984,1984,1984,1984,1984,1984,1984,1984,1984,1985,1985,1985,1985,1985,1985,1985,1985,1985,1985,1985,1985,1985,1985,1985,1985,1985,1985,1985,1985,1985,1985,1985,1985,1985,1985,1986,1986,1986,1986,1986,1986,1986,1986,1986,1986,1986,1986,1986,1986,1986,1986,1986,1986,1986,1986,1986,1986,1986,1986,1987,1987,1987,1987,1987,1987,1987,1987,1987,1987,1987,1987,1987,1988,1988,1988,1988,1988,1988,1988,1988,1988,1988,1988,1988,1988,1988,1988,1988,1988,1988,1988,1988,1988,1988,1988,1989,1989,1989,1989,1989,1989,1989,1989,1989,1989,1989,1989,1989,1989,1989,1989,1989,1989,1989,1989,1989,1989,1989,1990,1990,1990,1990,1990,1990,1990,1990,1990,1990,1990,1990,1990,1990,1990,1990,1990,1990,1990,1990,1990,1990,1991,1991,1991,1991,1991,1991,1991,1991,1991,1991,1991,1991,1991,1991,1991,1991,1991,1991,1991,1991,1991,1992,1992,1992,1992,1992,1992,1992,1992,1992,1992,1992,1992,1992,1992,1992,1992,1992,1992,1992,1992,1992,1992,1993,1993,1993,1993,1993,1993,1993,1993,1993,1993,1993,1993,1993,1993,1993,1993,1994,1994,1994,1994,1994,1994,1994,1994,1994,1994,1994,1994,1994,1994,1995,1995,1995,1995,1995,1995,1995,1995,1995,1995,1995,1995,1996,1996,1996,1996,1996,1996,1996,1996,1996,1996,1996,1996,1996,1997,1997,1997,1997,1997,1997,1997,1997,1997,1997,1997,1997,1997,1997,1997,1997,1997,1997,1997,1997,1997,1998,1998,1998,1998,1998,1998,1998,1998,1998,1998,1998,1998,1998,1998,1998,1998,1998,1998,1998,1999,1999,1999,1999,1999,1999,1999,1999,1999,1999,1999,1999,1999,1999,1999,1999,1999,1999,1999,2000,2000,2000,2000,2000,2000,2000,2000,2000,2000,2000,2000,2000,2000,2000,2000,2000,2000,2000,2001,2001,2001,2001,2001,2001,2001,2001,2001,2001,2001,2001,2001,2001,2001,2001,2001,2001,2001,2001,2001,2001,2001,2002,2002,2002,2002,2002,2002,2002,2002,2002,2002,2002,2002,2002,2002,2002,2002,2003,2003,2003,2003,2003,2003,2003,2003,2003,2003,2003,2003,2003,2003,2003,2003,2003,2003,2003,2003,2003,2003,2003,2003,2003,2003,2003,2003,2003,2003,2003,2003,2003,2004,2004,2004,2004,2004,2004,2004,2004,2004,2004,2004,2004,2004,2004,2004,2004,2004,2004,2004,2004,2004,2004,2004,2004,2004,2004,2004,2004,2005,2005,2005,2005,2005,2005,2005,2005,2005,2005,2005,2005,2005,2005,2005,2005,2005,2005,2005,2005,2005,2005,2005,2005,2005,2005,2005,2005,2005,2005,2005,2005,2005,2005,2005,2005,2005,2005,2005,2005,2006,2006,2006,2006,2006,2006,2006,2006,2006,2006,2006,2006,2006,2006,2006,2006,2006,2006,2006,2006,2006,2006,2006,2006,2006,2006,2006,2006,2006,2006,2007,2007,2007,2007,2007,2007,2007,2007,2007,2007,2007,2007,2007,2007,2007,2007,2007,2007,2007,2007,2007,2007,2007,2007,2008,2008,2008,2008,2008,2008,2008,2008,2008,2008,2008,2008,2008,2009,2009,2009,2009,2009,2009,2009,2009,2009,2009,2009,2009,2009,2009,2009,2009,2009,2009,2009,2009,2009,2010,2010,2010,2010,2010,2010,2010,2010,2010,2010,2010,2010,2010,2010,2010,2010,2010,2010,2011,2011,2011,2011,2011,2011,2011,2011,2011,2011,2011,2011,2011,2011,2011,2011,2012,2012,2012,2012,2012,2012,2012,2012,2012,2012,2012,2012,2012,2012,2012,2012,2012,2012,2012,2012,2012,2012,2012,2012,2012,2012,2012,2012,2012,2012,2012,2012,2012,2012,2012,2012,2012,2012,2012,2012,2012,2012,2012,2012,2012,2012,2012,2013,2013,2013,2013,2013,2013,2013,2013,2013,2013,2013,2013,2013,2013,2013,2013,2013,2013,2013,2013,2013,2013,2013,2013,2013,2013,2013,2013,2013,2013,2013,2013,2013,2013,2013,2013,2013,2013,2014,2014,2014,2014,2014,2014,2014,2014,2014,2014,2014,2014,2014,2014,2014,2014,2014,2014,2014,2014,2014,2014,2014,2014,2014,2014,2014,2014,2014,2014,2014,2014,2014,2014,2014,2014,2014,2014,2014,2014,2014,2014,2014,2014,2014,2014,2014,2014,2014,2014,2014,2015,2015,2015,2015,2015,2015,2015,2015,2015,2015,2015,2015,2015,2015,2015,2015,2015,2015,2015,2015,2015,2015,2015,2015,2015,2015,2015,2015,2015,2015,2015,2015,2015,2015,2015,2015,2015,2015,2015,2015,2015,2015,2015,2015,2015,2015,2015,2015,2015,2015,2015,2015,2015,2015,2015,2015,2015,2015,2015,2015,2015,2015,2016,2016,2016,2016,2016,2016,2016,2016,2016,2016,2016,2016,2016,2016,2016,2016,2016,2016,2016,2016,2016,2016,2016,2016,2016,2016,2016,2016,2016,2016,2016,2016,2016,2016,2016,2016,2016,2016,2016,2016,2016,2016,2016,2016,2016,2016,2016,2016,2016,2016,2016,2016,2016,2016,2016,2016,2016,2016,2016,2016,2017,2017,2017,2017,2017,2017,2017,2017,2017,2017,2017,2017,2017,2017,2017,2017,2017,2017,2017,2017,2017,2017,2017,2017,2017,2017,2017,2017,2017,2017,2017,2017,2017,2017,2017,2017,2017,2017,2017,2017,2017,2017,2017,2017,2017,2017,2017,2017,2017,2017,2017,2017,2017,2017,2017,2017,2017,2017,2017,2017,2017,2017,2017,2017,2017,2017,2017,2017,2017,2017,2017,2017,2017,2017,2017,2017,2017,2017,2017,2017,2017,2017,2017,2017,2017,2017,2017,2017,2017,2017,2017,2017,2017,2017,2017,2017,2017,2017,2017,2017,2017,2017,2017,2017,2017,2017,2018,2018,2018,2018,2018,2018,2018,2018,2018,2018,2018,2018,2018,2018,2018,2018,2018,2018,2018,2018,2018,2018,2018,2018,2018,2018,2018,2018,2018,2018,2018,2018,2018,2018,2018,2018,2018,2018,2018,2018,2018,2018,2018,2018,2018,2018,2018,2018,2018,2018,2018,2018,2018,2018,2018,2018,2018,2018,2018,2018,2018,2018,2018,2018,2018,2018,2018,2018,2018,2018,2018,2018,2018,2018,2018,2018,2018,2018,2018,2018,2018,2018,2018,2018,2018,2018,2018,2018,2018,2018,2018,2019,2019,2019,2019,2019,2019,2019,2019,2019,2019,2019,2019,2019,2019,2019,2019,2019,2019,2019,2019,2019,2019,2019,2019,2019,2019,2019,2019,2019,2019,2019,2019,2019,2019,2019,2019,2019,2019,2019,2019,2019,2019,2019,2019,2019,2019,2019,2019,2019,2019,2019,2019,2019,2019,2019,2019,2019,2019,2019,2019,2019,2019,2019,2019,2019,2019,2019,2019,2019,2019,2019,2019,2019,2019,2019,2019,2019,2019,2019,2019,2019,2019,2019,2019,2019,2019,2019,2019,2019,2019,2019,2019,2019,2019,2020,2020,2020,2020,2020,2020,2020,2020,2020,2020,2020,2020,2020,2020,2020,2020,2020,2020,2020,2020,2020,2020,2020,2020,2020,2020,2020,2020,2020,2020,2020,2020,2020,2020,2020,2020,2020,2020,2020,2020,2020,2020,2020,2020,2020,2020,2020,2020,2020,2020,2021,2021,2021,2021,2021,2021,2021,2021,2021,2021,2021,2021,2021,2021,2021,2021,2021,2021,2021,2021,2021,2021,2021],\"xaxis\":\"x\",\"y\":[5.3,5.8,6.5,6.6,6.2,4.1,5.4,6.3,5.7,6.2,7.4,6.1,5.9,6.4,3.1,7.3,6.1,6.7,6.9,6.7,6.3,7.0,3.4,6.4,6.3,5.5,7.1,6.5,6.5,6.0,7.2,6.4,7.2,5.8,3.3,7.5,5.0,7.4,7.7,6.8,7.8,6.5,6.8,7.0,7.1,6.6,6.7,4.2,6.2,6.9,6.7,7.4,7.1,6.9,6.6,6.3,7.4,6.4,6.0,6.5,6.1,5.6,7.2,5.7,7.4,6.0,7.0,6.7,6.5,8.4,6.3,7.0,5.9,7.9,6.2,5.4,7.3,6.8,8.6,7.3,5.0,6.4,6.1,5.8,5.8,6.5,6.9,5.1,7.5,6.1,6.4,7.6,7.5,7.3,7.0,4.7,7.2,7.3,6.7,6.4,6.6,6.7,6.7,5.0,4.9,7.5,7.6,8.0,9.0,6.1,6.8,5.2,7.5,6.8,5.3,6.3,6.5,7.0,7.8,7.3,6.1,5.8,5.4,6.5,6.8,7.0,7.0,7.5,6.0,2.8,7.0,6.5,5.3,6.8,6.8,6.0,4.9,7.5,5.5,6.6,6.4,6.2,5.9,6.9,6.9,3.8,5.7,6.7,7.9,6.6,7.2,7.7,7.2,6.8,6.0,7.3,6.5,5.6,5.1,7.1,6.1,6.6,7.1,7.2,8.2,5.8,4.8,4.8,5.6,6.4,6.3,6.9,6.6,6.9,6.8,6.9,6.1,6.9,6.2,7.5,8.0,3.8,6.2,5.6,8.7,7.7,7.2,6.7,6.1,6.8,5.9,7.1,6.5,7.4,6.6,6.7,6.5,6.3,7.1,8.6,7.2,5.9,6.4,7.7,6.4,6.7,6.3,5.1,7.9,6.6,6.1,6.9,6.9,7.1,6.8,6.8,5.8,6.1,7.3,5.6,7.4,7.4,8.1,5.3,6.2,8.0,7.7,4.2,7.1,7.3,6.9,6.7,8.0,6.8,7.4,6.4,6.5,6.7,5.9,6.3,7.2,5.0,4.5,5.8,6.9,7.7,6.3,6.8,7.7,6.8,5.7,5.8,6.5,5.5,5.9,5.8,7.6,6.6,7.0,7.4,6.6,6.3,7.0,7.7,3.3,7.4,6.7,5.1,6.1,7.0,6.6,6.9,5.9,7.1,6.7,7.1,5.7,4.7,7.4,5.8,6.5,6.2,6.5,6.7,6.0,4.5,6.7,7.6,6.0,5.8,4.4,6.4,5.5,5.6,8.1,5.7,6.7,7.2,7.3,6.5,6.4,5.9,4.2,6.3,7.1,5.8,7.7,7.2,5.9,6.6,4.1,6.5,4.7,5.2,5.9,6.8,7.0,6.1,3.4,6.4,7.4,7.2,5.0,7.5,7.0,7.1,6.4,5.5,6.7,6.6,7.3,5.1,6.1,6.9,4.6,7.1,5.7,4.8,5.5,6.0,6.7,5.3,8.1,5.9,6.4,4.8,6.4,7.1,7.2,5.7,5.9,8.3,3.7,7.2,6.8,5.0,5.9,5.8,5.5,6.1,7.1,6.6,6.4,7.1,5.2,7.6,7.2,5.8,6.8,6.9,8.2,5.4,6.5,6.1,6.6,7.2,6.3,6.7,6.3,7.1,7.1,8.5,6.1,7.0,5.6,4.9,4.5,4.4,4.7,6.7,6.6,6.0,6.0,4.6,3.8,5.4,6.6,6.0,7.8,6.1,4.3,7.1,5.3,4.1,4.7,6.2,6.5,7.2,7.1,6.2,6.7,6.9,7.2,6.4,5.1,6.5,5.8,5.1,6.7,3.9,6.9,6.7,7.0,7.3,5.8,5.1,6.9,5.0,5.3,5.5,4.6,5.6,5.1,7.6,7.5,5.6,5.4,3.9,5.0,6.6,7.8,7.0,6.4,4.8,7.0,6.7,6.9,8.2,7.1,5.6,5.8,4.9,4.2,6.7,7.3,5.1,6.4,3.4,5.0,4.6,5.0,4.8,5.2,4.1,5.6,5.9,4.3,4.5,3.3,5.2,4.1,7.7,6.3,6.0,5.7,7.2,5.1,7.2,5.8,6.9,7.2,7.1,6.7,4.8,7.1,6.0,5.6,6.6,3.6,4.2,5.3,4.9,4.7,5.2,5.9,4.8,7.5,5.8,3.3,6.1,4.4,5.2,5.7,5.4,5.5,4.4,7.2,4.8,4.7,5.5,4.8,5.5,6.7,7.0,7.0,4.4,3.9,4.1,6.2,5.1,5.8,5.5,2.8,3.8,4.4,4.9,7.1,4.4,7.9,4.8,3.3,5.5,4.3,5.1,5.8,3.8,4.8,3.4,5.9,4.1,6.9,6.2,4.6,6.3,3.4,7.5,6.1,4.8,4.1,5.0,4.5,5.6,4.7,7.2,5.7,4.4,3.8,4.4,5.8,5.2,3.4,6.0,5.7,5.7,2.9,6.2,7.3,7.7,4.4,6.5,5.7,4.9,4.2,4.0,4.1,6.7,4.4,5.9,7.0,7.0,3.8,7.0,6.7,5.2,7.6,4.2,5.0,4.2,4.1,7.3,5.0,6.9,2.7,7.0,6.6,3.7,6.0,5.3,4.0,4.6,5.4,5.4,7.7,6.4,5.5,7.2,3.1,4.6,4.9,3.8,4.3,7.8,3.6,6.6,5.6,6.1,6.7,5.1,2.8,5.8,3.5,5.1,7.2,4.5,3.8,4.6,7.5,7.9,6.6,6.8,6.2,4.3,4.8,3.7,2.5,4.3,5.6,7.1,5.0,7.4,3.4,4.9,5.6,4.7,4.0,7.1,6.6,4.4,3.8,5.4,6.4,5.2,6.1,4.7,5.1,6.1,4.6,5.6,5.0,2.8,5.1,4.6,5.0,6.0,5.7,5.0,4.4,5.7,5.8,2.1,5.5,5.5,5.3,5.7,7.0,4.7,7.4,3.8,2.9,7.3,5.1,4.6,3.8,3.8,5.0,7.6,5.2,3.9,7.6,6.5,8.5,3.3,6.1,4.8,3.1,5.2,5.4,3.1,4.6,6.7,3.5,4.9,7.4,4.9,5.3,4.9,6.8,5.1,5.6,5.4,6.2,6.2,2.9,3.5,6.9,4.6,6.5,2.9,6.5,7.9,5.7,4.9,7.0,6.3,3.4,8.6,6.4,5.6,3.9,6.7,7.2,5.9,2.9,4.6,3.1,3.9,4.6,8.0,4.7,6.9,1.7,5.3,3.6,6.6,3.3,7.4,5.4,3.1,5.6,4.2,6.1,7.7,6.2,6.9,5.1,6.3,3.5,5.3,6.4,6.2,4.3,4.5,5.6,8.2,6.8,6.8,2.4,6.9,3.2,4.6,3.8,6.1,3.9,3.5,3.1,2.9,6.3,2.7,4.7,5.1,7.0,7.7,4.8,5.1,3.2,4.8,5.1,4.0,7.1,4.6,3.1,2.4,7.3,4.9,3.8,2.7,7.3,5.2,7.2,4.5,6.6,3.1,4.2,8.6,7.1,8.2,3.5,4.7,6.9,7.3,4.2,3.9,7.6,4.1,7.3,5.3,5.7,5.9,7.1,4.1,5.6,6.4,4.2,5.1,6.8,7.9,4.3,5.9,5.4,5.6,6.5,5.8,4.7,6.7,5.2,6.2,7.4,3.4,3.2,6.5,4.6,5.5,6.8,7.0,6.6,3.7,4.8,5.5,6.3,7.2,5.4,5.1,5.7,5.6,8.0,6.2,3.8,3.4,5.7,3.0,4.2,2.6,6.4,6.9,6.5,6.2,6.3,4.6,4.8,4.9,6.4,4.7,9.2,7.1,2.7,5.4,7.7,5.8,6.6,5.8,5.9,8.6,8.0,4.4,5.1,6.0,7.3,2.9,7.3,6.2,7.6,5.2,3.8,6.8,6.5,4.5,4.7,6.1,5.1,7.3,7.1,6.0,6.8,6.4,4.8,7.2,6.5,4.4,6.4,6.8,4.4,6.6,4.4,7.1,7.2,3.7,6.4,4.2,4.8,6.8,3.1,4.3,6.4,8.0,7.0,2.4,5.8,9.1,6.0,5.8,3.9,6.2,4.6,5.7,4.3,7.3,7.3,6.7,4.7,6.1,3.9,5.4,4.7,5.4,7.4,4.0,5.7,3.6,5.7,7.1,6.5,6.4,4.3,4.0,6.2,4.1,6.2,4.2,5.9,5.7,5.9,5.0,4.8,6.8,3.9,5.3,7.3,3.5,7.7,3.1,6.2,5.1,5.5,5.2,6.0,6.9,4.5,4.2,8.1,5.9,7.8,6.6,6.4,4.9,6.2,7.5,8.1,7.5,4.4,7.6,3.8,5.2,6.3,1.9,3.7,6.0,4.5,6.2,7.3,5.5,5.9,6.7,3.8,6.2,3.6,4.2,5.9,7.3,6.7,6.7,4.4,7.3,6.9,6.6,6.6,5.9,6.0,5.8,5.4,6.5,6.1,4.6,2.5,2.6,5.6,4.5,6.5,6.5,6.0,6.0,4.8,6.9,7.7,4.3,6.2,2.3,6.4,5.1,6.4,3.6,4.7,6.2,4.2,4.0,5.8,3.5,3.6,7.3,2.4,7.1,7.8,4.9,6.5,5.9,4.0,7.1,3.8,7.2,5.9,6.0,3.2,3.2,3.8,5.5,6.1,7.0,6.7,7.2,4.9,4.8,8.2,6.1,4.2,7.2,6.9,8.4,7.0,5.9,6.7,8.2,4.0,9.2,6.6,6.8,5.6,5.6,7.3,5.7,5.6,3.5,6.1,7.4,5.7,6.2,7.3,3.6,5.9,6.9,6.1,5.8,4.7,4.2,6.7,5.2,5.9,6.7,4.8,5.2,1.6,2.5,7.1,4.7,6.6,5.8,6.3,7.3,6.3,2.5,8.2,5.3,7.0,6.2,2.7,3.7,7.5,3.9,4.5,7.6,6.0,6.2,7.9,6.7,4.2,8.5,6.8,6.9,6.7,8.6,4.9,4.8,3.1,3.6,5.7,7.3,6.2,6.5,6.8,4.6,5.2,8.8,4.2,5.9,6.0,6.6,5.6,5.7,7.7,2.7,6.6,6.1,5.6,4.9,6.9,5.7,6.6,7.4,6.8,4.0,1.9,5.4,2.4,8.0,7.9,7.0,4.4,4.3,8.6,4.3,4.8,7.2,5.9,6.0,7.3,6.4,4.2,8.4,6.5,4.8,3.2,7.5,6.2,6.7,5.3,5.9,6.4,5.0,6.8,5.4,5.5,8.1,4.0,6.4,2.3,6.8,6.0,7.2,6.5,2.5,5.4,7.1,5.3,5.8,5.2,5.9,8.2,4.4,7.3,8.6,2.1,8.8,6.8,5.6,7.5,7.2,7.2,7.3,4.9,7.6,4.0,6.8,8.9,8.1,7.4,6.5,8.3,7.1,5.3,5.1,5.5,7.2,6.1,5.4,6.2,6.8,8.1,7.9,6.6,6.3,7.7,5.6,6.0,6.2,3.5,5.8,5.6,7.5,6.8,3.1,6.6,3.3,3.7,8.2,5.1,5.4,7.3,6.5,2.7,4.5,5.8,6.9,4.7,6.5,5.5,9.0,6.3,4.1,5.6,4.1,8.7,5.9,5.5,5.4,4.9,5.4,6.1,6.8,6.4,5.5,5.7,5.8,4.8,5.3,5.9,6.9,6.8,5.5,7.7,5.6,6.4,5.4,4.9,3.6,8.1,7.8,3.7,6.2,7.8,6.8,5.6,7.9,5.5,3.2,7.3,6.9,2.8,4.3,5.6,6.9,5.9,7.1,5.9,7.9,6.1,8.2,6.6,6.6,7.8,7.8,7.2,8.8,5.9,6.5,6.4,6.3,5.4,6.6,9.3,7.0,6.8,8.0,6.1,5.8,7.4,6.9,6.6,5.5,5.9,6.6,6.8,4.8,6.9,6.9,6.2,6.1,4.9,5.4,8.7,8.4,8.6,5.7,5.7,4.9,3.6,6.6,5.8,5.7,5.4,7.8,7.4,5.8,4.5,7.9,4.4,6.0,3.5,5.6,6.6,6.3,6.0,8.9,7.0,8.5,7.1,6.1,2.8,8.1,4.3,5.2,8.0,7.5,5.4,4.8,5.8,7.4,5.3,3.9,6.8,6.7,7.8,2.8,4.0,6.0,5.9,6.1,6.3,5.5,7.1,8.6,5.5,7.1,7.9,7.6,8.8,7.6,6.6,5.3,6.6,5.4,6.9,5.4,5.6,7.0,6.9,6.9,7.3,6.9,9.0,6.6,6.3,8.2,6.8,8.0,7.9,3.7,5.3,6.5,4.7,7.2,5.3,6.9,7.8,8.1,4.9,5.0,6.5,5.2,5.4,5.7,7.1,7.8,5.5,5.4,8.2,5.9,9.1,3.6,4.8,7.4,4.2,4.7,6.6,4.9,2.3,7.2,7.7,4.5,6.2,7.0,7.8,8.6,5.5,7.0,6.5,5.8,6.5,6.9,5.6,7.8,9.3,5.2,7.1,7.3,6.1,5.4,7.9,7.6,5.3,6.3,8.1,6.6,3.3,2.7,7.9,8.6,5.1,6.8,5.5,4.5,6.2,7.6,6.7,8.1,6.7,6.1,6.8,3.5,7.5,5.8,8.8,6.7,6.1,4.8,8.0,6.8,6.6,6.4,6.5,7.3,6.6,6.7,7.2,3.5,4.3,6.8,9.1,5.5,5.9,2.5,9.4,4.4,8.7,6.2,8.0,8.6,7.3,7.3,5.9,7.8,7.9,8.5,4.3,7.1,5.6,8.7,7.8,7.4,3.5,8.1,3.7,9.3,8.9,8.2,6.6,6.8,8.7,5.4,6.4,4.6,8.1,9.4,4.2,9.3,7.9,9.0],\"yaxis\":\"y\",\"type\":\"scattergl\"}],                        {\"template\":{\"data\":{\"histogram2dcontour\":[{\"type\":\"histogram2dcontour\",\"colorbar\":{\"outlinewidth\":0,\"ticks\":\"\"},\"colorscale\":[[0.0,\"#0d0887\"],[0.1111111111111111,\"#46039f\"],[0.2222222222222222,\"#7201a8\"],[0.3333333333333333,\"#9c179e\"],[0.4444444444444444,\"#bd3786\"],[0.5555555555555556,\"#d8576b\"],[0.6666666666666666,\"#ed7953\"],[0.7777777777777778,\"#fb9f3a\"],[0.8888888888888888,\"#fdca26\"],[1.0,\"#f0f921\"]]}],\"choropleth\":[{\"type\":\"choropleth\",\"colorbar\":{\"outlinewidth\":0,\"ticks\":\"\"}}],\"histogram2d\":[{\"type\":\"histogram2d\",\"colorbar\":{\"outlinewidth\":0,\"ticks\":\"\"},\"colorscale\":[[0.0,\"#0d0887\"],[0.1111111111111111,\"#46039f\"],[0.2222222222222222,\"#7201a8\"],[0.3333333333333333,\"#9c179e\"],[0.4444444444444444,\"#bd3786\"],[0.5555555555555556,\"#d8576b\"],[0.6666666666666666,\"#ed7953\"],[0.7777777777777778,\"#fb9f3a\"],[0.8888888888888888,\"#fdca26\"],[1.0,\"#f0f921\"]]}],\"heatmap\":[{\"type\":\"heatmap\",\"colorbar\":{\"outlinewidth\":0,\"ticks\":\"\"},\"colorscale\":[[0.0,\"#0d0887\"],[0.1111111111111111,\"#46039f\"],[0.2222222222222222,\"#7201a8\"],[0.3333333333333333,\"#9c179e\"],[0.4444444444444444,\"#bd3786\"],[0.5555555555555556,\"#d8576b\"],[0.6666666666666666,\"#ed7953\"],[0.7777777777777778,\"#fb9f3a\"],[0.8888888888888888,\"#fdca26\"],[1.0,\"#f0f921\"]]}],\"heatmapgl\":[{\"type\":\"heatmapgl\",\"colorbar\":{\"outlinewidth\":0,\"ticks\":\"\"},\"colorscale\":[[0.0,\"#0d0887\"],[0.1111111111111111,\"#46039f\"],[0.2222222222222222,\"#7201a8\"],[0.3333333333333333,\"#9c179e\"],[0.4444444444444444,\"#bd3786\"],[0.5555555555555556,\"#d8576b\"],[0.6666666666666666,\"#ed7953\"],[0.7777777777777778,\"#fb9f3a\"],[0.8888888888888888,\"#fdca26\"],[1.0,\"#f0f921\"]]}],\"contourcarpet\":[{\"type\":\"contourcarpet\",\"colorbar\":{\"outlinewidth\":0,\"ticks\":\"\"}}],\"contour\":[{\"type\":\"contour\",\"colorbar\":{\"outlinewidth\":0,\"ticks\":\"\"},\"colorscale\":[[0.0,\"#0d0887\"],[0.1111111111111111,\"#46039f\"],[0.2222222222222222,\"#7201a8\"],[0.3333333333333333,\"#9c179e\"],[0.4444444444444444,\"#bd3786\"],[0.5555555555555556,\"#d8576b\"],[0.6666666666666666,\"#ed7953\"],[0.7777777777777778,\"#fb9f3a\"],[0.8888888888888888,\"#fdca26\"],[1.0,\"#f0f921\"]]}],\"surface\":[{\"type\":\"surface\",\"colorbar\":{\"outlinewidth\":0,\"ticks\":\"\"},\"colorscale\":[[0.0,\"#0d0887\"],[0.1111111111111111,\"#46039f\"],[0.2222222222222222,\"#7201a8\"],[0.3333333333333333,\"#9c179e\"],[0.4444444444444444,\"#bd3786\"],[0.5555555555555556,\"#d8576b\"],[0.6666666666666666,\"#ed7953\"],[0.7777777777777778,\"#fb9f3a\"],[0.8888888888888888,\"#fdca26\"],[1.0,\"#f0f921\"]]}],\"mesh3d\":[{\"type\":\"mesh3d\",\"colorbar\":{\"outlinewidth\":0,\"ticks\":\"\"}}],\"scatter\":[{\"fillpattern\":{\"fillmode\":\"overlay\",\"size\":10,\"solidity\":0.2},\"type\":\"scatter\"}],\"parcoords\":[{\"type\":\"parcoords\",\"line\":{\"colorbar\":{\"outlinewidth\":0,\"ticks\":\"\"}}}],\"scatterpolargl\":[{\"type\":\"scatterpolargl\",\"marker\":{\"colorbar\":{\"outlinewidth\":0,\"ticks\":\"\"}}}],\"bar\":[{\"error_x\":{\"color\":\"#2a3f5f\"},\"error_y\":{\"color\":\"#2a3f5f\"},\"marker\":{\"line\":{\"color\":\"#E5ECF6\",\"width\":0.5},\"pattern\":{\"fillmode\":\"overlay\",\"size\":10,\"solidity\":0.2}},\"type\":\"bar\"}],\"scattergeo\":[{\"type\":\"scattergeo\",\"marker\":{\"colorbar\":{\"outlinewidth\":0,\"ticks\":\"\"}}}],\"scatterpolar\":[{\"type\":\"scatterpolar\",\"marker\":{\"colorbar\":{\"outlinewidth\":0,\"ticks\":\"\"}}}],\"histogram\":[{\"marker\":{\"pattern\":{\"fillmode\":\"overlay\",\"size\":10,\"solidity\":0.2}},\"type\":\"histogram\"}],\"scattergl\":[{\"type\":\"scattergl\",\"marker\":{\"colorbar\":{\"outlinewidth\":0,\"ticks\":\"\"}}}],\"scatter3d\":[{\"type\":\"scatter3d\",\"line\":{\"colorbar\":{\"outlinewidth\":0,\"ticks\":\"\"}},\"marker\":{\"colorbar\":{\"outlinewidth\":0,\"ticks\":\"\"}}}],\"scattermapbox\":[{\"type\":\"scattermapbox\",\"marker\":{\"colorbar\":{\"outlinewidth\":0,\"ticks\":\"\"}}}],\"scatterternary\":[{\"type\":\"scatterternary\",\"marker\":{\"colorbar\":{\"outlinewidth\":0,\"ticks\":\"\"}}}],\"scattercarpet\":[{\"type\":\"scattercarpet\",\"marker\":{\"colorbar\":{\"outlinewidth\":0,\"ticks\":\"\"}}}],\"carpet\":[{\"aaxis\":{\"endlinecolor\":\"#2a3f5f\",\"gridcolor\":\"white\",\"linecolor\":\"white\",\"minorgridcolor\":\"white\",\"startlinecolor\":\"#2a3f5f\"},\"baxis\":{\"endlinecolor\":\"#2a3f5f\",\"gridcolor\":\"white\",\"linecolor\":\"white\",\"minorgridcolor\":\"white\",\"startlinecolor\":\"#2a3f5f\"},\"type\":\"carpet\"}],\"table\":[{\"cells\":{\"fill\":{\"color\":\"#EBF0F8\"},\"line\":{\"color\":\"white\"}},\"header\":{\"fill\":{\"color\":\"#C8D4E3\"},\"line\":{\"color\":\"white\"}},\"type\":\"table\"}],\"barpolar\":[{\"marker\":{\"line\":{\"color\":\"#E5ECF6\",\"width\":0.5},\"pattern\":{\"fillmode\":\"overlay\",\"size\":10,\"solidity\":0.2}},\"type\":\"barpolar\"}],\"pie\":[{\"automargin\":true,\"type\":\"pie\"}]},\"layout\":{\"autotypenumbers\":\"strict\",\"colorway\":[\"#636efa\",\"#EF553B\",\"#00cc96\",\"#ab63fa\",\"#FFA15A\",\"#19d3f3\",\"#FF6692\",\"#B6E880\",\"#FF97FF\",\"#FECB52\"],\"font\":{\"color\":\"#2a3f5f\"},\"hovermode\":\"closest\",\"hoverlabel\":{\"align\":\"left\"},\"paper_bgcolor\":\"white\",\"plot_bgcolor\":\"#E5ECF6\",\"polar\":{\"bgcolor\":\"#E5ECF6\",\"angularaxis\":{\"gridcolor\":\"white\",\"linecolor\":\"white\",\"ticks\":\"\"},\"radialaxis\":{\"gridcolor\":\"white\",\"linecolor\":\"white\",\"ticks\":\"\"}},\"ternary\":{\"bgcolor\":\"#E5ECF6\",\"aaxis\":{\"gridcolor\":\"white\",\"linecolor\":\"white\",\"ticks\":\"\"},\"baxis\":{\"gridcolor\":\"white\",\"linecolor\":\"white\",\"ticks\":\"\"},\"caxis\":{\"gridcolor\":\"white\",\"linecolor\":\"white\",\"ticks\":\"\"}},\"coloraxis\":{\"colorbar\":{\"outlinewidth\":0,\"ticks\":\"\"}},\"colorscale\":{\"sequential\":[[0.0,\"#0d0887\"],[0.1111111111111111,\"#46039f\"],[0.2222222222222222,\"#7201a8\"],[0.3333333333333333,\"#9c179e\"],[0.4444444444444444,\"#bd3786\"],[0.5555555555555556,\"#d8576b\"],[0.6666666666666666,\"#ed7953\"],[0.7777777777777778,\"#fb9f3a\"],[0.8888888888888888,\"#fdca26\"],[1.0,\"#f0f921\"]],\"sequentialminus\":[[0.0,\"#0d0887\"],[0.1111111111111111,\"#46039f\"],[0.2222222222222222,\"#7201a8\"],[0.3333333333333333,\"#9c179e\"],[0.4444444444444444,\"#bd3786\"],[0.5555555555555556,\"#d8576b\"],[0.6666666666666666,\"#ed7953\"],[0.7777777777777778,\"#fb9f3a\"],[0.8888888888888888,\"#fdca26\"],[1.0,\"#f0f921\"]],\"diverging\":[[0,\"#8e0152\"],[0.1,\"#c51b7d\"],[0.2,\"#de77ae\"],[0.3,\"#f1b6da\"],[0.4,\"#fde0ef\"],[0.5,\"#f7f7f7\"],[0.6,\"#e6f5d0\"],[0.7,\"#b8e186\"],[0.8,\"#7fbc41\"],[0.9,\"#4d9221\"],[1,\"#276419\"]]},\"xaxis\":{\"gridcolor\":\"white\",\"linecolor\":\"white\",\"ticks\":\"\",\"title\":{\"standoff\":15},\"zerolinecolor\":\"white\",\"automargin\":true,\"zerolinewidth\":2},\"yaxis\":{\"gridcolor\":\"white\",\"linecolor\":\"white\",\"ticks\":\"\",\"title\":{\"standoff\":15},\"zerolinecolor\":\"white\",\"automargin\":true,\"zerolinewidth\":2},\"scene\":{\"xaxis\":{\"backgroundcolor\":\"#E5ECF6\",\"gridcolor\":\"white\",\"linecolor\":\"white\",\"showbackground\":true,\"ticks\":\"\",\"zerolinecolor\":\"white\",\"gridwidth\":2},\"yaxis\":{\"backgroundcolor\":\"#E5ECF6\",\"gridcolor\":\"white\",\"linecolor\":\"white\",\"showbackground\":true,\"ticks\":\"\",\"zerolinecolor\":\"white\",\"gridwidth\":2},\"zaxis\":{\"backgroundcolor\":\"#E5ECF6\",\"gridcolor\":\"white\",\"linecolor\":\"white\",\"showbackground\":true,\"ticks\":\"\",\"zerolinecolor\":\"white\",\"gridwidth\":2}},\"shapedefaults\":{\"line\":{\"color\":\"#2a3f5f\"}},\"annotationdefaults\":{\"arrowcolor\":\"#2a3f5f\",\"arrowhead\":0,\"arrowwidth\":1},\"geo\":{\"bgcolor\":\"white\",\"landcolor\":\"#E5ECF6\",\"subunitcolor\":\"white\",\"showland\":true,\"showlakes\":true,\"lakecolor\":\"white\"},\"title\":{\"x\":0.05},\"mapbox\":{\"style\":\"light\"}}},\"xaxis\":{\"anchor\":\"y\",\"domain\":[0.0,1.0],\"title\":{\"text\":\"Year\"}},\"yaxis\":{\"anchor\":\"x\",\"domain\":[0.0,1.0],\"title\":{\"text\":\"Rating\"}},\"coloraxis\":{\"colorbar\":{\"title\":{\"text\":\"Rating\"}},\"colorscale\":[[0.0,\"#0d0887\"],[0.1111111111111111,\"#46039f\"],[0.2222222222222222,\"#7201a8\"],[0.3333333333333333,\"#9c179e\"],[0.4444444444444444,\"#bd3786\"],[0.5555555555555556,\"#d8576b\"],[0.6666666666666666,\"#ed7953\"],[0.7777777777777778,\"#fb9f3a\"],[0.8888888888888888,\"#fdca26\"],[1.0,\"#f0f921\"]]},\"legend\":{\"tracegroupgap\":0},\"title\":{\"text\":\"Year Versus Rating\"}},                        {\"responsive\": true}                    ).then(function(){\n",
              "                            \n",
              "var gd = document.getElementById('d718c645-3bf8-445c-a0a3-135c6c2dfa05');\n",
              "var x = new MutationObserver(function (mutations, observer) {{\n",
              "        var display = window.getComputedStyle(gd).display;\n",
              "        if (!display || display === 'none') {{\n",
              "            console.log([gd, 'removed!']);\n",
              "            Plotly.purge(gd);\n",
              "            observer.disconnect();\n",
              "        }}\n",
              "}});\n",
              "\n",
              "// Listen for the removal of the full notebook cells\n",
              "var notebookContainer = gd.closest('#notebook-container');\n",
              "if (notebookContainer) {{\n",
              "    x.observe(notebookContainer, {childList: true});\n",
              "}}\n",
              "\n",
              "// Listen for the clearing of the current output cell\n",
              "var outputEl = gd.closest('.output');\n",
              "if (outputEl) {{\n",
              "    x.observe(outputEl, {childList: true});\n",
              "}}\n",
              "\n",
              "                        })                };                            </script>        </div>\n",
              "</body>\n",
              "</html>"
            ]
          },
          "metadata": {}
        }
      ]
    },
    {
      "cell_type": "code",
      "source": [
        "data['Genre_mean_rating'] = data.groupby('Genre')['Rating'].transform('mean')\n",
        "data['Director_enc'] = data.groupby('Director')['Rating'].transform('mean')\n",
        "data['Actor1_enc'] = data.groupby('Actor 1')['Rating'].transform('mean')\n",
        "data['Actor2_enc'] = data.groupby('Actor 2')['Rating'].transform('mean')\n",
        "data['Actor3_enc'] = data.groupby('Actor 3')['Rating'].transform('mean')"
      ],
      "metadata": {
        "id": "pbOSKy_QkOn-"
      },
      "execution_count": null,
      "outputs": []
    },
    {
      "cell_type": "code",
      "source": [
        "data"
      ],
      "metadata": {
        "colab": {
          "base_uri": "https://localhost:8080/",
          "height": 721
        },
        "id": "-6ugkXbF9AKx",
        "outputId": "977fad04-6c3c-4846-8f9b-c2ad6c575b27"
      },
      "execution_count": null,
      "outputs": [
        {
          "output_type": "execute_result",
          "data": {
            "text/plain": [
              "                           Name  Year  Duration      Genre  Rating  Votes  \\\n",
              "4171                   Draupadi  1931       124      Drama     5.3      6   \n",
              "9035            Maya Machhindra  1932       154      Drama     5.8     13   \n",
              "11138              Puran Bhagat  1933       159      Drama     6.5     10   \n",
              "2843                  Chandidas  1934       128      Drama     6.6      5   \n",
              "2232                  Bhikharan  1935       143      Drama     6.2      9   \n",
              "...                         ...   ...       ...        ...     ...    ...   \n",
              "6852                       June  2021        93      Drama     9.4     18   \n",
              "8691   Main Mulayam Singh Yadav  2021       120  Biography     4.2    118   \n",
              "11843                   Refl3ct  2021        65     Sci-Fi     9.3    467   \n",
              "9510                  Mosagallu  2021        85      Drama     7.9   1059   \n",
              "9504               Moral Nights  2021        93      Drama     9.0     37   \n",
              "\n",
              "                         Director                   Actor 1  \\\n",
              "4171       Bhagwati Prasad Mishra                    Khalil   \n",
              "9035   Shantaram Rajaram Vankudre           Govindrao Tembe   \n",
              "11138                 Debaki Bose  Choudhury Mohammed Rafiq   \n",
              "2843                   Nitin Bose               K.L. Saigal   \n",
              "2232            Premankur Atorthy                Rattan Bai   \n",
              "...                           ...                       ...   \n",
              "6852               Suhrud Godbole            Vaibhav Khisti   \n",
              "8691                Suvendu Ghosh               Amyth Sethi   \n",
              "11843                Nikhil Mahar               Vijay Mahar   \n",
              "9510             Jeffrey Gee Chin             Vishnu Manchu   \n",
              "9504                     S. Sunil                Kannanunni   \n",
              "\n",
              "                    Actor 2         Actor 3  Genre_mean_rating  Director_enc  \\\n",
              "4171               Ermeline           Jillo           6.403106         5.300   \n",
              "9035            Durga Khote  Master Vinayak           6.403106         6.400   \n",
              "11138              M. Kumar          Anwari           6.403106         6.720   \n",
              "2843               Umasashi   Pahadi Sanyal           6.403106         6.475   \n",
              "2232         Master Vinayak    I.A. Hafizji           6.403106         6.300   \n",
              "...                     ...             ...                ...           ...   \n",
              "6852         Nilesh Divekar  Jitendra Joshi           6.403106         9.400   \n",
              "8691          Govind Namdeo   Mukesh Tiwari           5.750000         4.200   \n",
              "11843           Vijay Mahar    Nikhil Mahar           6.333333         9.300   \n",
              "9510         Kajal Aggarwal    Sunil Shetty           6.403106         7.900   \n",
              "9504   Santhosh Keezhattoor   Sandra Larwin           6.403106         9.000   \n",
              "\n",
              "       Actor1_enc  Actor2_enc  Actor3_enc  \n",
              "4171          5.3        5.30        5.35  \n",
              "9035          5.8        6.75        5.80  \n",
              "11138         6.5        6.45        6.50  \n",
              "2843          6.9        6.60        6.60  \n",
              "2232          6.3        6.20        6.30  \n",
              "...           ...         ...         ...  \n",
              "6852          9.4        9.40        9.40  \n",
              "8691          4.2        4.20        3.85  \n",
              "11843         9.3        9.30        9.30  \n",
              "9510          7.9        7.90        7.90  \n",
              "9504          9.0        9.00        9.00  \n",
              "\n",
              "[1564 rows x 15 columns]"
            ],
            "text/html": [
              "\n",
              "  <div id=\"df-49acb5f3-c9eb-4917-9761-c4bfa1939f43\" class=\"colab-df-container\">\n",
              "    <div>\n",
              "<style scoped>\n",
              "    .dataframe tbody tr th:only-of-type {\n",
              "        vertical-align: middle;\n",
              "    }\n",
              "\n",
              "    .dataframe tbody tr th {\n",
              "        vertical-align: top;\n",
              "    }\n",
              "\n",
              "    .dataframe thead th {\n",
              "        text-align: right;\n",
              "    }\n",
              "</style>\n",
              "<table border=\"1\" class=\"dataframe\">\n",
              "  <thead>\n",
              "    <tr style=\"text-align: right;\">\n",
              "      <th></th>\n",
              "      <th>Name</th>\n",
              "      <th>Year</th>\n",
              "      <th>Duration</th>\n",
              "      <th>Genre</th>\n",
              "      <th>Rating</th>\n",
              "      <th>Votes</th>\n",
              "      <th>Director</th>\n",
              "      <th>Actor 1</th>\n",
              "      <th>Actor 2</th>\n",
              "      <th>Actor 3</th>\n",
              "      <th>Genre_mean_rating</th>\n",
              "      <th>Director_enc</th>\n",
              "      <th>Actor1_enc</th>\n",
              "      <th>Actor2_enc</th>\n",
              "      <th>Actor3_enc</th>\n",
              "    </tr>\n",
              "  </thead>\n",
              "  <tbody>\n",
              "    <tr>\n",
              "      <th>4171</th>\n",
              "      <td>Draupadi</td>\n",
              "      <td>1931</td>\n",
              "      <td>124</td>\n",
              "      <td>Drama</td>\n",
              "      <td>5.3</td>\n",
              "      <td>6</td>\n",
              "      <td>Bhagwati Prasad Mishra</td>\n",
              "      <td>Khalil</td>\n",
              "      <td>Ermeline</td>\n",
              "      <td>Jillo</td>\n",
              "      <td>6.403106</td>\n",
              "      <td>5.300</td>\n",
              "      <td>5.3</td>\n",
              "      <td>5.30</td>\n",
              "      <td>5.35</td>\n",
              "    </tr>\n",
              "    <tr>\n",
              "      <th>9035</th>\n",
              "      <td>Maya Machhindra</td>\n",
              "      <td>1932</td>\n",
              "      <td>154</td>\n",
              "      <td>Drama</td>\n",
              "      <td>5.8</td>\n",
              "      <td>13</td>\n",
              "      <td>Shantaram Rajaram Vankudre</td>\n",
              "      <td>Govindrao Tembe</td>\n",
              "      <td>Durga Khote</td>\n",
              "      <td>Master Vinayak</td>\n",
              "      <td>6.403106</td>\n",
              "      <td>6.400</td>\n",
              "      <td>5.8</td>\n",
              "      <td>6.75</td>\n",
              "      <td>5.80</td>\n",
              "    </tr>\n",
              "    <tr>\n",
              "      <th>11138</th>\n",
              "      <td>Puran Bhagat</td>\n",
              "      <td>1933</td>\n",
              "      <td>159</td>\n",
              "      <td>Drama</td>\n",
              "      <td>6.5</td>\n",
              "      <td>10</td>\n",
              "      <td>Debaki Bose</td>\n",
              "      <td>Choudhury Mohammed Rafiq</td>\n",
              "      <td>M. Kumar</td>\n",
              "      <td>Anwari</td>\n",
              "      <td>6.403106</td>\n",
              "      <td>6.720</td>\n",
              "      <td>6.5</td>\n",
              "      <td>6.45</td>\n",
              "      <td>6.50</td>\n",
              "    </tr>\n",
              "    <tr>\n",
              "      <th>2843</th>\n",
              "      <td>Chandidas</td>\n",
              "      <td>1934</td>\n",
              "      <td>128</td>\n",
              "      <td>Drama</td>\n",
              "      <td>6.6</td>\n",
              "      <td>5</td>\n",
              "      <td>Nitin Bose</td>\n",
              "      <td>K.L. Saigal</td>\n",
              "      <td>Umasashi</td>\n",
              "      <td>Pahadi Sanyal</td>\n",
              "      <td>6.403106</td>\n",
              "      <td>6.475</td>\n",
              "      <td>6.9</td>\n",
              "      <td>6.60</td>\n",
              "      <td>6.60</td>\n",
              "    </tr>\n",
              "    <tr>\n",
              "      <th>2232</th>\n",
              "      <td>Bhikharan</td>\n",
              "      <td>1935</td>\n",
              "      <td>143</td>\n",
              "      <td>Drama</td>\n",
              "      <td>6.2</td>\n",
              "      <td>9</td>\n",
              "      <td>Premankur Atorthy</td>\n",
              "      <td>Rattan Bai</td>\n",
              "      <td>Master Vinayak</td>\n",
              "      <td>I.A. Hafizji</td>\n",
              "      <td>6.403106</td>\n",
              "      <td>6.300</td>\n",
              "      <td>6.3</td>\n",
              "      <td>6.20</td>\n",
              "      <td>6.30</td>\n",
              "    </tr>\n",
              "    <tr>\n",
              "      <th>...</th>\n",
              "      <td>...</td>\n",
              "      <td>...</td>\n",
              "      <td>...</td>\n",
              "      <td>...</td>\n",
              "      <td>...</td>\n",
              "      <td>...</td>\n",
              "      <td>...</td>\n",
              "      <td>...</td>\n",
              "      <td>...</td>\n",
              "      <td>...</td>\n",
              "      <td>...</td>\n",
              "      <td>...</td>\n",
              "      <td>...</td>\n",
              "      <td>...</td>\n",
              "      <td>...</td>\n",
              "    </tr>\n",
              "    <tr>\n",
              "      <th>6852</th>\n",
              "      <td>June</td>\n",
              "      <td>2021</td>\n",
              "      <td>93</td>\n",
              "      <td>Drama</td>\n",
              "      <td>9.4</td>\n",
              "      <td>18</td>\n",
              "      <td>Suhrud Godbole</td>\n",
              "      <td>Vaibhav Khisti</td>\n",
              "      <td>Nilesh Divekar</td>\n",
              "      <td>Jitendra Joshi</td>\n",
              "      <td>6.403106</td>\n",
              "      <td>9.400</td>\n",
              "      <td>9.4</td>\n",
              "      <td>9.40</td>\n",
              "      <td>9.40</td>\n",
              "    </tr>\n",
              "    <tr>\n",
              "      <th>8691</th>\n",
              "      <td>Main Mulayam Singh Yadav</td>\n",
              "      <td>2021</td>\n",
              "      <td>120</td>\n",
              "      <td>Biography</td>\n",
              "      <td>4.2</td>\n",
              "      <td>118</td>\n",
              "      <td>Suvendu Ghosh</td>\n",
              "      <td>Amyth Sethi</td>\n",
              "      <td>Govind Namdeo</td>\n",
              "      <td>Mukesh Tiwari</td>\n",
              "      <td>5.750000</td>\n",
              "      <td>4.200</td>\n",
              "      <td>4.2</td>\n",
              "      <td>4.20</td>\n",
              "      <td>3.85</td>\n",
              "    </tr>\n",
              "    <tr>\n",
              "      <th>11843</th>\n",
              "      <td>Refl3ct</td>\n",
              "      <td>2021</td>\n",
              "      <td>65</td>\n",
              "      <td>Sci-Fi</td>\n",
              "      <td>9.3</td>\n",
              "      <td>467</td>\n",
              "      <td>Nikhil Mahar</td>\n",
              "      <td>Vijay Mahar</td>\n",
              "      <td>Vijay Mahar</td>\n",
              "      <td>Nikhil Mahar</td>\n",
              "      <td>6.333333</td>\n",
              "      <td>9.300</td>\n",
              "      <td>9.3</td>\n",
              "      <td>9.30</td>\n",
              "      <td>9.30</td>\n",
              "    </tr>\n",
              "    <tr>\n",
              "      <th>9510</th>\n",
              "      <td>Mosagallu</td>\n",
              "      <td>2021</td>\n",
              "      <td>85</td>\n",
              "      <td>Drama</td>\n",
              "      <td>7.9</td>\n",
              "      <td>1059</td>\n",
              "      <td>Jeffrey Gee Chin</td>\n",
              "      <td>Vishnu Manchu</td>\n",
              "      <td>Kajal Aggarwal</td>\n",
              "      <td>Sunil Shetty</td>\n",
              "      <td>6.403106</td>\n",
              "      <td>7.900</td>\n",
              "      <td>7.9</td>\n",
              "      <td>7.90</td>\n",
              "      <td>7.90</td>\n",
              "    </tr>\n",
              "    <tr>\n",
              "      <th>9504</th>\n",
              "      <td>Moral Nights</td>\n",
              "      <td>2021</td>\n",
              "      <td>93</td>\n",
              "      <td>Drama</td>\n",
              "      <td>9.0</td>\n",
              "      <td>37</td>\n",
              "      <td>S. Sunil</td>\n",
              "      <td>Kannanunni</td>\n",
              "      <td>Santhosh Keezhattoor</td>\n",
              "      <td>Sandra Larwin</td>\n",
              "      <td>6.403106</td>\n",
              "      <td>9.000</td>\n",
              "      <td>9.0</td>\n",
              "      <td>9.00</td>\n",
              "      <td>9.00</td>\n",
              "    </tr>\n",
              "  </tbody>\n",
              "</table>\n",
              "<p>1564 rows × 15 columns</p>\n",
              "</div>\n",
              "    <div class=\"colab-df-buttons\">\n",
              "\n",
              "  <div class=\"colab-df-container\">\n",
              "    <button class=\"colab-df-convert\" onclick=\"convertToInteractive('df-49acb5f3-c9eb-4917-9761-c4bfa1939f43')\"\n",
              "            title=\"Convert this dataframe to an interactive table.\"\n",
              "            style=\"display:none;\">\n",
              "\n",
              "  <svg xmlns=\"http://www.w3.org/2000/svg\" height=\"24px\" viewBox=\"0 -960 960 960\">\n",
              "    <path d=\"M120-120v-720h720v720H120Zm60-500h600v-160H180v160Zm220 220h160v-160H400v160Zm0 220h160v-160H400v160ZM180-400h160v-160H180v160Zm440 0h160v-160H620v160ZM180-180h160v-160H180v160Zm440 0h160v-160H620v160Z\"/>\n",
              "  </svg>\n",
              "    </button>\n",
              "\n",
              "  <style>\n",
              "    .colab-df-container {\n",
              "      display:flex;\n",
              "      gap: 12px;\n",
              "    }\n",
              "\n",
              "    .colab-df-convert {\n",
              "      background-color: #E8F0FE;\n",
              "      border: none;\n",
              "      border-radius: 50%;\n",
              "      cursor: pointer;\n",
              "      display: none;\n",
              "      fill: #1967D2;\n",
              "      height: 32px;\n",
              "      padding: 0 0 0 0;\n",
              "      width: 32px;\n",
              "    }\n",
              "\n",
              "    .colab-df-convert:hover {\n",
              "      background-color: #E2EBFA;\n",
              "      box-shadow: 0px 1px 2px rgba(60, 64, 67, 0.3), 0px 1px 3px 1px rgba(60, 64, 67, 0.15);\n",
              "      fill: #174EA6;\n",
              "    }\n",
              "\n",
              "    .colab-df-buttons div {\n",
              "      margin-bottom: 4px;\n",
              "    }\n",
              "\n",
              "    [theme=dark] .colab-df-convert {\n",
              "      background-color: #3B4455;\n",
              "      fill: #D2E3FC;\n",
              "    }\n",
              "\n",
              "    [theme=dark] .colab-df-convert:hover {\n",
              "      background-color: #434B5C;\n",
              "      box-shadow: 0px 1px 3px 1px rgba(0, 0, 0, 0.15);\n",
              "      filter: drop-shadow(0px 1px 2px rgba(0, 0, 0, 0.3));\n",
              "      fill: #FFFFFF;\n",
              "    }\n",
              "  </style>\n",
              "\n",
              "    <script>\n",
              "      const buttonEl =\n",
              "        document.querySelector('#df-49acb5f3-c9eb-4917-9761-c4bfa1939f43 button.colab-df-convert');\n",
              "      buttonEl.style.display =\n",
              "        google.colab.kernel.accessAllowed ? 'block' : 'none';\n",
              "\n",
              "      async function convertToInteractive(key) {\n",
              "        const element = document.querySelector('#df-49acb5f3-c9eb-4917-9761-c4bfa1939f43');\n",
              "        const dataTable =\n",
              "          await google.colab.kernel.invokeFunction('convertToInteractive',\n",
              "                                                    [key], {});\n",
              "        if (!dataTable) return;\n",
              "\n",
              "        const docLinkHtml = 'Like what you see? Visit the ' +\n",
              "          '<a target=\"_blank\" href=https://colab.research.google.com/notebooks/data_table.ipynb>data table notebook</a>'\n",
              "          + ' to learn more about interactive tables.';\n",
              "        element.innerHTML = '';\n",
              "        dataTable['output_type'] = 'display_data';\n",
              "        await google.colab.output.renderOutput(dataTable, element);\n",
              "        const docLink = document.createElement('div');\n",
              "        docLink.innerHTML = docLinkHtml;\n",
              "        element.appendChild(docLink);\n",
              "      }\n",
              "    </script>\n",
              "  </div>\n",
              "\n",
              "\n",
              "<div id=\"df-afd7b8f5-dfe1-450b-9eb4-61f1647ddd05\">\n",
              "  <button class=\"colab-df-quickchart\" onclick=\"quickchart('df-afd7b8f5-dfe1-450b-9eb4-61f1647ddd05')\"\n",
              "            title=\"Suggest charts\"\n",
              "            style=\"display:none;\">\n",
              "\n",
              "<svg xmlns=\"http://www.w3.org/2000/svg\" height=\"24px\"viewBox=\"0 0 24 24\"\n",
              "     width=\"24px\">\n",
              "    <g>\n",
              "        <path d=\"M19 3H5c-1.1 0-2 .9-2 2v14c0 1.1.9 2 2 2h14c1.1 0 2-.9 2-2V5c0-1.1-.9-2-2-2zM9 17H7v-7h2v7zm4 0h-2V7h2v10zm4 0h-2v-4h2v4z\"/>\n",
              "    </g>\n",
              "</svg>\n",
              "  </button>\n",
              "\n",
              "<style>\n",
              "  .colab-df-quickchart {\n",
              "      --bg-color: #E8F0FE;\n",
              "      --fill-color: #1967D2;\n",
              "      --hover-bg-color: #E2EBFA;\n",
              "      --hover-fill-color: #174EA6;\n",
              "      --disabled-fill-color: #AAA;\n",
              "      --disabled-bg-color: #DDD;\n",
              "  }\n",
              "\n",
              "  [theme=dark] .colab-df-quickchart {\n",
              "      --bg-color: #3B4455;\n",
              "      --fill-color: #D2E3FC;\n",
              "      --hover-bg-color: #434B5C;\n",
              "      --hover-fill-color: #FFFFFF;\n",
              "      --disabled-bg-color: #3B4455;\n",
              "      --disabled-fill-color: #666;\n",
              "  }\n",
              "\n",
              "  .colab-df-quickchart {\n",
              "    background-color: var(--bg-color);\n",
              "    border: none;\n",
              "    border-radius: 50%;\n",
              "    cursor: pointer;\n",
              "    display: none;\n",
              "    fill: var(--fill-color);\n",
              "    height: 32px;\n",
              "    padding: 0;\n",
              "    width: 32px;\n",
              "  }\n",
              "\n",
              "  .colab-df-quickchart:hover {\n",
              "    background-color: var(--hover-bg-color);\n",
              "    box-shadow: 0 1px 2px rgba(60, 64, 67, 0.3), 0 1px 3px 1px rgba(60, 64, 67, 0.15);\n",
              "    fill: var(--button-hover-fill-color);\n",
              "  }\n",
              "\n",
              "  .colab-df-quickchart-complete:disabled,\n",
              "  .colab-df-quickchart-complete:disabled:hover {\n",
              "    background-color: var(--disabled-bg-color);\n",
              "    fill: var(--disabled-fill-color);\n",
              "    box-shadow: none;\n",
              "  }\n",
              "\n",
              "  .colab-df-spinner {\n",
              "    border: 2px solid var(--fill-color);\n",
              "    border-color: transparent;\n",
              "    border-bottom-color: var(--fill-color);\n",
              "    animation:\n",
              "      spin 1s steps(1) infinite;\n",
              "  }\n",
              "\n",
              "  @keyframes spin {\n",
              "    0% {\n",
              "      border-color: transparent;\n",
              "      border-bottom-color: var(--fill-color);\n",
              "      border-left-color: var(--fill-color);\n",
              "    }\n",
              "    20% {\n",
              "      border-color: transparent;\n",
              "      border-left-color: var(--fill-color);\n",
              "      border-top-color: var(--fill-color);\n",
              "    }\n",
              "    30% {\n",
              "      border-color: transparent;\n",
              "      border-left-color: var(--fill-color);\n",
              "      border-top-color: var(--fill-color);\n",
              "      border-right-color: var(--fill-color);\n",
              "    }\n",
              "    40% {\n",
              "      border-color: transparent;\n",
              "      border-right-color: var(--fill-color);\n",
              "      border-top-color: var(--fill-color);\n",
              "    }\n",
              "    60% {\n",
              "      border-color: transparent;\n",
              "      border-right-color: var(--fill-color);\n",
              "    }\n",
              "    80% {\n",
              "      border-color: transparent;\n",
              "      border-right-color: var(--fill-color);\n",
              "      border-bottom-color: var(--fill-color);\n",
              "    }\n",
              "    90% {\n",
              "      border-color: transparent;\n",
              "      border-bottom-color: var(--fill-color);\n",
              "    }\n",
              "  }\n",
              "</style>\n",
              "\n",
              "  <script>\n",
              "    async function quickchart(key) {\n",
              "      const quickchartButtonEl =\n",
              "        document.querySelector('#' + key + ' button');\n",
              "      quickchartButtonEl.disabled = true;  // To prevent multiple clicks.\n",
              "      quickchartButtonEl.classList.add('colab-df-spinner');\n",
              "      try {\n",
              "        const charts = await google.colab.kernel.invokeFunction(\n",
              "            'suggestCharts', [key], {});\n",
              "      } catch (error) {\n",
              "        console.error('Error during call to suggestCharts:', error);\n",
              "      }\n",
              "      quickchartButtonEl.classList.remove('colab-df-spinner');\n",
              "      quickchartButtonEl.classList.add('colab-df-quickchart-complete');\n",
              "    }\n",
              "    (() => {\n",
              "      let quickchartButtonEl =\n",
              "        document.querySelector('#df-afd7b8f5-dfe1-450b-9eb4-61f1647ddd05 button');\n",
              "      quickchartButtonEl.style.display =\n",
              "        google.colab.kernel.accessAllowed ? 'block' : 'none';\n",
              "    })();\n",
              "  </script>\n",
              "</div>\n",
              "\n",
              "  <div id=\"id_87374464-fcee-47dd-8d75-13c4239ded58\">\n",
              "    <style>\n",
              "      .colab-df-generate {\n",
              "        background-color: #E8F0FE;\n",
              "        border: none;\n",
              "        border-radius: 50%;\n",
              "        cursor: pointer;\n",
              "        display: none;\n",
              "        fill: #1967D2;\n",
              "        height: 32px;\n",
              "        padding: 0 0 0 0;\n",
              "        width: 32px;\n",
              "      }\n",
              "\n",
              "      .colab-df-generate:hover {\n",
              "        background-color: #E2EBFA;\n",
              "        box-shadow: 0px 1px 2px rgba(60, 64, 67, 0.3), 0px 1px 3px 1px rgba(60, 64, 67, 0.15);\n",
              "        fill: #174EA6;\n",
              "      }\n",
              "\n",
              "      [theme=dark] .colab-df-generate {\n",
              "        background-color: #3B4455;\n",
              "        fill: #D2E3FC;\n",
              "      }\n",
              "\n",
              "      [theme=dark] .colab-df-generate:hover {\n",
              "        background-color: #434B5C;\n",
              "        box-shadow: 0px 1px 3px 1px rgba(0, 0, 0, 0.15);\n",
              "        filter: drop-shadow(0px 1px 2px rgba(0, 0, 0, 0.3));\n",
              "        fill: #FFFFFF;\n",
              "      }\n",
              "    </style>\n",
              "    <button class=\"colab-df-generate\" onclick=\"generateWithVariable('data')\"\n",
              "            title=\"Generate code using this dataframe.\"\n",
              "            style=\"display:none;\">\n",
              "\n",
              "  <svg xmlns=\"http://www.w3.org/2000/svg\" height=\"24px\"viewBox=\"0 0 24 24\"\n",
              "       width=\"24px\">\n",
              "    <path d=\"M7,19H8.4L18.45,9,17,7.55,7,17.6ZM5,21V16.75L18.45,3.32a2,2,0,0,1,2.83,0l1.4,1.43a1.91,1.91,0,0,1,.58,1.4,1.91,1.91,0,0,1-.58,1.4L9.25,21ZM18.45,9,17,7.55Zm-12,3A5.31,5.31,0,0,0,4.9,8.1,5.31,5.31,0,0,0,1,6.5,5.31,5.31,0,0,0,4.9,4.9,5.31,5.31,0,0,0,6.5,1,5.31,5.31,0,0,0,8.1,4.9,5.31,5.31,0,0,0,12,6.5,5.46,5.46,0,0,0,6.5,12Z\"/>\n",
              "  </svg>\n",
              "    </button>\n",
              "    <script>\n",
              "      (() => {\n",
              "      const buttonEl =\n",
              "        document.querySelector('#id_87374464-fcee-47dd-8d75-13c4239ded58 button.colab-df-generate');\n",
              "      buttonEl.style.display =\n",
              "        google.colab.kernel.accessAllowed ? 'block' : 'none';\n",
              "\n",
              "      buttonEl.onclick = () => {\n",
              "        google.colab.notebook.generateWithVariable('data');\n",
              "      }\n",
              "      })();\n",
              "    </script>\n",
              "  </div>\n",
              "\n",
              "    </div>\n",
              "  </div>\n"
            ],
            "application/vnd.google.colaboratory.intrinsic+json": {
              "type": "dataframe",
              "variable_name": "data",
              "summary": "{\n  \"name\": \"data\",\n  \"rows\": 1564,\n  \"fields\": [\n    {\n      \"column\": \"Name\",\n      \"properties\": {\n        \"dtype\": \"string\",\n        \"num_unique_values\": 1564,\n        \"samples\": [\n          \"THIRUMATHI PALANISAMY\",\n          \"Arvind Desai Ki Ajeeb Dastaan\",\n          \"Zindagi Tumse\"\n        ],\n        \"semantic_type\": \"\",\n        \"description\": \"\"\n      }\n    },\n    {\n      \"column\": \"Year\",\n      \"properties\": {\n        \"dtype\": \"number\",\n        \"std\": 21,\n        \"min\": 1931,\n        \"max\": 2021,\n        \"num_unique_values\": 90,\n        \"samples\": [\n          1972,\n          1954,\n          1987\n        ],\n        \"semantic_type\": \"\",\n        \"description\": \"\"\n      }\n    },\n    {\n      \"column\": \"Duration\",\n      \"properties\": {\n        \"dtype\": \"number\",\n        \"std\": 25,\n        \"min\": 45,\n        \"max\": 300,\n        \"num_unique_values\": 138,\n        \"samples\": [\n          113,\n          188,\n          157\n        ],\n        \"semantic_type\": \"\",\n        \"description\": \"\"\n      }\n    },\n    {\n      \"column\": \"Genre\",\n      \"properties\": {\n        \"dtype\": \"category\",\n        \"num_unique_values\": 20,\n        \"samples\": [\n          \"Drama\",\n          \"Sci-Fi\",\n          \"War\"\n        ],\n        \"semantic_type\": \"\",\n        \"description\": \"\"\n      }\n    },\n    {\n      \"column\": \"Rating\",\n      \"properties\": {\n        \"dtype\": \"number\",\n        \"std\": 1.4160269589387546,\n        \"min\": 1.6,\n        \"max\": 9.4,\n        \"num_unique_values\": 76,\n        \"samples\": [\n          6.2,\n          7.6,\n          6.1\n        ],\n        \"semantic_type\": \"\",\n        \"description\": \"\"\n      }\n    },\n    {\n      \"column\": \"Votes\",\n      \"properties\": {\n        \"dtype\": \"number\",\n        \"std\": 4265,\n        \"min\": 5,\n        \"max\": 101014,\n        \"num_unique_values\": 453,\n        \"samples\": [\n          2139,\n          158,\n          238\n        ],\n        \"semantic_type\": \"\",\n        \"description\": \"\"\n      }\n    },\n    {\n      \"column\": \"Director\",\n      \"properties\": {\n        \"dtype\": \"string\",\n        \"num_unique_values\": 1134,\n        \"samples\": [\n          \"Azad Jain\",\n          \"Sanjay Chhel\",\n          \"William Hunt\"\n        ],\n        \"semantic_type\": \"\",\n        \"description\": \"\"\n      }\n    },\n    {\n      \"column\": \"Actor 1\",\n      \"properties\": {\n        \"dtype\": \"string\",\n        \"num_unique_values\": 1023,\n        \"samples\": [\n          \"Shefali Shah\",\n          \"Suman Ranganath\",\n          \"Ram Kapoor\"\n        ],\n        \"semantic_type\": \"\",\n        \"description\": \"\"\n      }\n    },\n    {\n      \"column\": \"Actor 2\",\n      \"properties\": {\n        \"dtype\": \"string\",\n        \"num_unique_values\": 1150,\n        \"samples\": [\n          \"Iftekhar\",\n          \"Andrew Shaver\",\n          \"Rekha Vedavyasa\"\n        ],\n        \"semantic_type\": \"\",\n        \"description\": \"\"\n      }\n    },\n    {\n      \"column\": \"Actor 3\",\n      \"properties\": {\n        \"dtype\": \"string\",\n        \"num_unique_values\": 1178,\n        \"samples\": [\n          \"Manmohan Krishna\",\n          \"Satyen Kumar\",\n          \"I.S. Johar\"\n        ],\n        \"semantic_type\": \"\",\n        \"description\": \"\"\n      }\n    },\n    {\n      \"column\": \"Genre_mean_rating\",\n      \"properties\": {\n        \"dtype\": \"number\",\n        \"std\": 0.6122620425951668,\n        \"min\": 4.333333333333333,\n        \"max\": 7.76,\n        \"num_unique_values\": 20,\n        \"samples\": [\n          6.403105590062112,\n          6.333333333333333,\n          4.333333333333333\n        ],\n        \"semantic_type\": \"\",\n        \"description\": \"\"\n      }\n    },\n    {\n      \"column\": \"Director_enc\",\n      \"properties\": {\n        \"dtype\": \"number\",\n        \"std\": 1.3010910841379608,\n        \"min\": 1.6,\n        \"max\": 9.4,\n        \"num_unique_values\": 185,\n        \"samples\": [\n          7.550000000000001,\n          6.766666666666667,\n          3.2\n        ],\n        \"semantic_type\": \"\",\n        \"description\": \"\"\n      }\n    },\n    {\n      \"column\": \"Actor1_enc\",\n      \"properties\": {\n        \"dtype\": \"number\",\n        \"std\": 1.2563188530995972,\n        \"min\": 1.7,\n        \"max\": 9.4,\n        \"num_unique_values\": 188,\n        \"samples\": [\n          9.3,\n          4.35,\n          7.2\n        ],\n        \"semantic_type\": \"\",\n        \"description\": \"\"\n      }\n    },\n    {\n      \"column\": \"Actor2_enc\",\n      \"properties\": {\n        \"dtype\": \"number\",\n        \"std\": 1.2804340330087298,\n        \"min\": 1.6,\n        \"max\": 9.4,\n        \"num_unique_values\": 179,\n        \"samples\": [\n          4.5,\n          3.4,\n          8.7\n        ],\n        \"semantic_type\": \"\",\n        \"description\": \"\"\n      }\n    },\n    {\n      \"column\": \"Actor3_enc\",\n      \"properties\": {\n        \"dtype\": \"number\",\n        \"std\": 1.2971104944402807,\n        \"min\": 1.6,\n        \"max\": 9.4,\n        \"num_unique_values\": 178,\n        \"samples\": [\n          6.4,\n          6.633333333333333,\n          3.5\n        ],\n        \"semantic_type\": \"\",\n        \"description\": \"\"\n      }\n    }\n  ]\n}"
            }
          },
          "metadata": {},
          "execution_count": 39
        }
      ]
    },
    {
      "cell_type": "markdown",
      "source": [
        "## Remove the left over textual data"
      ],
      "metadata": {
        "id": "g8-h5zxpvssA"
      }
    },
    {
      "cell_type": "code",
      "source": [
        "data.drop([\"Name\", \"Genre\", \"Director\", \"Actor 1\", \"Actor 2\", \"Actor 3\"], axis = 1, inplace=True)"
      ],
      "metadata": {
        "id": "i7fS-nrM9MOP"
      },
      "execution_count": null,
      "outputs": []
    },
    {
      "cell_type": "markdown",
      "source": [
        "### We can see the irregularities in index. So, let's reset the index"
      ],
      "metadata": {
        "id": "hM7OBPIvnVBj"
      }
    },
    {
      "cell_type": "code",
      "source": [
        "data.reset_index(drop=True, inplace=True)"
      ],
      "metadata": {
        "id": "vVvg-l71nc0A"
      },
      "execution_count": null,
      "outputs": []
    },
    {
      "cell_type": "code",
      "source": [
        "data"
      ],
      "metadata": {
        "colab": {
          "base_uri": "https://localhost:8080/",
          "height": 423
        },
        "id": "2CC3m1caneLz",
        "outputId": "fdfb1ba7-f88c-496d-c589-28316ab58a9a"
      },
      "execution_count": null,
      "outputs": [
        {
          "output_type": "execute_result",
          "data": {
            "text/plain": [
              "      Year  Duration  Rating  Votes  Genre_mean_rating  Director_enc  \\\n",
              "0     1931       124     5.3      6           6.403106         5.300   \n",
              "1     1932       154     5.8     13           6.403106         6.400   \n",
              "2     1933       159     6.5     10           6.403106         6.720   \n",
              "3     1934       128     6.6      5           6.403106         6.475   \n",
              "4     1935       143     6.2      9           6.403106         6.300   \n",
              "...    ...       ...     ...    ...                ...           ...   \n",
              "1559  2021        93     9.4     18           6.403106         9.400   \n",
              "1560  2021       120     4.2    118           5.750000         4.200   \n",
              "1561  2021        65     9.3    467           6.333333         9.300   \n",
              "1562  2021        85     7.9   1059           6.403106         7.900   \n",
              "1563  2021        93     9.0     37           6.403106         9.000   \n",
              "\n",
              "      Actor1_enc  Actor2_enc  Actor3_enc  \n",
              "0            5.3        5.30        5.35  \n",
              "1            5.8        6.75        5.80  \n",
              "2            6.5        6.45        6.50  \n",
              "3            6.9        6.60        6.60  \n",
              "4            6.3        6.20        6.30  \n",
              "...          ...         ...         ...  \n",
              "1559         9.4        9.40        9.40  \n",
              "1560         4.2        4.20        3.85  \n",
              "1561         9.3        9.30        9.30  \n",
              "1562         7.9        7.90        7.90  \n",
              "1563         9.0        9.00        9.00  \n",
              "\n",
              "[1564 rows x 9 columns]"
            ],
            "text/html": [
              "\n",
              "  <div id=\"df-2c37ac53-c398-41a2-9d4f-dc08adca8ee1\" class=\"colab-df-container\">\n",
              "    <div>\n",
              "<style scoped>\n",
              "    .dataframe tbody tr th:only-of-type {\n",
              "        vertical-align: middle;\n",
              "    }\n",
              "\n",
              "    .dataframe tbody tr th {\n",
              "        vertical-align: top;\n",
              "    }\n",
              "\n",
              "    .dataframe thead th {\n",
              "        text-align: right;\n",
              "    }\n",
              "</style>\n",
              "<table border=\"1\" class=\"dataframe\">\n",
              "  <thead>\n",
              "    <tr style=\"text-align: right;\">\n",
              "      <th></th>\n",
              "      <th>Year</th>\n",
              "      <th>Duration</th>\n",
              "      <th>Rating</th>\n",
              "      <th>Votes</th>\n",
              "      <th>Genre_mean_rating</th>\n",
              "      <th>Director_enc</th>\n",
              "      <th>Actor1_enc</th>\n",
              "      <th>Actor2_enc</th>\n",
              "      <th>Actor3_enc</th>\n",
              "    </tr>\n",
              "  </thead>\n",
              "  <tbody>\n",
              "    <tr>\n",
              "      <th>0</th>\n",
              "      <td>1931</td>\n",
              "      <td>124</td>\n",
              "      <td>5.3</td>\n",
              "      <td>6</td>\n",
              "      <td>6.403106</td>\n",
              "      <td>5.300</td>\n",
              "      <td>5.3</td>\n",
              "      <td>5.30</td>\n",
              "      <td>5.35</td>\n",
              "    </tr>\n",
              "    <tr>\n",
              "      <th>1</th>\n",
              "      <td>1932</td>\n",
              "      <td>154</td>\n",
              "      <td>5.8</td>\n",
              "      <td>13</td>\n",
              "      <td>6.403106</td>\n",
              "      <td>6.400</td>\n",
              "      <td>5.8</td>\n",
              "      <td>6.75</td>\n",
              "      <td>5.80</td>\n",
              "    </tr>\n",
              "    <tr>\n",
              "      <th>2</th>\n",
              "      <td>1933</td>\n",
              "      <td>159</td>\n",
              "      <td>6.5</td>\n",
              "      <td>10</td>\n",
              "      <td>6.403106</td>\n",
              "      <td>6.720</td>\n",
              "      <td>6.5</td>\n",
              "      <td>6.45</td>\n",
              "      <td>6.50</td>\n",
              "    </tr>\n",
              "    <tr>\n",
              "      <th>3</th>\n",
              "      <td>1934</td>\n",
              "      <td>128</td>\n",
              "      <td>6.6</td>\n",
              "      <td>5</td>\n",
              "      <td>6.403106</td>\n",
              "      <td>6.475</td>\n",
              "      <td>6.9</td>\n",
              "      <td>6.60</td>\n",
              "      <td>6.60</td>\n",
              "    </tr>\n",
              "    <tr>\n",
              "      <th>4</th>\n",
              "      <td>1935</td>\n",
              "      <td>143</td>\n",
              "      <td>6.2</td>\n",
              "      <td>9</td>\n",
              "      <td>6.403106</td>\n",
              "      <td>6.300</td>\n",
              "      <td>6.3</td>\n",
              "      <td>6.20</td>\n",
              "      <td>6.30</td>\n",
              "    </tr>\n",
              "    <tr>\n",
              "      <th>...</th>\n",
              "      <td>...</td>\n",
              "      <td>...</td>\n",
              "      <td>...</td>\n",
              "      <td>...</td>\n",
              "      <td>...</td>\n",
              "      <td>...</td>\n",
              "      <td>...</td>\n",
              "      <td>...</td>\n",
              "      <td>...</td>\n",
              "    </tr>\n",
              "    <tr>\n",
              "      <th>1559</th>\n",
              "      <td>2021</td>\n",
              "      <td>93</td>\n",
              "      <td>9.4</td>\n",
              "      <td>18</td>\n",
              "      <td>6.403106</td>\n",
              "      <td>9.400</td>\n",
              "      <td>9.4</td>\n",
              "      <td>9.40</td>\n",
              "      <td>9.40</td>\n",
              "    </tr>\n",
              "    <tr>\n",
              "      <th>1560</th>\n",
              "      <td>2021</td>\n",
              "      <td>120</td>\n",
              "      <td>4.2</td>\n",
              "      <td>118</td>\n",
              "      <td>5.750000</td>\n",
              "      <td>4.200</td>\n",
              "      <td>4.2</td>\n",
              "      <td>4.20</td>\n",
              "      <td>3.85</td>\n",
              "    </tr>\n",
              "    <tr>\n",
              "      <th>1561</th>\n",
              "      <td>2021</td>\n",
              "      <td>65</td>\n",
              "      <td>9.3</td>\n",
              "      <td>467</td>\n",
              "      <td>6.333333</td>\n",
              "      <td>9.300</td>\n",
              "      <td>9.3</td>\n",
              "      <td>9.30</td>\n",
              "      <td>9.30</td>\n",
              "    </tr>\n",
              "    <tr>\n",
              "      <th>1562</th>\n",
              "      <td>2021</td>\n",
              "      <td>85</td>\n",
              "      <td>7.9</td>\n",
              "      <td>1059</td>\n",
              "      <td>6.403106</td>\n",
              "      <td>7.900</td>\n",
              "      <td>7.9</td>\n",
              "      <td>7.90</td>\n",
              "      <td>7.90</td>\n",
              "    </tr>\n",
              "    <tr>\n",
              "      <th>1563</th>\n",
              "      <td>2021</td>\n",
              "      <td>93</td>\n",
              "      <td>9.0</td>\n",
              "      <td>37</td>\n",
              "      <td>6.403106</td>\n",
              "      <td>9.000</td>\n",
              "      <td>9.0</td>\n",
              "      <td>9.00</td>\n",
              "      <td>9.00</td>\n",
              "    </tr>\n",
              "  </tbody>\n",
              "</table>\n",
              "<p>1564 rows × 9 columns</p>\n",
              "</div>\n",
              "    <div class=\"colab-df-buttons\">\n",
              "\n",
              "  <div class=\"colab-df-container\">\n",
              "    <button class=\"colab-df-convert\" onclick=\"convertToInteractive('df-2c37ac53-c398-41a2-9d4f-dc08adca8ee1')\"\n",
              "            title=\"Convert this dataframe to an interactive table.\"\n",
              "            style=\"display:none;\">\n",
              "\n",
              "  <svg xmlns=\"http://www.w3.org/2000/svg\" height=\"24px\" viewBox=\"0 -960 960 960\">\n",
              "    <path d=\"M120-120v-720h720v720H120Zm60-500h600v-160H180v160Zm220 220h160v-160H400v160Zm0 220h160v-160H400v160ZM180-400h160v-160H180v160Zm440 0h160v-160H620v160ZM180-180h160v-160H180v160Zm440 0h160v-160H620v160Z\"/>\n",
              "  </svg>\n",
              "    </button>\n",
              "\n",
              "  <style>\n",
              "    .colab-df-container {\n",
              "      display:flex;\n",
              "      gap: 12px;\n",
              "    }\n",
              "\n",
              "    .colab-df-convert {\n",
              "      background-color: #E8F0FE;\n",
              "      border: none;\n",
              "      border-radius: 50%;\n",
              "      cursor: pointer;\n",
              "      display: none;\n",
              "      fill: #1967D2;\n",
              "      height: 32px;\n",
              "      padding: 0 0 0 0;\n",
              "      width: 32px;\n",
              "    }\n",
              "\n",
              "    .colab-df-convert:hover {\n",
              "      background-color: #E2EBFA;\n",
              "      box-shadow: 0px 1px 2px rgba(60, 64, 67, 0.3), 0px 1px 3px 1px rgba(60, 64, 67, 0.15);\n",
              "      fill: #174EA6;\n",
              "    }\n",
              "\n",
              "    .colab-df-buttons div {\n",
              "      margin-bottom: 4px;\n",
              "    }\n",
              "\n",
              "    [theme=dark] .colab-df-convert {\n",
              "      background-color: #3B4455;\n",
              "      fill: #D2E3FC;\n",
              "    }\n",
              "\n",
              "    [theme=dark] .colab-df-convert:hover {\n",
              "      background-color: #434B5C;\n",
              "      box-shadow: 0px 1px 3px 1px rgba(0, 0, 0, 0.15);\n",
              "      filter: drop-shadow(0px 1px 2px rgba(0, 0, 0, 0.3));\n",
              "      fill: #FFFFFF;\n",
              "    }\n",
              "  </style>\n",
              "\n",
              "    <script>\n",
              "      const buttonEl =\n",
              "        document.querySelector('#df-2c37ac53-c398-41a2-9d4f-dc08adca8ee1 button.colab-df-convert');\n",
              "      buttonEl.style.display =\n",
              "        google.colab.kernel.accessAllowed ? 'block' : 'none';\n",
              "\n",
              "      async function convertToInteractive(key) {\n",
              "        const element = document.querySelector('#df-2c37ac53-c398-41a2-9d4f-dc08adca8ee1');\n",
              "        const dataTable =\n",
              "          await google.colab.kernel.invokeFunction('convertToInteractive',\n",
              "                                                    [key], {});\n",
              "        if (!dataTable) return;\n",
              "\n",
              "        const docLinkHtml = 'Like what you see? Visit the ' +\n",
              "          '<a target=\"_blank\" href=https://colab.research.google.com/notebooks/data_table.ipynb>data table notebook</a>'\n",
              "          + ' to learn more about interactive tables.';\n",
              "        element.innerHTML = '';\n",
              "        dataTable['output_type'] = 'display_data';\n",
              "        await google.colab.output.renderOutput(dataTable, element);\n",
              "        const docLink = document.createElement('div');\n",
              "        docLink.innerHTML = docLinkHtml;\n",
              "        element.appendChild(docLink);\n",
              "      }\n",
              "    </script>\n",
              "  </div>\n",
              "\n",
              "\n",
              "<div id=\"df-10fb7074-d3d1-4417-94f1-83a0c08ce8a9\">\n",
              "  <button class=\"colab-df-quickchart\" onclick=\"quickchart('df-10fb7074-d3d1-4417-94f1-83a0c08ce8a9')\"\n",
              "            title=\"Suggest charts\"\n",
              "            style=\"display:none;\">\n",
              "\n",
              "<svg xmlns=\"http://www.w3.org/2000/svg\" height=\"24px\"viewBox=\"0 0 24 24\"\n",
              "     width=\"24px\">\n",
              "    <g>\n",
              "        <path d=\"M19 3H5c-1.1 0-2 .9-2 2v14c0 1.1.9 2 2 2h14c1.1 0 2-.9 2-2V5c0-1.1-.9-2-2-2zM9 17H7v-7h2v7zm4 0h-2V7h2v10zm4 0h-2v-4h2v4z\"/>\n",
              "    </g>\n",
              "</svg>\n",
              "  </button>\n",
              "\n",
              "<style>\n",
              "  .colab-df-quickchart {\n",
              "      --bg-color: #E8F0FE;\n",
              "      --fill-color: #1967D2;\n",
              "      --hover-bg-color: #E2EBFA;\n",
              "      --hover-fill-color: #174EA6;\n",
              "      --disabled-fill-color: #AAA;\n",
              "      --disabled-bg-color: #DDD;\n",
              "  }\n",
              "\n",
              "  [theme=dark] .colab-df-quickchart {\n",
              "      --bg-color: #3B4455;\n",
              "      --fill-color: #D2E3FC;\n",
              "      --hover-bg-color: #434B5C;\n",
              "      --hover-fill-color: #FFFFFF;\n",
              "      --disabled-bg-color: #3B4455;\n",
              "      --disabled-fill-color: #666;\n",
              "  }\n",
              "\n",
              "  .colab-df-quickchart {\n",
              "    background-color: var(--bg-color);\n",
              "    border: none;\n",
              "    border-radius: 50%;\n",
              "    cursor: pointer;\n",
              "    display: none;\n",
              "    fill: var(--fill-color);\n",
              "    height: 32px;\n",
              "    padding: 0;\n",
              "    width: 32px;\n",
              "  }\n",
              "\n",
              "  .colab-df-quickchart:hover {\n",
              "    background-color: var(--hover-bg-color);\n",
              "    box-shadow: 0 1px 2px rgba(60, 64, 67, 0.3), 0 1px 3px 1px rgba(60, 64, 67, 0.15);\n",
              "    fill: var(--button-hover-fill-color);\n",
              "  }\n",
              "\n",
              "  .colab-df-quickchart-complete:disabled,\n",
              "  .colab-df-quickchart-complete:disabled:hover {\n",
              "    background-color: var(--disabled-bg-color);\n",
              "    fill: var(--disabled-fill-color);\n",
              "    box-shadow: none;\n",
              "  }\n",
              "\n",
              "  .colab-df-spinner {\n",
              "    border: 2px solid var(--fill-color);\n",
              "    border-color: transparent;\n",
              "    border-bottom-color: var(--fill-color);\n",
              "    animation:\n",
              "      spin 1s steps(1) infinite;\n",
              "  }\n",
              "\n",
              "  @keyframes spin {\n",
              "    0% {\n",
              "      border-color: transparent;\n",
              "      border-bottom-color: var(--fill-color);\n",
              "      border-left-color: var(--fill-color);\n",
              "    }\n",
              "    20% {\n",
              "      border-color: transparent;\n",
              "      border-left-color: var(--fill-color);\n",
              "      border-top-color: var(--fill-color);\n",
              "    }\n",
              "    30% {\n",
              "      border-color: transparent;\n",
              "      border-left-color: var(--fill-color);\n",
              "      border-top-color: var(--fill-color);\n",
              "      border-right-color: var(--fill-color);\n",
              "    }\n",
              "    40% {\n",
              "      border-color: transparent;\n",
              "      border-right-color: var(--fill-color);\n",
              "      border-top-color: var(--fill-color);\n",
              "    }\n",
              "    60% {\n",
              "      border-color: transparent;\n",
              "      border-right-color: var(--fill-color);\n",
              "    }\n",
              "    80% {\n",
              "      border-color: transparent;\n",
              "      border-right-color: var(--fill-color);\n",
              "      border-bottom-color: var(--fill-color);\n",
              "    }\n",
              "    90% {\n",
              "      border-color: transparent;\n",
              "      border-bottom-color: var(--fill-color);\n",
              "    }\n",
              "  }\n",
              "</style>\n",
              "\n",
              "  <script>\n",
              "    async function quickchart(key) {\n",
              "      const quickchartButtonEl =\n",
              "        document.querySelector('#' + key + ' button');\n",
              "      quickchartButtonEl.disabled = true;  // To prevent multiple clicks.\n",
              "      quickchartButtonEl.classList.add('colab-df-spinner');\n",
              "      try {\n",
              "        const charts = await google.colab.kernel.invokeFunction(\n",
              "            'suggestCharts', [key], {});\n",
              "      } catch (error) {\n",
              "        console.error('Error during call to suggestCharts:', error);\n",
              "      }\n",
              "      quickchartButtonEl.classList.remove('colab-df-spinner');\n",
              "      quickchartButtonEl.classList.add('colab-df-quickchart-complete');\n",
              "    }\n",
              "    (() => {\n",
              "      let quickchartButtonEl =\n",
              "        document.querySelector('#df-10fb7074-d3d1-4417-94f1-83a0c08ce8a9 button');\n",
              "      quickchartButtonEl.style.display =\n",
              "        google.colab.kernel.accessAllowed ? 'block' : 'none';\n",
              "    })();\n",
              "  </script>\n",
              "</div>\n",
              "\n",
              "  <div id=\"id_b3b30650-f61a-4f0c-b8a6-b9813370c12a\">\n",
              "    <style>\n",
              "      .colab-df-generate {\n",
              "        background-color: #E8F0FE;\n",
              "        border: none;\n",
              "        border-radius: 50%;\n",
              "        cursor: pointer;\n",
              "        display: none;\n",
              "        fill: #1967D2;\n",
              "        height: 32px;\n",
              "        padding: 0 0 0 0;\n",
              "        width: 32px;\n",
              "      }\n",
              "\n",
              "      .colab-df-generate:hover {\n",
              "        background-color: #E2EBFA;\n",
              "        box-shadow: 0px 1px 2px rgba(60, 64, 67, 0.3), 0px 1px 3px 1px rgba(60, 64, 67, 0.15);\n",
              "        fill: #174EA6;\n",
              "      }\n",
              "\n",
              "      [theme=dark] .colab-df-generate {\n",
              "        background-color: #3B4455;\n",
              "        fill: #D2E3FC;\n",
              "      }\n",
              "\n",
              "      [theme=dark] .colab-df-generate:hover {\n",
              "        background-color: #434B5C;\n",
              "        box-shadow: 0px 1px 3px 1px rgba(0, 0, 0, 0.15);\n",
              "        filter: drop-shadow(0px 1px 2px rgba(0, 0, 0, 0.3));\n",
              "        fill: #FFFFFF;\n",
              "      }\n",
              "    </style>\n",
              "    <button class=\"colab-df-generate\" onclick=\"generateWithVariable('data')\"\n",
              "            title=\"Generate code using this dataframe.\"\n",
              "            style=\"display:none;\">\n",
              "\n",
              "  <svg xmlns=\"http://www.w3.org/2000/svg\" height=\"24px\"viewBox=\"0 0 24 24\"\n",
              "       width=\"24px\">\n",
              "    <path d=\"M7,19H8.4L18.45,9,17,7.55,7,17.6ZM5,21V16.75L18.45,3.32a2,2,0,0,1,2.83,0l1.4,1.43a1.91,1.91,0,0,1,.58,1.4,1.91,1.91,0,0,1-.58,1.4L9.25,21ZM18.45,9,17,7.55Zm-12,3A5.31,5.31,0,0,0,4.9,8.1,5.31,5.31,0,0,0,1,6.5,5.31,5.31,0,0,0,4.9,4.9,5.31,5.31,0,0,0,6.5,1,5.31,5.31,0,0,0,8.1,4.9,5.31,5.31,0,0,0,12,6.5,5.46,5.46,0,0,0,6.5,12Z\"/>\n",
              "  </svg>\n",
              "    </button>\n",
              "    <script>\n",
              "      (() => {\n",
              "      const buttonEl =\n",
              "        document.querySelector('#id_b3b30650-f61a-4f0c-b8a6-b9813370c12a button.colab-df-generate');\n",
              "      buttonEl.style.display =\n",
              "        google.colab.kernel.accessAllowed ? 'block' : 'none';\n",
              "\n",
              "      buttonEl.onclick = () => {\n",
              "        google.colab.notebook.generateWithVariable('data');\n",
              "      }\n",
              "      })();\n",
              "    </script>\n",
              "  </div>\n",
              "\n",
              "    </div>\n",
              "  </div>\n"
            ],
            "application/vnd.google.colaboratory.intrinsic+json": {
              "type": "dataframe",
              "variable_name": "data",
              "summary": "{\n  \"name\": \"data\",\n  \"rows\": 1564,\n  \"fields\": [\n    {\n      \"column\": \"Year\",\n      \"properties\": {\n        \"dtype\": \"number\",\n        \"std\": 21,\n        \"min\": 1931,\n        \"max\": 2021,\n        \"num_unique_values\": 90,\n        \"samples\": [\n          1972,\n          1954,\n          1987\n        ],\n        \"semantic_type\": \"\",\n        \"description\": \"\"\n      }\n    },\n    {\n      \"column\": \"Duration\",\n      \"properties\": {\n        \"dtype\": \"number\",\n        \"std\": 25,\n        \"min\": 45,\n        \"max\": 300,\n        \"num_unique_values\": 138,\n        \"samples\": [\n          113,\n          188,\n          157\n        ],\n        \"semantic_type\": \"\",\n        \"description\": \"\"\n      }\n    },\n    {\n      \"column\": \"Rating\",\n      \"properties\": {\n        \"dtype\": \"number\",\n        \"std\": 1.4160269589387546,\n        \"min\": 1.6,\n        \"max\": 9.4,\n        \"num_unique_values\": 76,\n        \"samples\": [\n          6.2,\n          7.6,\n          6.1\n        ],\n        \"semantic_type\": \"\",\n        \"description\": \"\"\n      }\n    },\n    {\n      \"column\": \"Votes\",\n      \"properties\": {\n        \"dtype\": \"number\",\n        \"std\": 4265,\n        \"min\": 5,\n        \"max\": 101014,\n        \"num_unique_values\": 453,\n        \"samples\": [\n          2139,\n          158,\n          238\n        ],\n        \"semantic_type\": \"\",\n        \"description\": \"\"\n      }\n    },\n    {\n      \"column\": \"Genre_mean_rating\",\n      \"properties\": {\n        \"dtype\": \"number\",\n        \"std\": 0.6122620425951668,\n        \"min\": 4.333333333333333,\n        \"max\": 7.76,\n        \"num_unique_values\": 20,\n        \"samples\": [\n          6.403105590062112,\n          6.333333333333333,\n          4.333333333333333\n        ],\n        \"semantic_type\": \"\",\n        \"description\": \"\"\n      }\n    },\n    {\n      \"column\": \"Director_enc\",\n      \"properties\": {\n        \"dtype\": \"number\",\n        \"std\": 1.3010910841379608,\n        \"min\": 1.6,\n        \"max\": 9.4,\n        \"num_unique_values\": 185,\n        \"samples\": [\n          7.550000000000001,\n          6.766666666666667,\n          3.2\n        ],\n        \"semantic_type\": \"\",\n        \"description\": \"\"\n      }\n    },\n    {\n      \"column\": \"Actor1_enc\",\n      \"properties\": {\n        \"dtype\": \"number\",\n        \"std\": 1.2563188530995972,\n        \"min\": 1.7,\n        \"max\": 9.4,\n        \"num_unique_values\": 188,\n        \"samples\": [\n          9.3,\n          4.35,\n          7.2\n        ],\n        \"semantic_type\": \"\",\n        \"description\": \"\"\n      }\n    },\n    {\n      \"column\": \"Actor2_enc\",\n      \"properties\": {\n        \"dtype\": \"number\",\n        \"std\": 1.2804340330087298,\n        \"min\": 1.6,\n        \"max\": 9.4,\n        \"num_unique_values\": 179,\n        \"samples\": [\n          4.5,\n          3.4,\n          8.7\n        ],\n        \"semantic_type\": \"\",\n        \"description\": \"\"\n      }\n    },\n    {\n      \"column\": \"Actor3_enc\",\n      \"properties\": {\n        \"dtype\": \"number\",\n        \"std\": 1.2971104944402807,\n        \"min\": 1.6,\n        \"max\": 9.4,\n        \"num_unique_values\": 178,\n        \"samples\": [\n          6.4,\n          6.633333333333333,\n          3.5\n        ],\n        \"semantic_type\": \"\",\n        \"description\": \"\"\n      }\n    }\n  ]\n}"
            }
          },
          "metadata": {},
          "execution_count": 42
        }
      ]
    },
    {
      "cell_type": "code",
      "source": [
        "X = data.drop([\"Rating\"], axis =1 )\n",
        "y = data[\"Rating\"]"
      ],
      "metadata": {
        "id": "I7q7vY35GnFE"
      },
      "execution_count": null,
      "outputs": []
    },
    {
      "cell_type": "code",
      "source": [
        "X_train, X_test, y_train, y_test = train_test_split(X, y, test_size = 0.2, random_state = 42)"
      ],
      "metadata": {
        "id": "YF1gVO5pGw9f"
      },
      "execution_count": null,
      "outputs": []
    },
    {
      "cell_type": "code",
      "source": [
        "len(X_train), len(X_test)"
      ],
      "metadata": {
        "colab": {
          "base_uri": "https://localhost:8080/"
        },
        "id": "Y942B62DHsF1",
        "outputId": "b3288bef-1635-457f-9290-ed2fcc9a1534"
      },
      "execution_count": null,
      "outputs": [
        {
          "output_type": "execute_result",
          "data": {
            "text/plain": [
              "(1251, 313)"
            ]
          },
          "metadata": {},
          "execution_count": 45
        }
      ]
    },
    {
      "cell_type": "markdown",
      "source": [
        "## Let's build the model"
      ],
      "metadata": {
        "id": "L_WYlz4XI3u6"
      }
    },
    {
      "cell_type": "code",
      "source": [
        "# Create evaluation function (the competition uses RMSLE)\n",
        "\n",
        "def rmsle(y_test, y_pred):\n",
        "    '''\n",
        "    We have to find root mean sqaured log error, that's why weare finding root of (mean_squared_log_error)\n",
        "    '''\n",
        "    return np.sqrt(mean_squared_log_error(y_test, y_pred))\n",
        "\n",
        "# Create function to evaluate model on a few different levels\n",
        "def show_scores(model):\n",
        "    train_pred = model.predict(X_train)\n",
        "    test_pred = model.predict(X_test)\n",
        "    scores = {\"Training MAE\": mean_absolute_error(y_train, train_pred),\n",
        "              \"Test MAE\": mean_absolute_error(y_test, test_pred),\n",
        "              \"Training MSE\": mean_squared_error(y_train, train_pred),\n",
        "              \"Test MSE\": mean_squared_error(y_test, test_pred),\n",
        "              \"Training RMSLE\": rmsle(y_train, train_pred),\n",
        "              \"Test RMSLE\": rmsle(y_test, test_pred),\n",
        "              \"Training R2\": r2_score(y_train, train_pred),\n",
        "              \"Test R2\": r2_score(y_test, test_pred)}\n",
        "    return scores"
      ],
      "metadata": {
        "id": "AHr14tfjJE4T"
      },
      "execution_count": null,
      "outputs": []
    },
    {
      "cell_type": "markdown",
      "source": [
        "# 1. Linear Regression Model"
      ],
      "metadata": {
        "id": "1Xp2iC6ov1Q-"
      }
    },
    {
      "cell_type": "code",
      "source": [
        "np.random.seed(42)\n",
        "lin_reg = LinearRegression()\n",
        "lin_reg.fit(X_train, y_train)"
      ],
      "metadata": {
        "colab": {
          "base_uri": "https://localhost:8080/",
          "height": 74
        },
        "id": "vf5d906qHu23",
        "outputId": "a054fd8d-571c-4b51-95e6-6ed71dd2ef21"
      },
      "execution_count": null,
      "outputs": [
        {
          "output_type": "execute_result",
          "data": {
            "text/plain": [
              "LinearRegression()"
            ],
            "text/html": [
              "<style>#sk-container-id-1 {color: black;background-color: white;}#sk-container-id-1 pre{padding: 0;}#sk-container-id-1 div.sk-toggleable {background-color: white;}#sk-container-id-1 label.sk-toggleable__label {cursor: pointer;display: block;width: 100%;margin-bottom: 0;padding: 0.3em;box-sizing: border-box;text-align: center;}#sk-container-id-1 label.sk-toggleable__label-arrow:before {content: \"▸\";float: left;margin-right: 0.25em;color: #696969;}#sk-container-id-1 label.sk-toggleable__label-arrow:hover:before {color: black;}#sk-container-id-1 div.sk-estimator:hover label.sk-toggleable__label-arrow:before {color: black;}#sk-container-id-1 div.sk-toggleable__content {max-height: 0;max-width: 0;overflow: hidden;text-align: left;background-color: #f0f8ff;}#sk-container-id-1 div.sk-toggleable__content pre {margin: 0.2em;color: black;border-radius: 0.25em;background-color: #f0f8ff;}#sk-container-id-1 input.sk-toggleable__control:checked~div.sk-toggleable__content {max-height: 200px;max-width: 100%;overflow: auto;}#sk-container-id-1 input.sk-toggleable__control:checked~label.sk-toggleable__label-arrow:before {content: \"▾\";}#sk-container-id-1 div.sk-estimator input.sk-toggleable__control:checked~label.sk-toggleable__label {background-color: #d4ebff;}#sk-container-id-1 div.sk-label input.sk-toggleable__control:checked~label.sk-toggleable__label {background-color: #d4ebff;}#sk-container-id-1 input.sk-hidden--visually {border: 0;clip: rect(1px 1px 1px 1px);clip: rect(1px, 1px, 1px, 1px);height: 1px;margin: -1px;overflow: hidden;padding: 0;position: absolute;width: 1px;}#sk-container-id-1 div.sk-estimator {font-family: monospace;background-color: #f0f8ff;border: 1px dotted black;border-radius: 0.25em;box-sizing: border-box;margin-bottom: 0.5em;}#sk-container-id-1 div.sk-estimator:hover {background-color: #d4ebff;}#sk-container-id-1 div.sk-parallel-item::after {content: \"\";width: 100%;border-bottom: 1px solid gray;flex-grow: 1;}#sk-container-id-1 div.sk-label:hover label.sk-toggleable__label {background-color: #d4ebff;}#sk-container-id-1 div.sk-serial::before {content: \"\";position: absolute;border-left: 1px solid gray;box-sizing: border-box;top: 0;bottom: 0;left: 50%;z-index: 0;}#sk-container-id-1 div.sk-serial {display: flex;flex-direction: column;align-items: center;background-color: white;padding-right: 0.2em;padding-left: 0.2em;position: relative;}#sk-container-id-1 div.sk-item {position: relative;z-index: 1;}#sk-container-id-1 div.sk-parallel {display: flex;align-items: stretch;justify-content: center;background-color: white;position: relative;}#sk-container-id-1 div.sk-item::before, #sk-container-id-1 div.sk-parallel-item::before {content: \"\";position: absolute;border-left: 1px solid gray;box-sizing: border-box;top: 0;bottom: 0;left: 50%;z-index: -1;}#sk-container-id-1 div.sk-parallel-item {display: flex;flex-direction: column;z-index: 1;position: relative;background-color: white;}#sk-container-id-1 div.sk-parallel-item:first-child::after {align-self: flex-end;width: 50%;}#sk-container-id-1 div.sk-parallel-item:last-child::after {align-self: flex-start;width: 50%;}#sk-container-id-1 div.sk-parallel-item:only-child::after {width: 0;}#sk-container-id-1 div.sk-dashed-wrapped {border: 1px dashed gray;margin: 0 0.4em 0.5em 0.4em;box-sizing: border-box;padding-bottom: 0.4em;background-color: white;}#sk-container-id-1 div.sk-label label {font-family: monospace;font-weight: bold;display: inline-block;line-height: 1.2em;}#sk-container-id-1 div.sk-label-container {text-align: center;}#sk-container-id-1 div.sk-container {/* jupyter's `normalize.less` sets `[hidden] { display: none; }` but bootstrap.min.css set `[hidden] { display: none !important; }` so we also need the `!important` here to be able to override the default hidden behavior on the sphinx rendered scikit-learn.org. See: https://github.com/scikit-learn/scikit-learn/issues/21755 */display: inline-block !important;position: relative;}#sk-container-id-1 div.sk-text-repr-fallback {display: none;}</style><div id=\"sk-container-id-1\" class=\"sk-top-container\"><div class=\"sk-text-repr-fallback\"><pre>LinearRegression()</pre><b>In a Jupyter environment, please rerun this cell to show the HTML representation or trust the notebook. <br />On GitHub, the HTML representation is unable to render, please try loading this page with nbviewer.org.</b></div><div class=\"sk-container\" hidden><div class=\"sk-item\"><div class=\"sk-estimator sk-toggleable\"><input class=\"sk-toggleable__control sk-hidden--visually\" id=\"sk-estimator-id-1\" type=\"checkbox\" checked><label for=\"sk-estimator-id-1\" class=\"sk-toggleable__label sk-toggleable__label-arrow\">LinearRegression</label><div class=\"sk-toggleable__content\"><pre>LinearRegression()</pre></div></div></div></div></div>"
            ]
          },
          "metadata": {},
          "execution_count": 47
        }
      ]
    },
    {
      "cell_type": "code",
      "source": [
        "lin_reg_pred = lin_reg.predict(X_test)"
      ],
      "metadata": {
        "id": "RhPHz9uEKJcE"
      },
      "execution_count": null,
      "outputs": []
    },
    {
      "cell_type": "code",
      "source": [
        "show_scores(lin_reg)"
      ],
      "metadata": {
        "colab": {
          "base_uri": "https://localhost:8080/"
        },
        "id": "Y-V0NTk5Kg2L",
        "outputId": "3e99ea27-d208-48de-a1f8-9516bdcc3fc7"
      },
      "execution_count": null,
      "outputs": [
        {
          "output_type": "execute_result",
          "data": {
            "text/plain": [
              "{'Training MAE': 0.27475179325576765,\n",
              " 'Test MAE': 0.24149849772525198,\n",
              " 'Training MSE': 0.15009699202790916,\n",
              " 'Test MSE': 0.12322061693820369,\n",
              " 'Training RMSLE': 0.06367658089145624,\n",
              " 'Test RMSLE': 0.05360186526876062,\n",
              " 'Training R2': 0.9257347822957113,\n",
              " 'Test R2': 0.9344042379473465}"
            ]
          },
          "metadata": {},
          "execution_count": 49
        }
      ]
    },
    {
      "cell_type": "markdown",
      "source": [
        "# 2. Random Forest Regressor"
      ],
      "metadata": {
        "id": "FpP22RGKv9sS"
      }
    },
    {
      "cell_type": "code",
      "source": [
        "np.random.seed(42)\n",
        "\n",
        "rf_reg = RandomForestRegressor()\n",
        "rf_reg.fit(X_train, y_train)"
      ],
      "metadata": {
        "colab": {
          "base_uri": "https://localhost:8080/",
          "height": 74
        },
        "id": "pYNQegA1KoCB",
        "outputId": "0495d064-cf9b-46f8-acf0-1552820ff53d"
      },
      "execution_count": null,
      "outputs": [
        {
          "output_type": "execute_result",
          "data": {
            "text/plain": [
              "RandomForestRegressor()"
            ],
            "text/html": [
              "<style>#sk-container-id-2 {color: black;background-color: white;}#sk-container-id-2 pre{padding: 0;}#sk-container-id-2 div.sk-toggleable {background-color: white;}#sk-container-id-2 label.sk-toggleable__label {cursor: pointer;display: block;width: 100%;margin-bottom: 0;padding: 0.3em;box-sizing: border-box;text-align: center;}#sk-container-id-2 label.sk-toggleable__label-arrow:before {content: \"▸\";float: left;margin-right: 0.25em;color: #696969;}#sk-container-id-2 label.sk-toggleable__label-arrow:hover:before {color: black;}#sk-container-id-2 div.sk-estimator:hover label.sk-toggleable__label-arrow:before {color: black;}#sk-container-id-2 div.sk-toggleable__content {max-height: 0;max-width: 0;overflow: hidden;text-align: left;background-color: #f0f8ff;}#sk-container-id-2 div.sk-toggleable__content pre {margin: 0.2em;color: black;border-radius: 0.25em;background-color: #f0f8ff;}#sk-container-id-2 input.sk-toggleable__control:checked~div.sk-toggleable__content {max-height: 200px;max-width: 100%;overflow: auto;}#sk-container-id-2 input.sk-toggleable__control:checked~label.sk-toggleable__label-arrow:before {content: \"▾\";}#sk-container-id-2 div.sk-estimator input.sk-toggleable__control:checked~label.sk-toggleable__label {background-color: #d4ebff;}#sk-container-id-2 div.sk-label input.sk-toggleable__control:checked~label.sk-toggleable__label {background-color: #d4ebff;}#sk-container-id-2 input.sk-hidden--visually {border: 0;clip: rect(1px 1px 1px 1px);clip: rect(1px, 1px, 1px, 1px);height: 1px;margin: -1px;overflow: hidden;padding: 0;position: absolute;width: 1px;}#sk-container-id-2 div.sk-estimator {font-family: monospace;background-color: #f0f8ff;border: 1px dotted black;border-radius: 0.25em;box-sizing: border-box;margin-bottom: 0.5em;}#sk-container-id-2 div.sk-estimator:hover {background-color: #d4ebff;}#sk-container-id-2 div.sk-parallel-item::after {content: \"\";width: 100%;border-bottom: 1px solid gray;flex-grow: 1;}#sk-container-id-2 div.sk-label:hover label.sk-toggleable__label {background-color: #d4ebff;}#sk-container-id-2 div.sk-serial::before {content: \"\";position: absolute;border-left: 1px solid gray;box-sizing: border-box;top: 0;bottom: 0;left: 50%;z-index: 0;}#sk-container-id-2 div.sk-serial {display: flex;flex-direction: column;align-items: center;background-color: white;padding-right: 0.2em;padding-left: 0.2em;position: relative;}#sk-container-id-2 div.sk-item {position: relative;z-index: 1;}#sk-container-id-2 div.sk-parallel {display: flex;align-items: stretch;justify-content: center;background-color: white;position: relative;}#sk-container-id-2 div.sk-item::before, #sk-container-id-2 div.sk-parallel-item::before {content: \"\";position: absolute;border-left: 1px solid gray;box-sizing: border-box;top: 0;bottom: 0;left: 50%;z-index: -1;}#sk-container-id-2 div.sk-parallel-item {display: flex;flex-direction: column;z-index: 1;position: relative;background-color: white;}#sk-container-id-2 div.sk-parallel-item:first-child::after {align-self: flex-end;width: 50%;}#sk-container-id-2 div.sk-parallel-item:last-child::after {align-self: flex-start;width: 50%;}#sk-container-id-2 div.sk-parallel-item:only-child::after {width: 0;}#sk-container-id-2 div.sk-dashed-wrapped {border: 1px dashed gray;margin: 0 0.4em 0.5em 0.4em;box-sizing: border-box;padding-bottom: 0.4em;background-color: white;}#sk-container-id-2 div.sk-label label {font-family: monospace;font-weight: bold;display: inline-block;line-height: 1.2em;}#sk-container-id-2 div.sk-label-container {text-align: center;}#sk-container-id-2 div.sk-container {/* jupyter's `normalize.less` sets `[hidden] { display: none; }` but bootstrap.min.css set `[hidden] { display: none !important; }` so we also need the `!important` here to be able to override the default hidden behavior on the sphinx rendered scikit-learn.org. See: https://github.com/scikit-learn/scikit-learn/issues/21755 */display: inline-block !important;position: relative;}#sk-container-id-2 div.sk-text-repr-fallback {display: none;}</style><div id=\"sk-container-id-2\" class=\"sk-top-container\"><div class=\"sk-text-repr-fallback\"><pre>RandomForestRegressor()</pre><b>In a Jupyter environment, please rerun this cell to show the HTML representation or trust the notebook. <br />On GitHub, the HTML representation is unable to render, please try loading this page with nbviewer.org.</b></div><div class=\"sk-container\" hidden><div class=\"sk-item\"><div class=\"sk-estimator sk-toggleable\"><input class=\"sk-toggleable__control sk-hidden--visually\" id=\"sk-estimator-id-2\" type=\"checkbox\" checked><label for=\"sk-estimator-id-2\" class=\"sk-toggleable__label sk-toggleable__label-arrow\">RandomForestRegressor</label><div class=\"sk-toggleable__content\"><pre>RandomForestRegressor()</pre></div></div></div></div></div>"
            ]
          },
          "metadata": {},
          "execution_count": 50
        }
      ]
    },
    {
      "cell_type": "code",
      "source": [
        "show_scores(rf_reg)"
      ],
      "metadata": {
        "colab": {
          "base_uri": "https://localhost:8080/"
        },
        "id": "umX3wRJaLDlQ",
        "outputId": "0a2940a7-b27b-420f-9670-51989523de21"
      },
      "execution_count": null,
      "outputs": [
        {
          "output_type": "execute_result",
          "data": {
            "text/plain": [
              "{'Training MAE': 0.07684092725819403,\n",
              " 'Test MAE': 0.16972204472843483,\n",
              " 'Training MSE': 0.017879520383693028,\n",
              " 'Test MSE': 0.09604570287539918,\n",
              " 'Training RMSLE': 0.021925893519518586,\n",
              " 'Test RMSLE': 0.04715987851638043,\n",
              " 'Training R2': 0.9911535437465906,\n",
              " 'Test R2': 0.9488706417112475}"
            ]
          },
          "metadata": {},
          "execution_count": 51
        }
      ]
    },
    {
      "cell_type": "markdown",
      "source": [
        "## Hyperparameter Tuning of Random Forest Regressor using RandomizedSearchCV"
      ],
      "metadata": {
        "id": "vPt0tSqUwCSQ"
      }
    },
    {
      "cell_type": "code",
      "source": [
        "rf_grid = {\"n_estimators\": np.arange(10, 1000, 50),\n",
        "          \"min_samples_split\": np.arange(2, 20, 2),\n",
        "          \"min_samples_leaf\": np.arange(1, 20, 2),\n",
        "          \"max_depth\": [None, 3, 5, 10],\n",
        "          \"max_features\": [0.5, 1, \"sqrt\", \"auto\"],\n",
        "          \"max_samples\": [1000, 2000, 3000]}\n",
        "\n",
        "rs_RF_model = RandomizedSearchCV(RandomForestRegressor(),\n",
        "                           param_distributions= rf_grid,\n",
        "                           n_iter=20,\n",
        "                           cv=5,\n",
        "                           verbose=True)\n",
        "\n",
        "rs_RF_model.fit(X_train, y_train)"
      ],
      "metadata": {
        "id": "V_49BF_3LLsE",
        "colab": {
          "base_uri": "https://localhost:8080/",
          "height": 134
        },
        "outputId": "210d5371-69ae-4df8-c143-59e0e2df0215"
      },
      "execution_count": null,
      "outputs": [
        {
          "output_type": "stream",
          "name": "stdout",
          "text": [
            "Fitting 5 folds for each of 20 candidates, totalling 100 fits\n"
          ]
        },
        {
          "output_type": "execute_result",
          "data": {
            "text/plain": [
              "RandomizedSearchCV(cv=5, estimator=RandomForestRegressor(), n_iter=20,\n",
              "                   param_distributions={'max_depth': [None, 3, 5, 10],\n",
              "                                        'max_features': [0.5, 1, 'sqrt',\n",
              "                                                         'auto'],\n",
              "                                        'max_samples': [1000, 2000, 3000],\n",
              "                                        'min_samples_leaf': array([ 1,  3,  5,  7,  9, 11, 13, 15, 17, 19]),\n",
              "                                        'min_samples_split': array([ 2,  4,  6,  8, 10, 12, 14, 16, 18]),\n",
              "                                        'n_estimators': array([ 10,  60, 110, 160, 210, 260, 310, 360, 410, 460, 510, 560, 610,\n",
              "       660, 710, 760, 810, 860, 910, 960])},\n",
              "                   verbose=True)"
            ],
            "text/html": [
              "<style>#sk-container-id-3 {color: black;background-color: white;}#sk-container-id-3 pre{padding: 0;}#sk-container-id-3 div.sk-toggleable {background-color: white;}#sk-container-id-3 label.sk-toggleable__label {cursor: pointer;display: block;width: 100%;margin-bottom: 0;padding: 0.3em;box-sizing: border-box;text-align: center;}#sk-container-id-3 label.sk-toggleable__label-arrow:before {content: \"▸\";float: left;margin-right: 0.25em;color: #696969;}#sk-container-id-3 label.sk-toggleable__label-arrow:hover:before {color: black;}#sk-container-id-3 div.sk-estimator:hover label.sk-toggleable__label-arrow:before {color: black;}#sk-container-id-3 div.sk-toggleable__content {max-height: 0;max-width: 0;overflow: hidden;text-align: left;background-color: #f0f8ff;}#sk-container-id-3 div.sk-toggleable__content pre {margin: 0.2em;color: black;border-radius: 0.25em;background-color: #f0f8ff;}#sk-container-id-3 input.sk-toggleable__control:checked~div.sk-toggleable__content {max-height: 200px;max-width: 100%;overflow: auto;}#sk-container-id-3 input.sk-toggleable__control:checked~label.sk-toggleable__label-arrow:before {content: \"▾\";}#sk-container-id-3 div.sk-estimator input.sk-toggleable__control:checked~label.sk-toggleable__label {background-color: #d4ebff;}#sk-container-id-3 div.sk-label input.sk-toggleable__control:checked~label.sk-toggleable__label {background-color: #d4ebff;}#sk-container-id-3 input.sk-hidden--visually {border: 0;clip: rect(1px 1px 1px 1px);clip: rect(1px, 1px, 1px, 1px);height: 1px;margin: -1px;overflow: hidden;padding: 0;position: absolute;width: 1px;}#sk-container-id-3 div.sk-estimator {font-family: monospace;background-color: #f0f8ff;border: 1px dotted black;border-radius: 0.25em;box-sizing: border-box;margin-bottom: 0.5em;}#sk-container-id-3 div.sk-estimator:hover {background-color: #d4ebff;}#sk-container-id-3 div.sk-parallel-item::after {content: \"\";width: 100%;border-bottom: 1px solid gray;flex-grow: 1;}#sk-container-id-3 div.sk-label:hover label.sk-toggleable__label {background-color: #d4ebff;}#sk-container-id-3 div.sk-serial::before {content: \"\";position: absolute;border-left: 1px solid gray;box-sizing: border-box;top: 0;bottom: 0;left: 50%;z-index: 0;}#sk-container-id-3 div.sk-serial {display: flex;flex-direction: column;align-items: center;background-color: white;padding-right: 0.2em;padding-left: 0.2em;position: relative;}#sk-container-id-3 div.sk-item {position: relative;z-index: 1;}#sk-container-id-3 div.sk-parallel {display: flex;align-items: stretch;justify-content: center;background-color: white;position: relative;}#sk-container-id-3 div.sk-item::before, #sk-container-id-3 div.sk-parallel-item::before {content: \"\";position: absolute;border-left: 1px solid gray;box-sizing: border-box;top: 0;bottom: 0;left: 50%;z-index: -1;}#sk-container-id-3 div.sk-parallel-item {display: flex;flex-direction: column;z-index: 1;position: relative;background-color: white;}#sk-container-id-3 div.sk-parallel-item:first-child::after {align-self: flex-end;width: 50%;}#sk-container-id-3 div.sk-parallel-item:last-child::after {align-self: flex-start;width: 50%;}#sk-container-id-3 div.sk-parallel-item:only-child::after {width: 0;}#sk-container-id-3 div.sk-dashed-wrapped {border: 1px dashed gray;margin: 0 0.4em 0.5em 0.4em;box-sizing: border-box;padding-bottom: 0.4em;background-color: white;}#sk-container-id-3 div.sk-label label {font-family: monospace;font-weight: bold;display: inline-block;line-height: 1.2em;}#sk-container-id-3 div.sk-label-container {text-align: center;}#sk-container-id-3 div.sk-container {/* jupyter's `normalize.less` sets `[hidden] { display: none; }` but bootstrap.min.css set `[hidden] { display: none !important; }` so we also need the `!important` here to be able to override the default hidden behavior on the sphinx rendered scikit-learn.org. See: https://github.com/scikit-learn/scikit-learn/issues/21755 */display: inline-block !important;position: relative;}#sk-container-id-3 div.sk-text-repr-fallback {display: none;}</style><div id=\"sk-container-id-3\" class=\"sk-top-container\"><div class=\"sk-text-repr-fallback\"><pre>RandomizedSearchCV(cv=5, estimator=RandomForestRegressor(), n_iter=20,\n",
              "                   param_distributions={&#x27;max_depth&#x27;: [None, 3, 5, 10],\n",
              "                                        &#x27;max_features&#x27;: [0.5, 1, &#x27;sqrt&#x27;,\n",
              "                                                         &#x27;auto&#x27;],\n",
              "                                        &#x27;max_samples&#x27;: [1000, 2000, 3000],\n",
              "                                        &#x27;min_samples_leaf&#x27;: array([ 1,  3,  5,  7,  9, 11, 13, 15, 17, 19]),\n",
              "                                        &#x27;min_samples_split&#x27;: array([ 2,  4,  6,  8, 10, 12, 14, 16, 18]),\n",
              "                                        &#x27;n_estimators&#x27;: array([ 10,  60, 110, 160, 210, 260, 310, 360, 410, 460, 510, 560, 610,\n",
              "       660, 710, 760, 810, 860, 910, 960])},\n",
              "                   verbose=True)</pre><b>In a Jupyter environment, please rerun this cell to show the HTML representation or trust the notebook. <br />On GitHub, the HTML representation is unable to render, please try loading this page with nbviewer.org.</b></div><div class=\"sk-container\" hidden><div class=\"sk-item sk-dashed-wrapped\"><div class=\"sk-label-container\"><div class=\"sk-label sk-toggleable\"><input class=\"sk-toggleable__control sk-hidden--visually\" id=\"sk-estimator-id-3\" type=\"checkbox\" ><label for=\"sk-estimator-id-3\" class=\"sk-toggleable__label sk-toggleable__label-arrow\">RandomizedSearchCV</label><div class=\"sk-toggleable__content\"><pre>RandomizedSearchCV(cv=5, estimator=RandomForestRegressor(), n_iter=20,\n",
              "                   param_distributions={&#x27;max_depth&#x27;: [None, 3, 5, 10],\n",
              "                                        &#x27;max_features&#x27;: [0.5, 1, &#x27;sqrt&#x27;,\n",
              "                                                         &#x27;auto&#x27;],\n",
              "                                        &#x27;max_samples&#x27;: [1000, 2000, 3000],\n",
              "                                        &#x27;min_samples_leaf&#x27;: array([ 1,  3,  5,  7,  9, 11, 13, 15, 17, 19]),\n",
              "                                        &#x27;min_samples_split&#x27;: array([ 2,  4,  6,  8, 10, 12, 14, 16, 18]),\n",
              "                                        &#x27;n_estimators&#x27;: array([ 10,  60, 110, 160, 210, 260, 310, 360, 410, 460, 510, 560, 610,\n",
              "       660, 710, 760, 810, 860, 910, 960])},\n",
              "                   verbose=True)</pre></div></div></div><div class=\"sk-parallel\"><div class=\"sk-parallel-item\"><div class=\"sk-item\"><div class=\"sk-label-container\"><div class=\"sk-label sk-toggleable\"><input class=\"sk-toggleable__control sk-hidden--visually\" id=\"sk-estimator-id-4\" type=\"checkbox\" ><label for=\"sk-estimator-id-4\" class=\"sk-toggleable__label sk-toggleable__label-arrow\">estimator: RandomForestRegressor</label><div class=\"sk-toggleable__content\"><pre>RandomForestRegressor()</pre></div></div></div><div class=\"sk-serial\"><div class=\"sk-item\"><div class=\"sk-estimator sk-toggleable\"><input class=\"sk-toggleable__control sk-hidden--visually\" id=\"sk-estimator-id-5\" type=\"checkbox\" ><label for=\"sk-estimator-id-5\" class=\"sk-toggleable__label sk-toggleable__label-arrow\">RandomForestRegressor</label><div class=\"sk-toggleable__content\"><pre>RandomForestRegressor()</pre></div></div></div></div></div></div></div></div></div></div>"
            ]
          },
          "metadata": {},
          "execution_count": 52
        }
      ]
    },
    {
      "cell_type": "code",
      "source": [
        "rs_RF_model.best_params_"
      ],
      "metadata": {
        "colab": {
          "base_uri": "https://localhost:8080/"
        },
        "id": "YaAzAm2SQzLO",
        "outputId": "b36a4abe-f192-4547-d37f-a771aef021cf"
      },
      "execution_count": null,
      "outputs": [
        {
          "output_type": "execute_result",
          "data": {
            "text/plain": [
              "{'n_estimators': 860,\n",
              " 'min_samples_split': 18,\n",
              " 'min_samples_leaf': 9,\n",
              " 'max_samples': 1000,\n",
              " 'max_features': 0.5,\n",
              " 'max_depth': 10}"
            ]
          },
          "metadata": {},
          "execution_count": 53
        }
      ]
    },
    {
      "cell_type": "code",
      "source": [
        "show_scores(rs_RF_model)"
      ],
      "metadata": {
        "colab": {
          "base_uri": "https://localhost:8080/"
        },
        "id": "BbmoGV2qQ-Fy",
        "outputId": "52033c50-7cd7-4179-9c93-51f396121376"
      },
      "execution_count": null,
      "outputs": [
        {
          "output_type": "execute_result",
          "data": {
            "text/plain": [
              "{'Training MAE': 0.1949384074368113,\n",
              " 'Test MAE': 0.19685341320091,\n",
              " 'Training MSE': 0.09972246706827029,\n",
              " 'Test MSE': 0.11072380376094355,\n",
              " 'Training RMSLE': 0.053245534690669144,\n",
              " 'Test RMSLE': 0.05360160348352108,\n",
              " 'Training R2': 0.9506591662712548,\n",
              " 'Test R2': 0.9410568420647494}"
            ]
          },
          "metadata": {},
          "execution_count": 54
        }
      ]
    },
    {
      "cell_type": "markdown",
      "source": [
        "## Hyperparameter Tuning of Random Forest Regressor using GridSearchCV"
      ],
      "metadata": {
        "id": "P8e_4U_5wPBO"
      }
    },
    {
      "cell_type": "code",
      "source": [
        "rf_grid2 = {\"n_estimators\": [100, 1000],\n",
        "          \"min_samples_split\": [1, 3, 4],\n",
        "          \"min_samples_leaf\": [2, 4],\n",
        "          \"max_depth\": [None, 3],\n",
        "          \"max_features\": [\"sqrt\", \"auto\"],\n",
        "          \"max_samples\": [100, 500]}\n",
        "\n",
        "gs_RF_model = GridSearchCV(RandomForestRegressor(),\n",
        "                           param_grid= rf_grid2,\n",
        "                           cv=3,\n",
        "                           verbose=True)\n",
        "\n",
        "gs_RF_model.fit(X_train, y_train)"
      ],
      "metadata": {
        "colab": {
          "base_uri": "https://localhost:8080/",
          "height": 134
        },
        "id": "cv3h3LcIpJpj",
        "outputId": "0199eac6-eb61-47f5-fb07-c5ec713abf14"
      },
      "execution_count": null,
      "outputs": [
        {
          "output_type": "stream",
          "name": "stdout",
          "text": [
            "Fitting 3 folds for each of 96 candidates, totalling 288 fits\n"
          ]
        },
        {
          "output_type": "execute_result",
          "data": {
            "text/plain": [
              "GridSearchCV(cv=3, estimator=RandomForestRegressor(),\n",
              "             param_grid={'max_depth': [None, 3],\n",
              "                         'max_features': ['sqrt', 'auto'],\n",
              "                         'max_samples': [100, 500], 'min_samples_leaf': [2, 4],\n",
              "                         'min_samples_split': [1, 3, 4],\n",
              "                         'n_estimators': [100, 1000]},\n",
              "             verbose=True)"
            ],
            "text/html": [
              "<style>#sk-container-id-4 {color: black;background-color: white;}#sk-container-id-4 pre{padding: 0;}#sk-container-id-4 div.sk-toggleable {background-color: white;}#sk-container-id-4 label.sk-toggleable__label {cursor: pointer;display: block;width: 100%;margin-bottom: 0;padding: 0.3em;box-sizing: border-box;text-align: center;}#sk-container-id-4 label.sk-toggleable__label-arrow:before {content: \"▸\";float: left;margin-right: 0.25em;color: #696969;}#sk-container-id-4 label.sk-toggleable__label-arrow:hover:before {color: black;}#sk-container-id-4 div.sk-estimator:hover label.sk-toggleable__label-arrow:before {color: black;}#sk-container-id-4 div.sk-toggleable__content {max-height: 0;max-width: 0;overflow: hidden;text-align: left;background-color: #f0f8ff;}#sk-container-id-4 div.sk-toggleable__content pre {margin: 0.2em;color: black;border-radius: 0.25em;background-color: #f0f8ff;}#sk-container-id-4 input.sk-toggleable__control:checked~div.sk-toggleable__content {max-height: 200px;max-width: 100%;overflow: auto;}#sk-container-id-4 input.sk-toggleable__control:checked~label.sk-toggleable__label-arrow:before {content: \"▾\";}#sk-container-id-4 div.sk-estimator input.sk-toggleable__control:checked~label.sk-toggleable__label {background-color: #d4ebff;}#sk-container-id-4 div.sk-label input.sk-toggleable__control:checked~label.sk-toggleable__label {background-color: #d4ebff;}#sk-container-id-4 input.sk-hidden--visually {border: 0;clip: rect(1px 1px 1px 1px);clip: rect(1px, 1px, 1px, 1px);height: 1px;margin: -1px;overflow: hidden;padding: 0;position: absolute;width: 1px;}#sk-container-id-4 div.sk-estimator {font-family: monospace;background-color: #f0f8ff;border: 1px dotted black;border-radius: 0.25em;box-sizing: border-box;margin-bottom: 0.5em;}#sk-container-id-4 div.sk-estimator:hover {background-color: #d4ebff;}#sk-container-id-4 div.sk-parallel-item::after {content: \"\";width: 100%;border-bottom: 1px solid gray;flex-grow: 1;}#sk-container-id-4 div.sk-label:hover label.sk-toggleable__label {background-color: #d4ebff;}#sk-container-id-4 div.sk-serial::before {content: \"\";position: absolute;border-left: 1px solid gray;box-sizing: border-box;top: 0;bottom: 0;left: 50%;z-index: 0;}#sk-container-id-4 div.sk-serial {display: flex;flex-direction: column;align-items: center;background-color: white;padding-right: 0.2em;padding-left: 0.2em;position: relative;}#sk-container-id-4 div.sk-item {position: relative;z-index: 1;}#sk-container-id-4 div.sk-parallel {display: flex;align-items: stretch;justify-content: center;background-color: white;position: relative;}#sk-container-id-4 div.sk-item::before, #sk-container-id-4 div.sk-parallel-item::before {content: \"\";position: absolute;border-left: 1px solid gray;box-sizing: border-box;top: 0;bottom: 0;left: 50%;z-index: -1;}#sk-container-id-4 div.sk-parallel-item {display: flex;flex-direction: column;z-index: 1;position: relative;background-color: white;}#sk-container-id-4 div.sk-parallel-item:first-child::after {align-self: flex-end;width: 50%;}#sk-container-id-4 div.sk-parallel-item:last-child::after {align-self: flex-start;width: 50%;}#sk-container-id-4 div.sk-parallel-item:only-child::after {width: 0;}#sk-container-id-4 div.sk-dashed-wrapped {border: 1px dashed gray;margin: 0 0.4em 0.5em 0.4em;box-sizing: border-box;padding-bottom: 0.4em;background-color: white;}#sk-container-id-4 div.sk-label label {font-family: monospace;font-weight: bold;display: inline-block;line-height: 1.2em;}#sk-container-id-4 div.sk-label-container {text-align: center;}#sk-container-id-4 div.sk-container {/* jupyter's `normalize.less` sets `[hidden] { display: none; }` but bootstrap.min.css set `[hidden] { display: none !important; }` so we also need the `!important` here to be able to override the default hidden behavior on the sphinx rendered scikit-learn.org. See: https://github.com/scikit-learn/scikit-learn/issues/21755 */display: inline-block !important;position: relative;}#sk-container-id-4 div.sk-text-repr-fallback {display: none;}</style><div id=\"sk-container-id-4\" class=\"sk-top-container\"><div class=\"sk-text-repr-fallback\"><pre>GridSearchCV(cv=3, estimator=RandomForestRegressor(),\n",
              "             param_grid={&#x27;max_depth&#x27;: [None, 3],\n",
              "                         &#x27;max_features&#x27;: [&#x27;sqrt&#x27;, &#x27;auto&#x27;],\n",
              "                         &#x27;max_samples&#x27;: [100, 500], &#x27;min_samples_leaf&#x27;: [2, 4],\n",
              "                         &#x27;min_samples_split&#x27;: [1, 3, 4],\n",
              "                         &#x27;n_estimators&#x27;: [100, 1000]},\n",
              "             verbose=True)</pre><b>In a Jupyter environment, please rerun this cell to show the HTML representation or trust the notebook. <br />On GitHub, the HTML representation is unable to render, please try loading this page with nbviewer.org.</b></div><div class=\"sk-container\" hidden><div class=\"sk-item sk-dashed-wrapped\"><div class=\"sk-label-container\"><div class=\"sk-label sk-toggleable\"><input class=\"sk-toggleable__control sk-hidden--visually\" id=\"sk-estimator-id-6\" type=\"checkbox\" ><label for=\"sk-estimator-id-6\" class=\"sk-toggleable__label sk-toggleable__label-arrow\">GridSearchCV</label><div class=\"sk-toggleable__content\"><pre>GridSearchCV(cv=3, estimator=RandomForestRegressor(),\n",
              "             param_grid={&#x27;max_depth&#x27;: [None, 3],\n",
              "                         &#x27;max_features&#x27;: [&#x27;sqrt&#x27;, &#x27;auto&#x27;],\n",
              "                         &#x27;max_samples&#x27;: [100, 500], &#x27;min_samples_leaf&#x27;: [2, 4],\n",
              "                         &#x27;min_samples_split&#x27;: [1, 3, 4],\n",
              "                         &#x27;n_estimators&#x27;: [100, 1000]},\n",
              "             verbose=True)</pre></div></div></div><div class=\"sk-parallel\"><div class=\"sk-parallel-item\"><div class=\"sk-item\"><div class=\"sk-label-container\"><div class=\"sk-label sk-toggleable\"><input class=\"sk-toggleable__control sk-hidden--visually\" id=\"sk-estimator-id-7\" type=\"checkbox\" ><label for=\"sk-estimator-id-7\" class=\"sk-toggleable__label sk-toggleable__label-arrow\">estimator: RandomForestRegressor</label><div class=\"sk-toggleable__content\"><pre>RandomForestRegressor()</pre></div></div></div><div class=\"sk-serial\"><div class=\"sk-item\"><div class=\"sk-estimator sk-toggleable\"><input class=\"sk-toggleable__control sk-hidden--visually\" id=\"sk-estimator-id-8\" type=\"checkbox\" ><label for=\"sk-estimator-id-8\" class=\"sk-toggleable__label sk-toggleable__label-arrow\">RandomForestRegressor</label><div class=\"sk-toggleable__content\"><pre>RandomForestRegressor()</pre></div></div></div></div></div></div></div></div></div></div>"
            ]
          },
          "metadata": {},
          "execution_count": 55
        }
      ]
    },
    {
      "cell_type": "code",
      "source": [
        "gs_RF_model.best_params_"
      ],
      "metadata": {
        "colab": {
          "base_uri": "https://localhost:8080/"
        },
        "id": "YXGf_6m3rw9f",
        "outputId": "d66a05b6-3c24-4c26-b0d2-518ff5f6cadb"
      },
      "execution_count": null,
      "outputs": [
        {
          "output_type": "execute_result",
          "data": {
            "text/plain": [
              "{'max_depth': None,\n",
              " 'max_features': 'auto',\n",
              " 'max_samples': 500,\n",
              " 'min_samples_leaf': 2,\n",
              " 'min_samples_split': 3,\n",
              " 'n_estimators': 1000}"
            ]
          },
          "metadata": {},
          "execution_count": 56
        }
      ]
    },
    {
      "cell_type": "code",
      "source": [
        "show_scores(gs_RF_model)"
      ],
      "metadata": {
        "colab": {
          "base_uri": "https://localhost:8080/"
        },
        "id": "kGgIEBRWr0ct",
        "outputId": "7d5d6618-e606-47c2-d595-9e67427e72c8"
      },
      "execution_count": null,
      "outputs": [
        {
          "output_type": "execute_result",
          "data": {
            "text/plain": [
              "{'Training MAE': 0.15162365701090044,\n",
              " 'Test MAE': 0.17766784978954497,\n",
              " 'Training MSE': 0.06816079498966822,\n",
              " 'Test MSE': 0.09944921840101895,\n",
              " 'Training RMSLE': 0.04331618030410259,\n",
              " 'Test RMSLE': 0.04908854511175167,\n",
              " 'Training R2': 0.9662752983226748,\n",
              " 'Test R2': 0.9470588004779494}"
            ]
          },
          "metadata": {},
          "execution_count": 57
        }
      ]
    },
    {
      "cell_type": "markdown",
      "source": [
        "# 3. XGB Regressor"
      ],
      "metadata": {
        "id": "vncTcApHw3Nn"
      }
    },
    {
      "cell_type": "code",
      "source": [
        "xgb_model = XGBRegressor(objective = 'reg:squarederror', gamma = 0.09, learning_rate = 0.06, subsample = 0.6, n_estimators = 100)"
      ],
      "metadata": {
        "id": "Mycw4Y6KS48U"
      },
      "execution_count": null,
      "outputs": []
    },
    {
      "cell_type": "code",
      "source": [
        "xgb_model.fit(X_train,y_train)"
      ],
      "metadata": {
        "colab": {
          "base_uri": "https://localhost:8080/",
          "height": 248
        },
        "id": "lFk_3rtEggSK",
        "outputId": "65c88095-f943-4343-f9d5-1697aebeef45"
      },
      "execution_count": null,
      "outputs": [
        {
          "output_type": "execute_result",
          "data": {
            "text/plain": [
              "XGBRegressor(base_score=None, booster=None, callbacks=None,\n",
              "             colsample_bylevel=None, colsample_bynode=None,\n",
              "             colsample_bytree=None, device=None, early_stopping_rounds=None,\n",
              "             enable_categorical=False, eval_metric=None, feature_types=None,\n",
              "             gamma=0.09, grow_policy=None, importance_type=None,\n",
              "             interaction_constraints=None, learning_rate=0.06, max_bin=None,\n",
              "             max_cat_threshold=None, max_cat_to_onehot=None,\n",
              "             max_delta_step=None, max_depth=None, max_leaves=None,\n",
              "             min_child_weight=None, missing=nan, monotone_constraints=None,\n",
              "             multi_strategy=None, n_estimators=100, n_jobs=None,\n",
              "             num_parallel_tree=None, random_state=None, ...)"
            ],
            "text/html": [
              "<style>#sk-container-id-5 {color: black;background-color: white;}#sk-container-id-5 pre{padding: 0;}#sk-container-id-5 div.sk-toggleable {background-color: white;}#sk-container-id-5 label.sk-toggleable__label {cursor: pointer;display: block;width: 100%;margin-bottom: 0;padding: 0.3em;box-sizing: border-box;text-align: center;}#sk-container-id-5 label.sk-toggleable__label-arrow:before {content: \"▸\";float: left;margin-right: 0.25em;color: #696969;}#sk-container-id-5 label.sk-toggleable__label-arrow:hover:before {color: black;}#sk-container-id-5 div.sk-estimator:hover label.sk-toggleable__label-arrow:before {color: black;}#sk-container-id-5 div.sk-toggleable__content {max-height: 0;max-width: 0;overflow: hidden;text-align: left;background-color: #f0f8ff;}#sk-container-id-5 div.sk-toggleable__content pre {margin: 0.2em;color: black;border-radius: 0.25em;background-color: #f0f8ff;}#sk-container-id-5 input.sk-toggleable__control:checked~div.sk-toggleable__content {max-height: 200px;max-width: 100%;overflow: auto;}#sk-container-id-5 input.sk-toggleable__control:checked~label.sk-toggleable__label-arrow:before {content: \"▾\";}#sk-container-id-5 div.sk-estimator input.sk-toggleable__control:checked~label.sk-toggleable__label {background-color: #d4ebff;}#sk-container-id-5 div.sk-label input.sk-toggleable__control:checked~label.sk-toggleable__label {background-color: #d4ebff;}#sk-container-id-5 input.sk-hidden--visually {border: 0;clip: rect(1px 1px 1px 1px);clip: rect(1px, 1px, 1px, 1px);height: 1px;margin: -1px;overflow: hidden;padding: 0;position: absolute;width: 1px;}#sk-container-id-5 div.sk-estimator {font-family: monospace;background-color: #f0f8ff;border: 1px dotted black;border-radius: 0.25em;box-sizing: border-box;margin-bottom: 0.5em;}#sk-container-id-5 div.sk-estimator:hover {background-color: #d4ebff;}#sk-container-id-5 div.sk-parallel-item::after {content: \"\";width: 100%;border-bottom: 1px solid gray;flex-grow: 1;}#sk-container-id-5 div.sk-label:hover label.sk-toggleable__label {background-color: #d4ebff;}#sk-container-id-5 div.sk-serial::before {content: \"\";position: absolute;border-left: 1px solid gray;box-sizing: border-box;top: 0;bottom: 0;left: 50%;z-index: 0;}#sk-container-id-5 div.sk-serial {display: flex;flex-direction: column;align-items: center;background-color: white;padding-right: 0.2em;padding-left: 0.2em;position: relative;}#sk-container-id-5 div.sk-item {position: relative;z-index: 1;}#sk-container-id-5 div.sk-parallel {display: flex;align-items: stretch;justify-content: center;background-color: white;position: relative;}#sk-container-id-5 div.sk-item::before, #sk-container-id-5 div.sk-parallel-item::before {content: \"\";position: absolute;border-left: 1px solid gray;box-sizing: border-box;top: 0;bottom: 0;left: 50%;z-index: -1;}#sk-container-id-5 div.sk-parallel-item {display: flex;flex-direction: column;z-index: 1;position: relative;background-color: white;}#sk-container-id-5 div.sk-parallel-item:first-child::after {align-self: flex-end;width: 50%;}#sk-container-id-5 div.sk-parallel-item:last-child::after {align-self: flex-start;width: 50%;}#sk-container-id-5 div.sk-parallel-item:only-child::after {width: 0;}#sk-container-id-5 div.sk-dashed-wrapped {border: 1px dashed gray;margin: 0 0.4em 0.5em 0.4em;box-sizing: border-box;padding-bottom: 0.4em;background-color: white;}#sk-container-id-5 div.sk-label label {font-family: monospace;font-weight: bold;display: inline-block;line-height: 1.2em;}#sk-container-id-5 div.sk-label-container {text-align: center;}#sk-container-id-5 div.sk-container {/* jupyter's `normalize.less` sets `[hidden] { display: none; }` but bootstrap.min.css set `[hidden] { display: none !important; }` so we also need the `!important` here to be able to override the default hidden behavior on the sphinx rendered scikit-learn.org. See: https://github.com/scikit-learn/scikit-learn/issues/21755 */display: inline-block !important;position: relative;}#sk-container-id-5 div.sk-text-repr-fallback {display: none;}</style><div id=\"sk-container-id-5\" class=\"sk-top-container\"><div class=\"sk-text-repr-fallback\"><pre>XGBRegressor(base_score=None, booster=None, callbacks=None,\n",
              "             colsample_bylevel=None, colsample_bynode=None,\n",
              "             colsample_bytree=None, device=None, early_stopping_rounds=None,\n",
              "             enable_categorical=False, eval_metric=None, feature_types=None,\n",
              "             gamma=0.09, grow_policy=None, importance_type=None,\n",
              "             interaction_constraints=None, learning_rate=0.06, max_bin=None,\n",
              "             max_cat_threshold=None, max_cat_to_onehot=None,\n",
              "             max_delta_step=None, max_depth=None, max_leaves=None,\n",
              "             min_child_weight=None, missing=nan, monotone_constraints=None,\n",
              "             multi_strategy=None, n_estimators=100, n_jobs=None,\n",
              "             num_parallel_tree=None, random_state=None, ...)</pre><b>In a Jupyter environment, please rerun this cell to show the HTML representation or trust the notebook. <br />On GitHub, the HTML representation is unable to render, please try loading this page with nbviewer.org.</b></div><div class=\"sk-container\" hidden><div class=\"sk-item\"><div class=\"sk-estimator sk-toggleable\"><input class=\"sk-toggleable__control sk-hidden--visually\" id=\"sk-estimator-id-9\" type=\"checkbox\" checked><label for=\"sk-estimator-id-9\" class=\"sk-toggleable__label sk-toggleable__label-arrow\">XGBRegressor</label><div class=\"sk-toggleable__content\"><pre>XGBRegressor(base_score=None, booster=None, callbacks=None,\n",
              "             colsample_bylevel=None, colsample_bynode=None,\n",
              "             colsample_bytree=None, device=None, early_stopping_rounds=None,\n",
              "             enable_categorical=False, eval_metric=None, feature_types=None,\n",
              "             gamma=0.09, grow_policy=None, importance_type=None,\n",
              "             interaction_constraints=None, learning_rate=0.06, max_bin=None,\n",
              "             max_cat_threshold=None, max_cat_to_onehot=None,\n",
              "             max_delta_step=None, max_depth=None, max_leaves=None,\n",
              "             min_child_weight=None, missing=nan, monotone_constraints=None,\n",
              "             multi_strategy=None, n_estimators=100, n_jobs=None,\n",
              "             num_parallel_tree=None, random_state=None, ...)</pre></div></div></div></div></div>"
            ]
          },
          "metadata": {},
          "execution_count": 59
        }
      ]
    },
    {
      "cell_type": "code",
      "source": [
        "xgb_pred = xgb_model.predict(X_test)"
      ],
      "metadata": {
        "id": "lIStq_3pgWPo"
      },
      "execution_count": null,
      "outputs": []
    },
    {
      "cell_type": "code",
      "source": [
        "show_scores(xgb_model)"
      ],
      "metadata": {
        "colab": {
          "base_uri": "https://localhost:8080/"
        },
        "id": "tt1oVynEgb_q",
        "outputId": "9f924ea1-1947-49b6-c3f4-7e50e7eb3313"
      },
      "execution_count": null,
      "outputs": [
        {
          "output_type": "execute_result",
          "data": {
            "text/plain": [
              "{'Training MAE': 0.11975042940043719,\n",
              " 'Test MAE': 0.19110919522782105,\n",
              " 'Training MSE': 0.032920477005030785,\n",
              " 'Test MSE': 0.0995090981218242,\n",
              " 'Training RMSLE': 0.029200450288537075,\n",
              " 'Test RMSLE': 0.049186598345497,\n",
              " 'Training R2': 0.9837115563831349,\n",
              " 'Test R2': 0.9470269238649659}"
            ]
          },
          "metadata": {},
          "execution_count": 61
        }
      ]
    },
    {
      "cell_type": "markdown",
      "source": [
        "## Hyperparameter Tuning of XGBRegressor using RandomizedSearchCV"
      ],
      "metadata": {
        "id": "8BfsYXcfw8QX"
      }
    },
    {
      "cell_type": "code",
      "source": [
        "from scipy.stats import uniform, randint\n",
        "\n",
        "param_dist = {\n",
        "    'n_estimators': randint(50, 200),\n",
        "    'learning_rate': uniform(0.01, 0.3),\n",
        "    'max_depth': randint(3, 10),\n",
        "    'min_child_weight': randint(1, 10),\n",
        "    'subsample': uniform(0.5, 0.5),\n",
        "    'colsample_bytree': uniform(0.5, 0.5),\n",
        "    'gamma': uniform(0, 0.5)\n",
        "}\n",
        "\n",
        "# Create an XGBRegressor model\n",
        "xgb_rs = XGBRegressor(objective='reg:squarederror', random_state=42)\n",
        "\n",
        "# Perform RandomizedSearchCV\n",
        "xgb_RS = RandomizedSearchCV(xgb_rs, param_distributions=param_dist,\n",
        "                                   n_iter=100, scoring='neg_mean_squared_error',\n",
        "                                   cv=3, verbose=1, random_state=42, n_jobs=-1)\n",
        "\n",
        "# Fit the random search model\n",
        "xgb_RS.fit(X_train, y_train)"
      ],
      "metadata": {
        "id": "oMuWNLAWhY2x",
        "colab": {
          "base_uri": "https://localhost:8080/",
          "height": 134
        },
        "outputId": "f79a505e-47d1-49fc-800b-a7f39d19e871"
      },
      "execution_count": null,
      "outputs": [
        {
          "output_type": "stream",
          "name": "stdout",
          "text": [
            "Fitting 3 folds for each of 100 candidates, totalling 300 fits\n"
          ]
        },
        {
          "output_type": "execute_result",
          "data": {
            "text/plain": [
              "RandomizedSearchCV(cv=3,\n",
              "                   estimator=XGBRegressor(base_score=None, booster=None,\n",
              "                                          callbacks=None,\n",
              "                                          colsample_bylevel=None,\n",
              "                                          colsample_bynode=None,\n",
              "                                          colsample_bytree=None, device=None,\n",
              "                                          early_stopping_rounds=None,\n",
              "                                          enable_categorical=False,\n",
              "                                          eval_metric=None, feature_types=None,\n",
              "                                          gamma=None, grow_policy=None,\n",
              "                                          importance_type=None,\n",
              "                                          interaction_constraints=None,\n",
              "                                          learning_rate=...\n",
              "                                        'max_depth': <scipy.stats._distn_infrastructure.rv_discrete_frozen object at 0x7d39df670a90>,\n",
              "                                        'min_child_weight': <scipy.stats._distn_infrastructure.rv_discrete_frozen object at 0x7d39df6729b0>,\n",
              "                                        'n_estimators': <scipy.stats._distn_infrastructure.rv_discrete_frozen object at 0x7d39e37f2800>,\n",
              "                                        'subsample': <scipy.stats._distn_infrastructure.rv_continuous_frozen object at 0x7d39df672800>},\n",
              "                   random_state=42, scoring='neg_mean_squared_error',\n",
              "                   verbose=1)"
            ],
            "text/html": [
              "<style>#sk-container-id-6 {color: black;background-color: white;}#sk-container-id-6 pre{padding: 0;}#sk-container-id-6 div.sk-toggleable {background-color: white;}#sk-container-id-6 label.sk-toggleable__label {cursor: pointer;display: block;width: 100%;margin-bottom: 0;padding: 0.3em;box-sizing: border-box;text-align: center;}#sk-container-id-6 label.sk-toggleable__label-arrow:before {content: \"▸\";float: left;margin-right: 0.25em;color: #696969;}#sk-container-id-6 label.sk-toggleable__label-arrow:hover:before {color: black;}#sk-container-id-6 div.sk-estimator:hover label.sk-toggleable__label-arrow:before {color: black;}#sk-container-id-6 div.sk-toggleable__content {max-height: 0;max-width: 0;overflow: hidden;text-align: left;background-color: #f0f8ff;}#sk-container-id-6 div.sk-toggleable__content pre {margin: 0.2em;color: black;border-radius: 0.25em;background-color: #f0f8ff;}#sk-container-id-6 input.sk-toggleable__control:checked~div.sk-toggleable__content {max-height: 200px;max-width: 100%;overflow: auto;}#sk-container-id-6 input.sk-toggleable__control:checked~label.sk-toggleable__label-arrow:before {content: \"▾\";}#sk-container-id-6 div.sk-estimator input.sk-toggleable__control:checked~label.sk-toggleable__label {background-color: #d4ebff;}#sk-container-id-6 div.sk-label input.sk-toggleable__control:checked~label.sk-toggleable__label {background-color: #d4ebff;}#sk-container-id-6 input.sk-hidden--visually {border: 0;clip: rect(1px 1px 1px 1px);clip: rect(1px, 1px, 1px, 1px);height: 1px;margin: -1px;overflow: hidden;padding: 0;position: absolute;width: 1px;}#sk-container-id-6 div.sk-estimator {font-family: monospace;background-color: #f0f8ff;border: 1px dotted black;border-radius: 0.25em;box-sizing: border-box;margin-bottom: 0.5em;}#sk-container-id-6 div.sk-estimator:hover {background-color: #d4ebff;}#sk-container-id-6 div.sk-parallel-item::after {content: \"\";width: 100%;border-bottom: 1px solid gray;flex-grow: 1;}#sk-container-id-6 div.sk-label:hover label.sk-toggleable__label {background-color: #d4ebff;}#sk-container-id-6 div.sk-serial::before {content: \"\";position: absolute;border-left: 1px solid gray;box-sizing: border-box;top: 0;bottom: 0;left: 50%;z-index: 0;}#sk-container-id-6 div.sk-serial {display: flex;flex-direction: column;align-items: center;background-color: white;padding-right: 0.2em;padding-left: 0.2em;position: relative;}#sk-container-id-6 div.sk-item {position: relative;z-index: 1;}#sk-container-id-6 div.sk-parallel {display: flex;align-items: stretch;justify-content: center;background-color: white;position: relative;}#sk-container-id-6 div.sk-item::before, #sk-container-id-6 div.sk-parallel-item::before {content: \"\";position: absolute;border-left: 1px solid gray;box-sizing: border-box;top: 0;bottom: 0;left: 50%;z-index: -1;}#sk-container-id-6 div.sk-parallel-item {display: flex;flex-direction: column;z-index: 1;position: relative;background-color: white;}#sk-container-id-6 div.sk-parallel-item:first-child::after {align-self: flex-end;width: 50%;}#sk-container-id-6 div.sk-parallel-item:last-child::after {align-self: flex-start;width: 50%;}#sk-container-id-6 div.sk-parallel-item:only-child::after {width: 0;}#sk-container-id-6 div.sk-dashed-wrapped {border: 1px dashed gray;margin: 0 0.4em 0.5em 0.4em;box-sizing: border-box;padding-bottom: 0.4em;background-color: white;}#sk-container-id-6 div.sk-label label {font-family: monospace;font-weight: bold;display: inline-block;line-height: 1.2em;}#sk-container-id-6 div.sk-label-container {text-align: center;}#sk-container-id-6 div.sk-container {/* jupyter's `normalize.less` sets `[hidden] { display: none; }` but bootstrap.min.css set `[hidden] { display: none !important; }` so we also need the `!important` here to be able to override the default hidden behavior on the sphinx rendered scikit-learn.org. See: https://github.com/scikit-learn/scikit-learn/issues/21755 */display: inline-block !important;position: relative;}#sk-container-id-6 div.sk-text-repr-fallback {display: none;}</style><div id=\"sk-container-id-6\" class=\"sk-top-container\"><div class=\"sk-text-repr-fallback\"><pre>RandomizedSearchCV(cv=3,\n",
              "                   estimator=XGBRegressor(base_score=None, booster=None,\n",
              "                                          callbacks=None,\n",
              "                                          colsample_bylevel=None,\n",
              "                                          colsample_bynode=None,\n",
              "                                          colsample_bytree=None, device=None,\n",
              "                                          early_stopping_rounds=None,\n",
              "                                          enable_categorical=False,\n",
              "                                          eval_metric=None, feature_types=None,\n",
              "                                          gamma=None, grow_policy=None,\n",
              "                                          importance_type=None,\n",
              "                                          interaction_constraints=None,\n",
              "                                          learning_rate=...\n",
              "                                        &#x27;max_depth&#x27;: &lt;scipy.stats._distn_infrastructure.rv_discrete_frozen object at 0x7d39df670a90&gt;,\n",
              "                                        &#x27;min_child_weight&#x27;: &lt;scipy.stats._distn_infrastructure.rv_discrete_frozen object at 0x7d39df6729b0&gt;,\n",
              "                                        &#x27;n_estimators&#x27;: &lt;scipy.stats._distn_infrastructure.rv_discrete_frozen object at 0x7d39e37f2800&gt;,\n",
              "                                        &#x27;subsample&#x27;: &lt;scipy.stats._distn_infrastructure.rv_continuous_frozen object at 0x7d39df672800&gt;},\n",
              "                   random_state=42, scoring=&#x27;neg_mean_squared_error&#x27;,\n",
              "                   verbose=1)</pre><b>In a Jupyter environment, please rerun this cell to show the HTML representation or trust the notebook. <br />On GitHub, the HTML representation is unable to render, please try loading this page with nbviewer.org.</b></div><div class=\"sk-container\" hidden><div class=\"sk-item sk-dashed-wrapped\"><div class=\"sk-label-container\"><div class=\"sk-label sk-toggleable\"><input class=\"sk-toggleable__control sk-hidden--visually\" id=\"sk-estimator-id-10\" type=\"checkbox\" ><label for=\"sk-estimator-id-10\" class=\"sk-toggleable__label sk-toggleable__label-arrow\">RandomizedSearchCV</label><div class=\"sk-toggleable__content\"><pre>RandomizedSearchCV(cv=3,\n",
              "                   estimator=XGBRegressor(base_score=None, booster=None,\n",
              "                                          callbacks=None,\n",
              "                                          colsample_bylevel=None,\n",
              "                                          colsample_bynode=None,\n",
              "                                          colsample_bytree=None, device=None,\n",
              "                                          early_stopping_rounds=None,\n",
              "                                          enable_categorical=False,\n",
              "                                          eval_metric=None, feature_types=None,\n",
              "                                          gamma=None, grow_policy=None,\n",
              "                                          importance_type=None,\n",
              "                                          interaction_constraints=None,\n",
              "                                          learning_rate=...\n",
              "                                        &#x27;max_depth&#x27;: &lt;scipy.stats._distn_infrastructure.rv_discrete_frozen object at 0x7d39df670a90&gt;,\n",
              "                                        &#x27;min_child_weight&#x27;: &lt;scipy.stats._distn_infrastructure.rv_discrete_frozen object at 0x7d39df6729b0&gt;,\n",
              "                                        &#x27;n_estimators&#x27;: &lt;scipy.stats._distn_infrastructure.rv_discrete_frozen object at 0x7d39e37f2800&gt;,\n",
              "                                        &#x27;subsample&#x27;: &lt;scipy.stats._distn_infrastructure.rv_continuous_frozen object at 0x7d39df672800&gt;},\n",
              "                   random_state=42, scoring=&#x27;neg_mean_squared_error&#x27;,\n",
              "                   verbose=1)</pre></div></div></div><div class=\"sk-parallel\"><div class=\"sk-parallel-item\"><div class=\"sk-item\"><div class=\"sk-label-container\"><div class=\"sk-label sk-toggleable\"><input class=\"sk-toggleable__control sk-hidden--visually\" id=\"sk-estimator-id-11\" type=\"checkbox\" ><label for=\"sk-estimator-id-11\" class=\"sk-toggleable__label sk-toggleable__label-arrow\">estimator: XGBRegressor</label><div class=\"sk-toggleable__content\"><pre>XGBRegressor(base_score=None, booster=None, callbacks=None,\n",
              "             colsample_bylevel=None, colsample_bynode=None,\n",
              "             colsample_bytree=None, device=None, early_stopping_rounds=None,\n",
              "             enable_categorical=False, eval_metric=None, feature_types=None,\n",
              "             gamma=None, grow_policy=None, importance_type=None,\n",
              "             interaction_constraints=None, learning_rate=None, max_bin=None,\n",
              "             max_cat_threshold=None, max_cat_to_onehot=None,\n",
              "             max_delta_step=None, max_depth=None, max_leaves=None,\n",
              "             min_child_weight=None, missing=nan, monotone_constraints=None,\n",
              "             multi_strategy=None, n_estimators=None, n_jobs=None,\n",
              "             num_parallel_tree=None, random_state=42, ...)</pre></div></div></div><div class=\"sk-serial\"><div class=\"sk-item\"><div class=\"sk-estimator sk-toggleable\"><input class=\"sk-toggleable__control sk-hidden--visually\" id=\"sk-estimator-id-12\" type=\"checkbox\" ><label for=\"sk-estimator-id-12\" class=\"sk-toggleable__label sk-toggleable__label-arrow\">XGBRegressor</label><div class=\"sk-toggleable__content\"><pre>XGBRegressor(base_score=None, booster=None, callbacks=None,\n",
              "             colsample_bylevel=None, colsample_bynode=None,\n",
              "             colsample_bytree=None, device=None, early_stopping_rounds=None,\n",
              "             enable_categorical=False, eval_metric=None, feature_types=None,\n",
              "             gamma=None, grow_policy=None, importance_type=None,\n",
              "             interaction_constraints=None, learning_rate=None, max_bin=None,\n",
              "             max_cat_threshold=None, max_cat_to_onehot=None,\n",
              "             max_delta_step=None, max_depth=None, max_leaves=None,\n",
              "             min_child_weight=None, missing=nan, monotone_constraints=None,\n",
              "             multi_strategy=None, n_estimators=None, n_jobs=None,\n",
              "             num_parallel_tree=None, random_state=42, ...)</pre></div></div></div></div></div></div></div></div></div></div>"
            ]
          },
          "metadata": {},
          "execution_count": 62
        }
      ]
    },
    {
      "cell_type": "code",
      "source": [
        "xgb_RS.best_params_"
      ],
      "metadata": {
        "colab": {
          "base_uri": "https://localhost:8080/"
        },
        "id": "FxTZT3ZHxlFR",
        "outputId": "4c6961bd-415f-47c2-c334-1d3e87e47732"
      },
      "execution_count": null,
      "outputs": [
        {
          "output_type": "execute_result",
          "data": {
            "text/plain": [
              "{'colsample_bytree': 0.8293468158094726,\n",
              " 'gamma': 0.08146721354071484,\n",
              " 'learning_rate': 0.03117062422012895,\n",
              " 'max_depth': 9,\n",
              " 'min_child_weight': 2,\n",
              " 'n_estimators': 177,\n",
              " 'subsample': 0.8182017987230057}"
            ]
          },
          "metadata": {},
          "execution_count": 63
        }
      ]
    },
    {
      "cell_type": "code",
      "source": [
        "xgb_RS_pred = xgb_RS.predict(X_test)"
      ],
      "metadata": {
        "id": "H48rdfMQuJg2"
      },
      "execution_count": null,
      "outputs": []
    },
    {
      "cell_type": "code",
      "source": [
        "show_scores(xgb_RS)"
      ],
      "metadata": {
        "colab": {
          "base_uri": "https://localhost:8080/"
        },
        "id": "0zIJF87SvIHh",
        "outputId": "20a80866-3a8e-4144-ff5e-124d272cd652"
      },
      "execution_count": null,
      "outputs": [
        {
          "output_type": "execute_result",
          "data": {
            "text/plain": [
              "{'Training MAE': 0.08781423553478994,\n",
              " 'Test MAE': 0.18960183070490538,\n",
              " 'Training MSE': 0.018170984567560323,\n",
              " 'Test MSE': 0.10086413859112485,\n",
              " 'Training RMSLE': 0.022236917811458076,\n",
              " 'Test RMSLE': 0.04887085358315256,\n",
              " 'Training R2': 0.9910093326549794,\n",
              " 'Test R2': 0.9463055761359529}"
            ]
          },
          "metadata": {},
          "execution_count": 65
        }
      ]
    },
    {
      "cell_type": "markdown",
      "source": [
        "# 4. GradientBoostingRegressor"
      ],
      "metadata": {
        "id": "IRmVronI1QDd"
      }
    },
    {
      "cell_type": "code",
      "source": [
        "np.random.seed(42)\n",
        "\n",
        "gbr_model = GradientBoostingRegressor()\n",
        "gbr_model.fit(X_train, y_train)"
      ],
      "metadata": {
        "colab": {
          "base_uri": "https://localhost:8080/",
          "height": 74
        },
        "id": "1RL4NVcG019K",
        "outputId": "15212dc5-0fc3-475f-8d0d-7361555fa244"
      },
      "execution_count": null,
      "outputs": [
        {
          "output_type": "execute_result",
          "data": {
            "text/plain": [
              "GradientBoostingRegressor()"
            ],
            "text/html": [
              "<style>#sk-container-id-7 {color: black;background-color: white;}#sk-container-id-7 pre{padding: 0;}#sk-container-id-7 div.sk-toggleable {background-color: white;}#sk-container-id-7 label.sk-toggleable__label {cursor: pointer;display: block;width: 100%;margin-bottom: 0;padding: 0.3em;box-sizing: border-box;text-align: center;}#sk-container-id-7 label.sk-toggleable__label-arrow:before {content: \"▸\";float: left;margin-right: 0.25em;color: #696969;}#sk-container-id-7 label.sk-toggleable__label-arrow:hover:before {color: black;}#sk-container-id-7 div.sk-estimator:hover label.sk-toggleable__label-arrow:before {color: black;}#sk-container-id-7 div.sk-toggleable__content {max-height: 0;max-width: 0;overflow: hidden;text-align: left;background-color: #f0f8ff;}#sk-container-id-7 div.sk-toggleable__content pre {margin: 0.2em;color: black;border-radius: 0.25em;background-color: #f0f8ff;}#sk-container-id-7 input.sk-toggleable__control:checked~div.sk-toggleable__content {max-height: 200px;max-width: 100%;overflow: auto;}#sk-container-id-7 input.sk-toggleable__control:checked~label.sk-toggleable__label-arrow:before {content: \"▾\";}#sk-container-id-7 div.sk-estimator input.sk-toggleable__control:checked~label.sk-toggleable__label {background-color: #d4ebff;}#sk-container-id-7 div.sk-label input.sk-toggleable__control:checked~label.sk-toggleable__label {background-color: #d4ebff;}#sk-container-id-7 input.sk-hidden--visually {border: 0;clip: rect(1px 1px 1px 1px);clip: rect(1px, 1px, 1px, 1px);height: 1px;margin: -1px;overflow: hidden;padding: 0;position: absolute;width: 1px;}#sk-container-id-7 div.sk-estimator {font-family: monospace;background-color: #f0f8ff;border: 1px dotted black;border-radius: 0.25em;box-sizing: border-box;margin-bottom: 0.5em;}#sk-container-id-7 div.sk-estimator:hover {background-color: #d4ebff;}#sk-container-id-7 div.sk-parallel-item::after {content: \"\";width: 100%;border-bottom: 1px solid gray;flex-grow: 1;}#sk-container-id-7 div.sk-label:hover label.sk-toggleable__label {background-color: #d4ebff;}#sk-container-id-7 div.sk-serial::before {content: \"\";position: absolute;border-left: 1px solid gray;box-sizing: border-box;top: 0;bottom: 0;left: 50%;z-index: 0;}#sk-container-id-7 div.sk-serial {display: flex;flex-direction: column;align-items: center;background-color: white;padding-right: 0.2em;padding-left: 0.2em;position: relative;}#sk-container-id-7 div.sk-item {position: relative;z-index: 1;}#sk-container-id-7 div.sk-parallel {display: flex;align-items: stretch;justify-content: center;background-color: white;position: relative;}#sk-container-id-7 div.sk-item::before, #sk-container-id-7 div.sk-parallel-item::before {content: \"\";position: absolute;border-left: 1px solid gray;box-sizing: border-box;top: 0;bottom: 0;left: 50%;z-index: -1;}#sk-container-id-7 div.sk-parallel-item {display: flex;flex-direction: column;z-index: 1;position: relative;background-color: white;}#sk-container-id-7 div.sk-parallel-item:first-child::after {align-self: flex-end;width: 50%;}#sk-container-id-7 div.sk-parallel-item:last-child::after {align-self: flex-start;width: 50%;}#sk-container-id-7 div.sk-parallel-item:only-child::after {width: 0;}#sk-container-id-7 div.sk-dashed-wrapped {border: 1px dashed gray;margin: 0 0.4em 0.5em 0.4em;box-sizing: border-box;padding-bottom: 0.4em;background-color: white;}#sk-container-id-7 div.sk-label label {font-family: monospace;font-weight: bold;display: inline-block;line-height: 1.2em;}#sk-container-id-7 div.sk-label-container {text-align: center;}#sk-container-id-7 div.sk-container {/* jupyter's `normalize.less` sets `[hidden] { display: none; }` but bootstrap.min.css set `[hidden] { display: none !important; }` so we also need the `!important` here to be able to override the default hidden behavior on the sphinx rendered scikit-learn.org. See: https://github.com/scikit-learn/scikit-learn/issues/21755 */display: inline-block !important;position: relative;}#sk-container-id-7 div.sk-text-repr-fallback {display: none;}</style><div id=\"sk-container-id-7\" class=\"sk-top-container\"><div class=\"sk-text-repr-fallback\"><pre>GradientBoostingRegressor()</pre><b>In a Jupyter environment, please rerun this cell to show the HTML representation or trust the notebook. <br />On GitHub, the HTML representation is unable to render, please try loading this page with nbviewer.org.</b></div><div class=\"sk-container\" hidden><div class=\"sk-item\"><div class=\"sk-estimator sk-toggleable\"><input class=\"sk-toggleable__control sk-hidden--visually\" id=\"sk-estimator-id-13\" type=\"checkbox\" checked><label for=\"sk-estimator-id-13\" class=\"sk-toggleable__label sk-toggleable__label-arrow\">GradientBoostingRegressor</label><div class=\"sk-toggleable__content\"><pre>GradientBoostingRegressor()</pre></div></div></div></div></div>"
            ]
          },
          "metadata": {},
          "execution_count": 66
        }
      ]
    },
    {
      "cell_type": "code",
      "source": [
        "gbr_model.fit(X_train,y_train)"
      ],
      "metadata": {
        "colab": {
          "base_uri": "https://localhost:8080/",
          "height": 74
        },
        "id": "JdntYXqt1Et5",
        "outputId": "24d9a199-2a5c-4bed-846f-554d4623fc31"
      },
      "execution_count": null,
      "outputs": [
        {
          "output_type": "execute_result",
          "data": {
            "text/plain": [
              "GradientBoostingRegressor()"
            ],
            "text/html": [
              "<style>#sk-container-id-8 {color: black;background-color: white;}#sk-container-id-8 pre{padding: 0;}#sk-container-id-8 div.sk-toggleable {background-color: white;}#sk-container-id-8 label.sk-toggleable__label {cursor: pointer;display: block;width: 100%;margin-bottom: 0;padding: 0.3em;box-sizing: border-box;text-align: center;}#sk-container-id-8 label.sk-toggleable__label-arrow:before {content: \"▸\";float: left;margin-right: 0.25em;color: #696969;}#sk-container-id-8 label.sk-toggleable__label-arrow:hover:before {color: black;}#sk-container-id-8 div.sk-estimator:hover label.sk-toggleable__label-arrow:before {color: black;}#sk-container-id-8 div.sk-toggleable__content {max-height: 0;max-width: 0;overflow: hidden;text-align: left;background-color: #f0f8ff;}#sk-container-id-8 div.sk-toggleable__content pre {margin: 0.2em;color: black;border-radius: 0.25em;background-color: #f0f8ff;}#sk-container-id-8 input.sk-toggleable__control:checked~div.sk-toggleable__content {max-height: 200px;max-width: 100%;overflow: auto;}#sk-container-id-8 input.sk-toggleable__control:checked~label.sk-toggleable__label-arrow:before {content: \"▾\";}#sk-container-id-8 div.sk-estimator input.sk-toggleable__control:checked~label.sk-toggleable__label {background-color: #d4ebff;}#sk-container-id-8 div.sk-label input.sk-toggleable__control:checked~label.sk-toggleable__label {background-color: #d4ebff;}#sk-container-id-8 input.sk-hidden--visually {border: 0;clip: rect(1px 1px 1px 1px);clip: rect(1px, 1px, 1px, 1px);height: 1px;margin: -1px;overflow: hidden;padding: 0;position: absolute;width: 1px;}#sk-container-id-8 div.sk-estimator {font-family: monospace;background-color: #f0f8ff;border: 1px dotted black;border-radius: 0.25em;box-sizing: border-box;margin-bottom: 0.5em;}#sk-container-id-8 div.sk-estimator:hover {background-color: #d4ebff;}#sk-container-id-8 div.sk-parallel-item::after {content: \"\";width: 100%;border-bottom: 1px solid gray;flex-grow: 1;}#sk-container-id-8 div.sk-label:hover label.sk-toggleable__label {background-color: #d4ebff;}#sk-container-id-8 div.sk-serial::before {content: \"\";position: absolute;border-left: 1px solid gray;box-sizing: border-box;top: 0;bottom: 0;left: 50%;z-index: 0;}#sk-container-id-8 div.sk-serial {display: flex;flex-direction: column;align-items: center;background-color: white;padding-right: 0.2em;padding-left: 0.2em;position: relative;}#sk-container-id-8 div.sk-item {position: relative;z-index: 1;}#sk-container-id-8 div.sk-parallel {display: flex;align-items: stretch;justify-content: center;background-color: white;position: relative;}#sk-container-id-8 div.sk-item::before, #sk-container-id-8 div.sk-parallel-item::before {content: \"\";position: absolute;border-left: 1px solid gray;box-sizing: border-box;top: 0;bottom: 0;left: 50%;z-index: -1;}#sk-container-id-8 div.sk-parallel-item {display: flex;flex-direction: column;z-index: 1;position: relative;background-color: white;}#sk-container-id-8 div.sk-parallel-item:first-child::after {align-self: flex-end;width: 50%;}#sk-container-id-8 div.sk-parallel-item:last-child::after {align-self: flex-start;width: 50%;}#sk-container-id-8 div.sk-parallel-item:only-child::after {width: 0;}#sk-container-id-8 div.sk-dashed-wrapped {border: 1px dashed gray;margin: 0 0.4em 0.5em 0.4em;box-sizing: border-box;padding-bottom: 0.4em;background-color: white;}#sk-container-id-8 div.sk-label label {font-family: monospace;font-weight: bold;display: inline-block;line-height: 1.2em;}#sk-container-id-8 div.sk-label-container {text-align: center;}#sk-container-id-8 div.sk-container {/* jupyter's `normalize.less` sets `[hidden] { display: none; }` but bootstrap.min.css set `[hidden] { display: none !important; }` so we also need the `!important` here to be able to override the default hidden behavior on the sphinx rendered scikit-learn.org. See: https://github.com/scikit-learn/scikit-learn/issues/21755 */display: inline-block !important;position: relative;}#sk-container-id-8 div.sk-text-repr-fallback {display: none;}</style><div id=\"sk-container-id-8\" class=\"sk-top-container\"><div class=\"sk-text-repr-fallback\"><pre>GradientBoostingRegressor()</pre><b>In a Jupyter environment, please rerun this cell to show the HTML representation or trust the notebook. <br />On GitHub, the HTML representation is unable to render, please try loading this page with nbviewer.org.</b></div><div class=\"sk-container\" hidden><div class=\"sk-item\"><div class=\"sk-estimator sk-toggleable\"><input class=\"sk-toggleable__control sk-hidden--visually\" id=\"sk-estimator-id-14\" type=\"checkbox\" checked><label for=\"sk-estimator-id-14\" class=\"sk-toggleable__label sk-toggleable__label-arrow\">GradientBoostingRegressor</label><div class=\"sk-toggleable__content\"><pre>GradientBoostingRegressor()</pre></div></div></div></div></div>"
            ]
          },
          "metadata": {},
          "execution_count": 67
        }
      ]
    },
    {
      "cell_type": "code",
      "source": [
        "show_scores(gbr_model)"
      ],
      "metadata": {
        "colab": {
          "base_uri": "https://localhost:8080/"
        },
        "id": "IO1_MOtF1Eqj",
        "outputId": "7feab37e-2751-4031-ca25-cbaf703b6fe2"
      },
      "execution_count": null,
      "outputs": [
        {
          "output_type": "execute_result",
          "data": {
            "text/plain": [
              "{'Training MAE': 0.18399675419230507,\n",
              " 'Test MAE': 0.221892649261834,\n",
              " 'Training MSE': 0.07146745203788306,\n",
              " 'Test MSE': 0.11366374013404357,\n",
              " 'Training RMSLE': 0.04294084350484785,\n",
              " 'Test RMSLE': 0.0540904245510542,\n",
              " 'Training R2': 0.9646392255257367,\n",
              " 'Test R2': 0.9394917844342027}"
            ]
          },
          "metadata": {},
          "execution_count": 68
        }
      ]
    },
    {
      "cell_type": "markdown",
      "source": [
        "## Hyperparameter Tuning of GradientBoostingRegressor using RandomizedSearchCV"
      ],
      "metadata": {
        "id": "s8NrCdSL1Njx"
      }
    },
    {
      "cell_type": "code",
      "source": [
        "gbr_grid = {\n",
        "    'n_estimators': randint(50, 200),\n",
        "    'learning_rate': uniform(0.01, 0.3),\n",
        "    'max_depth': randint(3, 10),\n",
        "    'min_samples_split': randint(2, 10),\n",
        "    'min_samples_leaf': randint(1, 10),\n",
        "    'subsample': uniform(0.5, 0.5),\n",
        "    'max_features': ['auto', 'sqrt', 'log2', None]\n",
        "}\n",
        "\n",
        "# Create a GradientBoostingRegressor model\n",
        "rs_gbr = GradientBoostingRegressor(random_state=42)\n",
        "\n",
        "# Perform RandomizedSearchCV\n",
        "gbr_RS = RandomizedSearchCV(rs_gbr,\n",
        "                            param_distributions = gbr_grid,\n",
        "                            n_iter=100,\n",
        "                            scoring='neg_mean_squared_error',\n",
        "                            cv=3,\n",
        "                            verbose=1,\n",
        "                            random_state=42,\n",
        "                            n_jobs=-1)\n",
        "\n",
        "# Fit the random search model\n",
        "gbr_RS.fit(X_train, y_train)"
      ],
      "metadata": {
        "colab": {
          "base_uri": "https://localhost:8080/",
          "height": 134
        },
        "id": "ny4rtuQL1Zu5",
        "outputId": "3dd2b564-4a39-41ed-f5d4-f6fcfd64b80c"
      },
      "execution_count": null,
      "outputs": [
        {
          "output_type": "stream",
          "name": "stdout",
          "text": [
            "Fitting 3 folds for each of 100 candidates, totalling 300 fits\n"
          ]
        },
        {
          "output_type": "execute_result",
          "data": {
            "text/plain": [
              "RandomizedSearchCV(cv=3, estimator=GradientBoostingRegressor(random_state=42),\n",
              "                   n_iter=100, n_jobs=-1,\n",
              "                   param_distributions={'learning_rate': <scipy.stats._distn_infrastructure.rv_continuous_frozen object at 0x7d39df4fad10>,\n",
              "                                        'max_depth': <scipy.stats._distn_infrastructure.rv_discrete_frozen object at 0x7d39e390e050>,\n",
              "                                        'max_features': ['auto', 'sqrt', 'log2',\n",
              "                                                         None],\n",
              "                                        'min...df4fb3d0>,\n",
              "                                        'min_samples_split': <scipy.stats._distn_infrastructure.rv_discrete_frozen object at 0x7d39df4fbd30>,\n",
              "                                        'n_estimators': <scipy.stats._distn_infrastructure.rv_discrete_frozen object at 0x7d39df4fb340>,\n",
              "                                        'subsample': <scipy.stats._distn_infrastructure.rv_continuous_frozen object at 0x7d39df4fabc0>},\n",
              "                   random_state=42, scoring='neg_mean_squared_error',\n",
              "                   verbose=1)"
            ],
            "text/html": [
              "<style>#sk-container-id-9 {color: black;background-color: white;}#sk-container-id-9 pre{padding: 0;}#sk-container-id-9 div.sk-toggleable {background-color: white;}#sk-container-id-9 label.sk-toggleable__label {cursor: pointer;display: block;width: 100%;margin-bottom: 0;padding: 0.3em;box-sizing: border-box;text-align: center;}#sk-container-id-9 label.sk-toggleable__label-arrow:before {content: \"▸\";float: left;margin-right: 0.25em;color: #696969;}#sk-container-id-9 label.sk-toggleable__label-arrow:hover:before {color: black;}#sk-container-id-9 div.sk-estimator:hover label.sk-toggleable__label-arrow:before {color: black;}#sk-container-id-9 div.sk-toggleable__content {max-height: 0;max-width: 0;overflow: hidden;text-align: left;background-color: #f0f8ff;}#sk-container-id-9 div.sk-toggleable__content pre {margin: 0.2em;color: black;border-radius: 0.25em;background-color: #f0f8ff;}#sk-container-id-9 input.sk-toggleable__control:checked~div.sk-toggleable__content {max-height: 200px;max-width: 100%;overflow: auto;}#sk-container-id-9 input.sk-toggleable__control:checked~label.sk-toggleable__label-arrow:before {content: \"▾\";}#sk-container-id-9 div.sk-estimator input.sk-toggleable__control:checked~label.sk-toggleable__label {background-color: #d4ebff;}#sk-container-id-9 div.sk-label input.sk-toggleable__control:checked~label.sk-toggleable__label {background-color: #d4ebff;}#sk-container-id-9 input.sk-hidden--visually {border: 0;clip: rect(1px 1px 1px 1px);clip: rect(1px, 1px, 1px, 1px);height: 1px;margin: -1px;overflow: hidden;padding: 0;position: absolute;width: 1px;}#sk-container-id-9 div.sk-estimator {font-family: monospace;background-color: #f0f8ff;border: 1px dotted black;border-radius: 0.25em;box-sizing: border-box;margin-bottom: 0.5em;}#sk-container-id-9 div.sk-estimator:hover {background-color: #d4ebff;}#sk-container-id-9 div.sk-parallel-item::after {content: \"\";width: 100%;border-bottom: 1px solid gray;flex-grow: 1;}#sk-container-id-9 div.sk-label:hover label.sk-toggleable__label {background-color: #d4ebff;}#sk-container-id-9 div.sk-serial::before {content: \"\";position: absolute;border-left: 1px solid gray;box-sizing: border-box;top: 0;bottom: 0;left: 50%;z-index: 0;}#sk-container-id-9 div.sk-serial {display: flex;flex-direction: column;align-items: center;background-color: white;padding-right: 0.2em;padding-left: 0.2em;position: relative;}#sk-container-id-9 div.sk-item {position: relative;z-index: 1;}#sk-container-id-9 div.sk-parallel {display: flex;align-items: stretch;justify-content: center;background-color: white;position: relative;}#sk-container-id-9 div.sk-item::before, #sk-container-id-9 div.sk-parallel-item::before {content: \"\";position: absolute;border-left: 1px solid gray;box-sizing: border-box;top: 0;bottom: 0;left: 50%;z-index: -1;}#sk-container-id-9 div.sk-parallel-item {display: flex;flex-direction: column;z-index: 1;position: relative;background-color: white;}#sk-container-id-9 div.sk-parallel-item:first-child::after {align-self: flex-end;width: 50%;}#sk-container-id-9 div.sk-parallel-item:last-child::after {align-self: flex-start;width: 50%;}#sk-container-id-9 div.sk-parallel-item:only-child::after {width: 0;}#sk-container-id-9 div.sk-dashed-wrapped {border: 1px dashed gray;margin: 0 0.4em 0.5em 0.4em;box-sizing: border-box;padding-bottom: 0.4em;background-color: white;}#sk-container-id-9 div.sk-label label {font-family: monospace;font-weight: bold;display: inline-block;line-height: 1.2em;}#sk-container-id-9 div.sk-label-container {text-align: center;}#sk-container-id-9 div.sk-container {/* jupyter's `normalize.less` sets `[hidden] { display: none; }` but bootstrap.min.css set `[hidden] { display: none !important; }` so we also need the `!important` here to be able to override the default hidden behavior on the sphinx rendered scikit-learn.org. See: https://github.com/scikit-learn/scikit-learn/issues/21755 */display: inline-block !important;position: relative;}#sk-container-id-9 div.sk-text-repr-fallback {display: none;}</style><div id=\"sk-container-id-9\" class=\"sk-top-container\"><div class=\"sk-text-repr-fallback\"><pre>RandomizedSearchCV(cv=3, estimator=GradientBoostingRegressor(random_state=42),\n",
              "                   n_iter=100, n_jobs=-1,\n",
              "                   param_distributions={&#x27;learning_rate&#x27;: &lt;scipy.stats._distn_infrastructure.rv_continuous_frozen object at 0x7d39df4fad10&gt;,\n",
              "                                        &#x27;max_depth&#x27;: &lt;scipy.stats._distn_infrastructure.rv_discrete_frozen object at 0x7d39e390e050&gt;,\n",
              "                                        &#x27;max_features&#x27;: [&#x27;auto&#x27;, &#x27;sqrt&#x27;, &#x27;log2&#x27;,\n",
              "                                                         None],\n",
              "                                        &#x27;min...df4fb3d0&gt;,\n",
              "                                        &#x27;min_samples_split&#x27;: &lt;scipy.stats._distn_infrastructure.rv_discrete_frozen object at 0x7d39df4fbd30&gt;,\n",
              "                                        &#x27;n_estimators&#x27;: &lt;scipy.stats._distn_infrastructure.rv_discrete_frozen object at 0x7d39df4fb340&gt;,\n",
              "                                        &#x27;subsample&#x27;: &lt;scipy.stats._distn_infrastructure.rv_continuous_frozen object at 0x7d39df4fabc0&gt;},\n",
              "                   random_state=42, scoring=&#x27;neg_mean_squared_error&#x27;,\n",
              "                   verbose=1)</pre><b>In a Jupyter environment, please rerun this cell to show the HTML representation or trust the notebook. <br />On GitHub, the HTML representation is unable to render, please try loading this page with nbviewer.org.</b></div><div class=\"sk-container\" hidden><div class=\"sk-item sk-dashed-wrapped\"><div class=\"sk-label-container\"><div class=\"sk-label sk-toggleable\"><input class=\"sk-toggleable__control sk-hidden--visually\" id=\"sk-estimator-id-15\" type=\"checkbox\" ><label for=\"sk-estimator-id-15\" class=\"sk-toggleable__label sk-toggleable__label-arrow\">RandomizedSearchCV</label><div class=\"sk-toggleable__content\"><pre>RandomizedSearchCV(cv=3, estimator=GradientBoostingRegressor(random_state=42),\n",
              "                   n_iter=100, n_jobs=-1,\n",
              "                   param_distributions={&#x27;learning_rate&#x27;: &lt;scipy.stats._distn_infrastructure.rv_continuous_frozen object at 0x7d39df4fad10&gt;,\n",
              "                                        &#x27;max_depth&#x27;: &lt;scipy.stats._distn_infrastructure.rv_discrete_frozen object at 0x7d39e390e050&gt;,\n",
              "                                        &#x27;max_features&#x27;: [&#x27;auto&#x27;, &#x27;sqrt&#x27;, &#x27;log2&#x27;,\n",
              "                                                         None],\n",
              "                                        &#x27;min...df4fb3d0&gt;,\n",
              "                                        &#x27;min_samples_split&#x27;: &lt;scipy.stats._distn_infrastructure.rv_discrete_frozen object at 0x7d39df4fbd30&gt;,\n",
              "                                        &#x27;n_estimators&#x27;: &lt;scipy.stats._distn_infrastructure.rv_discrete_frozen object at 0x7d39df4fb340&gt;,\n",
              "                                        &#x27;subsample&#x27;: &lt;scipy.stats._distn_infrastructure.rv_continuous_frozen object at 0x7d39df4fabc0&gt;},\n",
              "                   random_state=42, scoring=&#x27;neg_mean_squared_error&#x27;,\n",
              "                   verbose=1)</pre></div></div></div><div class=\"sk-parallel\"><div class=\"sk-parallel-item\"><div class=\"sk-item\"><div class=\"sk-label-container\"><div class=\"sk-label sk-toggleable\"><input class=\"sk-toggleable__control sk-hidden--visually\" id=\"sk-estimator-id-16\" type=\"checkbox\" ><label for=\"sk-estimator-id-16\" class=\"sk-toggleable__label sk-toggleable__label-arrow\">estimator: GradientBoostingRegressor</label><div class=\"sk-toggleable__content\"><pre>GradientBoostingRegressor(random_state=42)</pre></div></div></div><div class=\"sk-serial\"><div class=\"sk-item\"><div class=\"sk-estimator sk-toggleable\"><input class=\"sk-toggleable__control sk-hidden--visually\" id=\"sk-estimator-id-17\" type=\"checkbox\" ><label for=\"sk-estimator-id-17\" class=\"sk-toggleable__label sk-toggleable__label-arrow\">GradientBoostingRegressor</label><div class=\"sk-toggleable__content\"><pre>GradientBoostingRegressor(random_state=42)</pre></div></div></div></div></div></div></div></div></div></div>"
            ]
          },
          "metadata": {},
          "execution_count": 69
        }
      ]
    },
    {
      "cell_type": "code",
      "source": [
        "gbr_RS.best_params_"
      ],
      "metadata": {
        "colab": {
          "base_uri": "https://localhost:8080/"
        },
        "id": "CpienBGI1wmS",
        "outputId": "c9ed3687-8d1f-475c-b212-953bb9385f0a"
      },
      "execution_count": null,
      "outputs": [
        {
          "output_type": "execute_result",
          "data": {
            "text/plain": [
              "{'learning_rate': 0.07504273197594735,\n",
              " 'max_depth': 9,\n",
              " 'max_features': 'log2',\n",
              " 'min_samples_leaf': 1,\n",
              " 'min_samples_split': 6,\n",
              " 'n_estimators': 103,\n",
              " 'subsample': 0.7921571559615501}"
            ]
          },
          "metadata": {},
          "execution_count": 70
        }
      ]
    },
    {
      "cell_type": "code",
      "source": [
        "show_scores(gbr_RS)"
      ],
      "metadata": {
        "colab": {
          "base_uri": "https://localhost:8080/"
        },
        "id": "FmNBGBmN2BPK",
        "outputId": "21651262-7f9c-46c4-df60-550102a91596"
      },
      "execution_count": null,
      "outputs": [
        {
          "output_type": "execute_result",
          "data": {
            "text/plain": [
              "{'Training MAE': 0.024886061074545766,\n",
              " 'Test MAE': 0.18675864507661574,\n",
              " 'Training MSE': 0.001279900241362088,\n",
              " 'Test MSE': 0.09849023708619505,\n",
              " 'Training RMSLE': 0.005547343153412094,\n",
              " 'Test RMSLE': 0.04813003348883695,\n",
              " 'Training R2': 0.9993667290144839,\n",
              " 'Test R2': 0.9475693084733092}"
            ]
          },
          "metadata": {},
          "execution_count": 71
        }
      ]
    },
    {
      "cell_type": "markdown",
      "source": [
        "## Train a model with the best hyperparamters"
      ],
      "metadata": {
        "id": "4iOvvNX_Rp5b"
      }
    },
    {
      "cell_type": "markdown",
      "source": [
        "1. RandomizedSearchCV Random Forest"
      ],
      "metadata": {
        "id": "ykeQ_F18xHAX"
      }
    },
    {
      "cell_type": "code",
      "source": [
        "np.random.seed(42)\n",
        "ideal_model_rs_RF = RandomForestRegressor(n_estimators = 860,\n",
        "                                   min_samples_leaf = 9,\n",
        "                                   min_samples_split = 18,\n",
        "                                   max_features = 0.5,\n",
        "                                   n_jobs = -1,\n",
        "                                   max_depth = 10,\n",
        "                                   max_samples = 1000)\n",
        "\n",
        "ideal_model_rs_RF.fit(X_train, y_train)"
      ],
      "metadata": {
        "colab": {
          "base_uri": "https://localhost:8080/",
          "height": 109
        },
        "id": "hidvlPgPQ_4e",
        "outputId": "068b0ee2-6081-400f-fe49-8d0945ba89e3"
      },
      "execution_count": null,
      "outputs": [
        {
          "output_type": "execute_result",
          "data": {
            "text/plain": [
              "RandomForestRegressor(max_depth=10, max_features=0.5, max_samples=1000,\n",
              "                      min_samples_leaf=9, min_samples_split=18,\n",
              "                      n_estimators=860, n_jobs=-1)"
            ],
            "text/html": [
              "<style>#sk-container-id-10 {color: black;background-color: white;}#sk-container-id-10 pre{padding: 0;}#sk-container-id-10 div.sk-toggleable {background-color: white;}#sk-container-id-10 label.sk-toggleable__label {cursor: pointer;display: block;width: 100%;margin-bottom: 0;padding: 0.3em;box-sizing: border-box;text-align: center;}#sk-container-id-10 label.sk-toggleable__label-arrow:before {content: \"▸\";float: left;margin-right: 0.25em;color: #696969;}#sk-container-id-10 label.sk-toggleable__label-arrow:hover:before {color: black;}#sk-container-id-10 div.sk-estimator:hover label.sk-toggleable__label-arrow:before {color: black;}#sk-container-id-10 div.sk-toggleable__content {max-height: 0;max-width: 0;overflow: hidden;text-align: left;background-color: #f0f8ff;}#sk-container-id-10 div.sk-toggleable__content pre {margin: 0.2em;color: black;border-radius: 0.25em;background-color: #f0f8ff;}#sk-container-id-10 input.sk-toggleable__control:checked~div.sk-toggleable__content {max-height: 200px;max-width: 100%;overflow: auto;}#sk-container-id-10 input.sk-toggleable__control:checked~label.sk-toggleable__label-arrow:before {content: \"▾\";}#sk-container-id-10 div.sk-estimator input.sk-toggleable__control:checked~label.sk-toggleable__label {background-color: #d4ebff;}#sk-container-id-10 div.sk-label input.sk-toggleable__control:checked~label.sk-toggleable__label {background-color: #d4ebff;}#sk-container-id-10 input.sk-hidden--visually {border: 0;clip: rect(1px 1px 1px 1px);clip: rect(1px, 1px, 1px, 1px);height: 1px;margin: -1px;overflow: hidden;padding: 0;position: absolute;width: 1px;}#sk-container-id-10 div.sk-estimator {font-family: monospace;background-color: #f0f8ff;border: 1px dotted black;border-radius: 0.25em;box-sizing: border-box;margin-bottom: 0.5em;}#sk-container-id-10 div.sk-estimator:hover {background-color: #d4ebff;}#sk-container-id-10 div.sk-parallel-item::after {content: \"\";width: 100%;border-bottom: 1px solid gray;flex-grow: 1;}#sk-container-id-10 div.sk-label:hover label.sk-toggleable__label {background-color: #d4ebff;}#sk-container-id-10 div.sk-serial::before {content: \"\";position: absolute;border-left: 1px solid gray;box-sizing: border-box;top: 0;bottom: 0;left: 50%;z-index: 0;}#sk-container-id-10 div.sk-serial {display: flex;flex-direction: column;align-items: center;background-color: white;padding-right: 0.2em;padding-left: 0.2em;position: relative;}#sk-container-id-10 div.sk-item {position: relative;z-index: 1;}#sk-container-id-10 div.sk-parallel {display: flex;align-items: stretch;justify-content: center;background-color: white;position: relative;}#sk-container-id-10 div.sk-item::before, #sk-container-id-10 div.sk-parallel-item::before {content: \"\";position: absolute;border-left: 1px solid gray;box-sizing: border-box;top: 0;bottom: 0;left: 50%;z-index: -1;}#sk-container-id-10 div.sk-parallel-item {display: flex;flex-direction: column;z-index: 1;position: relative;background-color: white;}#sk-container-id-10 div.sk-parallel-item:first-child::after {align-self: flex-end;width: 50%;}#sk-container-id-10 div.sk-parallel-item:last-child::after {align-self: flex-start;width: 50%;}#sk-container-id-10 div.sk-parallel-item:only-child::after {width: 0;}#sk-container-id-10 div.sk-dashed-wrapped {border: 1px dashed gray;margin: 0 0.4em 0.5em 0.4em;box-sizing: border-box;padding-bottom: 0.4em;background-color: white;}#sk-container-id-10 div.sk-label label {font-family: monospace;font-weight: bold;display: inline-block;line-height: 1.2em;}#sk-container-id-10 div.sk-label-container {text-align: center;}#sk-container-id-10 div.sk-container {/* jupyter's `normalize.less` sets `[hidden] { display: none; }` but bootstrap.min.css set `[hidden] { display: none !important; }` so we also need the `!important` here to be able to override the default hidden behavior on the sphinx rendered scikit-learn.org. See: https://github.com/scikit-learn/scikit-learn/issues/21755 */display: inline-block !important;position: relative;}#sk-container-id-10 div.sk-text-repr-fallback {display: none;}</style><div id=\"sk-container-id-10\" class=\"sk-top-container\"><div class=\"sk-text-repr-fallback\"><pre>RandomForestRegressor(max_depth=10, max_features=0.5, max_samples=1000,\n",
              "                      min_samples_leaf=9, min_samples_split=18,\n",
              "                      n_estimators=860, n_jobs=-1)</pre><b>In a Jupyter environment, please rerun this cell to show the HTML representation or trust the notebook. <br />On GitHub, the HTML representation is unable to render, please try loading this page with nbviewer.org.</b></div><div class=\"sk-container\" hidden><div class=\"sk-item\"><div class=\"sk-estimator sk-toggleable\"><input class=\"sk-toggleable__control sk-hidden--visually\" id=\"sk-estimator-id-18\" type=\"checkbox\" checked><label for=\"sk-estimator-id-18\" class=\"sk-toggleable__label sk-toggleable__label-arrow\">RandomForestRegressor</label><div class=\"sk-toggleable__content\"><pre>RandomForestRegressor(max_depth=10, max_features=0.5, max_samples=1000,\n",
              "                      min_samples_leaf=9, min_samples_split=18,\n",
              "                      n_estimators=860, n_jobs=-1)</pre></div></div></div></div></div>"
            ]
          },
          "metadata": {},
          "execution_count": 72
        }
      ]
    },
    {
      "cell_type": "code",
      "source": [
        "show_scores(ideal_model_rs_RF)"
      ],
      "metadata": {
        "colab": {
          "base_uri": "https://localhost:8080/"
        },
        "id": "9oXaWiJQS0wA",
        "outputId": "758e6fcf-8dfe-4314-a8b6-36183e08ea00"
      },
      "execution_count": null,
      "outputs": [
        {
          "output_type": "execute_result",
          "data": {
            "text/plain": [
              "{'Training MAE': 0.1939130175411087,\n",
              " 'Test MAE': 0.19706658340397187,\n",
              " 'Training MSE': 0.09911769858153481,\n",
              " 'Test MSE': 0.11088862436106531,\n",
              " 'Training RMSLE': 0.05307016418679726,\n",
              " 'Test RMSLE': 0.05368364916380808,\n",
              " 'Training R2': 0.9509583945417304,\n",
              " 'Test R2': 0.9409691007992403}"
            ]
          },
          "metadata": {},
          "execution_count": 73
        }
      ]
    },
    {
      "cell_type": "markdown",
      "source": [
        "2. GridSearchCV Random Forest"
      ],
      "metadata": {
        "id": "l-GqCzT2xM0Y"
      }
    },
    {
      "cell_type": "code",
      "source": [
        "np.random.seed(42)\n",
        "ideal_model_gs_RF = RandomForestRegressor(max_depth = None,\n",
        "                                          max_features = 'auto',\n",
        "                                          max_samples = 500,\n",
        "                                          min_samples_leaf = 2,\n",
        "                                          min_samples_split = 3,\n",
        "                                          n_estimators = 1000)\n",
        "\n",
        "ideal_model_gs_RF.fit(X_train, y_train)"
      ],
      "metadata": {
        "colab": {
          "base_uri": "https://localhost:8080/",
          "height": 91
        },
        "id": "WvoRRqVDr6LN",
        "outputId": "afb6dec4-06d0-479f-c247-86c3a4a273f5"
      },
      "execution_count": null,
      "outputs": [
        {
          "output_type": "execute_result",
          "data": {
            "text/plain": [
              "RandomForestRegressor(max_features='auto', max_samples=500, min_samples_leaf=2,\n",
              "                      min_samples_split=3, n_estimators=1000)"
            ],
            "text/html": [
              "<style>#sk-container-id-11 {color: black;background-color: white;}#sk-container-id-11 pre{padding: 0;}#sk-container-id-11 div.sk-toggleable {background-color: white;}#sk-container-id-11 label.sk-toggleable__label {cursor: pointer;display: block;width: 100%;margin-bottom: 0;padding: 0.3em;box-sizing: border-box;text-align: center;}#sk-container-id-11 label.sk-toggleable__label-arrow:before {content: \"▸\";float: left;margin-right: 0.25em;color: #696969;}#sk-container-id-11 label.sk-toggleable__label-arrow:hover:before {color: black;}#sk-container-id-11 div.sk-estimator:hover label.sk-toggleable__label-arrow:before {color: black;}#sk-container-id-11 div.sk-toggleable__content {max-height: 0;max-width: 0;overflow: hidden;text-align: left;background-color: #f0f8ff;}#sk-container-id-11 div.sk-toggleable__content pre {margin: 0.2em;color: black;border-radius: 0.25em;background-color: #f0f8ff;}#sk-container-id-11 input.sk-toggleable__control:checked~div.sk-toggleable__content {max-height: 200px;max-width: 100%;overflow: auto;}#sk-container-id-11 input.sk-toggleable__control:checked~label.sk-toggleable__label-arrow:before {content: \"▾\";}#sk-container-id-11 div.sk-estimator input.sk-toggleable__control:checked~label.sk-toggleable__label {background-color: #d4ebff;}#sk-container-id-11 div.sk-label input.sk-toggleable__control:checked~label.sk-toggleable__label {background-color: #d4ebff;}#sk-container-id-11 input.sk-hidden--visually {border: 0;clip: rect(1px 1px 1px 1px);clip: rect(1px, 1px, 1px, 1px);height: 1px;margin: -1px;overflow: hidden;padding: 0;position: absolute;width: 1px;}#sk-container-id-11 div.sk-estimator {font-family: monospace;background-color: #f0f8ff;border: 1px dotted black;border-radius: 0.25em;box-sizing: border-box;margin-bottom: 0.5em;}#sk-container-id-11 div.sk-estimator:hover {background-color: #d4ebff;}#sk-container-id-11 div.sk-parallel-item::after {content: \"\";width: 100%;border-bottom: 1px solid gray;flex-grow: 1;}#sk-container-id-11 div.sk-label:hover label.sk-toggleable__label {background-color: #d4ebff;}#sk-container-id-11 div.sk-serial::before {content: \"\";position: absolute;border-left: 1px solid gray;box-sizing: border-box;top: 0;bottom: 0;left: 50%;z-index: 0;}#sk-container-id-11 div.sk-serial {display: flex;flex-direction: column;align-items: center;background-color: white;padding-right: 0.2em;padding-left: 0.2em;position: relative;}#sk-container-id-11 div.sk-item {position: relative;z-index: 1;}#sk-container-id-11 div.sk-parallel {display: flex;align-items: stretch;justify-content: center;background-color: white;position: relative;}#sk-container-id-11 div.sk-item::before, #sk-container-id-11 div.sk-parallel-item::before {content: \"\";position: absolute;border-left: 1px solid gray;box-sizing: border-box;top: 0;bottom: 0;left: 50%;z-index: -1;}#sk-container-id-11 div.sk-parallel-item {display: flex;flex-direction: column;z-index: 1;position: relative;background-color: white;}#sk-container-id-11 div.sk-parallel-item:first-child::after {align-self: flex-end;width: 50%;}#sk-container-id-11 div.sk-parallel-item:last-child::after {align-self: flex-start;width: 50%;}#sk-container-id-11 div.sk-parallel-item:only-child::after {width: 0;}#sk-container-id-11 div.sk-dashed-wrapped {border: 1px dashed gray;margin: 0 0.4em 0.5em 0.4em;box-sizing: border-box;padding-bottom: 0.4em;background-color: white;}#sk-container-id-11 div.sk-label label {font-family: monospace;font-weight: bold;display: inline-block;line-height: 1.2em;}#sk-container-id-11 div.sk-label-container {text-align: center;}#sk-container-id-11 div.sk-container {/* jupyter's `normalize.less` sets `[hidden] { display: none; }` but bootstrap.min.css set `[hidden] { display: none !important; }` so we also need the `!important` here to be able to override the default hidden behavior on the sphinx rendered scikit-learn.org. See: https://github.com/scikit-learn/scikit-learn/issues/21755 */display: inline-block !important;position: relative;}#sk-container-id-11 div.sk-text-repr-fallback {display: none;}</style><div id=\"sk-container-id-11\" class=\"sk-top-container\"><div class=\"sk-text-repr-fallback\"><pre>RandomForestRegressor(max_features=&#x27;auto&#x27;, max_samples=500, min_samples_leaf=2,\n",
              "                      min_samples_split=3, n_estimators=1000)</pre><b>In a Jupyter environment, please rerun this cell to show the HTML representation or trust the notebook. <br />On GitHub, the HTML representation is unable to render, please try loading this page with nbviewer.org.</b></div><div class=\"sk-container\" hidden><div class=\"sk-item\"><div class=\"sk-estimator sk-toggleable\"><input class=\"sk-toggleable__control sk-hidden--visually\" id=\"sk-estimator-id-19\" type=\"checkbox\" checked><label for=\"sk-estimator-id-19\" class=\"sk-toggleable__label sk-toggleable__label-arrow\">RandomForestRegressor</label><div class=\"sk-toggleable__content\"><pre>RandomForestRegressor(max_features=&#x27;auto&#x27;, max_samples=500, min_samples_leaf=2,\n",
              "                      min_samples_split=3, n_estimators=1000)</pre></div></div></div></div></div>"
            ]
          },
          "metadata": {},
          "execution_count": 74
        }
      ]
    },
    {
      "cell_type": "code",
      "source": [
        "show_scores(ideal_model_gs_RF)"
      ],
      "metadata": {
        "colab": {
          "base_uri": "https://localhost:8080/"
        },
        "id": "-nUkryRYsrO-",
        "outputId": "664840f2-3a4f-4ea0-f536-3f5fd6d2c8d1"
      },
      "execution_count": null,
      "outputs": [
        {
          "output_type": "execute_result",
          "data": {
            "text/plain": [
              "{'Training MAE': 0.1521791848108835,\n",
              " 'Test MAE': 0.17812322772453248,\n",
              " 'Training MSE': 0.06859613126664955,\n",
              " 'Test MSE': 0.09966353639279538,\n",
              " 'Training RMSLE': 0.04335932643516379,\n",
              " 'Test RMSLE': 0.049261250604746135,\n",
              " 'Training R2': 0.966059901978299,\n",
              " 'Test R2': 0.9469447095705875}"
            ]
          },
          "metadata": {},
          "execution_count": 75
        }
      ]
    },
    {
      "cell_type": "markdown",
      "source": [
        "3. RandomizedSearchCV XGBRegressor"
      ],
      "metadata": {
        "id": "Wp91NLFnxRYA"
      }
    },
    {
      "cell_type": "code",
      "source": [
        "np.random.seed(42)\n",
        "ideal_model_rs_xgb = XGBRegressor(colsample_bytree = 0.8293468158094726,\n",
        "                                  gamma = 0.08146721354071484,\n",
        "                                  learning_rate = 0.03117062422012895,\n",
        "                                  max_depth = 9,\n",
        "                                  min_child_weight = 2,\n",
        "                                  n_estimators = 177,\n",
        "                                  subsample = 0.8182017987230057)\n",
        "\n",
        "ideal_model_rs_xgb.fit(X_train, y_train)"
      ],
      "metadata": {
        "colab": {
          "base_uri": "https://localhost:8080/",
          "height": 251
        },
        "id": "15k5iBmjvUJC",
        "outputId": "337725a5-1b0b-41c6-b0f3-f39505953f7d"
      },
      "execution_count": null,
      "outputs": [
        {
          "output_type": "execute_result",
          "data": {
            "text/plain": [
              "XGBRegressor(base_score=None, booster=None, callbacks=None,\n",
              "             colsample_bylevel=None, colsample_bynode=None,\n",
              "             colsample_bytree=0.8293468158094726, device=None,\n",
              "             early_stopping_rounds=None, enable_categorical=False,\n",
              "             eval_metric=None, feature_types=None, gamma=0.08146721354071484,\n",
              "             grow_policy=None, importance_type=None,\n",
              "             interaction_constraints=None, learning_rate=0.03117062422012895,\n",
              "             max_bin=None, max_cat_threshold=None, max_cat_to_onehot=None,\n",
              "             max_delta_step=None, max_depth=9, max_leaves=None,\n",
              "             min_child_weight=2, missing=nan, monotone_constraints=None,\n",
              "             multi_strategy=None, n_estimators=177, n_jobs=None,\n",
              "             num_parallel_tree=None, random_state=None, ...)"
            ],
            "text/html": [
              "<style>#sk-container-id-12 {color: black;background-color: white;}#sk-container-id-12 pre{padding: 0;}#sk-container-id-12 div.sk-toggleable {background-color: white;}#sk-container-id-12 label.sk-toggleable__label {cursor: pointer;display: block;width: 100%;margin-bottom: 0;padding: 0.3em;box-sizing: border-box;text-align: center;}#sk-container-id-12 label.sk-toggleable__label-arrow:before {content: \"▸\";float: left;margin-right: 0.25em;color: #696969;}#sk-container-id-12 label.sk-toggleable__label-arrow:hover:before {color: black;}#sk-container-id-12 div.sk-estimator:hover label.sk-toggleable__label-arrow:before {color: black;}#sk-container-id-12 div.sk-toggleable__content {max-height: 0;max-width: 0;overflow: hidden;text-align: left;background-color: #f0f8ff;}#sk-container-id-12 div.sk-toggleable__content pre {margin: 0.2em;color: black;border-radius: 0.25em;background-color: #f0f8ff;}#sk-container-id-12 input.sk-toggleable__control:checked~div.sk-toggleable__content {max-height: 200px;max-width: 100%;overflow: auto;}#sk-container-id-12 input.sk-toggleable__control:checked~label.sk-toggleable__label-arrow:before {content: \"▾\";}#sk-container-id-12 div.sk-estimator input.sk-toggleable__control:checked~label.sk-toggleable__label {background-color: #d4ebff;}#sk-container-id-12 div.sk-label input.sk-toggleable__control:checked~label.sk-toggleable__label {background-color: #d4ebff;}#sk-container-id-12 input.sk-hidden--visually {border: 0;clip: rect(1px 1px 1px 1px);clip: rect(1px, 1px, 1px, 1px);height: 1px;margin: -1px;overflow: hidden;padding: 0;position: absolute;width: 1px;}#sk-container-id-12 div.sk-estimator {font-family: monospace;background-color: #f0f8ff;border: 1px dotted black;border-radius: 0.25em;box-sizing: border-box;margin-bottom: 0.5em;}#sk-container-id-12 div.sk-estimator:hover {background-color: #d4ebff;}#sk-container-id-12 div.sk-parallel-item::after {content: \"\";width: 100%;border-bottom: 1px solid gray;flex-grow: 1;}#sk-container-id-12 div.sk-label:hover label.sk-toggleable__label {background-color: #d4ebff;}#sk-container-id-12 div.sk-serial::before {content: \"\";position: absolute;border-left: 1px solid gray;box-sizing: border-box;top: 0;bottom: 0;left: 50%;z-index: 0;}#sk-container-id-12 div.sk-serial {display: flex;flex-direction: column;align-items: center;background-color: white;padding-right: 0.2em;padding-left: 0.2em;position: relative;}#sk-container-id-12 div.sk-item {position: relative;z-index: 1;}#sk-container-id-12 div.sk-parallel {display: flex;align-items: stretch;justify-content: center;background-color: white;position: relative;}#sk-container-id-12 div.sk-item::before, #sk-container-id-12 div.sk-parallel-item::before {content: \"\";position: absolute;border-left: 1px solid gray;box-sizing: border-box;top: 0;bottom: 0;left: 50%;z-index: -1;}#sk-container-id-12 div.sk-parallel-item {display: flex;flex-direction: column;z-index: 1;position: relative;background-color: white;}#sk-container-id-12 div.sk-parallel-item:first-child::after {align-self: flex-end;width: 50%;}#sk-container-id-12 div.sk-parallel-item:last-child::after {align-self: flex-start;width: 50%;}#sk-container-id-12 div.sk-parallel-item:only-child::after {width: 0;}#sk-container-id-12 div.sk-dashed-wrapped {border: 1px dashed gray;margin: 0 0.4em 0.5em 0.4em;box-sizing: border-box;padding-bottom: 0.4em;background-color: white;}#sk-container-id-12 div.sk-label label {font-family: monospace;font-weight: bold;display: inline-block;line-height: 1.2em;}#sk-container-id-12 div.sk-label-container {text-align: center;}#sk-container-id-12 div.sk-container {/* jupyter's `normalize.less` sets `[hidden] { display: none; }` but bootstrap.min.css set `[hidden] { display: none !important; }` so we also need the `!important` here to be able to override the default hidden behavior on the sphinx rendered scikit-learn.org. See: https://github.com/scikit-learn/scikit-learn/issues/21755 */display: inline-block !important;position: relative;}#sk-container-id-12 div.sk-text-repr-fallback {display: none;}</style><div id=\"sk-container-id-12\" class=\"sk-top-container\"><div class=\"sk-text-repr-fallback\"><pre>XGBRegressor(base_score=None, booster=None, callbacks=None,\n",
              "             colsample_bylevel=None, colsample_bynode=None,\n",
              "             colsample_bytree=0.8293468158094726, device=None,\n",
              "             early_stopping_rounds=None, enable_categorical=False,\n",
              "             eval_metric=None, feature_types=None, gamma=0.08146721354071484,\n",
              "             grow_policy=None, importance_type=None,\n",
              "             interaction_constraints=None, learning_rate=0.03117062422012895,\n",
              "             max_bin=None, max_cat_threshold=None, max_cat_to_onehot=None,\n",
              "             max_delta_step=None, max_depth=9, max_leaves=None,\n",
              "             min_child_weight=2, missing=nan, monotone_constraints=None,\n",
              "             multi_strategy=None, n_estimators=177, n_jobs=None,\n",
              "             num_parallel_tree=None, random_state=None, ...)</pre><b>In a Jupyter environment, please rerun this cell to show the HTML representation or trust the notebook. <br />On GitHub, the HTML representation is unable to render, please try loading this page with nbviewer.org.</b></div><div class=\"sk-container\" hidden><div class=\"sk-item\"><div class=\"sk-estimator sk-toggleable\"><input class=\"sk-toggleable__control sk-hidden--visually\" id=\"sk-estimator-id-20\" type=\"checkbox\" checked><label for=\"sk-estimator-id-20\" class=\"sk-toggleable__label sk-toggleable__label-arrow\">XGBRegressor</label><div class=\"sk-toggleable__content\"><pre>XGBRegressor(base_score=None, booster=None, callbacks=None,\n",
              "             colsample_bylevel=None, colsample_bynode=None,\n",
              "             colsample_bytree=0.8293468158094726, device=None,\n",
              "             early_stopping_rounds=None, enable_categorical=False,\n",
              "             eval_metric=None, feature_types=None, gamma=0.08146721354071484,\n",
              "             grow_policy=None, importance_type=None,\n",
              "             interaction_constraints=None, learning_rate=0.03117062422012895,\n",
              "             max_bin=None, max_cat_threshold=None, max_cat_to_onehot=None,\n",
              "             max_delta_step=None, max_depth=9, max_leaves=None,\n",
              "             min_child_weight=2, missing=nan, monotone_constraints=None,\n",
              "             multi_strategy=None, n_estimators=177, n_jobs=None,\n",
              "             num_parallel_tree=None, random_state=None, ...)</pre></div></div></div></div></div>"
            ]
          },
          "metadata": {},
          "execution_count": 76
        }
      ]
    },
    {
      "cell_type": "code",
      "source": [
        "show_scores(ideal_model_rs_xgb)"
      ],
      "metadata": {
        "colab": {
          "base_uri": "https://localhost:8080/"
        },
        "id": "96KtIXYKx58j",
        "outputId": "ff63b007-70f0-45f6-e4f9-94c083f794ef"
      },
      "execution_count": null,
      "outputs": [
        {
          "output_type": "execute_result",
          "data": {
            "text/plain": [
              "{'Training MAE': 0.08843420922136802,\n",
              " 'Test MAE': 0.19255771560790821,\n",
              " 'Training MSE': 0.018451417540150707,\n",
              " 'Test MSE': 0.10383193663687494,\n",
              " 'Training RMSLE': 0.022547555401050055,\n",
              " 'Test RMSLE': 0.04934494471093515,\n",
              " 'Training R2': 0.9908705796028395,\n",
              " 'Test R2': 0.9447256865097957}"
            ]
          },
          "metadata": {},
          "execution_count": 77
        }
      ]
    },
    {
      "cell_type": "markdown",
      "source": [
        "4. RandomizedSearchCV GradientBoostingRegressor"
      ],
      "metadata": {
        "id": "ZnjU_KDH2czq"
      }
    },
    {
      "cell_type": "code",
      "source": [
        "np.random.seed(42)\n",
        "\n",
        "ideal_model_rs_gbr = GradientBoostingRegressor(learning_rate = 0.07504273197594735,\n",
        "                                               max_depth = 9,\n",
        "                                               max_features = 'log2',\n",
        "                                               min_samples_leaf = 1,\n",
        "                                               min_samples_split = 6,\n",
        "                                               n_estimators = 103,\n",
        "                                               subsample = 0.7921571559615501)\n",
        "\n",
        "ideal_model_rs_gbr.fit(X_train, y_train)"
      ],
      "metadata": {
        "colab": {
          "base_uri": "https://localhost:8080/",
          "height": 109
        },
        "id": "WmGZ_s1_2cU0",
        "outputId": "fdcf87ea-72fb-4967-a229-56d3f084f068"
      },
      "execution_count": null,
      "outputs": [
        {
          "output_type": "execute_result",
          "data": {
            "text/plain": [
              "GradientBoostingRegressor(learning_rate=0.07504273197594735, max_depth=9,\n",
              "                          max_features='log2', min_samples_split=6,\n",
              "                          n_estimators=103, subsample=0.7921571559615501)"
            ],
            "text/html": [
              "<style>#sk-container-id-13 {color: black;background-color: white;}#sk-container-id-13 pre{padding: 0;}#sk-container-id-13 div.sk-toggleable {background-color: white;}#sk-container-id-13 label.sk-toggleable__label {cursor: pointer;display: block;width: 100%;margin-bottom: 0;padding: 0.3em;box-sizing: border-box;text-align: center;}#sk-container-id-13 label.sk-toggleable__label-arrow:before {content: \"▸\";float: left;margin-right: 0.25em;color: #696969;}#sk-container-id-13 label.sk-toggleable__label-arrow:hover:before {color: black;}#sk-container-id-13 div.sk-estimator:hover label.sk-toggleable__label-arrow:before {color: black;}#sk-container-id-13 div.sk-toggleable__content {max-height: 0;max-width: 0;overflow: hidden;text-align: left;background-color: #f0f8ff;}#sk-container-id-13 div.sk-toggleable__content pre {margin: 0.2em;color: black;border-radius: 0.25em;background-color: #f0f8ff;}#sk-container-id-13 input.sk-toggleable__control:checked~div.sk-toggleable__content {max-height: 200px;max-width: 100%;overflow: auto;}#sk-container-id-13 input.sk-toggleable__control:checked~label.sk-toggleable__label-arrow:before {content: \"▾\";}#sk-container-id-13 div.sk-estimator input.sk-toggleable__control:checked~label.sk-toggleable__label {background-color: #d4ebff;}#sk-container-id-13 div.sk-label input.sk-toggleable__control:checked~label.sk-toggleable__label {background-color: #d4ebff;}#sk-container-id-13 input.sk-hidden--visually {border: 0;clip: rect(1px 1px 1px 1px);clip: rect(1px, 1px, 1px, 1px);height: 1px;margin: -1px;overflow: hidden;padding: 0;position: absolute;width: 1px;}#sk-container-id-13 div.sk-estimator {font-family: monospace;background-color: #f0f8ff;border: 1px dotted black;border-radius: 0.25em;box-sizing: border-box;margin-bottom: 0.5em;}#sk-container-id-13 div.sk-estimator:hover {background-color: #d4ebff;}#sk-container-id-13 div.sk-parallel-item::after {content: \"\";width: 100%;border-bottom: 1px solid gray;flex-grow: 1;}#sk-container-id-13 div.sk-label:hover label.sk-toggleable__label {background-color: #d4ebff;}#sk-container-id-13 div.sk-serial::before {content: \"\";position: absolute;border-left: 1px solid gray;box-sizing: border-box;top: 0;bottom: 0;left: 50%;z-index: 0;}#sk-container-id-13 div.sk-serial {display: flex;flex-direction: column;align-items: center;background-color: white;padding-right: 0.2em;padding-left: 0.2em;position: relative;}#sk-container-id-13 div.sk-item {position: relative;z-index: 1;}#sk-container-id-13 div.sk-parallel {display: flex;align-items: stretch;justify-content: center;background-color: white;position: relative;}#sk-container-id-13 div.sk-item::before, #sk-container-id-13 div.sk-parallel-item::before {content: \"\";position: absolute;border-left: 1px solid gray;box-sizing: border-box;top: 0;bottom: 0;left: 50%;z-index: -1;}#sk-container-id-13 div.sk-parallel-item {display: flex;flex-direction: column;z-index: 1;position: relative;background-color: white;}#sk-container-id-13 div.sk-parallel-item:first-child::after {align-self: flex-end;width: 50%;}#sk-container-id-13 div.sk-parallel-item:last-child::after {align-self: flex-start;width: 50%;}#sk-container-id-13 div.sk-parallel-item:only-child::after {width: 0;}#sk-container-id-13 div.sk-dashed-wrapped {border: 1px dashed gray;margin: 0 0.4em 0.5em 0.4em;box-sizing: border-box;padding-bottom: 0.4em;background-color: white;}#sk-container-id-13 div.sk-label label {font-family: monospace;font-weight: bold;display: inline-block;line-height: 1.2em;}#sk-container-id-13 div.sk-label-container {text-align: center;}#sk-container-id-13 div.sk-container {/* jupyter's `normalize.less` sets `[hidden] { display: none; }` but bootstrap.min.css set `[hidden] { display: none !important; }` so we also need the `!important` here to be able to override the default hidden behavior on the sphinx rendered scikit-learn.org. See: https://github.com/scikit-learn/scikit-learn/issues/21755 */display: inline-block !important;position: relative;}#sk-container-id-13 div.sk-text-repr-fallback {display: none;}</style><div id=\"sk-container-id-13\" class=\"sk-top-container\"><div class=\"sk-text-repr-fallback\"><pre>GradientBoostingRegressor(learning_rate=0.07504273197594735, max_depth=9,\n",
              "                          max_features=&#x27;log2&#x27;, min_samples_split=6,\n",
              "                          n_estimators=103, subsample=0.7921571559615501)</pre><b>In a Jupyter environment, please rerun this cell to show the HTML representation or trust the notebook. <br />On GitHub, the HTML representation is unable to render, please try loading this page with nbviewer.org.</b></div><div class=\"sk-container\" hidden><div class=\"sk-item\"><div class=\"sk-estimator sk-toggleable\"><input class=\"sk-toggleable__control sk-hidden--visually\" id=\"sk-estimator-id-21\" type=\"checkbox\" checked><label for=\"sk-estimator-id-21\" class=\"sk-toggleable__label sk-toggleable__label-arrow\">GradientBoostingRegressor</label><div class=\"sk-toggleable__content\"><pre>GradientBoostingRegressor(learning_rate=0.07504273197594735, max_depth=9,\n",
              "                          max_features=&#x27;log2&#x27;, min_samples_split=6,\n",
              "                          n_estimators=103, subsample=0.7921571559615501)</pre></div></div></div></div></div>"
            ]
          },
          "metadata": {},
          "execution_count": 78
        }
      ]
    },
    {
      "cell_type": "code",
      "source": [
        "show_scores(ideal_model_rs_gbr)"
      ],
      "metadata": {
        "colab": {
          "base_uri": "https://localhost:8080/"
        },
        "id": "N1gSwZhS3Deh",
        "outputId": "4ec0bdf7-3850-4c41-f661-a7977784a9a1"
      },
      "execution_count": null,
      "outputs": [
        {
          "output_type": "execute_result",
          "data": {
            "text/plain": [
              "{'Training MAE': 0.024886061074545766,\n",
              " 'Test MAE': 0.18675864507661574,\n",
              " 'Training MSE': 0.001279900241362088,\n",
              " 'Test MSE': 0.09849023708619505,\n",
              " 'Training RMSLE': 0.005547343153412094,\n",
              " 'Test RMSLE': 0.04813003348883695,\n",
              " 'Training R2': 0.9993667290144839,\n",
              " 'Test R2': 0.9475693084733092}"
            ]
          },
          "metadata": {},
          "execution_count": 79
        }
      ]
    },
    {
      "cell_type": "markdown",
      "source": [
        "## Feature Importance\n",
        "### Feature importance seeks to figure out which different attributes of the data were most importance when it comes to predicting the target variable (SalePrice)."
      ],
      "metadata": {
        "id": "xb6XrrlozM5g"
      }
    },
    {
      "cell_type": "code",
      "source": [
        "# Find feature importance of our best model\n",
        "rf_reg.feature_importances_"
      ],
      "metadata": {
        "colab": {
          "base_uri": "https://localhost:8080/"
        },
        "id": "UTbEVIVNzQpg",
        "outputId": "4312283d-766a-4be1-ba0f-960cb5c7d07f"
      },
      "execution_count": null,
      "outputs": [
        {
          "output_type": "execute_result",
          "data": {
            "text/plain": [
              "array([0.0042136 , 0.00467358, 0.00498504, 0.0021765 , 0.4631257 ,\n",
              "       0.03681574, 0.11992197, 0.36408787])"
            ]
          },
          "metadata": {},
          "execution_count": 80
        }
      ]
    },
    {
      "cell_type": "code",
      "source": [
        "def plot_features(columns, importances, n=20):\n",
        "    df = (pd.DataFrame({\"features\": columns,\n",
        "                       \"features_importances\": importances})\n",
        "         .sort_values(\"features_importances\", ascending=False)\n",
        "         .reset_index(drop=True))\n",
        "    fig, ax = plt.subplots()\n",
        "    ax.barh(df[\"features\"][:n], df[\"features_importances\"][:20])\n",
        "    ax.set_ylabel(\"Features\")\n",
        "    ax.set_xlabel(\"Features importances\")\n",
        "    ax.invert_yaxis()"
      ],
      "metadata": {
        "id": "9fIzYwlqztsX"
      },
      "execution_count": null,
      "outputs": []
    },
    {
      "cell_type": "code",
      "source": [
        "plot_features(X_train.columns, rf_reg.feature_importances_)"
      ],
      "metadata": {
        "colab": {
          "base_uri": "https://localhost:8080/",
          "height": 449
        },
        "id": "AeuM4TZHztl5",
        "outputId": "2cac3126-1392-483d-cc1e-a08e1420225e"
      },
      "execution_count": null,
      "outputs": [
        {
          "output_type": "display_data",
          "data": {
            "text/plain": [
              "<Figure size 640x480 with 1 Axes>"
            ],
            "image/png": "[encoded data removed]"
          },
          "metadata": {}
        }
      ]
    },
    {
      "cell_type": "markdown",
      "source": [
        "***CONCLUSION***\n",
        "## In this project, we successfully predicted movie ratings using a dataset of Indian movies from IMDb, achieving a high R² score of 94.89% with the RandomForestRegressor model. Through comprehensive data preprocessing, including handling missing values and encoding categorical features, we prepared the dataset for analysis. Our exploratory data analysis revealed insightful trends, such as the influence of specific directors, actors, and genres on movie ratings. By employing RandomizedSearchCV for hyperparameter tuning, we optimized the RandomForestRegressor model, resulting in superior predictive accuracy. This project's outcome underscores the model's robustness and its potential application in predicting movie ratings, providing valuable insights into the factors influencing movie success."
      ],
      "metadata": {
        "id": "C3KO9hDByAtn"
      }
    }
  ]
}